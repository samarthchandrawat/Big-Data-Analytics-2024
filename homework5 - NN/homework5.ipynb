{
  "cells": [
    {
      "cell_type": "markdown",
      "metadata": {
        "id": "gpEx-Jd1pYlP"
      },
      "source": [
        "# CIS 5450 Homework 5: Deep Learning with Pytorch\n",
        "\n",
        "### Due Wednesday, November 29, 2023 10:00 PM EST\n",
        "\n",
        "Welcome to CIS 5450 Homework 5!\n",
        "\n",
        "In this homework, we will learn more about the 'new electricity' - Deep Learning (I didn't coin this, Andrew Ng did) ! There are many cool frameworks for building deep learning models - PyTorch, Tensorflow, Theano, MxNet. Since you will be working with Big Data in this course, you need a framework that scales well. Almost all of these have a multi-gpu support built in. In this assignment, we will be building neural networks in PyTorch to solve an interesting problem.\n",
        "\n",
        "Deep learning or neural network architectures have been used to solve a multitude of problems in various different fields like vision, natural language processing. So let's take a 'deep' dive into it.\n",
        "\n",
        "\n",
        "\n",
        "\n"
      ]
    },
    {
      "cell_type": "markdown",
      "metadata": {
        "id": "lhSzWDvPp030"
      },
      "source": [
        "## Why deep learning?\n",
        "\n",
        "\n",
        "*   It's coooool\n",
        "*   Everyone is talking about is these days, people like Siraj Raval can teach it in 5 mins (Check out his [YouTube channel](https://www.youtube.com/channel/UCWN3xxRkmTPmbKwht9FuE5A) for some comedy)\n",
        "*    Deep learning unlocks the treasure trove of unstructured big data for those with the imagination to use it\n",
        "*   Deep learning models have great representational power and are 'universal approximators'\n",
        "\n",
        "\n",
        "### Deep Learning Applications:\n",
        "\n",
        "\n",
        "Deep learning has significantly improved voice command systems (such as Siri and Alexa), as well as healthcare and image identification.\n",
        "\n",
        "Deep learning has applications across numerous industries, which is why experts think that this technology is the future of almost everything. There are truly deep learning technologies such as Google’s very human-like talking AI, a new theory that cracks the 'black box' of deep learning, and various budding ideas like this one about why human forgetting might be the key to AI. Here are some cool applications of deep learning -\n",
        "\n",
        "Here's a neural network detecting anomalies in Chest Xrays :\n",
        "\n",
        "\n",
        "\n",
        "\n",
        "Pretty cool, right? We will be applying CNNs to solve a cool image classification problem.\n"
      ]
    },
    {
      "cell_type": "markdown",
      "metadata": {
        "id": "ywLp-5aPgkjm"
      },
      "source": [
        "# Libraries and Setup Jargon (Total: 1 point)\n",
        "Run the following cells to set up the notebook.\n"
      ]
    },
    {
      "cell_type": "markdown",
      "metadata": {
        "id": "nNx7mL19gsHV"
      },
      "source": [
        "Please make sure you enter your **8 digit Penn ID** in the  student ID field below."
      ]
    },
    {
      "cell_type": "code",
      "execution_count": null,
      "metadata": {
        "id": "OtjibtD4lvxZ"
      },
      "outputs": [],
      "source": [
        "%%capture\n",
        "!pip install penngrader-client\n",
        "from penngrader.grader import *\n",
        "\n",
        "#PLEASE ENSURE YOUR PENN-ID IS ENTERED CORRECTLY. IF NOT, THE AUTOGRADER WON'T KNOW WHO\n",
        "#TO ASSIGN POINTS TO YOU IN OUR BACKEND\n",
        "\n",
        "STUDENT_ID = 48580633       # YOUR PENN-ID GOES HERE AS AN INTEGER"
      ]
    },
    {
      "cell_type": "code",
      "execution_count": null,
      "metadata": {
        "colab": {
          "base_uri": "https://localhost:8080/"
        },
        "id": "LsfyTveqgxss",
        "outputId": "b54a21e9-5f27-4df5-f7a7-5248dc52cf16"
      },
      "outputs": [
        {
          "output_type": "stream",
          "name": "stdout",
          "text": [
            "Overwriting config.yaml\n"
          ]
        }
      ],
      "source": [
        "%%writefile config.yaml\n",
        "grader_api_url: 'https://23whrwph9h.execute-api.us-east-1.amazonaws.com/default/Grader23'\n",
        "grader_api_key: 'flfkE736fA6Z8GxMDJe2q8Kfk8UDqjsG3GVqOFOa'"
      ]
    },
    {
      "cell_type": "code",
      "execution_count": null,
      "metadata": {
        "id": "YQaH_xAag0BG",
        "colab": {
          "base_uri": "https://localhost:8080/"
        },
        "outputId": "5442002a-ba03-4351-bd4b-e705a63482c4"
      },
      "outputs": [
        {
          "output_type": "stream",
          "name": "stdout",
          "text": [
            "PennGrader initialized with Student ID: 48580633\n",
            "\n",
            "Make sure this correct or we will not be able to store your grade\n"
          ]
        }
      ],
      "source": [
        "grader = PennGrader('config.yaml', 'CIS5450_F23_HW5', STUDENT_ID, STUDENT_ID)"
      ]
    },
    {
      "cell_type": "markdown",
      "metadata": {
        "id": "RY5BOTyRg4Qf"
      },
      "source": [
        "## Import the required Libraries"
      ]
    },
    {
      "cell_type": "code",
      "execution_count": null,
      "metadata": {
        "id": "6diQ4Pfug3uw"
      },
      "outputs": [],
      "source": [
        "import pandas as pd\n",
        "import numpy as np\n",
        "import matplotlib.pyplot as plt\n",
        "import seaborn as sns\n",
        "from matplotlib import cm\n",
        "from sklearn.model_selection import train_test_split\n",
        "import torch\n",
        "import torchvision\n",
        "from torchvision import transforms, utils\n",
        "import torch.nn as nn\n",
        "import torch.optim as optim\n",
        "import torchvision.transforms as transforms\n",
        "from collections import Counter\n",
        "from PIL import Image\n",
        "from skimage import io, transform\n",
        "import os\n",
        "from torchvision.io import read_image\n",
        "from torch.utils.data import Dataset, DataLoader\n",
        "from collections import Counter\n",
        "from google.colab import drive\n",
        "from prophet import Prophet\n",
        "from statsmodels.tsa.arima.model import ARIMA"
      ]
    },
    {
      "cell_type": "markdown",
      "metadata": {
        "id": "xq7rZTSc0xoq"
      },
      "source": [
        "## Set up GPU capabilities (1 point)\n",
        "\n",
        "The cell below sets up a CUDA device to use with torch, if available to you.\n",
        "\n",
        "**Remeber to turn on the GPU for runtime in Colab**\n",
        "*   Go to Runtime -> Change runtime type --> GPU\n"
      ]
    },
    {
      "cell_type": "markdown",
      "metadata": {
        "id": "jUvWZZQE0xo8"
      },
      "source": [
        "Note that you can create a PyTorch tensor `T` that resides on the GPU using the command `T = torch.Tensor(..., device=cuda)`.\n",
        "You can also copy existing tensors to the GPU with the command `T = T.to(device)` (make sure to overwrite `T` with the result of this function call). If you do not have a GPU, these commands will still work.\n",
        "\n",
        "**NOTE**: The grader cell below is to check that you are using the GPU, since it is beneficial in later sections that require parallel computation on arrays (i.e., Section 2)."
      ]
    },
    {
      "cell_type": "code",
      "execution_count": null,
      "metadata": {
        "id": "9Gvv3LVN0xo-",
        "colab": {
          "base_uri": "https://localhost:8080/"
        },
        "outputId": "34dac86d-1f44-43ab-e1b3-a146b26d2f63"
      },
      "outputs": [
        {
          "output_type": "stream",
          "name": "stdout",
          "text": [
            "2.1.0+cu118\n",
            "cuda:0\n"
          ]
        }
      ],
      "source": [
        "# DO NOT MODIFY\n",
        "torch.manual_seed(42) # For grading consistency\n",
        "device = torch.device(\"cuda:0\" if torch.cuda.is_available() else \"cpu\")\n",
        "print(torch.__version__)\n",
        "print(device)"
      ]
    },
    {
      "cell_type": "code",
      "execution_count": null,
      "metadata": {
        "id": "ZO8Hr0MIw_KK",
        "colab": {
          "base_uri": "https://localhost:8080/"
        },
        "outputId": "a7be2400-ea9f-4df0-a32b-be967e6dc069"
      },
      "outputs": [
        {
          "output_type": "execute_result",
          "data": {
            "text/plain": [
              "device(type='cuda', index=0)"
            ]
          },
          "metadata": {},
          "execution_count": 202
        }
      ],
      "source": [
        "device"
      ]
    },
    {
      "cell_type": "code",
      "execution_count": null,
      "metadata": {
        "id": "scjhlNsVadIi",
        "colab": {
          "base_uri": "https://localhost:8080/"
        },
        "outputId": "27c8a1e4-041d-4923-8512-1383afac6f06"
      },
      "outputs": [
        {
          "output_type": "stream",
          "name": "stdout",
          "text": [
            "Correct! You earned 1/1 points. You are a star!\n",
            "\n",
            "Your submission has been successfully recorded in the gradebook.\n"
          ]
        }
      ],
      "source": [
        "# Grader Cell (1 points)\n",
        "grader.grade(test_case_id = 'device', answer = str(device))"
      ]
    },
    {
      "cell_type": "markdown",
      "metadata": {
        "id": "pUAu-nqZABre"
      },
      "source": [
        "# **Part 1:** Data Preprocessing and Preparation for Modeling in `PyTorch` (Total: 14 points)\n",
        "\n",
        "In this homework we will tackle the problem of classifying images.\n",
        "\n",
        "Specifically, we would be looking at a somewhat famous dataset from Stanford.\n",
        "\n",
        "Dataset Citation:\n",
        "\n",
        "Yuval Netzer, Tao Wang, Adam Coates, Alessandro Bissacco, Bo Wu, Andrew Y. Ng Reading Digits in Natural Images with Unsupervised Feature Learning NIPS Workshop on Deep Learning and Unsupervised Feature Learning 2011."
      ]
    },
    {
      "cell_type": "markdown",
      "metadata": {
        "id": "ui_5UjEFABr9"
      },
      "source": [
        "The dataset is called Street View House Numbers (or SVHN). The dataset consists of images of **house numbers**, taken from Google Street View. There are 10 classes, one for each digit (0-9).\n",
        "\n",
        "\n",
        "For more information about the dataset, please look [here](http://ufldl.stanford.edu/housenumbers/)\n",
        "\n",
        "There are 73,257 sample digits for training, 26,032 samples for testing, and 531131 extra samples because, well, why not I guess.\n",
        "\n",
        "In a future section (**after section 1.1.1**) we will downsample and train the model with 30,000 training samples and 5,000 testing samples. This is for two reasons: first, to avoid having long training time and potentially running out of GPU, and the second reason you will see after section 1.2.2\n",
        "\n",
        "\n",
        "We would be using this dataset to train 3 different models:\n",
        "\n",
        "1.   Logistic Regression\n",
        "2.   Feedforward (Fully-Connected) Neural Network (FNN)\n",
        "3.   Convolutional Neural Network (CNN)\n",
        "\n",
        "And analyze the difference between these models by looking at the test accuracy and loss."
      ]
    },
    {
      "cell_type": "markdown",
      "metadata": {
        "id": "r7fjLVpgABr9"
      },
      "source": [
        "## 1.1 Pytorch Dataset (Total: 4 points)\n",
        "\n",
        "To keep data loading consistent across different models, PyTorch provides two data primitives: `torch.utils.data.DataLoader` and `torch.utils.data.Dataset` that allow you to use pre-loaded datasets as well as your own data.\n",
        "\n",
        "`Dataset` stores the samples and their corresponding labels. And `DataLoader` wraps an iterable around the Dataset to enable easy access to the samples. More information and examples of the objects in action can be found **[here](https://pytorch.org/tutorials/beginner/basics/data_tutorial.html)**\n",
        "\n",
        "While Pytorch provides `Dataset` and `Dataloader` for some popular datasets (i.e., one can instantiate the objects and the data is ready to be analyzed in PyTorch Machine Learning pipeline), sometimes we need to define our own custom `Dataset` to process our dataset. The list of available built-in datasets PyTorch gave us can be found **[here](https://pytorch.org/vision/stable/datasets.html)**\n"
      ]
    },
    {
      "cell_type": "markdown",
      "metadata": {
        "id": "2KPOeS2MABr-"
      },
      "source": [
        "Dataset class is defined with 3 components:\n",
        "\n",
        "1.   __init__ : setting up the parameters being used in the class (e.g., `transforms` which corresponds to the transformation being applied)\n",
        "2.   __len__ : so that len(dataset) returns the size of the dataset.\n",
        "3.   __getitem__ to support the indexing such that `dataset[i]` can be used to get `i`ith sample (in our case Image, label pair).\n",
        "\n",
        "To create a custom Dataset object, you would need overide above functions.\n",
        "\n",
        "Documentation for creating custom dataset can be found [here](https://pytorch.org/tutorials/beginner/data_loading_tutorial.html).\n",
        "\n",
        "Luckily, as MNIST is a classic image dataset, we do not need to worry about creating custom `Dataset` and `DataLoader` objects since they are all built into the PyTorch when you import that above.\n",
        "\n",
        "Complete the missing code in the two sections below.\n",
        "\n",
        "*   **1.1.1 Instantiate Train and Test Dataset.** $\\to$ Load and transform data such that it is ready to be passed into the model. Ensure the training dataset is of size 73257 and the testing dataset is of size 26032 for this step\n"
      ]
    },
    {
      "cell_type": "markdown",
      "metadata": {
        "id": "_KaEH3IfABr-"
      },
      "source": [
        "### 1.1.1 Instantiate Dataset (for train/test dataset) (4 points)\n",
        "\n",
        "One optional function in Dataset class is `transform`, where we can apply a transformation to the dataset before we load them as a dataloader.\n",
        "\n",
        "For example if we define a `Resize` function in transform, all of our dataset(images) would be resized to specified size passed in as an argument.\n",
        "\n",
        "---\n",
        "**TODO**: complete the code to apply following transformations (in order!!) by using `transforms.Compose` and save it to the variable `transform`:\n",
        "\n",
        "1.   Resize the image to 32 by 32 $\\to$ just to make sure they are really have size $32$x$32$\n",
        "2.   Convert the images to Tensor\n",
        "3.   Normalize the Tensor using, the means `[0.485, 0.456, 0.406]` and standard deviations `[0.229, 0.224, 0.225]`. We do this because these are color images, and so there are **three** color channels for which we need to normalize (r, g, b).\n",
        "---\n",
        "**Reccomandations**:\n",
        "\n",
        "1. We highly recommend looking at [PyTorch documentation](https://pytorch.org/vision/stable/transforms.html) and some [illustrations](https://pytorch.org/vision/stable/auto_examples/plot_transforms.html#sphx-glr-auto-examples-plot-transforms-py) before proceeding with the code\n",
        "\n",
        "2. Please review the the recitation notebook for detailed instructions on how to perform these operations.\n",
        "\n",
        "3. You might be asking, why we are using these two lists `[0.485, 0.456, 0.406]` and `[0.229, 0.224, 0.225]` to normalize the tensor? These two lists are the mean and the standard deviation of each dimension in the [ImageNet](https://www.image-net.org/index.php) dataset respectively. ImageNet has a total of 14,197,122 Images, so it makes sense to use these values for the respective RGB channels, especially since we are working with color images."
      ]
    },
    {
      "cell_type": "code",
      "execution_count": null,
      "metadata": {
        "id": "d4Cy6KgnABr-"
      },
      "outputs": [],
      "source": [
        "scale = 32\n",
        "\n",
        "# TODO\n",
        "transform = transforms.Compose([\n",
        "    transforms.Resize((scale, scale)),\n",
        "    transforms.ToTensor(),\n",
        "    transforms.Normalize(mean=[0.485, 0.456, 0.406], std=[0.229, 0.224, 0.225])\n",
        "])\n",
        "# END TODO"
      ]
    },
    {
      "cell_type": "markdown",
      "metadata": {
        "id": "bbF48VwuABr-"
      },
      "source": [
        "Now that we have defined the tranforms we are going to apply to the dataset, let's instantiate `Dataset` objects for both the training and testing sets using predefined PyTorch Dataset.\n",
        "\n",
        "Please refer to the documentation for SVHN, seen [here](https://pytorch.org/vision/stable/generated/torchvision.datasets.SVHN.html), and you will likely save yourself a lot of time by paying close attention to the parameters.\n",
        "\n",
        "---\n",
        "**TODO**:\n",
        "* Initiate the `Dataset` object for the training set as `train_dataset`\n",
        "\n",
        "* Initiate the `Dataset` object for the testing set as `test_dataset`\n",
        "---\n",
        "**Note**: When initiating the `Dataset` object for both training and testing sets, in addition to other arguments please set these arguments as follows:\n",
        "* `root = './data'`\n",
        "* `download = True`"
      ]
    },
    {
      "cell_type": "code",
      "execution_count": null,
      "metadata": {
        "id": "u3NY-T9uABr-",
        "colab": {
          "base_uri": "https://localhost:8080/"
        },
        "outputId": "0247c7c8-9d07-4ca9-8100-30c6b4cd0e37"
      },
      "outputs": [
        {
          "output_type": "stream",
          "name": "stdout",
          "text": [
            "Using downloaded and verified file: ./data/train_32x32.mat\n",
            "Using downloaded and verified file: ./data/test_32x32.mat\n"
          ]
        }
      ],
      "source": [
        "# TODO\n",
        "root = './data'\n",
        "download = True\n",
        "train_dataset = torchvision.datasets.SVHN(root=root, split='train', download=download, transform=transform)\n",
        "test_dataset = torchvision.datasets.SVHN(root=root, split='test', download=download, transform=transform)\n",
        "# TODO END\n"
      ]
    },
    {
      "cell_type": "code",
      "source": [
        "# Check the sizes of the training and test dataset and verify\n",
        "# they match the description at the beginning\n",
        "print(len(train_dataset))\n",
        "print(len(test_dataset))"
      ],
      "metadata": {
        "id": "M652RMyNZTAS",
        "colab": {
          "base_uri": "https://localhost:8080/"
        },
        "outputId": "167ca767-f6f5-4549-d150-9f578b0b36ab"
      },
      "execution_count": null,
      "outputs": [
        {
          "output_type": "stream",
          "name": "stdout",
          "text": [
            "73257\n",
            "26032\n"
          ]
        }
      ]
    },
    {
      "cell_type": "code",
      "execution_count": null,
      "metadata": {
        "id": "rWkvlsqDABr_",
        "colab": {
          "base_uri": "https://localhost:8080/"
        },
        "outputId": "0ffae3fe-1a23-4263-d0f7-b18d12979985"
      },
      "outputs": [
        {
          "output_type": "stream",
          "name": "stdout",
          "text": [
            "Correct! You earned 4/4 points. You are a star!\n",
            "\n",
            "Your submission has been successfully recorded in the gradebook.\n"
          ]
        }
      ],
      "source": [
        "# Grader Cell (4 points)\n",
        "# DO NOT EDIT ANYTHING\n",
        "transforms_train = []\n",
        "for i in range(len(train_dataset.transform.transforms)):\n",
        "  transforms_train.append(str(train_dataset.transform.transforms[i]))\n",
        "transforms_test = []\n",
        "for i in range(len(test_dataset.transform.transforms)):\n",
        "  transforms_test.append(str(test_dataset.transform.transforms[i]))\n",
        "grader.grade(test_case_id = 'instantiate_dataset', answer = (transforms_train, transforms_test, len(train_dataset), len(test_dataset)))"
      ]
    },
    {
      "cell_type": "markdown",
      "metadata": {
        "id": "dM8Jtk0uABr_"
      },
      "source": [
        "**Hint:** For the above grader cell, part of the criterias we are checking is if the **transform** object is set up correctly."
      ]
    },
    {
      "cell_type": "markdown",
      "metadata": {
        "id": "asp-2shYABr_"
      },
      "source": [
        "## 1.2 Summarizing our Dataset (Total: 10 points)\n",
        "\n",
        "Getting a good sense of the dataset we are going to work on is always the first step you should take when implementing ML applications.\n",
        "\n",
        "In this section, we will be looking at the distribution of the dataset (e.g., how many instances belong to class with label `0`) and visualize what we are dealing with (i.e., plot out the sample images)"
      ]
    },
    {
      "cell_type": "markdown",
      "metadata": {
        "id": "Gth42e1eABr_"
      },
      "source": [
        "### 1.2.1 Looking at the distribution of labels (3 points)\n",
        "\n",
        "We can look at the distribution of labels by retrieving the labels of all possible instances of the subset of data pulled from `train_dataset` and `test_dataset` (i.e., `train_subset` and `test_subset`) for the training and testing data, respectively. We defined this in section `1.1.1`.\n",
        "\n",
        "---\n",
        "**TODO**\n",
        "* Train\n",
        "  * Get the number of unique labels in training dataset and save this quantity as the variable `train_num_labels`.\n",
        "  * Create a `DataLoader` called `train_loader_bar_plot` which takes as arguments the `train_dataset`, with the following parameters:\n",
        "    * `batch_size` = length of the `train_dataset`\n",
        "    * `shuffle = True`\n",
        "    * `num_workers = 0`\n",
        "  * Create a dictionary `train_dataset_dict` that contains the labels as keys and the number of images inside the label as values.\n",
        "* Test\n",
        "  * Get the number of unique labels in testing dataset and save this quantity as the variable `test_num_labels`.\n",
        "  * Create a `DataLoader` called `test_loader_bar_plot` which takes as arguments the `test_dataset`,  with the following parameters:\n",
        "    * `batch_size` = length of the `test_dataset`\n",
        "    * `shuffle = True`\n",
        "    * `num_workers = 0`\n",
        "  * Create a dictionary `test_dataset_dict` that contains the labels as keys and the number of images inside the label as values.\n",
        "---\n",
        "Please refer to **[this](https://pytorch.org/docs/stable/data.html#torch.utils.data.DataLoader)** for instantiating the `DataLoader`, which is similar to what we did in section `1.1.2`"
      ]
    },
    {
      "cell_type": "code",
      "execution_count": null,
      "metadata": {
        "id": "ldIRXCQmABr_",
        "colab": {
          "base_uri": "https://localhost:8080/"
        },
        "outputId": "afcd0a28-2900-42ea-f799-842b9e875185"
      },
      "outputs": [
        {
          "output_type": "stream",
          "name": "stdout",
          "text": [
            "{1: 13861, 9: 4659, 2: 10585, 3: 8497, 5: 6882, 8: 5045, 7: 5595, 4: 7458, 6: 5727, 0: 4948}\n"
          ]
        }
      ],
      "source": [
        "# TODO - TRAIN Data\n",
        "train_num_labels = len(set(train_dataset.labels))\n",
        "train_dataset_dict = dict(Counter(train_dataset.labels))\n",
        "train_loader_bar_plot = DataLoader(train_dataset, batch_size=len(train_dataset), shuffle=True, num_workers=0)\n",
        "print(train_dataset_dict)"
      ]
    },
    {
      "cell_type": "code",
      "execution_count": null,
      "metadata": {
        "id": "xuQyh4kFABsA",
        "colab": {
          "base_uri": "https://localhost:8080/"
        },
        "outputId": "05201174-d1f2-49fc-d8a5-0f867430f19e"
      },
      "outputs": [
        {
          "output_type": "stream",
          "name": "stdout",
          "text": [
            "{5: 2384, 2: 4149, 1: 5099, 0: 1744, 6: 1977, 9: 1595, 8: 1660, 3: 2882, 4: 2523, 7: 2019}\n"
          ]
        }
      ],
      "source": [
        "# TODO - TEST Data\n",
        "test_num_labels = len(set(test_dataset.labels))\n",
        "test_dataset_dict = dict(Counter(test_dataset.labels))\n",
        "test_loader_bar_plot = DataLoader(test_dataset, batch_size=len(test_dataset), shuffle=True, num_workers=0)\n",
        "print(test_dataset_dict)"
      ]
    },
    {
      "cell_type": "code",
      "execution_count": null,
      "metadata": {
        "id": "BLgq_-bVABsA",
        "colab": {
          "base_uri": "https://localhost:8080/"
        },
        "outputId": "cfbc0f36-fec2-474b-b5db-0cc5b3af915e"
      },
      "outputs": [
        {
          "output_type": "stream",
          "name": "stdout",
          "text": [
            "Correct! You earned 3/3 points. You are a star!\n",
            "\n",
            "Your submission has been successfully recorded in the gradebook.\n"
          ]
        }
      ],
      "source": [
        "#Grader Cell (3 points)\n",
        "grader.grade(test_case_id = 'dataset_dict', answer = (train_num_labels, train_dataset_dict, test_num_labels, test_dataset_dict))"
      ]
    },
    {
      "cell_type": "markdown",
      "metadata": {
        "id": "5R_yIBZIABsA"
      },
      "source": [
        "### 1.2.2 Visualize through bar charts (2 points - Manual Grading)\n",
        "\n",
        "Now we are going to visualize the distribution of labels using bar charts for both training and testing set which we store the distributions in their respective dictionary objects in section 1.2.1.\n",
        "\n",
        "---\n",
        "**TODO: You can use either `matplotlib` or `seaborn` for this section**\n",
        "* Create a barplot for the distributions of training labels using `train_dataset_dict` with x-axis label as `Labels` and y-axis label as `Frequency`, and title as \"Training set labels and corresponding frequencies\"\n",
        "* Create a barplot for the distributions of testing labels using `test_dataset_dict` with x-axis label as `Labels` and y-axis label as `Frequency`, and title as \"Testing set labels and corresponding frequencies\"\n",
        "* Add corresponding `labels` to the barplots (i.e., if label 1 has the count of 1200, \"1200\" should appear above the bar corresponding to label 1)\n",
        "-  To avoid \"File Too Large\" for submission, please set figure size to (8,6).\n",
        "---\n",
        "**NOTE**:\n",
        "\n",
        "* y-axis $\\to$ Number of data points\n",
        "* x-axis $\\to$ The integer value of the labels in the MNIST dataset"
      ]
    },
    {
      "cell_type": "code",
      "execution_count": null,
      "metadata": {
        "id": "tv0t3IA6ABsA",
        "colab": {
          "base_uri": "https://localhost:8080/",
          "height": 564
        },
        "outputId": "82611644-bf56-4dd6-815a-ada6a5ed70bd"
      },
      "outputs": [
        {
          "output_type": "display_data",
          "data": {
            "text/plain": [
              "<Figure size 800x600 with 1 Axes>"
            ],
            "image/png": "[encoded data removed]"
          },
          "metadata": {}
        }
      ],
      "source": [
        "# TODO: Create a barplot showing the distribution of the dataset\n",
        "# TRAIN Data\n",
        "\n",
        "plt.figure(figsize=(8, 6))\n",
        "plt.bar(train_dataset_dict.keys(), train_dataset_dict.values())\n",
        "plt.xlabel('Labels')\n",
        "plt.ylabel('Frequency')\n",
        "plt.title('Training set labels and corresponding frequencies')\n",
        "for label, freq in train_dataset_dict.items():\n",
        "    plt.text(label, freq, str(freq), ha='center', va='bottom')\n",
        "plt.show()"
      ]
    },
    {
      "cell_type": "code",
      "execution_count": null,
      "metadata": {
        "id": "Iy3II4AnABsB",
        "colab": {
          "base_uri": "https://localhost:8080/",
          "height": 564
        },
        "outputId": "ef0e3f6d-861b-4e53-9356-681da8e21be5"
      },
      "outputs": [
        {
          "output_type": "display_data",
          "data": {
            "text/plain": [
              "<Figure size 800x600 with 1 Axes>"
            ],
            "image/png": "[encoded data removed]"
          },
          "metadata": {}
        }
      ],
      "source": [
        "# TODO: Create a barplot showing the distribution of the dataset\n",
        "# TEST Data\n",
        "\n",
        "plt.figure(figsize=(8, 6))\n",
        "plt.bar(test_dataset_dict.keys(), test_dataset_dict.values())\n",
        "plt.xlabel('Labels')\n",
        "plt.ylabel('Frequency')\n",
        "plt.title('Testing set labels and corresponding frequencies')\n",
        "for label, freq in test_dataset_dict.items():\n",
        "    plt.text(label, freq, str(freq), ha='center', va='bottom')\n",
        "plt.show()"
      ]
    },
    {
      "cell_type": "markdown",
      "metadata": {
        "id": "Ea7fpC8CZTAW"
      },
      "source": [
        "### 1.2.3 Have equal spread of labels (5 points)\n",
        "\n",
        "As you have seen in the previous parts, some classes have much lower representation in the dataset than others; this might cause issues as our dataset is currently skewed, meaning that the classes do not all have an equally likely chance of being selected randomly. We will change that in this section.\n",
        "\n",
        "Recall that for our models we want **30,000** training images in our training data and **5,000** testing images in our testing data. In each dataset we want all our classes to have the same number of images.\n",
        "\n",
        "These are the TODOs for this question:\n",
        "* Downsample training by getting 30,000 images of the training data, with an equal representation for each class. Specify this dataframe as `train_subset`\n",
        "* Downsample testing by getting 5,000 images of the training data, with an equal representation for each class. Specify this dataframe as `test_subset`\n",
        "\n",
        "**Hints**:\n",
        "* Check out [`torch.utils.data.Subset`](https://pytorch.org/docs/stable/data.html#torch.utils.data.Subset) for downsampling the dataset.\n",
        "* When thinking about your function for getting the indices of a certain class (digit), think about how you were able to obtain that information in part 1.2.2\n",
        "\n"
      ]
    },
    {
      "cell_type": "code",
      "execution_count": null,
      "metadata": {
        "id": "lrxFMF4SZTAW"
      },
      "outputs": [],
      "source": [
        "torch.manual_seed(42)\n",
        "\n",
        "# TODO: get 30000 indices for training data, with\n",
        "# an equal number of images for each class\n",
        "train_indices = []\n",
        "\n",
        "\n",
        "# Optional: you can use train_count_dict to keep track of the\n",
        "# counts (value) for each class (key). You are not required to use\n",
        "# this if you think of an alternate method\n",
        "train_count_dict = dict()\n",
        "\n",
        "# Optional: one strategy might be iterating through each image\n",
        "# and stopping the loop when you have the right amount of images\n",
        "# for each class, storing the indices in train_indices.  You are\n",
        "# not required to implement this idea.\n",
        "target_images_per_class = 30000 // 10\n",
        "\n",
        "for i in range(len(train_dataset)):\n",
        "    img, label = train_dataset[i]\n",
        "    if train_count_dict.get(label, 0) < target_images_per_class:\n",
        "        train_indices.append(i)\n",
        "        train_count_dict[label] = train_count_dict.get(label, 0) + 1\n",
        "\n",
        "    if sum(train_count_dict.values()) >= target_images_per_class * 10:\n",
        "        break\n",
        "\n",
        "train_subset = torch.utils.data.Subset(train_dataset, train_indices)\n",
        "# End TODO"
      ]
    },
    {
      "cell_type": "code",
      "source": [
        "torch.manual_seed(42)\n",
        "\n",
        "# TODO: get 5000 indices for testing data, with\n",
        "# an equal number of images for each class\n",
        "test_indices = []\n",
        "\n",
        "\n",
        "# Optional: you can use test_count_dict to keep track of the\n",
        "# counts (value) for each class (key). You are not required to use\n",
        "# this if you think of an alternate method\n",
        "test_count_dict = dict()\n",
        "\n",
        "# Optional: one strategy might be iterating through each image\n",
        "# and stopping the loop when you have the right amount of images\n",
        "# for each class, storing the indices in test_indices.  You are\n",
        "# not required to implement this idea.\n",
        "target_images_per_class_test = 5000 // 10\n",
        "\n",
        "for i in range(len(test_dataset)):\n",
        "    img, label = test_dataset[i]\n",
        "    if test_count_dict.get(label, 0) < target_images_per_class_test:\n",
        "        test_indices.append(i)\n",
        "        test_count_dict[label] = test_count_dict.get(label, 0) + 1\n",
        "\n",
        "    if sum(test_count_dict.values()) >= target_images_per_class_test * 10:\n",
        "        break\n",
        "\n",
        "test_subset = torch.utils.data.Subset(test_dataset, test_indices)\n",
        "# End TODO"
      ],
      "metadata": {
        "id": "Iqn-F8L_BBqs"
      },
      "execution_count": null,
      "outputs": []
    },
    {
      "cell_type": "code",
      "source": [
        "# TODO: create subsets of the training and testing data\n",
        "train_subset = train_subset\n",
        "test_subset = test_subset\n",
        "# End TODO"
      ],
      "metadata": {
        "id": "5kxD9B2JZTAW"
      },
      "execution_count": null,
      "outputs": []
    },
    {
      "cell_type": "markdown",
      "source": [
        "Create `train_subset_dict` and `test_subset_dict` using a similar process from 1.2.1"
      ],
      "metadata": {
        "id": "8Va1WivSWwlZ"
      }
    },
    {
      "cell_type": "code",
      "source": [
        "test_loader_bar_plot = DataLoader(test_subset, batch_size=len(test_subset), shuffle=True, num_workers=0)\n",
        "train_loader_bar_plot = DataLoader(train_subset, batch_size=len(train_subset), shuffle=True, num_workers=0)\n",
        "\n",
        "train_labels = [item[1] for item in train_loader_bar_plot.dataset]\n",
        "test_labels = [item[1] for item in test_loader_bar_plot.dataset]\n",
        "\n",
        "train_subset_dict = dict(Counter(train_labels))\n",
        "test_subset_dict = dict(Counter(test_labels))\n",
        "\n",
        "# TODO: verify the number of images are equal for every class\n",
        "print(train_subset_dict)\n",
        "print(test_subset_dict)"
      ],
      "metadata": {
        "id": "fvs3wVcnZTAX",
        "colab": {
          "base_uri": "https://localhost:8080/"
        },
        "outputId": "0157559d-51a8-4bf8-ab3c-6d094fbbf24d"
      },
      "execution_count": null,
      "outputs": [
        {
          "output_type": "stream",
          "name": "stdout",
          "text": [
            "{1: 3000, 9: 3000, 2: 3000, 3: 3000, 5: 3000, 8: 3000, 7: 3000, 4: 3000, 6: 3000, 0: 3000}\n",
            "{5: 500, 2: 500, 1: 500, 0: 500, 6: 500, 9: 500, 8: 500, 3: 500, 4: 500, 7: 500}\n"
          ]
        }
      ]
    },
    {
      "cell_type": "code",
      "source": [
        "# Optional: Create barplots to verify your downsampled dataframes here\n"
      ],
      "metadata": {
        "id": "Fz-2i2u5ZTAX"
      },
      "execution_count": null,
      "outputs": []
    },
    {
      "cell_type": "code",
      "source": [
        "#Grader Cell (3 points)\n",
        "grader.grade(test_case_id = 'subset', answer = (train_subset_dict, test_subset_dict))"
      ],
      "metadata": {
        "id": "WeOy70k86DAK",
        "colab": {
          "base_uri": "https://localhost:8080/"
        },
        "outputId": "7767852f-2f06-472a-a8d7-9e1a1530682f"
      },
      "execution_count": null,
      "outputs": [
        {
          "output_type": "stream",
          "name": "stdout",
          "text": [
            "Correct! You earned 3/3 points. You are a star!\n",
            "\n",
            "Your submission has been successfully recorded in the gradebook.\n"
          ]
        }
      ]
    },
    {
      "cell_type": "markdown",
      "metadata": {
        "id": "k1-CdaxjABsC"
      },
      "source": [
        "Now that we have `train_subset` and `test_subset`, let's create dataloaders using these two datasets.\n",
        "\n",
        "You can load the dataset into dataloaders using the `DataLoaders` object. Please refer to the documentation [here](https://pytorch.org/docs/stable/data.html#torch.utils.data.DataLoader).\n",
        "\n",
        "---\n",
        "**TODO**:\n",
        "* Initialize the `DataLoader` object for `train_subset` as `train_loader`\n",
        "* Initialize the `DataLoader` object for `test_subset` as `test_loader`\n",
        "---\n",
        "\n",
        "**NOTE**: set the `batch_size` equal to the previously-defined variable `batch`, set `shuffle` to `True`, and `num_workers` as 0.\n"
      ]
    },
    {
      "cell_type": "code",
      "execution_count": null,
      "metadata": {
        "id": "w7jfaN8rABsC"
      },
      "outputs": [],
      "source": [
        "batch = 64\n",
        "train_loader = DataLoader(train_subset, batch_size=batch, shuffle=True, num_workers=0)\n",
        "test_loader = DataLoader(test_subset, batch_size=batch, shuffle=True, num_workers=0)\n",
        "# TODO END"
      ]
    },
    {
      "cell_type": "code",
      "execution_count": null,
      "metadata": {
        "id": "XDgGRC-4ABsC",
        "colab": {
          "base_uri": "https://localhost:8080/"
        },
        "outputId": "73b72051-be58-4c72-e1b2-d9caf8733b32"
      },
      "outputs": [
        {
          "output_type": "stream",
          "name": "stdout",
          "text": [
            "Correct! You earned 2/2 points. You are a star!\n",
            "\n",
            "Your submission has been successfully recorded in the gradebook.\n"
          ]
        }
      ],
      "source": [
        "#Grader Cell (2 points)\n",
        "# DO NOT EDIT ANYTHING\n",
        "trainLoaderCheck = [getattr(train_loader, \"batch_size\"),\n",
        "                    str(type(train_loader)),\n",
        "                    len(getattr(train_loader, \"dataset\")),\n",
        "                    str(getattr(train_loader, \"sampler\")),\n",
        "                    getattr(train_loader, \"num_workers\")]\n",
        "testLoaderCheck = [getattr(test_loader, \"batch_size\"),\n",
        "                    str(type(test_loader)),\n",
        "                    len(getattr(test_loader, \"dataset\")),\n",
        "                    str(getattr(test_loader, \"sampler\")),\n",
        "                    getattr(test_loader, \"num_workers\")]\n",
        "grader.grade(test_case_id = 'check_dataloader', answer = (trainLoaderCheck, testLoaderCheck))"
      ]
    },
    {
      "cell_type": "markdown",
      "metadata": {
        "id": "efWfR1ZFvFGw"
      },
      "source": [
        "# **Part 2:** Classification Models (Total: 77 points)\n",
        "\n",
        "We now have the data needed to train a multi-class object classifier. We will start simple with a logistic regression classifier as a baseline for our performance, before we move onto more complex neural networks.\n",
        "\n",
        "In this case, we are looking at the remaining part in the pipeline which were grayed out before as follows:\n",
        "\n",
        "\n",
        "Diagram Reference: [Link](https://www.kaggle.com/code/uvxy1234/cifar-10-implementation-with-pytorch)"
      ]
    },
    {
      "cell_type": "markdown",
      "metadata": {
        "id": "GIytVVJbm3Ih"
      },
      "source": [
        "## 2.1 Multimonial Logical Logistic Regression - Baseline (Total: 13 points)\n",
        "\n",
        "Let's first try solving this problem with a Multimonial Logistic Regression classifier.\n",
        "\n",
        "We want to use a Multimonial Logistic Regression, since we're looking to predict between 10 different classes/digits.\n",
        "\n",
        "We will define a logistic regression model in Pytorch and train it on our training set and evaluate the performance on the test set.\n",
        "\n",
        "Logistic regression can be modelled as a function that can take in any number of inputs and constrain the output to be between 0 and 1. This means we can think of Logistic Regression as a one-layer neural network without hidden layers with some activation function. Think about how working with multiple classes may require you to think past a traditional Logistic Regression Model to optimize on performance!\n",
        "\n"
      ]
    },
    {
      "cell_type": "markdown",
      "metadata": {
        "id": "7MFlH2eL9NJ2"
      },
      "source": [
        "Diagram Reference: [Link](https://stats.stackexchange.com/questions/366707/a-logistic-regression-with-neural-network-mindset-vs-a-shallow-neural-network)"
      ]
    },
    {
      "cell_type": "markdown",
      "metadata": {
        "id": "5cVmxiP0m3In"
      },
      "source": [
        "### 2.1.1 Logistic Regression Model Architecture (5 points)\n",
        "\n",
        "We will define our first model in Pytorch. Read up about how to define and use layers in a Pytorch neural network [here](https://pytorch.org/tutorials/beginner/basics/buildmodel_tutorial.html).\n",
        "\n",
        "Our first model is a logistic regression model with the number of outputs equal to the number of classes in the model. Please implement the constructor for the `LogReg` class (the `__init__` function below) with the definition of the logistic regression model.\n",
        "\n",
        "When implementing this section, please think about what activation function would be most appropriate for logistic regression.\n",
        "\n",
        "Note that each data sample is in the shape (3, 32, 32). The goal of our architecture is to flatten each image completely.\n",
        "\n",
        "In addition, when constructing your architecture, be mindful of what your input and output dimensions should be for `in_features` and `out_features` based off the image dimensions!"
      ]
    },
    {
      "cell_type": "code",
      "execution_count": null,
      "metadata": {
        "id": "8vIXliDkm3Io"
      },
      "outputs": [],
      "source": [
        "class LogReg(nn.Module):\n",
        "    def __init__(self):\n",
        "        super(LogReg, self).__init__()\n",
        "        self.input_size = 3 * 32 * 32\n",
        "        self.num_classes = 10\n",
        "        self.flatten = nn.Flatten()\n",
        "        self.linear = nn.Linear(self.input_size, self.num_classes)\n",
        "        # END TODO\n",
        "\n",
        "    def forward(self, x):\n",
        "        # TODO: implement the operations on input data\n",
        "        # Hint: think of the neural network architecture for logistic regression\n",
        "        x = self.flatten(x)\n",
        "        outputs = self.linear(x)\n",
        "        return outputs"
      ]
    },
    {
      "cell_type": "markdown",
      "metadata": {
        "id": "Hd5MCDQtm3Ip"
      },
      "source": [
        "Let's print the model summary"
      ]
    },
    {
      "cell_type": "code",
      "execution_count": null,
      "metadata": {
        "id": "BkIy0N4Wm3Iq",
        "colab": {
          "base_uri": "https://localhost:8080/"
        },
        "outputId": "c356e1c8-17a1-4ecc-8355-1ede68fa28d3"
      },
      "outputs": [
        {
          "output_type": "execute_result",
          "data": {
            "text/plain": [
              "LogReg(\n",
              "  (flatten): Flatten(start_dim=1, end_dim=-1)\n",
              "  (linear): Linear(in_features=3072, out_features=10, bias=True)\n",
              ")"
            ]
          },
          "metadata": {},
          "execution_count": 221
        }
      ],
      "source": [
        "LogReg()"
      ]
    },
    {
      "cell_type": "code",
      "execution_count": null,
      "metadata": {
        "id": "aDks46ZVm3Ir",
        "colab": {
          "base_uri": "https://localhost:8080/"
        },
        "outputId": "47c09b2a-203c-4d41-dbe4-2a00506a8203"
      },
      "outputs": [
        {
          "output_type": "stream",
          "name": "stdout",
          "text": [
            "Correct! You earned 5/5 points. You are a star!\n",
            "\n",
            "Your submission has been successfully recorded in the gradebook.\n"
          ]
        }
      ],
      "source": [
        "#Grader Cell (5 points)\n",
        "grader.grade(test_case_id = 'logistic_regression_model', answer = str(LogReg()))"
      ]
    },
    {
      "cell_type": "markdown",
      "metadata": {
        "id": "PeRosrvOpGBj"
      },
      "source": [
        "**Notes:** Getting full credit for the above test case doesn't necessarily ensure that your model will perform well on the test dataset as it only evaluates the structure of your neural network.\n",
        "\n",
        "If you don't achieve complete credit for accuracy and loss on the test dataset, you may need to modify your architecture."
      ]
    },
    {
      "cell_type": "markdown",
      "metadata": {
        "id": "jesvQ9qBm3Ir"
      },
      "source": [
        "### 2.1.2 Training Logistic Regression Model (4 points)\n",
        "---\n",
        "**TODOs:**\n",
        "1.   Instantiate the Logistic regression to the variable `logreg`. Make sure to send this to the GPU device -- please consult the [Module 20 slides](https://docs.google.com/presentation/d/1pw9cFO30U_kI47JUZIW9COLAkM8BE8wr/edit?usp=sharing&ouid=115607071793138372214&rtpof=true&sd=true) for a primer on how to do this.\n",
        "\n",
        "2.   Set the loss criterion as `CrossEntropyLoss` (you can look up the documentation [here](https://pytorch.org/docs/stable/nn.html#loss-functions)). Note that softmax is already built into CrossEntropyLoss so if you use CrossEntropyLoss as the loss criterion, you don't need to add an additional softmax layer.\n",
        "\n",
        "3.   Fill in the missing parts in the training loop (see `#TODO` comments below)\n",
        "4.   Save the Training Accuracy for every epoch into the variable `acc_LIST_log`.\n",
        "5.   Save the Average Loss for every epoch into the variable `loss_LIST_log`.\n",
        "---\n",
        "The optimizer is set as Adam -- **please do not modify the optimizer**.\n",
        "\n",
        "Hint: Remember to update the weights correctly by backpropagation, please zero out the gradients by calling `optimizer.zero_grad()` every time you call `backward()`.\n",
        "\n",
        "**Note: If the loss went up during the training, there is something wrong with the model, so you should check if the model is implemented correctly**"
      ]
    },
    {
      "cell_type": "code",
      "execution_count": null,
      "metadata": {
        "id": "tmdlh86xm3Ir",
        "colab": {
          "base_uri": "https://localhost:8080/"
        },
        "outputId": "a4885f7b-488b-4b67-e8cd-fcae5e2b0103"
      },
      "outputs": [
        {
          "output_type": "stream",
          "name": "stdout",
          "text": [
            "The loss for Epoch 0 is: 2.2931936519232385, Accuracy = 15.566666666666666\n",
            "The loss for Epoch 1 is: 2.251162907716308, Accuracy = 19.886666666666667\n",
            "The loss for Epoch 2 is: 2.2358506096959876, Accuracy = 21.186666666666667\n",
            "The loss for Epoch 3 is: 2.227320978128071, Accuracy = 22.253333333333334\n",
            "The loss for Epoch 4 is: 2.2215692214111784, Accuracy = 22.92\n",
            "The loss for Epoch 5 is: 2.215076800856763, Accuracy = 23.46\n",
            "The loss for Epoch 6 is: 2.213365380189566, Accuracy = 23.6\n",
            "The loss for Epoch 7 is: 2.208907246335483, Accuracy = 24.013333333333332\n",
            "The loss for Epoch 8 is: 2.205942848343839, Accuracy = 24.243333333333332\n",
            "The loss for Epoch 9 is: 2.203304455224385, Accuracy = 24.523333333333333\n",
            "CPU times: user 1min 28s, sys: 399 ms, total: 1min 28s\n",
            "Wall time: 1min 29s\n"
          ]
        }
      ],
      "source": [
        "%%time\n",
        "logreg = LogReg()\n",
        "logreg.to(device)\n",
        "criterion = nn.CrossEntropyLoss()\n",
        "optimizer = optim.Adam(logreg.parameters(), lr=1e-4) #lr - learning step\n",
        "epoch = 10\n",
        "loss_LIST_log = []\n",
        "acc_LIST_log = []\n",
        "for epoch in range(epoch):\n",
        "  running_loss = 0.0\n",
        "  correct = 0\n",
        "  total = 0\n",
        "  for inputs, labels in train_loader:\n",
        "      labels = labels.type(torch.LongTensor) # Cast to Float\n",
        "      inputs, labels = inputs.to(device), labels.to(device)\n",
        "\n",
        "      # TODO\n",
        "      # Step 1: Reset the optimizer tensor gradient every mini-batch\n",
        "      optimizer.zero_grad()\n",
        "\n",
        "      # Step 2: Feed the network the train data\n",
        "      outputs = logreg(inputs)\n",
        "\n",
        "      # Step 3: Get the prediction using argmax\n",
        "      temp, predicted = torch.max(outputs.data, 1)\n",
        "\n",
        "      # Step 4: Find average loss for one mini-batch of inputs\n",
        "      loss = criterion(outputs, labels)\n",
        "      running_loss += loss.item()\n",
        "\n",
        "      # Step 5: Do a back propagation\n",
        "      loss.backward()\n",
        "\n",
        "      # Step 6: Update the weight using the gradients from back propagation by learning step\n",
        "      optimizer.step()\n",
        "\n",
        "      # Step 7: Get loss and add to accumulated loss for each epoch\n",
        "\n",
        "\n",
        "      # Step 8: Get number of correct prediction and add to correct and total\n",
        "      # Hint: we need to detach the numbers from GPU to CPU, which stores accuracy and loss\n",
        "      total += labels.size(0)\n",
        "      correct += (predicted == labels).sum().item()\n",
        "\n",
        "\n",
        "  # Step 9: Calculate training accuracy for each epoch and add to acc_LIST_log\n",
        "  accuracy = 100 * correct / total\n",
        "  acc_LIST_log.append(accuracy)\n",
        "\n",
        "  # Step 10: Get average loss for each epoch and add to loss_LIST_log\n",
        "  avg_loss = running_loss / len(train_loader)\n",
        "  loss_LIST_log.append(avg_loss)\n",
        "\n",
        "  # END TODO\n",
        "\n",
        "  # print statistics\n",
        "  print(\"The loss for Epoch {} is: {}, Accuracy = {}\".format(epoch, running_loss/len(train_loader), accuracy))"
      ]
    },
    {
      "cell_type": "code",
      "source": [
        "# (if applicable)\n",
        "# In order to pass the AutoGrader, every element in \"acc_LIST_log\" should be a float.\n",
        "# If the elements are of type \"Tensor\", convert each element into type FLOAT by using .item() or .tolist()\n",
        "# To check if each element is a Tensor, print out \"acc_LIST_log\" and see if there is a Tensor() wrapped around each element.\n"
      ],
      "metadata": {
        "id": "SB9RkZLJj1qm"
      },
      "execution_count": null,
      "outputs": []
    },
    {
      "cell_type": "code",
      "execution_count": null,
      "metadata": {
        "id": "8a3mQpqtFqd6",
        "colab": {
          "base_uri": "https://localhost:8080/"
        },
        "outputId": "aaf55698-8e9f-4c60-9250-5216790ecb15"
      },
      "outputs": [
        {
          "output_type": "stream",
          "name": "stdout",
          "text": [
            "Correct! You earned 4/4 points. You are a star!\n",
            "\n",
            "Your submission has been successfully recorded in the gradebook.\n"
          ]
        }
      ],
      "source": [
        "# Grader Cell (4 points)\n",
        "grader.grade(test_case_id = 'log_train_loss', answer = (acc_LIST_log, loss_LIST_log))"
      ]
    },
    {
      "cell_type": "markdown",
      "metadata": {
        "id": "e0LrNmOvm3Is"
      },
      "source": [
        "### 2.1.3 Plotting Training Accuracy vs Epochs for Logistic Regression (2 points - Manually Graded)\n",
        "\n",
        "---\n",
        "**TODO:**\n",
        "\n",
        "Plot the training accuracy vs epochs.\n",
        "\n",
        "Chart Specifications:\n",
        "1. The accuracy should be in the y-axis and epochs in x-axis.\n",
        "2. Add chart title.\n",
        "3. Epoch label should start with 1 (for audience interpretability).\n",
        "4. To avoid \"File Too Large\" for submission, please set figure size to (5,3).\n",
        "---"
      ]
    },
    {
      "cell_type": "code",
      "execution_count": null,
      "metadata": {
        "id": "2VpyKMjem3Is",
        "colab": {
          "base_uri": "https://localhost:8080/",
          "height": 333
        },
        "outputId": "6d6ac94c-972c-4ab0-9993-ba3ae63192e8"
      },
      "outputs": [
        {
          "output_type": "display_data",
          "data": {
            "text/plain": [
              "<Figure size 500x300 with 1 Axes>"
            ],
            "image/png": "[encoded data removed]"
          },
          "metadata": {}
        }
      ],
      "source": [
        "import matplotlib.pyplot as plt\n",
        "import seaborn as sns\n",
        "\n",
        "# TODO\n",
        "plt.figure(figsize=(5, 3))\n",
        "plt.plot(range(1, 10 + 1), acc_LIST_log, marker='o')\n",
        "plt.title('Training Accuracy vs Epochs')\n",
        "plt.xlabel('Epochs')\n",
        "plt.ylabel('Accuracy (%)')\n",
        "plt.grid(True)\n",
        "plt.show()\n",
        "# END TODO\n"
      ]
    },
    {
      "cell_type": "markdown",
      "metadata": {
        "id": "IrJ6qz4Rm3It"
      },
      "source": [
        "### 2.1.4 Logistic Regression Model Accuracy (2 points)\n",
        "\n",
        "Calculate the Test Accuracy for the Logistic Regression Model we trained above.\n",
        "\n",
        "This should be similar to how we calculated training accuracy above."
      ]
    },
    {
      "cell_type": "code",
      "execution_count": null,
      "metadata": {
        "id": "sbAYsblXm3It",
        "colab": {
          "base_uri": "https://localhost:8080/"
        },
        "outputId": "7c566fbf-f01a-4b86-ef49-c9642c705262"
      },
      "outputs": [
        {
          "output_type": "stream",
          "name": "stdout",
          "text": [
            "Test Accuracy: 18.2\n"
          ]
        }
      ],
      "source": [
        "total = 0\n",
        "correct = 0\n",
        "with torch.no_grad():\n",
        "    for images, labels in test_loader:\n",
        "        labels = labels.type(torch.LongTensor) # Cast to Float\n",
        "        images, labels = images.to(device), labels.to(device)\n",
        "\n",
        "        # TODO\n",
        "        # Get the output\n",
        "        outputs = logreg(images)\n",
        "\n",
        "        # Get the prediction using argmax\n",
        "        temp, predicted = torch.max(outputs.data, 1)\n",
        "\n",
        "        # Get number of correct prediction and add to correct and total\n",
        "        total += labels.size(0)\n",
        "        correct += (predicted == labels).sum().item()\n",
        "\n",
        "# Calculate test accuracy for logistic regression (should multiple by 100)\n",
        "test_acc_log = (correct / total) * 100\n",
        "\n",
        "# TODO END\n",
        "print('Test Accuracy: ' + str(test_acc_log))"
      ]
    },
    {
      "cell_type": "code",
      "execution_count": null,
      "metadata": {
        "id": "Yw84YwDSm3Iu",
        "colab": {
          "base_uri": "https://localhost:8080/"
        },
        "outputId": "d770acf7-ad50-4821-e5a7-81ef4f4f2b7a"
      },
      "outputs": [
        {
          "output_type": "stream",
          "name": "stdout",
          "text": [
            "Correct! You earned 2/2 points. You are a star!\n",
            "\n",
            "Your submission has been successfully recorded in the gradebook.\n"
          ]
        }
      ],
      "source": [
        "#Grader Cell (2 points)\n",
        "grader.grade(test_case_id = 'logistic_regression_test_acc', answer = test_acc_log)"
      ]
    },
    {
      "cell_type": "markdown",
      "metadata": {
        "id": "3YxGiHhWHM6b"
      },
      "source": [
        "## 2.2 Feedforward Neural Networks (Total: 25 points)\n",
        "\n"
      ]
    },
    {
      "cell_type": "markdown",
      "metadata": {
        "id": "iCEd-Lj_9pGc"
      },
      "source": [
        "Diagram reference: [Link](https://en.wikipedia.org/wiki/Feedforward_neural_network)"
      ]
    },
    {
      "cell_type": "markdown",
      "source": [
        "**NOTE:** For 2.2 and 2.3, getting full points on the autograder for certain test cases may not be indicative of correctness; there may be slight inaccuracies in how your structured/architectured your model, or errors in your forwards. Losing points in the autograder can most likely be attributed to this."
      ],
      "metadata": {
        "id": "JN2g-t5cZugN"
      }
    },
    {
      "cell_type": "markdown",
      "metadata": {
        "id": "ycezEPcWm3Iv"
      },
      "source": [
        "\n",
        "Since logistic regression isn't that great at the classification problem above, we need more representation power in our model. We will now define a feedforward neural network.\n",
        "\n",
        "For this section, we're going to first create three different types of data inputs to analyze the performance in each.\n",
        "\n",
        "\n",
        "\n",
        "1.   First, we're going to analyze how well the *FNN* model will perform for a data input that only inludes data for the **red pixel values**. Since the shape of each one of our samples is (3, 32, 32), we're going to condense this down to (1, 32, 32) using a model architecture that can handle this new shape.\n",
        "2.   Second, we're going to analyze the performance of an *FNN* model on a data input that only includes data for the **grayscale values** of the image. As a reminder, the grayscale value of a pixel are calculated from the the average of the red, green, and blue pixel values. The shape of each sample should be (1, 32, 32)\n",
        "3. Finally, we'll use all of our inputs without modification to see how our *FNN* model performs with all data. We'll need to create a different architecture to handle the different sample size, but the original data loaders can be used.\n",
        "\n",
        "For each of these steps, think about the **relative information loss** between each data input and how you think that might affect the model.\n",
        "\n",
        "\n",
        "### 2.2.1 FNN Preprocessing Helper Functions (2 points)\n",
        "\n",
        "To simulate the first two, fill in the following functions that can convert a raw data sample of shape (batch_size, channels, 32, 32) to 1. contrained to only red values (index 0) and 2. gray scale values (averaged).\n",
        "\n",
        "For both functions, the datatype should be a tensor.\n"
      ]
    },
    {
      "cell_type": "markdown",
      "metadata": {
        "id": "QfbU0GmSm3Iv"
      },
      "source": [
        "### 2.2.1 Feedforward Neural Network Model Architecture (10 points)"
      ]
    },
    {
      "cell_type": "code",
      "source": [
        "def raw_sample_to_red(sample):\n",
        "  # TODO: Fill in the logic to convert an input tensor of shape (batch_size, 3, 32, 32) to just contain the red values\n",
        "  red_sample = sample[:, 0:1, :, :]\n",
        "  return red_sample\n",
        "\n",
        "def raw_sample_to_grayscale(sample):\n",
        "  # TODO: Fill in the logic to convert an input tensor of shape (batch_size, 3, 32, 32) to just contain the grey scale values\n",
        "  grayscale_sample = torch.mean(sample, dim=1, keepdim=True)\n",
        "  return grayscale_sample\n"
      ],
      "metadata": {
        "id": "zeydGGFYPiYz"
      },
      "execution_count": null,
      "outputs": []
    },
    {
      "cell_type": "code",
      "source": [
        "# DO NOT EDIT\n",
        "dummy_data = torch.rand(1, 3, 32, 32)\n",
        "dummy_input = dummy_data[0, :, 0, 0].tolist()\n",
        "red_output = raw_sample_to_red(dummy_data)[0, 0, 0, 0].item()\n",
        "gray_output = round(raw_sample_to_grayscale(dummy_data)[0, 0, 0, 0].item(), 4)\n",
        "\n",
        "# Grader Cell (2 points)\n",
        "grader.grade(test_case_id = 'feedforward_preprocess_helpers', answer = (dummy_input, red_output, gray_output))"
      ],
      "metadata": {
        "id": "nstGSd4bPwQN",
        "colab": {
          "base_uri": "https://localhost:8080/"
        },
        "outputId": "23672904-76b9-4f26-88d0-7b7bd5403f3b"
      },
      "execution_count": null,
      "outputs": [
        {
          "output_type": "stream",
          "name": "stdout",
          "text": [
            "Correct! You earned 2/2 points. You are a star!\n",
            "\n",
            "Your submission has been successfully recorded in the gradebook.\n"
          ]
        }
      ]
    },
    {
      "cell_type": "markdown",
      "source": [
        "### 2.2.2 Feedforward Neural Network Model Architecture (4 points)\n",
        "\n",
        "Now, complete the *FNN* class below to define a feedforward neural network architecture with **only 1 hidden layers with ```out_features``` of 256**. Note that the last layer must have the same number of classes as the output size! Also, note that this architecture will be using the shapes **(1, 32, 32)** to accomadate for the first two types of data.\n",
        "\n",
        "When implementing this model, please think about what activation function would be most appropriate for each layer in this classifier.\n",
        "\n",
        "Note: Receiving full credit for this section won't guarantee that future sections will work as intended! We're primarily testing that you have all the required components in your architecture!\n"
      ],
      "metadata": {
        "id": "Lsgte_E_PyT_"
      }
    },
    {
      "cell_type": "code",
      "execution_count": null,
      "metadata": {
        "id": "7ZVvgyJVm3Iv"
      },
      "outputs": [],
      "source": [
        "class FNN(nn.Module):\n",
        "    def __init__(self):\n",
        "        super().__init__()\n",
        "        # TODO: initialize the neural network layers\n",
        "\n",
        "        self.flatten = nn.Flatten()\n",
        "        self.hidden_layer = nn.Linear(1 * 32 * 32, 256)\n",
        "        self.relu = nn.ReLU()\n",
        "        self.output_layer = nn.Linear(256, 10)\n",
        "\n",
        "        # END TODO\n",
        "\n",
        "    def forward(self, x):\n",
        "        # TODO: implement the operations on input data\n",
        "        # Hint: think of the neural network architecture for FNN\n",
        "        x = self.flatten(x)\n",
        "        x = self.hidden_layer(x)\n",
        "        x = self.relu(x)\n",
        "        outputs = self.output_layer(x)\n",
        "\n",
        "        # END TODO\n",
        "        return outputs"
      ]
    },
    {
      "cell_type": "markdown",
      "metadata": {
        "id": "5rvgkSaTm3Iw"
      },
      "source": [
        "Let's print the model summary"
      ]
    },
    {
      "cell_type": "code",
      "execution_count": null,
      "metadata": {
        "id": "g8Voqj1-m3Iw",
        "colab": {
          "base_uri": "https://localhost:8080/"
        },
        "outputId": "c8a4cf08-bb60-4230-e734-e2c428f566fb"
      },
      "outputs": [
        {
          "output_type": "execute_result",
          "data": {
            "text/plain": [
              "FNN(\n",
              "  (flatten): Flatten(start_dim=1, end_dim=-1)\n",
              "  (hidden_layer): Linear(in_features=1024, out_features=256, bias=True)\n",
              "  (relu): ReLU()\n",
              "  (output_layer): Linear(in_features=256, out_features=10, bias=True)\n",
              ")"
            ]
          },
          "metadata": {},
          "execution_count": 87
        }
      ],
      "source": [
        "FNN()"
      ]
    },
    {
      "cell_type": "code",
      "execution_count": null,
      "metadata": {
        "id": "fj0GVHf5m3Iw",
        "colab": {
          "base_uri": "https://localhost:8080/"
        },
        "outputId": "7e2f46d5-889f-46e1-cbb4-0f7a7c4dd3e6"
      },
      "outputs": [
        {
          "output_type": "stream",
          "name": "stdout",
          "text": [
            "Correct! You earned 4/4 points. You are a star!\n",
            "\n",
            "Your submission has been successfully recorded in the gradebook.\n"
          ]
        }
      ],
      "source": [
        "#Grader Cell (4 points)\n",
        "grader.grade(test_case_id = 'feedforward_nn_model', answer = str(FNN()))"
      ]
    },
    {
      "cell_type": "markdown",
      "metadata": {
        "id": "Dy7YoUqmurFM"
      },
      "source": [
        "**Notes:** Getting full credit for the above test case doesn't necessarily ensure that your model will perform well on the test dataset as it only evaluates the structure of your neural network.\n",
        "\n",
        "If you don't achieve complete credit for accuracy and loss on the test dataset, you may need to modify your architecture such as increasing the number of hidden layers or the number of neurons in each layer."
      ]
    },
    {
      "cell_type": "markdown",
      "metadata": {
        "id": "JUaHAHLum3Iw"
      },
      "source": [
        "### 2.2.3 Training FNN Model (11 points)\n",
        "---\n",
        "TODOs\n",
        "1.   Instantiate an FNN model to the variable `fnn_red` (make sure to send this to the device env)\n",
        "2.   Set the loss criterion to be `CrossEntropyLoss` (you can look up the documentation [here](https://pytorch.org/docs/stable/nn.html#loss-functions))\n",
        "3.   Fill in the missing parts in the training loop below.\n",
        "4.   Note, make sure you are using your raw_sample_to_red() helper function to convert each raw input into our desired form\n",
        "5.   Save the Training Accuracy for every epoch into `acc_LIST_FNN_red`\n",
        "6.   Save the Average Loss for every epoch into `loss_LIST_FNN_red`\n",
        "---\n",
        "The optimizer is set as Adam -- **please do not modify the optimizer**.\n",
        "\n",
        "Hint: Remember to update the weights correctly by backpropagation, please zero out the gradients by calling `optimizer.zero_grad()` every time you call `backward()`.\n",
        "\n",
        "**Note 1**: If the loss went up during the training, there is something wrong with the model, so you should check if the model is implemented correctly.\n",
        "\n",
        "**Note 2**: Typical training time could around 5 mins.\n",
        "\n",
        "\n",
        "\n",
        "Note: `acc_LIST_FNN_red` should be of type floats, instead of tensors."
      ]
    },
    {
      "cell_type": "code",
      "execution_count": null,
      "metadata": {
        "id": "WSechmCnm3Ix",
        "colab": {
          "base_uri": "https://localhost:8080/"
        },
        "outputId": "39da053f-13c6-421f-9dcb-18973e259ff5"
      },
      "outputs": [
        {
          "output_type": "stream",
          "name": "stdout",
          "text": [
            "The loss for Epoch 0 is: 2.0148664580733535, Accuracy = 37.25333333333333\n",
            "The loss for Epoch 1 is: 1.4784199721269262, Accuracy = 60.61333333333334\n",
            "The loss for Epoch 2 is: 1.2385914673937408, Accuracy = 65.53666666666666\n",
            "The loss for Epoch 3 is: 1.1168435304912168, Accuracy = 68.45666666666666\n",
            "The loss for Epoch 4 is: 1.0346055678975608, Accuracy = 70.41666666666667\n",
            "The loss for Epoch 5 is: 0.9729098666197201, Accuracy = 71.73\n",
            "The loss for Epoch 6 is: 0.9208435280236609, Accuracy = 73.47\n",
            "The loss for Epoch 7 is: 0.8773731936269732, Accuracy = 74.80333333333333\n",
            "The loss for Epoch 8 is: 0.8396230412444581, Accuracy = 75.78\n",
            "The loss for Epoch 9 is: 0.8071069169019077, Accuracy = 76.87666666666667\n",
            "CPU times: user 1min 34s, sys: 536 ms, total: 1min 34s\n",
            "Wall time: 1min 35s\n"
          ]
        }
      ],
      "source": [
        "%%time\n",
        "# Sending the data to device (CPU or GPU)\n",
        "# TODO\n",
        "\n",
        "# Step 1: instantiate the FNN model to variable fnn_red\n",
        "fnn_red = FNN()\n",
        "fnn_red.to(device)\n",
        "\n",
        "# Step 2: set the loss criterion as CrossEntropyLoss\n",
        "criterion_fnn_red = nn.CrossEntropyLoss()\n",
        "\n",
        "# END TODO\n",
        "optimizer = optim.Adam(fnn_red.parameters(), lr=1e-4) #lr - learning step\n",
        "epoch = 10\n",
        "\n",
        "acc_LIST_FNN_red = []\n",
        "loss_LIST_FNN_red = []\n",
        "\n",
        "# Train the FNN\n",
        "for epoch in range(epoch):\n",
        "  running_loss = 0.0\n",
        "  correct = 0\n",
        "  total = 0\n",
        "  for inputs, labels in train_loader:\n",
        "      labels = labels.type(torch.LongTensor) # Cast to Long\n",
        "      inputs, labels = inputs.to(device), labels.to(device)\n",
        "\n",
        "      # TODO\n",
        "      # Step 1: Reset the optimizer tensor gradient every mini-batch\n",
        "      optimizer.zero_grad()\n",
        "\n",
        "      # Step 2: Feed the network the train data (use helper)\n",
        "      inputs_red = raw_sample_to_red(inputs)\n",
        "      outputs = fnn_red(inputs_red)\n",
        "\n",
        "      # Step 3: Get the prediction using argmax\n",
        "      temp, predicted = torch.max(outputs.data, 1)\n",
        "\n",
        "      # Step 4: Find average loss for one mini-batch of inputs\n",
        "      loss = criterion_fnn_red(outputs, labels)\n",
        "\n",
        "      # Step 5: Do a back propagation\n",
        "      loss.backward()\n",
        "\n",
        "      # Step 6: Update the weight using the gradients from back propagation by learning step\n",
        "      optimizer.step()\n",
        "\n",
        "      # Step 7: Get loss and add to accumulated loss for each epoch\n",
        "      running_loss += loss.item()\n",
        "\n",
        "      # Step 8: Get number of correct prediction and add to correct and total\n",
        "      # Hint: we need to detach the numbers from GPU to CPU, which stores accuracy and loss\n",
        "      total += labels.size(0)\n",
        "      correct += (predicted == labels).sum().item()\n",
        "\n",
        "\n",
        "  # Step 9: Calculate training accuracy for each epoch and add to acc_LIST_FNN_red\n",
        "  accuracy = 100 * correct / total\n",
        "  acc_LIST_FNN_red.append(accuracy)\n",
        "\n",
        "\n",
        "  # Step 10: Get average loss for each epoch and add to loss_LIST_FNN_red\n",
        "  avg_loss = running_loss / len(train_loader)\n",
        "  loss_LIST_FNN_red.append(avg_loss)\n",
        "\n",
        "  # END TODO\n",
        "\n",
        "  # print statistics\n",
        "  print(\"The loss for Epoch {} is: {}, Accuracy = {}\".format(epoch, running_loss/len(train_loader), accuracy))\n",
        "\n"
      ]
    },
    {
      "cell_type": "markdown",
      "source": [
        "Nice, you should see here that the accuracy of our model is significantly improved by adding an additional hidden layer to our architecture when we use an FNN model. Can we do better? Let's create a second training loop, but this time, we'll use our grayscale helper instead.\n",
        "\n",
        "\n",
        "\n",
        "1.   This time, initialize your model to the variable `fnn_gray`\n",
        "2.   Use the same criterion, and training loop parameters as last time.\n",
        "3.   Use our newly defined `raw_sample_to_grayscale` helper to convert to grayscale inputs.\n",
        "4.   Save the accuracy and loss to `acc_LIST_FNN_gray` and `loss_LIST_FNN_gray`"
      ],
      "metadata": {
        "id": "gLh1a4XVQupr"
      }
    },
    {
      "cell_type": "code",
      "source": [
        "%%time\n",
        "# Sending the data to device (CPU or GPU)\n",
        "# TODO\n",
        "\n",
        "# Step 1: instantiate the FNN model to variable fnn_gray\n",
        "fnn_gray = FNN()\n",
        "fnn_gray.to(device)\n",
        "# Step 2: set the loss criterion as CrossEntropyLoss\n",
        "criterion_fnn_gray = nn.CrossEntropyLoss()\n",
        "# END TODO\n",
        "optimizer = optim.Adam(fnn_gray.parameters(), lr=1e-4) #lr - learning step\n",
        "epoch = 10\n",
        "\n",
        "acc_LIST_FNN_gray = []\n",
        "loss_LIST_FNN_gray = []\n",
        "\n",
        "# Train the FNN\n",
        "for epoch in range(epoch):\n",
        "  running_loss = 0.0\n",
        "  correct = 0\n",
        "  total = 0\n",
        "  for inputs, labels in train_loader:\n",
        "      labels = labels.type(torch.LongTensor) # Cast to Long\n",
        "      inputs, labels = inputs.to(device), labels.to(device)\n",
        "\n",
        "      # TODO\n",
        "      # Step 1: Reset the optimizer tensor gradient every mini-batch\n",
        "      optimizer.zero_grad()\n",
        "\n",
        "      # Step 2: Feed the network the train data (use helper)\n",
        "      inputs_gray = raw_sample_to_grayscale(inputs)\n",
        "      outputs = fnn_gray(inputs_gray)\n",
        "\n",
        "      # Step 3: Get the prediction using argmax\n",
        "      temp, predicted = torch.max(outputs.data, 1)\n",
        "\n",
        "      # Step 4: Find average loss for one mini-batch of inputs\n",
        "      loss = criterion_fnn_gray(outputs, labels)\n",
        "\n",
        "      # Step 5: Do a back propagation\n",
        "      loss.backward()\n",
        "\n",
        "      # Step 6: Update the weight using the gradients from back propagation by learning step\n",
        "      optimizer.step()\n",
        "\n",
        "      # Step 7: Get loss and add to accumulated loss for each epoch\n",
        "      running_loss += loss.item()\n",
        "\n",
        "      # Step 8: Get number of correct prediction and add to correct and total\n",
        "      # Hint: we need to detach the numbers from GPU to CPU, which stores accuracy and loss\n",
        "      total += labels.size(0)\n",
        "      correct += (predicted == labels).sum().item()\n",
        "\n",
        "\n",
        "  # Step 9: Calculate training accuracy for each epoch and add to acc_LIST_FNN_gray\n",
        "  accuracy = 100 * correct / total\n",
        "  acc_LIST_FNN_gray.append(accuracy)\n",
        "  # Step 10: Get average loss for each epoch and add to loss_LIST_FNN_gray\n",
        "\n",
        "  avg_loss = running_loss / len(train_loader)\n",
        "  loss_LIST_FNN_gray.append(avg_loss)\n",
        "\n",
        "  # END TODO\n",
        "\n",
        "  # print statistics\n",
        "  print(\"The loss for Epoch {} is: {}, Accuracy = {}\".format(epoch, running_loss/len(train_loader), accuracy))\n"
      ],
      "metadata": {
        "id": "HsvJJhlXQ1MA",
        "colab": {
          "base_uri": "https://localhost:8080/"
        },
        "outputId": "9b091341-cf7e-4c6d-d980-5c9b62d221cc"
      },
      "execution_count": null,
      "outputs": [
        {
          "output_type": "stream",
          "name": "stdout",
          "text": [
            "The loss for Epoch 0 is: 2.0435628751193535, Accuracy = 36.07666666666667\n",
            "The loss for Epoch 1 is: 1.4971196580289015, Accuracy = 60.59\n",
            "The loss for Epoch 2 is: 1.2405381632257881, Accuracy = 65.88333333333334\n",
            "The loss for Epoch 3 is: 1.1124906178984815, Accuracy = 68.58\n",
            "The loss for Epoch 4 is: 1.0297281227386328, Accuracy = 70.55333333333333\n",
            "The loss for Epoch 5 is: 0.9670480789660391, Accuracy = 72.32\n",
            "The loss for Epoch 6 is: 0.9141110265051632, Accuracy = 73.88333333333334\n",
            "The loss for Epoch 7 is: 0.8709827939838742, Accuracy = 75.03333333333333\n",
            "The loss for Epoch 8 is: 0.8317206052701864, Accuracy = 76.23666666666666\n",
            "The loss for Epoch 9 is: 0.799244549927681, Accuracy = 77.12666666666667\n",
            "CPU times: user 1min 39s, sys: 644 ms, total: 1min 40s\n",
            "Wall time: 1min 48s\n"
          ]
        }
      ]
    },
    {
      "cell_type": "markdown",
      "source": [
        "### 2.2.4 Feed Forward Network on Raw Inputs Architecture (4 points)\n",
        "\n",
        "\n",
        "Finally, let's see how the model fares with the normal raw inputs. Note the raw inputs have a different sample shape (3, 32, 32), so we'll first need to define a new model architecture to handle this.\n",
        "\n",
        "Fill in the rest of the code for the model architecture below. The only thing you should be changing is the shape of the data that gets passed through the model"
      ],
      "metadata": {
        "id": "4hTVoOhJRHur"
      }
    },
    {
      "cell_type": "code",
      "source": [
        "class FNN_RAW(nn.Module):\n",
        "    def __init__(self):\n",
        "        super().__init__()\n",
        "        # TODO: initialize the neural network layers\n",
        "        self.flatten = nn.Flatten()\n",
        "        self.hidden_layer = nn.Linear(3 * 32 * 32, 256)\n",
        "        self.relu = nn.ReLU()\n",
        "        self.output_layer = nn.Linear(256, 10)\n",
        "        # END TODO\n",
        "\n",
        "    def forward(self, x):\n",
        "        # TODO: implement the operations on input data\n",
        "        x = self.flatten(x)\n",
        "        x = self.hidden_layer(x)\n",
        "        x = self.relu(x)\n",
        "        outputs = self.output_layer(x)\n",
        "\n",
        "        # END TODO\n",
        "        return outputs"
      ],
      "metadata": {
        "id": "r45_JEyPRJp5"
      },
      "execution_count": null,
      "outputs": []
    },
    {
      "cell_type": "markdown",
      "source": [
        "Let's print the model summary"
      ],
      "metadata": {
        "id": "so-k3qxKROum"
      }
    },
    {
      "cell_type": "code",
      "source": [
        "FNN_RAW()"
      ],
      "metadata": {
        "id": "14W4qndiRQW5",
        "colab": {
          "base_uri": "https://localhost:8080/"
        },
        "outputId": "06fe56c5-e879-4af2-b766-ec6854e101ac"
      },
      "execution_count": null,
      "outputs": [
        {
          "output_type": "execute_result",
          "data": {
            "text/plain": [
              "FNN_RAW(\n",
              "  (flatten): Flatten(start_dim=1, end_dim=-1)\n",
              "  (hidden_layer): Linear(in_features=3072, out_features=256, bias=True)\n",
              "  (relu): ReLU()\n",
              "  (output_layer): Linear(in_features=256, out_features=10, bias=True)\n",
              ")"
            ]
          },
          "metadata": {},
          "execution_count": 93
        }
      ]
    },
    {
      "cell_type": "code",
      "source": [
        "#Grader Cell (4 points)\n",
        "grader.grade(test_case_id = 'feedforward_nn_model_raw', answer = str(FNN_RAW()))"
      ],
      "metadata": {
        "id": "OU01agLURRs7",
        "colab": {
          "base_uri": "https://localhost:8080/"
        },
        "outputId": "1b81b843-c22f-401a-ca9e-f07ff1ad1435"
      },
      "execution_count": null,
      "outputs": [
        {
          "output_type": "stream",
          "name": "stdout",
          "text": [
            "Correct! You earned 4/4 points. You are a star!\n",
            "\n",
            "Your submission has been successfully recorded in the gradebook.\n"
          ]
        }
      ]
    },
    {
      "cell_type": "markdown",
      "source": [
        "And now, let's define one last training loop to take in the raw data. The training loop should be largely identical to the previous two training loops created. We do not need a helper function to preprocess any training samples.\n",
        "\n",
        "\n",
        "1.   Define a new FNN model using the `FNN_RAW` class defined above and save the model as `fnn`\n",
        "2.   Use the same criterion and parameters as before.\n",
        "3.   Save the accuracy and loss to `acc_LIST_FNN` and `loss_LIST_FNN` respectively\n",
        "\n"
      ],
      "metadata": {
        "id": "7m0r-S9iRTbR"
      }
    },
    {
      "cell_type": "code",
      "source": [
        "%%time\n",
        "# Sending the data to device (CPU or GPU)\n",
        "# TODO\n",
        "\n",
        "# Step 1: instantiate the FNN model to variable fnn\n",
        "fnn = FNN_RAW()\n",
        "fnn.to(device)\n",
        "# Step 2: set the loss criterion as CrossEntropyLoss\n",
        "criterion_fnn = nn.CrossEntropyLoss()\n",
        "# END TODO\n",
        "optimizer = optim.Adam(fnn.parameters(), lr=1e-4)\n",
        "epoch = 10\n",
        "\n",
        "acc_LIST_FNN = []\n",
        "loss_LIST_FNN = []\n",
        "\n",
        "# Train the FNN\n",
        "for epoch in range(epoch):\n",
        "  running_loss = 0.0\n",
        "  correct = 0\n",
        "  total = 0\n",
        "  for inputs, labels in train_loader:\n",
        "      labels = labels.type(torch.LongTensor) # Cast to Long\n",
        "      inputs, labels = inputs.to(device), labels.to(device)\n",
        "\n",
        "      # Step 1: Reset the optimizer tensor gradient every mini-batch\n",
        "      optimizer.zero_grad()\n",
        "\n",
        "      # Step 2: Feed the network the train data\n",
        "      outputs = fnn(inputs)\n",
        "\n",
        "      # Step 3: Get the prediction using argmax\n",
        "      temp, predicted = torch.max(outputs.data, 1)\n",
        "\n",
        "      # Step 4: Find average loss for one mini-batch of inputs\n",
        "      loss = criterion_fnn(outputs, labels)\n",
        "\n",
        "      # Step 5: Do a backpropagation\n",
        "      loss.backward()\n",
        "\n",
        "      # Step 6: Update the weight using the gradients from backpropagation by learning step\n",
        "      optimizer.step()\n",
        "\n",
        "      # Step 7: Get loss and add to accumulated loss for each epoch\n",
        "      running_loss += loss.item()\n",
        "\n",
        "      # Step 8: Get number of correct predictions and add to correct and total\n",
        "      total += labels.size(0)\n",
        "      correct += (predicted == labels).sum().item()\n",
        "\n",
        "\n",
        "  # Step 9: Calculate training accuracy for each epoch and add to acc_LIST_FNN\n",
        "  accuracy = 100 * correct / total\n",
        "  acc_LIST_FNN.append(accuracy)\n",
        "\n",
        "  # Step 10: Get average loss for each epoch and add to loss_LIST_FNN\n",
        "  avg_loss = running_loss / len(train_loader)\n",
        "  loss_LIST_FNN.append(avg_loss)\n",
        "\n",
        "  # END TODO\n",
        "\n",
        "  # print statistics\n",
        "  print(\"The loss for Epoch {} is: {}, Accuracy = {}\".format(epoch, running_loss/len(train_loader), accuracy))\n"
      ],
      "metadata": {
        "id": "666p7SSaRWIh",
        "colab": {
          "base_uri": "https://localhost:8080/"
        },
        "outputId": "55665445-da48-4cc6-8088-bb98fd1feda8"
      },
      "execution_count": null,
      "outputs": [
        {
          "output_type": "stream",
          "name": "stdout",
          "text": [
            "The loss for Epoch 0 is: 1.783489883835636, Accuracy = 45.026666666666664\n",
            "The loss for Epoch 1 is: 1.2133679321325663, Accuracy = 65.67\n",
            "The loss for Epoch 2 is: 1.0435666130549872, Accuracy = 69.80333333333333\n",
            "The loss for Epoch 3 is: 0.9445783080322656, Accuracy = 72.51333333333334\n",
            "The loss for Epoch 4 is: 0.8680112358730739, Accuracy = 74.83\n",
            "The loss for Epoch 5 is: 0.8051721302431021, Accuracy = 76.73\n",
            "The loss for Epoch 6 is: 0.7566644670739611, Accuracy = 78.16\n",
            "The loss for Epoch 7 is: 0.7138359151415224, Accuracy = 79.40666666666667\n",
            "The loss for Epoch 8 is: 0.6781764591553572, Accuracy = 80.39333333333333\n",
            "The loss for Epoch 9 is: 0.6442429976168472, Accuracy = 81.58666666666667\n",
            "CPU times: user 1min 32s, sys: 526 ms, total: 1min 33s\n",
            "Wall time: 1min 34s\n"
          ]
        }
      ]
    },
    {
      "cell_type": "markdown",
      "source": [
        "Now, let's compile together all of our training results from our three models"
      ],
      "metadata": {
        "id": "rE0JAeF_RvjK"
      }
    },
    {
      "cell_type": "code",
      "source": [
        "# (if applicable)\n",
        "# In order to pass the AutoGrader, every element in “acc_LIST_FNN”, \"acc_LIST_FNN_red\", and \"acc_LIST_FNN_gray\" should be a float.\n",
        "# If the elements are of type “Tensor”, convert each element into type FLOAT by using .item() or .tolist()\n",
        "# To check if each element is a Tensor, print out “acc_LIST_FNN” and see if there is a Tensor() wrapped around each element.\n"
      ],
      "metadata": {
        "id": "K4uVb6MTj6ue"
      },
      "execution_count": null,
      "outputs": []
    },
    {
      "cell_type": "code",
      "execution_count": null,
      "metadata": {
        "id": "A2AHGUxHKI1_",
        "colab": {
          "base_uri": "https://localhost:8080/"
        },
        "outputId": "4a7ce58c-b732-4a3c-ea1c-52cc715e01ec"
      },
      "outputs": [
        {
          "output_type": "stream",
          "name": "stdout",
          "text": [
            "Correct! You earned 11/11 points. You are a star!\n",
            "\n",
            "Your submission has been successfully recorded in the gradebook.\n"
          ]
        }
      ],
      "source": [
        "#Grader Cell (11 points)\n",
        "grader.grade(test_case_id = 'fnn_train_loss', answer = (acc_LIST_FNN_red, loss_LIST_FNN_red, acc_LIST_FNN_gray, loss_LIST_FNN_gray, acc_LIST_FNN, loss_LIST_FNN))"
      ]
    },
    {
      "cell_type": "markdown",
      "metadata": {
        "id": "DY0zMmGAm3Ix"
      },
      "source": [
        "### 2.2.5 Plotting Training Accuracy vs Epochs FNN (2 points - Manually Graded)\n",
        "\n",
        "---\n",
        "**TODO:**\n",
        "\n",
        "Plot the training accuracy vs epochs for all three models. Make sure there is some way to distinguish the three models (by color) and a key to distinguish each line.\n",
        "\n",
        "Chart Specifications:\n",
        "1. The accuracy should be in the y-axis and epochs in x-axis.\n",
        "2. Add chart title.\n",
        "3. Epoch label should start with 1 (for audience interpretability).\n",
        "4. To avoid \"File Too Large\" for submission, please set figure size to (5,3).\n",
        "---"
      ]
    },
    {
      "cell_type": "code",
      "execution_count": null,
      "metadata": {
        "id": "vIGWgoY3m3Ix",
        "colab": {
          "base_uri": "https://localhost:8080/",
          "height": 333
        },
        "outputId": "2600388d-4c9f-4cda-a883-bb119117dc95"
      },
      "outputs": [
        {
          "output_type": "display_data",
          "data": {
            "text/plain": [
              "<Figure size 500x300 with 1 Axes>"
            ],
            "image/png": "[encoded data removed]"
          },
          "metadata": {}
        }
      ],
      "source": [
        "import matplotlib.pyplot as plt\n",
        "import seaborn as sns\n",
        "\n",
        "# TODO\n",
        "plt.figure(figsize=(5, 3))\n",
        "\n",
        "# Plot for FNN model with red inputs\n",
        "plt.plot(range(1, 10 + 1), acc_LIST_FNN_red, marker='o', label='FNN Red')\n",
        "\n",
        "# Plot for FNN model with grayscale inputs\n",
        "plt.plot(range(1, 10 + 1), acc_LIST_FNN_gray, marker='o', label='FNN Grayscale')\n",
        "\n",
        "# Plot for FNN_RAW model with raw inputs\n",
        "plt.plot(range(1, 10 + 1), acc_LIST_FNN, marker='o', label='FNN Raw')\n",
        "\n",
        "plt.title('Training Accuracy vs Epochs for FNN Models')\n",
        "plt.xlabel('Epochs')\n",
        "plt.ylabel('Accuracy (%)')\n",
        "plt.legend()\n",
        "plt.grid(True)\n",
        "plt.show()\n",
        "# END TODO"
      ]
    },
    {
      "cell_type": "markdown",
      "metadata": {
        "id": "_LCcYIAWm3Iy"
      },
      "source": [
        "### 2.2.6 FNN Model Accuracy (2 points)\n",
        "\n",
        "Calculate the Test Accuracy for the three FNN Model we trained above (the technique for doing this is the same as computing the test accuracy for the logistic regression classifier above).\n",
        "\n",
        "Remember, your models should be named `fnn`, `fnn_red`, and `fnn_gray`, and make sure to use the same respective helper function to process the test data set as well.\n",
        "\n",
        "Save your correct to their respective variables as well."
      ]
    },
    {
      "cell_type": "code",
      "execution_count": null,
      "metadata": {
        "id": "WAyibXsEm3Iy",
        "colab": {
          "base_uri": "https://localhost:8080/"
        },
        "outputId": "61972365-ea75-464c-a396-d00ade6bc28c"
      },
      "outputs": [
        {
          "output_type": "stream",
          "name": "stdout",
          "text": [
            "Test Accuracy (Red Values Only): 71.02000000000001\n",
            "Test Accuracy (Grayscale Values Only): 71.46000000000001\n",
            "Test Accuracy (All Values): 75.22\n"
          ]
        }
      ],
      "source": [
        "total = 0\n",
        "correct_fnn = 0\n",
        "correct_fnn_red = 0\n",
        "correct_fnn_gray = 0\n",
        "with torch.no_grad():\n",
        "    for images, labels in test_loader:\n",
        "        labels = labels.type(torch.LongTensor) # Cast to Float\n",
        "        images, labels = images.to(device), labels.to(device)\n",
        "\n",
        "        # TODO\n",
        "        # Get the output\n",
        "        outputs_fnn = fnn(images)\n",
        "        inputs_red = raw_sample_to_red(images)\n",
        "        outputs_fnn_red = fnn_red(inputs_red)\n",
        "        inputs_gray = raw_sample_to_grayscale(images)\n",
        "        outputs_fnn_gray = fnn_gray(inputs_gray)\n",
        "\n",
        "        # Get the prediction using argmax\n",
        "        _temp, predicted_fnn = torch.max(outputs_fnn.data, 1)\n",
        "        _r, predicted_fnn_red = torch.max(outputs_fnn_red.data, 1)\n",
        "        _g, predicted_fnn_gray = torch.max(outputs_fnn_gray.data, 1)\n",
        "\n",
        "        # Get number of correct prediction and add to correct and total\n",
        "        total += labels.size(0)\n",
        "        correct_fnn += (predicted_fnn == labels).sum().item()\n",
        "        correct_fnn_red += (predicted_fnn_red == labels).sum().item()\n",
        "        correct_fnn_gray += (predicted_fnn_gray == labels).sum().item()\n",
        "\n",
        "# Calculate test accuracy for FNN (should multiple by 100)\n",
        "test_acc_FNN = (correct_fnn / total) * 100\n",
        "test_acc_FNN_red = (correct_fnn_red / total) * 100\n",
        "test_acc_FNN_gray = (correct_fnn_gray / total) * 100\n",
        "\n",
        "# TODO END\n",
        "print('Test Accuracy (Red Values Only): ' + str(test_acc_FNN_red))\n",
        "print('Test Accuracy (Grayscale Values Only): ' + str(test_acc_FNN_gray))\n",
        "print('Test Accuracy (All Values): ' + str(test_acc_FNN))\n"
      ]
    },
    {
      "cell_type": "code",
      "execution_count": null,
      "metadata": {
        "id": "ypTvmlYNm3Iy",
        "colab": {
          "base_uri": "https://localhost:8080/"
        },
        "outputId": "e618c825-1823-4d1d-c9b5-80887be47f79"
      },
      "outputs": [
        {
          "output_type": "stream",
          "name": "stdout",
          "text": [
            "Correct! You earned 2/2 points. You are a star!\n",
            "\n",
            "Your submission has been successfully recorded in the gradebook.\n"
          ]
        }
      ],
      "source": [
        "#Grader Cell (2 points)\n",
        "grader.grade(test_case_id = 'feedforward_nn_acc', answer = (test_acc_FNN_red, loss_LIST_FNN_red, test_acc_FNN_gray, loss_LIST_FNN_gray, test_acc_FNN, loss_LIST_FNN))"
      ]
    },
    {
      "cell_type": "markdown",
      "metadata": {
        "id": "9gnLzDIWGiYv"
      },
      "source": [
        "##2.3 \"Convoluted\" Convolutional Neural Networks (Total: 29 points)\n",
        "So, what are CNNs?\n",
        "\n",
        "Convolutional Neural Networks are very similar to Feedforward Neural Networks from the previous section: they are made up of neurons that have learnable weights and biases. Each neuron receives some inputs, performs a dot product and optionally follows it with a non-linearity. The whole network still expresses a single differentiable score function: from the raw image pixels on one end to class scores at the other.\n",
        "\n",
        "So what changes? ConvNet architectures make the explicit assumption that the inputs are images, which allows us to encode certain properties into the architecture. These then make the forward function more efficient to implement and vastly reduce the amount of parameters in the network.\n",
        "\n",
        "If you wanna know more about how CNNs function and see some cool visualizations, we would highly recommend this [page](https://cs231n.github.io/convolutional-networks/)\n"
      ]
    },
    {
      "cell_type": "markdown",
      "metadata": {
        "id": "QQoCe9-I-juy"
      },
      "source": [
        "Diagram Reference: [Link](https://www.analyticsvidhya.com/blog/2020/10/what-is-the-convolutional-neural-network-architecture/)"
      ]
    },
    {
      "cell_type": "markdown",
      "metadata": {
        "id": "TrflHaqht5dV"
      },
      "source": [
        "We will define the architecture for the CNN we will be using. The components of a CNNs are as follows:\n",
        "\n",
        "*   Convolutional Layers\n",
        "*   Pooling Layers\n",
        "*   Linear Layers\n",
        "*   Activation Functions\n",
        "\n",
        "Define a CNN model with Pytorch that contains one or more blocks, where **each block** consists of a **convolutional layer** followed by an **activation function** and a **max pool**. (For this assignment, we discourage adding three or more layers.)\n",
        "\n",
        "Then, **flatten** the output from the convolutional layers, and pass it through one or more fully connected or 'dense' layers and activation functions after all but the last layer. Note that the output shape from the last layer must be the same as the number of classes."
      ]
    },
    {
      "cell_type": "markdown",
      "metadata": {
        "id": "5hZ19uCgt5dV"
      },
      "source": [
        "### 2.3.0 Calculating Output Dimensions of Convolution and Pooling Layers (1 Point)"
      ]
    },
    {
      "cell_type": "markdown",
      "metadata": {
        "id": "QWTpcdqnt5dW"
      },
      "source": [
        "Before we start building the architecture, it's important to understand the dimensions of the feature maps produced in each of the convolution and pooling layers. We want to keep track of this information as once we get to the fully-connected layers, we need to specify the number of input parameters.\n",
        "\n",
        "Let's first build a function that will help us calculate the dimensions based on the input parameters.\n",
        "\n",
        "\n",
        "Since we are working with squared image, we will build just one function that can be used to calculate both the H (height) and W (width) of the feature map.\n",
        "\n",
        "Below is the function used to calculate the output dimension of the feature map:\n",
        "\n",
        "Diagram Reference: [Link](https://pytorch.org/docs/stable/generated/torch.nn.Conv2d.html)"
      ]
    },
    {
      "cell_type": "markdown",
      "metadata": {
        "id": "7MPO8gBqecED"
      },
      "source": [
        "---\n",
        "**TODO:**\n",
        "\n",
        "Build the **feature_map_dim** function, which takes in the following four parameters and return the dimension of the output feature map.\n",
        "\n",
        "- **input_dim**: height/width of the input image\n",
        "\n",
        "- **kernel_size**: size of the convolving kernel (aka. filter)\n",
        "\n",
        "- **padding**: padding added to all four sides of the input in order to preserve the edges/borders\n",
        "\n",
        "- **stride**: Stride of the convolution, or how many shifts per kernel\n",
        "  \n",
        "ROUND DOWN if the result if a fraction.\n",
        "\n",
        "---\n",
        "\n",
        "Notice there is another parameter, \"dilation\", which is the spacing between kernel elements. We have not covered this in class; simply set it to 1.\n"
      ]
    },
    {
      "cell_type": "code",
      "execution_count": null,
      "metadata": {
        "id": "A3drwoLht5dX"
      },
      "outputs": [],
      "source": [
        "import math\n",
        "\n",
        "def feature_map_dim(input_dim, padding, kernel_size, stride):\n",
        "  '''\n",
        "  The function takes in the following four parameters and return the dimension of the output feature map.\n",
        "\n",
        "  input_dim: height/width of the input image\n",
        "  kernel_size: size of the convolving kernel (aka. filter)\n",
        "  padding: padding added to all four sides of the input in order to preserve the edges/borders\n",
        "  stride: Stride of the convolution, or how many shifts per kernel\n",
        "\n",
        "  ROUND DOWN if the result if a fraction.\n",
        "\n",
        "  Notice there is another parameter, \"dilation\", which is the spacing between kernel elements. We have not covered this in class; simply set it to 1\n",
        "  '''\n",
        "  ## TODO:\n",
        "  output_dim = math.floor((input_dim + 2 * padding - 1 * (kernel_size - 1) - 1) / stride) + 1\n",
        "\n",
        "  return output_dim\n",
        "\n",
        "  ## END TODO"
      ]
    },
    {
      "cell_type": "code",
      "execution_count": null,
      "metadata": {
        "id": "0Mtd0hHTt5dY",
        "colab": {
          "base_uri": "https://localhost:8080/"
        },
        "outputId": "9b4ac933-eee7-44c9-fc71-186880663260"
      },
      "outputs": [
        {
          "output_type": "stream",
          "name": "stdout",
          "text": [
            "Correct! You earned 1/1 points. You are a star!\n",
            "\n",
            "Your submission has been successfully recorded in the gradebook.\n"
          ]
        }
      ],
      "source": [
        "#Grader Cell (1 point)\n",
        "grader.grade(test_case_id = 'test_func_feature_map_dim', answer = (feature_map_dim))"
      ]
    },
    {
      "cell_type": "markdown",
      "metadata": {
        "id": "NrNiZOMc49uR"
      },
      "source": [
        "### 2.3.1 Create your own custom Convolutional Neural Network Architecture (8 points)"
      ]
    },
    {
      "cell_type": "markdown",
      "metadata": {
        "id": "1GyB2KOe5NFL"
      },
      "source": [
        "For this section, you will be creating your own custom Convolutional Neural Network Architecture for this dataset. Typically, this would mean defining your neural network architecture within your `__init__` function of your Neural Network class. Within this initializer, you would define the individual layers of the network, which would typically consist of some number of `convolutional layers`, some number of `fully connected layers`, and other types of layers such as `pooling layers` and `dropout layers`.\n",
        "\n",
        "One thing that you will need to pay attention to is how exactly the data is being input to your Convolutional Neural Network. That is, what are the input dimensions, and how does the dimensions of the data change as it is propagated through the network. Note that your choice of layering and the order of layers will determine the corresponding input and output dimensions of each layer."
      ]
    },
    {
      "cell_type": "markdown",
      "metadata": {
        "id": "cW9fhwPE5I3T"
      },
      "source": [
        "---\n",
        "**TODOs:**\n",
        "\n",
        "`def __init__(self)`::\n",
        "1.  Initialize some number of `convolutional blocks` (consists of a convolution layer, an activation function, and a Pooling layer)\n",
        "\n",
        "2. `Flatten` the output of the convolution to a tensor\n",
        "\n",
        "3. Initialize some number of `fully-connected layers`\n",
        "\n",
        "`def forward(self, x)`:\n",
        "4. Build the `forward` function/path with the layers initialized in `__init__` function.\n",
        "\n",
        "---\n",
        "\n",
        "- **Note:** While parameters of convolution layers tend to vary, it is possible to use the same pooling layer and activation function in each block. If you intend to use the same parameters for these two elements, then only 1 pooling layer and 1 activation function needs to be initialized.\n",
        "- **Hint 1**: Use the `feature_map_dim` function, and the input_dim and output_dim comments to help you keep track of the input/output dimensions of each layer. Speficially, for each layer you include in your model, make sure to understand what the input dimensions would be, how that changes as you apply each layer to the next layer's input.\n",
        "- **Hint 2**: The parameters you've calculated is particularly useful for the input dimensions for the linear layer in the first fully-connected layer.\n",
        "- **Hint 3**: The final fully-connected layer's output dimension should be the same as the number of classes in our dataset\n"
      ]
    },
    {
      "cell_type": "code",
      "source": [
        "class CNN(nn.Module):\n",
        "    def __init__(self):\n",
        "        super().__init__()\n",
        "        # TODO: Initialize some number of convolutional blocks\n",
        "        self.num_classes = 10\n",
        "        self.conv1 = nn.Conv2d(in_channels=3, out_channels=16, kernel_size=3, stride=1, padding=1)\n",
        "        self.relu = nn.ReLU()\n",
        "        self.pool = nn.MaxPool2d(kernel_size=2, stride=2)\n",
        "\n",
        "        self.conv2 = nn.Conv2d(in_channels=16, out_channels=32, kernel_size=3, stride=1, padding=1)\n",
        "\n",
        "        # Flatten the output of the convolution to a tensor\n",
        "        self.flatten = nn.Flatten()\n",
        "\n",
        "        # TODO: Initialize some number of fully-connected layers\n",
        "        self.fc1 = nn.Linear(in_features=8 * 16 * 16, out_features=128)\n",
        "        self.fc2 = nn.Linear(in_features=128, out_features=self.num_classes)\n",
        "\n",
        "        # TODO\n",
        "\n",
        "    def forward(self, x):\n",
        "      x = self.conv1(x)\n",
        "      x = self.relu(x)\n",
        "      x = self.pool(x)\n",
        "\n",
        "      x = self.conv2(x)\n",
        "      x = self.relu(x)\n",
        "      x = self.pool(x)\n",
        "\n",
        "      x = self.flatten(x)\n",
        "\n",
        "      x = self.fc1(x)\n",
        "      x = self.relu(x)\n",
        "\n",
        "      x = self.fc2(x)\n",
        "\n",
        "      return x"
      ],
      "metadata": {
        "id": "0pLMEFjF8NhO"
      },
      "execution_count": null,
      "outputs": []
    },
    {
      "cell_type": "code",
      "source": [
        "CNN()"
      ],
      "metadata": {
        "id": "ujHmdgFa870L",
        "colab": {
          "base_uri": "https://localhost:8080/"
        },
        "outputId": "961ff1c7-64a1-4a74-891c-9617f9dc097f"
      },
      "execution_count": null,
      "outputs": [
        {
          "output_type": "execute_result",
          "data": {
            "text/plain": [
              "CNN(\n",
              "  (conv1): Conv2d(3, 16, kernel_size=(3, 3), stride=(1, 1), padding=(1, 1))\n",
              "  (relu): ReLU()\n",
              "  (pool): MaxPool2d(kernel_size=2, stride=2, padding=0, dilation=1, ceil_mode=False)\n",
              "  (conv2): Conv2d(16, 32, kernel_size=(3, 3), stride=(1, 1), padding=(1, 1))\n",
              "  (flatten): Flatten(start_dim=1, end_dim=-1)\n",
              "  (fc1): Linear(in_features=2048, out_features=128, bias=True)\n",
              "  (fc2): Linear(in_features=128, out_features=10, bias=True)\n",
              ")"
            ]
          },
          "metadata": {},
          "execution_count": 112
        }
      ]
    },
    {
      "cell_type": "code",
      "source": [
        "# DO NOT EDIT\n",
        "grader.grade(test_case_id = 'cnn_model', answer = str(CNN()))"
      ],
      "metadata": {
        "id": "b7Lk1f4z8R61",
        "colab": {
          "base_uri": "https://localhost:8080/"
        },
        "outputId": "050af3bb-e64b-4f99-c3f8-d211d8dc781c"
      },
      "execution_count": null,
      "outputs": [
        {
          "output_type": "stream",
          "name": "stdout",
          "text": [
            "Correct! You earned 8/8 points. You are a star!\n",
            "\n",
            "Your submission has been successfully recorded in the gradebook.\n"
          ]
        }
      ]
    },
    {
      "cell_type": "markdown",
      "metadata": {
        "id": "6O2dxIV5t5da"
      },
      "source": [
        "### 2.3.2 Training CNN Model (8 Points)\n",
        "\n",
        "---\n",
        "**TODOs**\n",
        "1.   Instantiate the CNN to the variable `cnn` (make sure to send this to the device env)\n",
        "2.   Set the criterion as a CrossEntropyLoss (you can look up the documentation [here](https://pytorch.org/docs/stable/nn.html#loss-functions))\n",
        "3.   Fill in the missing parts in the training loop.\n",
        "4.   Calculate training accuracy for each epoch (should multiply by 100 to get percentage), store in variable called `accuracy`.\n",
        "5.   Save the Training Accuracy for every epoch into `acc_LIST_CNN`\n",
        "6.   Save the Average Loss for every epoch into `loss_LIST_CNN`\n",
        "\n",
        "**Please do not modify the following set ups: **\n",
        "Optimizer: The optimizer is set as \"Adam\".\n",
        "Epoch: The epoch is set to \"10\".\n",
        "\n",
        "---\n",
        "\n",
        "**Hint:** Remember to update the weights correctly by backpropagation, please zero out the gradients by calling `optimizer.zero_grad()` every time you call `backward()`.  Please review the `Recitation 10` notebook for detailed instructions on how to perform these operations.\n",
        "\n",
        "**Note 1**: If the loss went up during the training, there is something wrong with the model, so you should check if the model is implemented correctly.\n",
        "\n",
        "**Note 2**: Typical training time takes between 5 - 10 mins.\n",
        "\n",
        "**Note 3**: `acc_LIST_CNN` and `loss_LIST_CNN` should contain data of type float not tensor."
      ]
    },
    {
      "cell_type": "code",
      "execution_count": null,
      "metadata": {
        "id": "lW3e2k4Vt5da",
        "colab": {
          "base_uri": "https://localhost:8080/"
        },
        "outputId": "209be9de-9937-4d32-e5a9-f5e2c9b52129"
      },
      "outputs": [
        {
          "output_type": "stream",
          "name": "stdout",
          "text": [
            "The loss for Epoch 0 is: 2.1360507550270063, Accuracy = 26.94666666666667\n",
            "The loss for Epoch 1 is: 1.2332220372360652, Accuracy = 64.85666666666667\n",
            "The loss for Epoch 2 is: 0.8788698027128858, Accuracy = 74.86666666666667\n",
            "The loss for Epoch 3 is: 0.7520559973426973, Accuracy = 78.68333333333334\n",
            "The loss for Epoch 4 is: 0.6809105008904105, Accuracy = 80.89333333333333\n",
            "The loss for Epoch 5 is: 0.6335375358555109, Accuracy = 82.20333333333333\n",
            "The loss for Epoch 6 is: 0.5945502139612048, Accuracy = 83.46666666666667\n",
            "The loss for Epoch 7 is: 0.5651079552895479, Accuracy = 84.17666666666666\n",
            "The loss for Epoch 8 is: 0.5394338957790626, Accuracy = 84.88\n",
            "The loss for Epoch 9 is: 0.5157687512796316, Accuracy = 85.50666666666666\n",
            "CPU times: user 1min 35s, sys: 554 ms, total: 1min 36s\n",
            "Wall time: 1min 37s\n"
          ]
        }
      ],
      "source": [
        "%%time\n",
        "# Sending the data to device (CPU or GPU)\n",
        "# TODO (1 of 2)\n",
        "# Step 1: instantiate the CNN model to variable cnn\n",
        "cnn = CNN().to(device)\n",
        "criterion = nn.CrossEntropyLoss()\n",
        "# Step 2: set the loss criterion as CrossEntropyLoss\n",
        "\n",
        "# END TODO\n",
        "optimizer = optim.Adam(cnn.parameters(), lr=1e-4) #lr - learning step\n",
        "epoch = 10\n",
        "\n",
        "acc_LIST_CNN = []\n",
        "loss_LIST_CNN = []\n",
        "\n",
        "# Train the CNN\n",
        "for epoch in range(epoch):\n",
        "  running_loss = 0.0\n",
        "  correct = 0\n",
        "  total = 0\n",
        "  for inputs, labels in train_loader:\n",
        "      labels = labels.type(torch.LongTensor) # Cast to Float\n",
        "      inputs, labels = inputs.to(device), labels.to(device)\n",
        "      ## TODO (2 of 2)\n",
        "      # Step 1: Reset the optimizer tensor gradient every mini-batch\n",
        "      optimizer.zero_grad()\n",
        "\n",
        "      # Step 2: Feed the network the train data\n",
        "      outputs = cnn(inputs)\n",
        "\n",
        "      # Step 3: Get the prediction using argmax\n",
        "      temp, predicted = torch.max(outputs.data, 1)\n",
        "\n",
        "      # Step 4: Find average loss for one mini-batch of inputs\n",
        "      loss = criterion(outputs, labels)\n",
        "\n",
        "      # Step 5: Do a back propagation\n",
        "      loss.backward()\n",
        "\n",
        "      # Step 6: Update the weight using the gradients from back propagation by learning step\n",
        "      optimizer.step()\n",
        "\n",
        "      # Step 7: Get loss and add to accumulated loss for each epoch\n",
        "      running_loss += loss.item()\n",
        "\n",
        "      # Step 8: Get number of correct prediction and increment the number of correct and total predictions after this batch\n",
        "      correct += (predicted == labels).sum().item()\n",
        "      total += labels.size(0)\n",
        "\n",
        "  # Step 9: Calculate training accuracy for each epoch (should multiply by 100 to get percentage), store in variable called 'accuracy', and add to acc_LIST_CNN\n",
        "  accuracy = (correct / total) * 100\n",
        "  acc_LIST_CNN.append(accuracy)\n",
        "\n",
        "  # Step 10: Get average loss for each epoch and add to loss_LIST_CNN\n",
        "  loss_LIST_CNN.append(running_loss / len(train_loader))\n",
        "\n",
        "  # END TODO\n",
        "\n",
        "  # print statistics\n",
        "  print(\"The loss for Epoch {} is: {}, Accuracy = {}\".format(epoch, running_loss/len(train_loader), accuracy))\n"
      ]
    },
    {
      "cell_type": "code",
      "source": [
        "# (if applicable)\n",
        "# In order to pass the AutoGrader, every element in \"acc_LIST_CNN\" should be a float.\n",
        "# If the elements are of type \"Tensor\", convert each element into type FLOAT by using .item() or .tolist()\n",
        "# To check if each element is a Tensor, print out \"acc_LIST_CNN\" and see if there is a Tensor() wrapped around each element.\n"
      ],
      "metadata": {
        "id": "HsXvPk9LkBXk"
      },
      "execution_count": null,
      "outputs": []
    },
    {
      "cell_type": "code",
      "execution_count": null,
      "metadata": {
        "id": "oZ9IAUWnnO0o",
        "colab": {
          "base_uri": "https://localhost:8080/"
        },
        "outputId": "3d754fda-46fe-4b76-d3d8-87de84e5e937"
      },
      "outputs": [
        {
          "output_type": "stream",
          "name": "stdout",
          "text": [
            "Correct! You earned 10/10 points. You are a star!\n",
            "\n",
            "Your submission has been successfully recorded in the gradebook.\n"
          ]
        }
      ],
      "source": [
        "#Grader Cell (10 points)\n",
        "grader.grade(test_case_id = 'cnn_train_loss', answer = (acc_LIST_CNN, loss_LIST_CNN))"
      ]
    },
    {
      "cell_type": "markdown",
      "metadata": {
        "id": "wPowtEwjt5db"
      },
      "source": [
        "### 2.3.3 Plotting Training Accuracy vs Epochs CNN (2 points - Manually Graded)\n",
        "\n",
        "---\n",
        "**TODO:**\n",
        "\n",
        "Plot the training accuracy vs epochs.\n",
        "\n",
        "Chart Specifications:\n",
        "1. The accuracy should be in the y-axis and epochs in x-axis.\n",
        "2. Add chart title.\n",
        "3. Epoch label should start with 1 (for audience interpretability).\n",
        "4. To avoid \"File Too Large\" for submission, please set figure size to (5,3).\n",
        "---"
      ]
    },
    {
      "cell_type": "code",
      "execution_count": null,
      "metadata": {
        "id": "pBZOYpJJt5db",
        "colab": {
          "base_uri": "https://localhost:8080/",
          "height": 333
        },
        "outputId": "251165b0-5c31-42ad-c923-26936379b7e3"
      },
      "outputs": [
        {
          "output_type": "display_data",
          "data": {
            "text/plain": [
              "<Figure size 500x300 with 1 Axes>"
            ],
            "image/png": "[encoded data removed]"
          },
          "metadata": {}
        }
      ],
      "source": [
        "import matplotlib.pyplot as plt\n",
        "import seaborn as sns\n",
        "\n",
        "# TODO\n",
        "epochs = range(1, len(acc_LIST_CNN) + 1)\n",
        "\n",
        "plt.figure(figsize=(5, 3))\n",
        "sns.lineplot(x=epochs, y=acc_LIST_CNN, marker='o')\n",
        "plt.title('Training Accuracy vs Epochs')\n",
        "plt.xlabel('Epochs')\n",
        "plt.ylabel('Accuracy')\n",
        "plt.grid(True)\n",
        "plt.show()\n",
        "\n",
        "# END TODO"
      ]
    },
    {
      "cell_type": "markdown",
      "metadata": {
        "id": "wCBs-UQ0t5db"
      },
      "source": [
        "### 2.3.4 CNN Model Test Accuracy (2 points)\n",
        "\n",
        "---\n",
        "**TODO:**\n",
        "Calculate the Test Accuracy for the CNN Model we trained above. Save it to the variable named `test_acc_CNN`. The technique for doing this is the same as computing the test accuracy for the logistic regression and FNN classifiers above.\n",
        "\n",
        "---"
      ]
    },
    {
      "cell_type": "code",
      "execution_count": null,
      "metadata": {
        "id": "-uG-m_1bt5dc",
        "colab": {
          "base_uri": "https://localhost:8080/"
        },
        "outputId": "69c6ea0b-cbb7-412f-a6f8-cabad9c95026"
      },
      "outputs": [
        {
          "output_type": "stream",
          "name": "stdout",
          "text": [
            "Test Accuracy: 81.5\n"
          ]
        }
      ],
      "source": [
        "# TODO\n",
        "total = 0\n",
        "correct = 0\n",
        "with torch.no_grad():\n",
        "    for images, labels in test_loader:\n",
        "        labels = labels.type(torch.LongTensor) # Cast to Float\n",
        "        images, labels = images.to(device), labels.to(device)\n",
        "        # TODO\n",
        "        # Get the output\n",
        "        outputs = cnn(images)\n",
        "\n",
        "        # Get the prediction using argmax\n",
        "        temp, predicted = torch.max(outputs.data, 1)\n",
        "\n",
        "        # Get number of correct prediction and add to correct and total\n",
        "        correct += (predicted == labels).sum().item()\n",
        "        total += labels.size(0)\n",
        "\n",
        "\n",
        "\n",
        "# Calculate test accuracy for CNN (should multiple by 100)\n",
        "test_acc_CNN = (correct / total) * 100\n",
        "# TODO END\n",
        "\n",
        "print(f'Test Accuracy: ' + str(test_acc_CNN))"
      ]
    },
    {
      "cell_type": "code",
      "execution_count": null,
      "metadata": {
        "id": "3iB5d4N-t5dc",
        "colab": {
          "base_uri": "https://localhost:8080/"
        },
        "outputId": "13d1311a-6b5d-4ec6-90aa-64d4f0692478"
      },
      "outputs": [
        {
          "output_type": "stream",
          "name": "stdout",
          "text": [
            "Correct! You earned 2/2 points. You are a star!\n",
            "\n",
            "Your submission has been successfully recorded in the gradebook.\n"
          ]
        }
      ],
      "source": [
        "#Grader Cell (2 points)\n",
        "grader.grade(test_case_id = 'cnn_test_acc', answer = (test_acc_CNN))"
      ]
    },
    {
      "cell_type": "markdown",
      "metadata": {
        "id": "0sdUq8y07Luh"
      },
      "source": [
        "### 2.3.5 CNN Hyperparameter Tuning (8 points)\n",
        "\n",
        "In this section, we will now explore how we can find an \"optimal\" Convolutional Neural Network architecture by tuning some hyperparameters. Hyperparameters are those parameters that we usually manually set that have some impact on the learning process for our model. For this section, we will particularly focus on the `learning rate`, `beta1`, `beta2` and `number of fully connected layers`.\n",
        "\n",
        "The `learning rate`, `beta1` and `beta2` parameters all have to do with the optimizer we are using `optim.Adam`. The `beta1` and `beta2` parameters that control the contribution of the past gradients and the past square gradients to the current update, while the learning rate controls the step size taken during optimization."
      ]
    },
    {
      "cell_type": "markdown",
      "source": [
        "Now, create a new model that will be used in the hyperparameter tuning. This can be identical to the model that you had previously, or you can make slight tweaks to it if you desire. You must, however, include an attribute that stores the number of fully connected layers that will be controlled by the hyperparameter tuning. Make sure to understand how to implement this while maintaining the dimensionality of your data"
      ],
      "metadata": {
        "id": "oMZM11aOVtGA"
      }
    },
    {
      "cell_type": "code",
      "source": [
        "# TODO: Create a new model CNNTuned whose hyperaparameters we will tune\n",
        "import torch.nn.functional as F\n",
        "class CNNTuned(nn.Module):\n",
        "    def __init__(self, ff_layers = 3):\n",
        "        super().__init__()\n",
        "        # TODO\n",
        "        self.conv1 = nn.Conv2d(3, 64, kernel_size=3, padding=1)\n",
        "        self.conv2 = nn.Conv2d(64, 128, kernel_size=3, padding=1)\n",
        "        self.conv3 = nn.Conv2d(128, 256, kernel_size=3, padding=1)\n",
        "\n",
        "        # Define pooling layer\n",
        "        self.pool = nn.MaxPool2d(2, 2)\n",
        "\n",
        "        # Define fully connected layers based on the ff_layers hyperparameter\n",
        "        fc_layers = []\n",
        "        in_features = 256 * 4 * 4  # Assuming input image size is 32x32\n",
        "        for _ in range(ff_layers):\n",
        "            fc_layers.append(nn.Linear(in_features, 512))\n",
        "            fc_layers.append(nn.ReLU())\n",
        "            in_features = 512  # Update in_features for the next layer\n",
        "        self.fc_layers = nn.Sequential(*fc_layers)\n",
        "\n",
        "        # Define the output layer\n",
        "        self.out_layer = nn.Linear(512, 10)\n",
        "\n",
        "    def forward(self, x):\n",
        "        # TODO\n",
        "        # Forward pass through convolutional layers\n",
        "        x = self.pool(F.relu(self.conv1(x)))\n",
        "        x = self.pool(F.relu(self.conv2(x)))\n",
        "        x = self.pool(F.relu(self.conv3(x)))\n",
        "\n",
        "        # Flatten the output for fully connected layers\n",
        "        x = x.view(-1, 256 * 4 * 4)\n",
        "\n",
        "        # Forward pass through fully connected layers\n",
        "        x = self.fc_layers(x)\n",
        "\n",
        "        # Forward pass through the output layer\n",
        "        x = self.out_layer(x)\n",
        "\n",
        "        return x"
      ],
      "metadata": {
        "id": "SKwAWi-XRmFo"
      },
      "execution_count": null,
      "outputs": []
    },
    {
      "cell_type": "markdown",
      "source": [
        "The way we will tune these hyperparameters is by conducting a gridsearch on these various hyperparameters. To start, we first need to create the actual `parameter_grid`. This will define which parameters we want to test different values for, as well as include an array of the different values that we would like to test for each parameter. Make sure to play around with these values, but have a constraint on the number of values in your grid to prevent excessive runtimes (it will test every possible combination of these parameters, so the larger the grid, the more time it will take). We recommend you limit the size of each hyperparameter to three values."
      ],
      "metadata": {
        "id": "7LnGs6PO9X_6"
      }
    },
    {
      "cell_type": "markdown",
      "source": [
        "To create our parameter grid to tune on, we first make the following import."
      ],
      "metadata": {
        "id": "4cIJovQruLB9"
      }
    },
    {
      "cell_type": "code",
      "source": [
        "from sklearn.model_selection import ParameterGrid"
      ],
      "metadata": {
        "id": "dN1osFGeXMdF"
      },
      "execution_count": null,
      "outputs": []
    },
    {
      "cell_type": "markdown",
      "source": [
        "**HINT**: The entry for betas should be a list of size 2 tuples containing floats"
      ],
      "metadata": {
        "id": "HEYn4S-IuYdq"
      }
    },
    {
      "cell_type": "code",
      "source": [
        "# TODO: Define your parameter grid. pgrid should\n",
        "# just be the wrapped version of param_grid using ParameterGrid\n",
        "# num_epochs will be the number of epochs you use to grid search and train\n",
        "\n",
        "param_grid = {\n",
        "    'learning_rate': [1e-3, 5e-4, 1e-4],\n",
        "    'betas': [(0.9, 0.999), (0.95, 0.995), (0.99, 0.99)],\n",
        "    'num_fc_layers': [2, 3, 4]\n",
        "}\n",
        "\n",
        "# Wrap the parameter grid using ParameterGrid\n",
        "pgrid = list(ParameterGrid(param_grid))\n",
        "\n",
        "num_epochs = 10"
      ],
      "metadata": {
        "id": "9TvYWvK29SMU"
      },
      "execution_count": null,
      "outputs": []
    },
    {
      "cell_type": "code",
      "source": [
        "# DO NOT EDIT\n",
        "grader.grade(test_case_id='cnn_hyper_param_grid', answer = param_grid)"
      ],
      "metadata": {
        "id": "02tSpoIF9tP8",
        "colab": {
          "base_uri": "https://localhost:8080/"
        },
        "outputId": "a303420f-1d52-418c-f89a-cbcc07e7014b"
      },
      "execution_count": null,
      "outputs": [
        {
          "output_type": "stream",
          "name": "stdout",
          "text": [
            "Correct! You earned 1/1 points. You are a star!\n",
            "\n",
            "Your submission has been successfully recorded in the gradebook.\n"
          ]
        }
      ]
    },
    {
      "cell_type": "markdown",
      "source": [
        "Now, go through every combination of parameters using your parameter grid and determine which of the combinations yields the best model.\n",
        "\n",
        "Note: this will take some time to run especially as you increase the number of epochs. You must run it for at least 5 epochs.\n",
        "\n",
        "**HINT 1**: You need to create some form of a training loop to do this. (Think about what it means for a model to be \"the best\" in this case.)\n",
        "\n",
        "**HINT 2**: You also might want to keep track of what combos are better than others"
      ],
      "metadata": {
        "id": "9jhrpWO2odd_"
      }
    },
    {
      "cell_type": "code",
      "source": [
        "# TODO: Conduct your grid search.\n",
        "best_accuracy = 0.0\n",
        "best_hyperparameters = None\n",
        "\n",
        "for hyperparameters in pgrid:\n",
        "    # Instantiate the model with the current set of hyperparameters\n",
        "    cnn_tuned = CNNTuned(ff_layers=hyperparameters['num_fc_layers']).to(device)\n",
        "\n",
        "    # Set the loss criterion as CrossEntropyLoss\n",
        "    criterion = nn.CrossEntropyLoss()\n",
        "\n",
        "    # Set the optimizer with the current hyperparameters\n",
        "    optimizer = optim.Adam(cnn_tuned.parameters(), lr=hyperparameters['learning_rate'],\n",
        "                           betas=hyperparameters['betas'])\n",
        "\n",
        "    acc_LIST_CNN_TUNE = []\n",
        "    loss_LIST_CNN_TUNE = []\n",
        "\n",
        "    # Train the CNN with the current hyperparameters\n",
        "    for epoch in range(num_epochs):\n",
        "        running_loss = 0.0\n",
        "        correct = 0\n",
        "        total = 0\n",
        "\n",
        "        for inputs, labels in train_loader:\n",
        "            labels = labels.type(torch.LongTensor)\n",
        "            inputs, labels = inputs.to(device), labels.to(device)\n",
        "\n",
        "            # Reset the optimizer tensor gradient every mini-batch\n",
        "            optimizer.zero_grad()\n",
        "\n",
        "            # Feed the network the train data\n",
        "            outputs = cnn_tuned(inputs)\n",
        "\n",
        "            # Get the prediction using argmax\n",
        "            temp, predicted = torch.max(outputs.data, 1)\n",
        "\n",
        "            # Find average loss for one mini-batch of inputs\n",
        "            loss = criterion(outputs, labels)\n",
        "\n",
        "            # Do a back propagation\n",
        "            loss.backward()\n",
        "\n",
        "            # Update the weight using the gradients from back propagation by learning step\n",
        "            optimizer.step()\n",
        "\n",
        "            # Get loss and add to accumulated loss for each epoch\n",
        "            running_loss += loss.item()\n",
        "\n",
        "            # Get number of correct prediction and increment the number of correct and total predictions after this batch\n",
        "            correct += (predicted == labels).sum().item()\n",
        "            total += labels.size(0)\n",
        "\n",
        "        # Calculate training accuracy for each epoch (should multiply by 100 to get percentage)\n",
        "        accuracy = correct / total * 100\n",
        "        acc_LIST_CNN_TUNE.append(accuracy)\n",
        "\n",
        "        # Get average loss for each epoch and add to loss_LIST_CNN_TUNE\n",
        "        avg_loss = running_loss / len(train_loader)\n",
        "        loss_LIST_CNN_TUNE.append(avg_loss)\n",
        "\n",
        "        # Save the best hyperparameters based on accuracy\n",
        "        if accuracy > best_accuracy:\n",
        "            best_accuracy = accuracy\n",
        "            best_hyperparameters = hyperparameters\n",
        "\n",
        "        # Print statistics\n",
        "        print(\"Epoch {}: Loss = {}, Accuracy = {}\".format(epoch, avg_loss, accuracy))\n",
        "\n",
        "# Print the best hyperparameters\n",
        "print(\"Best Hyperparameters:\", best_hyperparameters)"
      ],
      "metadata": {
        "id": "uO7m__SZBENI",
        "colab": {
          "base_uri": "https://localhost:8080/"
        },
        "outputId": "37a74fb8-c2e1-492c-820a-59d653535cda"
      },
      "execution_count": null,
      "outputs": [
        {
          "output_type": "stream",
          "name": "stdout",
          "text": [
            "Epoch 0: Loss = 1.2674688857628593, Accuracy = 55.489999999999995\n",
            "Epoch 1: Loss = 0.49810623236175283, Accuracy = 84.53333333333333\n",
            "Epoch 2: Loss = 0.37677388280820745, Accuracy = 88.38666666666667\n",
            "Epoch 3: Loss = 0.3067972647514679, Accuracy = 90.45\n",
            "Epoch 4: Loss = 0.2520363079284681, Accuracy = 92.17666666666666\n",
            "Epoch 5: Loss = 0.19856775123109696, Accuracy = 93.79666666666667\n",
            "Epoch 6: Loss = 0.16633879532342527, Accuracy = 94.87666666666667\n",
            "Epoch 7: Loss = 0.14200972945594204, Accuracy = 95.48\n",
            "Epoch 8: Loss = 0.1083882256978944, Accuracy = 96.61666666666666\n",
            "Epoch 9: Loss = 0.09872427536671095, Accuracy = 96.92333333333333\n",
            "Epoch 0: Loss = 1.8297965558353009, Accuracy = 30.459999999999997\n",
            "Epoch 1: Loss = 0.6489538873817875, Accuracy = 79.27333333333333\n",
            "Epoch 2: Loss = 0.4406599239118572, Accuracy = 86.37\n",
            "Epoch 3: Loss = 0.3529486635219314, Accuracy = 88.93666666666667\n",
            "Epoch 4: Loss = 0.29197625687190976, Accuracy = 91.04666666666667\n",
            "Epoch 5: Loss = 0.24860228374123827, Accuracy = 92.31666666666666\n",
            "Epoch 6: Loss = 0.20808007836198883, Accuracy = 93.66666666666667\n",
            "Epoch 7: Loss = 0.1880016461260982, Accuracy = 94.17999999999999\n",
            "Epoch 8: Loss = 0.15259928624433622, Accuracy = 95.35\n",
            "Epoch 9: Loss = 0.14113074065601108, Accuracy = 95.6\n",
            "Epoch 0: Loss = 1.7337659583417082, Accuracy = 31.693333333333335\n",
            "Epoch 1: Loss = 0.6885468674494005, Accuracy = 78.22666666666666\n",
            "Epoch 2: Loss = 0.45789195552690704, Accuracy = 86.04\n",
            "Epoch 3: Loss = 0.3653974862399894, Accuracy = 89.11\n",
            "Epoch 4: Loss = 0.3003756941588067, Accuracy = 90.97333333333333\n",
            "Epoch 5: Loss = 0.25541148010665166, Accuracy = 92.48666666666666\n",
            "Epoch 6: Loss = 0.21102974850581144, Accuracy = 93.50333333333334\n",
            "Epoch 7: Loss = 0.17608608396997902, Accuracy = 94.80333333333333\n",
            "Epoch 8: Loss = 0.15772763627972494, Accuracy = 95.17999999999999\n",
            "Epoch 9: Loss = 0.1358378457842764, Accuracy = 95.88666666666667\n",
            "Epoch 0: Loss = 1.1814311234427413, Accuracy = 59.050000000000004\n",
            "Epoch 1: Loss = 0.46688155515361696, Accuracy = 86.03\n",
            "Epoch 2: Loss = 0.34820255702301894, Accuracy = 89.45333333333333\n",
            "Epoch 3: Loss = 0.2714483336980409, Accuracy = 91.88666666666667\n",
            "Epoch 4: Loss = 0.2170874230635128, Accuracy = 93.47333333333333\n",
            "Epoch 5: Loss = 0.16242655218521287, Accuracy = 95.11333333333334\n",
            "Epoch 6: Loss = 0.1251652649303934, Accuracy = 96.14666666666668\n",
            "Epoch 7: Loss = 0.0950752609232659, Accuracy = 97.03\n",
            "Epoch 8: Loss = 0.07731218257698534, Accuracy = 97.52\n",
            "Epoch 9: Loss = 0.06581803921263601, Accuracy = 97.82333333333332\n",
            "Epoch 0: Loss = 1.499772429847514, Accuracy = 44.74333333333333\n",
            "Epoch 1: Loss = 0.5415506543698849, Accuracy = 82.92\n",
            "Epoch 2: Loss = 0.3735781647026666, Accuracy = 88.51\n",
            "Epoch 3: Loss = 0.2991273099266644, Accuracy = 90.74333333333333\n",
            "Epoch 4: Loss = 0.235398274486952, Accuracy = 92.98666666666666\n",
            "Epoch 5: Loss = 0.18896436329081115, Accuracy = 94.39333333333333\n",
            "Epoch 6: Loss = 0.15218411107807717, Accuracy = 95.43333333333334\n",
            "Epoch 7: Loss = 0.11860497600968871, Accuracy = 96.40333333333334\n",
            "Epoch 8: Loss = 0.09815628776725914, Accuracy = 97.06\n",
            "Epoch 9: Loss = 0.07916606073357117, Accuracy = 97.58333333333333\n",
            "Epoch 0: Loss = 1.382291466950862, Accuracy = 49.480000000000004\n",
            "Epoch 1: Loss = 0.5216525917940302, Accuracy = 83.69333333333333\n",
            "Epoch 2: Loss = 0.37262926925855405, Accuracy = 88.51333333333334\n",
            "Epoch 3: Loss = 0.29982147378517365, Accuracy = 91.05333333333333\n",
            "Epoch 4: Loss = 0.23702504515234848, Accuracy = 92.98333333333333\n",
            "Epoch 5: Loss = 0.1951925264897822, Accuracy = 94.30666666666667\n",
            "Epoch 6: Loss = 0.15657712626400025, Accuracy = 95.37666666666667\n",
            "Epoch 7: Loss = 0.12921996504616445, Accuracy = 96.19\n",
            "Epoch 8: Loss = 0.10821966780250324, Accuracy = 96.86\n",
            "Epoch 9: Loss = 0.09490721912256309, Accuracy = 97.12333333333333\n",
            "Epoch 0: Loss = 1.5193644444317198, Accuracy = 47.486666666666665\n",
            "Epoch 1: Loss = 0.6950250416676372, Accuracy = 79.72333333333333\n",
            "Epoch 2: Loss = 0.5531433154143759, Accuracy = 84.11\n",
            "Epoch 3: Loss = 0.46692356336980995, Accuracy = 86.43333333333332\n",
            "Epoch 4: Loss = 0.4057617237382352, Accuracy = 88.32333333333334\n",
            "Epoch 5: Loss = 0.35340606883517717, Accuracy = 89.72\n",
            "Epoch 6: Loss = 0.3115995539181522, Accuracy = 90.93333333333334\n",
            "Epoch 7: Loss = 0.27382517267646056, Accuracy = 92.10333333333334\n",
            "Epoch 8: Loss = 0.24150019208950274, Accuracy = 92.99666666666667\n",
            "Epoch 9: Loss = 0.2091891240757475, Accuracy = 93.99666666666666\n",
            "Epoch 0: Loss = 1.5992935044424874, Accuracy = 43.32333333333334\n",
            "Epoch 1: Loss = 0.727209819278229, Accuracy = 78.17333333333333\n",
            "Epoch 2: Loss = 0.5548519649104015, Accuracy = 83.84\n",
            "Epoch 3: Loss = 0.4652763839278902, Accuracy = 86.27666666666667\n",
            "Epoch 4: Loss = 0.40131395896360567, Accuracy = 88.1\n",
            "Epoch 5: Loss = 0.347902907682126, Accuracy = 89.72\n",
            "Epoch 6: Loss = 0.30282410064231613, Accuracy = 91.14999999999999\n",
            "Epoch 7: Loss = 0.26321735045612493, Accuracy = 92.19333333333334\n",
            "Epoch 8: Loss = 0.22848461006781948, Accuracy = 93.38666666666666\n",
            "Epoch 9: Loss = 0.19729892298706306, Accuracy = 94.36333333333333\n",
            "Epoch 0: Loss = 1.6646796938961248, Accuracy = 39.556666666666665\n",
            "Epoch 1: Loss = 0.8216053147687078, Accuracy = 74.60333333333334\n",
            "Epoch 2: Loss = 0.5883888282310734, Accuracy = 82.63000000000001\n",
            "Epoch 3: Loss = 0.47456422753171373, Accuracy = 85.84\n",
            "Epoch 4: Loss = 0.400458031467029, Accuracy = 88.0\n",
            "Epoch 5: Loss = 0.3463869071178345, Accuracy = 89.59\n",
            "Epoch 6: Loss = 0.2960002187695076, Accuracy = 91.06\n",
            "Epoch 7: Loss = 0.2558238726975059, Accuracy = 92.55666666666667\n",
            "Epoch 8: Loss = 0.21761575030651428, Accuracy = 93.78\n",
            "Epoch 9: Loss = 0.1821852679501401, Accuracy = 94.77\n",
            "Epoch 0: Loss = 1.8000430694775287, Accuracy = 33.43333333333333\n",
            "Epoch 1: Loss = 0.6747859658272282, Accuracy = 78.78333333333333\n",
            "Epoch 2: Loss = 0.48547954110702723, Accuracy = 84.74333333333334\n",
            "Epoch 3: Loss = 0.3963461019464139, Accuracy = 87.65666666666667\n",
            "Epoch 4: Loss = 0.34013513386694355, Accuracy = 89.21666666666667\n",
            "Epoch 5: Loss = 0.29354124961059486, Accuracy = 90.90333333333334\n",
            "Epoch 6: Loss = 0.25111094085392416, Accuracy = 92.25\n",
            "Epoch 7: Loss = 0.22067856898249338, Accuracy = 93.04333333333334\n",
            "Epoch 8: Loss = 0.19226653004553654, Accuracy = 94.02666666666667\n",
            "Epoch 9: Loss = 0.16764765516765465, Accuracy = 94.62\n",
            "Epoch 0: Loss = 1.6708862378653178, Accuracy = 38.986666666666665\n",
            "Epoch 1: Loss = 0.7244139899259437, Accuracy = 77.06666666666668\n",
            "Epoch 2: Loss = 0.5276902455892136, Accuracy = 83.56\n",
            "Epoch 3: Loss = 0.43764490963045216, Accuracy = 86.57000000000001\n",
            "Epoch 4: Loss = 0.37955598498204113, Accuracy = 88.34666666666666\n",
            "Epoch 5: Loss = 0.3375769243883426, Accuracy = 89.63333333333333\n",
            "Epoch 6: Loss = 0.2951676450542677, Accuracy = 90.89333333333333\n",
            "Epoch 7: Loss = 0.2632113519047242, Accuracy = 91.84333333333333\n",
            "Epoch 8: Loss = 0.23434557285564922, Accuracy = 92.69333333333334\n",
            "Epoch 9: Loss = 0.20859697957171688, Accuracy = 93.52000000000001\n",
            "Epoch 0: Loss = 2.060594349019309, Accuracy = 19.073333333333334\n",
            "Epoch 1: Loss = 1.0065909800117712, Accuracy = 64.1\n",
            "Epoch 2: Loss = 0.5666823439570124, Accuracy = 81.69\n",
            "Epoch 3: Loss = 0.434628657917224, Accuracy = 86.49666666666667\n",
            "Epoch 4: Loss = 0.36444855131892, Accuracy = 88.79\n",
            "Epoch 5: Loss = 0.3079728415128646, Accuracy = 90.73666666666666\n",
            "Epoch 6: Loss = 0.261551268112812, Accuracy = 92.18333333333332\n",
            "Epoch 7: Loss = 0.23038299898825473, Accuracy = 93.13666666666667\n",
            "Epoch 8: Loss = 0.19345294716738182, Accuracy = 94.22333333333334\n",
            "Epoch 9: Loss = 0.1724255713048393, Accuracy = 94.84\n",
            "Epoch 0: Loss = 1.340959614146747, Accuracy = 53.64\n",
            "Epoch 1: Loss = 0.516918606436583, Accuracy = 84.38\n",
            "Epoch 2: Loss = 0.3816597158117081, Accuracy = 88.47\n",
            "Epoch 3: Loss = 0.30204658588366723, Accuracy = 90.82333333333334\n",
            "Epoch 4: Loss = 0.24517404909199997, Accuracy = 92.62\n",
            "Epoch 5: Loss = 0.1932403803475376, Accuracy = 94.35\n",
            "Epoch 6: Loss = 0.15277105389929402, Accuracy = 95.34\n",
            "Epoch 7: Loss = 0.117580259461075, Accuracy = 96.30666666666666\n",
            "Epoch 8: Loss = 0.09245533211134882, Accuracy = 97.11\n",
            "Epoch 9: Loss = 0.0681370220743795, Accuracy = 97.84666666666666\n",
            "Epoch 0: Loss = 1.561326470138676, Accuracy = 43.70666666666666\n",
            "Epoch 1: Loss = 0.6065990275093741, Accuracy = 81.03\n",
            "Epoch 2: Loss = 0.4355227308931635, Accuracy = 86.40666666666667\n",
            "Epoch 3: Loss = 0.3477457648973221, Accuracy = 89.32333333333334\n",
            "Epoch 4: Loss = 0.28580593174772223, Accuracy = 91.41333333333334\n",
            "Epoch 5: Loss = 0.23543772494980394, Accuracy = 92.97\n",
            "Epoch 6: Loss = 0.19187784374062059, Accuracy = 94.26\n",
            "Epoch 7: Loss = 0.16159380229511686, Accuracy = 95.23666666666666\n",
            "Epoch 8: Loss = 0.12443874622069633, Accuracy = 96.28\n",
            "Epoch 9: Loss = 0.10310459969096633, Accuracy = 96.82666666666667\n",
            "Epoch 0: Loss = 1.6664892152936728, Accuracy = 38.056666666666665\n",
            "Epoch 1: Loss = 0.6513897655869344, Accuracy = 79.44\n",
            "Epoch 2: Loss = 0.4521809321985062, Accuracy = 85.91\n",
            "Epoch 3: Loss = 0.3578641725215576, Accuracy = 88.98333333333333\n",
            "Epoch 4: Loss = 0.2925064896565002, Accuracy = 91.22666666666667\n",
            "Epoch 5: Loss = 0.23782673648107788, Accuracy = 92.91\n",
            "Epoch 6: Loss = 0.20215822636747538, Accuracy = 94.05666666666667\n",
            "Epoch 7: Loss = 0.16358325043633612, Accuracy = 95.23\n",
            "Epoch 8: Loss = 0.13498660816060407, Accuracy = 96.00333333333333\n",
            "Epoch 9: Loss = 0.11229641827891694, Accuracy = 96.49333333333333\n",
            "Epoch 0: Loss = 1.6445217117317703, Accuracy = 42.053333333333335\n",
            "Epoch 1: Loss = 0.7474011156731831, Accuracy = 77.91333333333334\n",
            "Epoch 2: Loss = 0.5924895466136526, Accuracy = 82.77666666666667\n",
            "Epoch 3: Loss = 0.5020048047687962, Accuracy = 85.50666666666666\n",
            "Epoch 4: Loss = 0.43776405400940094, Accuracy = 87.33666666666666\n",
            "Epoch 5: Loss = 0.38026525455115956, Accuracy = 88.96\n",
            "Epoch 6: Loss = 0.3351571601368725, Accuracy = 90.16666666666666\n",
            "Epoch 7: Loss = 0.297840986933027, Accuracy = 91.20333333333333\n",
            "Epoch 8: Loss = 0.2628296868665132, Accuracy = 92.43\n",
            "Epoch 9: Loss = 0.2290542916829652, Accuracy = 93.61666666666667\n",
            "Epoch 0: Loss = 1.785155912452161, Accuracy = 35.67666666666667\n",
            "Epoch 1: Loss = 0.8205938738927658, Accuracy = 74.91333333333333\n",
            "Epoch 2: Loss = 0.623006628647542, Accuracy = 82.04333333333334\n",
            "Epoch 3: Loss = 0.512567087690205, Accuracy = 84.85000000000001\n",
            "Epoch 4: Loss = 0.44187494924963155, Accuracy = 86.98\n",
            "Epoch 5: Loss = 0.37909916964675316, Accuracy = 88.79333333333334\n",
            "Epoch 6: Loss = 0.33663190755127337, Accuracy = 90.02666666666667\n",
            "Epoch 7: Loss = 0.2949204467125793, Accuracy = 91.26333333333334\n",
            "Epoch 8: Loss = 0.2598082582071138, Accuracy = 92.36333333333333\n",
            "Epoch 9: Loss = 0.22407665140211963, Accuracy = 93.47666666666666\n",
            "Epoch 0: Loss = 1.955504610340224, Accuracy = 27.413333333333334\n",
            "Epoch 1: Loss = 1.012787010751045, Accuracy = 67.11666666666667\n",
            "Epoch 2: Loss = 0.6952421768133574, Accuracy = 78.69\n",
            "Epoch 3: Loss = 0.5418796689906863, Accuracy = 83.61\n",
            "Epoch 4: Loss = 0.45419438237320386, Accuracy = 86.31333333333333\n",
            "Epoch 5: Loss = 0.3864275845510365, Accuracy = 88.28\n",
            "Epoch 6: Loss = 0.3297688541477169, Accuracy = 90.09\n",
            "Epoch 7: Loss = 0.2843110356440168, Accuracy = 91.30666666666667\n",
            "Epoch 8: Loss = 0.2509470696825145, Accuracy = 92.47\n",
            "Epoch 9: Loss = 0.20973602498073313, Accuracy = 93.96\n",
            "Epoch 0: Loss = 1.9934339985918643, Accuracy = 25.436666666666667\n",
            "Epoch 1: Loss = 1.0734815349711029, Accuracy = 63.92\n",
            "Epoch 2: Loss = 0.6766639524050104, Accuracy = 78.79333333333334\n",
            "Epoch 3: Loss = 0.538402415573724, Accuracy = 83.06\n",
            "Epoch 4: Loss = 0.46104469593526964, Accuracy = 85.59666666666666\n",
            "Epoch 5: Loss = 0.41518588183022764, Accuracy = 87.11333333333333\n",
            "Epoch 6: Loss = 0.36079274416605295, Accuracy = 88.78333333333333\n",
            "Epoch 7: Loss = 0.3242599243230657, Accuracy = 90.15666666666667\n",
            "Epoch 8: Loss = 0.2866217070169795, Accuracy = 91.09333333333333\n",
            "Epoch 9: Loss = 0.26263733351154367, Accuracy = 91.74333333333334\n",
            "Epoch 0: Loss = 2.081861147240027, Accuracy = 20.923333333333332\n",
            "Epoch 1: Loss = 1.2477098726260383, Accuracy = 55.42\n",
            "Epoch 2: Loss = 0.7314359743330778, Accuracy = 76.00666666666666\n",
            "Epoch 3: Loss = 0.5418231353195492, Accuracy = 82.63333333333334\n",
            "Epoch 4: Loss = 0.4555685274573023, Accuracy = 85.71666666666667\n",
            "Epoch 5: Loss = 0.39077487279738443, Accuracy = 87.78\n",
            "Epoch 6: Loss = 0.3389122048134743, Accuracy = 89.55333333333333\n",
            "Epoch 7: Loss = 0.2864282648208172, Accuracy = 91.15666666666667\n",
            "Epoch 8: Loss = 0.25358031320768887, Accuracy = 92.14666666666666\n",
            "Epoch 9: Loss = 0.21859260761677457, Accuracy = 93.32666666666667\n",
            "Epoch 0: Loss = 2.2631548996419033, Accuracy = 12.306666666666667\n",
            "Epoch 1: Loss = 1.8228515770389582, Accuracy = 28.24\n",
            "Epoch 2: Loss = 1.284140699199522, Accuracy = 51.373333333333335\n",
            "Epoch 3: Loss = 0.8280132416087681, Accuracy = 72.76\n",
            "Epoch 4: Loss = 0.5891439523269881, Accuracy = 81.54666666666667\n",
            "Epoch 5: Loss = 0.4856846813263415, Accuracy = 85.00666666666666\n",
            "Epoch 6: Loss = 0.4128506926617134, Accuracy = 87.37333333333333\n",
            "Epoch 7: Loss = 0.3563517166702732, Accuracy = 88.94666666666666\n",
            "Epoch 8: Loss = 0.319317925888211, Accuracy = 90.12333333333333\n",
            "Epoch 9: Loss = 0.27104646056445675, Accuracy = 91.59333333333333\n",
            "Epoch 0: Loss = 1.9694585777294915, Accuracy = 28.26666666666667\n",
            "Epoch 1: Loss = 0.9107276631443739, Accuracy = 70.87333333333333\n",
            "Epoch 2: Loss = 0.57979026354198, Accuracy = 82.07\n",
            "Epoch 3: Loss = 0.45903677981037067, Accuracy = 85.85333333333334\n",
            "Epoch 4: Loss = 0.37451885909096266, Accuracy = 88.44666666666666\n",
            "Epoch 5: Loss = 0.31505897722201054, Accuracy = 90.36\n",
            "Epoch 6: Loss = 0.269642696944254, Accuracy = 91.82666666666667\n",
            "Epoch 7: Loss = 0.22992453571639335, Accuracy = 93.10666666666667\n",
            "Epoch 8: Loss = 0.2006307889753059, Accuracy = 93.92\n",
            "Epoch 9: Loss = 0.17286915786818527, Accuracy = 94.68666666666667\n",
            "Epoch 0: Loss = 2.1352851073116637, Accuracy = 18.253333333333334\n",
            "Epoch 1: Loss = 1.44205125448292, Accuracy = 47.36\n",
            "Epoch 2: Loss = 0.8993249205765186, Accuracy = 69.98333333333333\n",
            "Epoch 3: Loss = 0.6173368264744277, Accuracy = 80.24666666666667\n",
            "Epoch 4: Loss = 0.49093348258085595, Accuracy = 84.66666666666667\n",
            "Epoch 5: Loss = 0.42095582825796946, Accuracy = 86.81666666666666\n",
            "Epoch 6: Loss = 0.3780427772416743, Accuracy = 88.27000000000001\n",
            "Epoch 7: Loss = 0.3182174454746978, Accuracy = 90.42666666666666\n",
            "Epoch 8: Loss = 0.2818844419822637, Accuracy = 91.34\n",
            "Epoch 9: Loss = 0.2378493456571087, Accuracy = 92.79333333333334\n",
            "Epoch 0: Loss = 2.245191862588244, Accuracy = 13.196666666666667\n",
            "Epoch 1: Loss = 1.6856833881914997, Accuracy = 37.24\n",
            "Epoch 2: Loss = 1.0413460417597025, Accuracy = 64.48666666666666\n",
            "Epoch 3: Loss = 0.678820562451633, Accuracy = 78.07\n",
            "Epoch 4: Loss = 0.5050280435380142, Accuracy = 84.23333333333333\n",
            "Epoch 5: Loss = 0.4221795594641395, Accuracy = 86.93666666666667\n",
            "Epoch 6: Loss = 0.3500084714658225, Accuracy = 89.16333333333334\n",
            "Epoch 7: Loss = 0.2855520611251595, Accuracy = 91.27333333333333\n",
            "Epoch 8: Loss = 0.24168027032698905, Accuracy = 92.70666666666668\n",
            "Epoch 9: Loss = 0.20070104463411165, Accuracy = 94.06666666666666\n",
            "Epoch 0: Loss = 2.0513876109743423, Accuracy = 26.893333333333334\n",
            "Epoch 1: Loss = 1.0764443376171056, Accuracy = 65.75333333333333\n",
            "Epoch 2: Loss = 0.7242730472769056, Accuracy = 78.47666666666666\n",
            "Epoch 3: Loss = 0.5842328422994756, Accuracy = 83.05666666666667\n",
            "Epoch 4: Loss = 0.5144728332885039, Accuracy = 85.09333333333333\n",
            "Epoch 5: Loss = 0.4482078940502362, Accuracy = 87.05333333333334\n",
            "Epoch 6: Loss = 0.394340309713568, Accuracy = 88.56\n",
            "Epoch 7: Loss = 0.35079819729714506, Accuracy = 89.77333333333334\n",
            "Epoch 8: Loss = 0.30957927203763014, Accuracy = 91.12333333333333\n",
            "Epoch 9: Loss = 0.2843490980073079, Accuracy = 91.71333333333334\n",
            "Epoch 0: Loss = 2.1225964812073372, Accuracy = 21.77\n",
            "Epoch 1: Loss = 1.2396686556242675, Accuracy = 58.873333333333335\n",
            "Epoch 2: Loss = 0.806437287630557, Accuracy = 74.99\n",
            "Epoch 3: Loss = 0.6273050829927042, Accuracy = 81.34666666666666\n",
            "Epoch 4: Loss = 0.5348685618910962, Accuracy = 84.11999999999999\n",
            "Epoch 5: Loss = 0.4557944081866665, Accuracy = 86.50333333333333\n",
            "Epoch 6: Loss = 0.4054523201734781, Accuracy = 87.89666666666666\n",
            "Epoch 7: Loss = 0.35156349904501616, Accuracy = 89.61666666666666\n",
            "Epoch 8: Loss = 0.3097551011565779, Accuracy = 90.85333333333332\n",
            "Epoch 9: Loss = 0.26691270810264006, Accuracy = 92.27333333333333\n",
            "Epoch 0: Loss = 2.14329057512507, Accuracy = 19.21\n",
            "Epoch 1: Loss = 1.3326231138284272, Accuracy = 53.31\n",
            "Epoch 2: Loss = 0.9099354569845871, Accuracy = 70.81666666666668\n",
            "Epoch 3: Loss = 0.6960227159040568, Accuracy = 78.52666666666667\n",
            "Epoch 4: Loss = 0.5597717977408916, Accuracy = 83.10333333333332\n",
            "Epoch 5: Loss = 0.48241980583555916, Accuracy = 85.3\n",
            "Epoch 6: Loss = 0.39805180863785083, Accuracy = 87.94\n",
            "Epoch 7: Loss = 0.3449775724332216, Accuracy = 89.59\n",
            "Epoch 8: Loss = 0.29635901680823834, Accuracy = 91.07666666666667\n",
            "Epoch 9: Loss = 0.24682455079387755, Accuracy = 92.67\n",
            "Best Hyperparameters: {'betas': (0.95, 0.995), 'learning_rate': 0.0005, 'num_fc_layers': 2}\n"
          ]
        }
      ]
    },
    {
      "cell_type": "markdown",
      "source": [
        "Now that you have run the grid search, find the best hyperparameters and use them to train your model. This training loop should be similar to the one you created in 2.3.2, except now using the the best hyperparameters you found in the grid search."
      ],
      "metadata": {
        "id": "Nda1GwKSZqB0"
      }
    },
    {
      "cell_type": "code",
      "source": [
        "# TODO: Create a training loop similar to 2.3.2 that\n",
        "# uses the best hyperparameters that you found\n",
        "\n",
        "%%time\n",
        "\n",
        "acc_LIST_CNN_TUNE = []\n",
        "loss_LIST_CNN_TUNE = []\n",
        "\n",
        "# Define the best hyperparameters\n",
        "best_hyperparameters = {'betas': (0.95, 0.995), 'learning_rate': 0.0005, 'num_fc_layers': 2}\n",
        "\n",
        "# Instantiate the CNNTuned model with the best hyperparameters\n",
        "cnn_tuned = CNNTuned(ff_layers=best_hyperparameters['num_fc_layers']).to(device)\n",
        "\n",
        "# Set the loss criterion as CrossEntropyLoss\n",
        "criterion = nn.CrossEntropyLoss()\n",
        "\n",
        "# Set the optimizer with the best hyperparameters\n",
        "optimizer = optim.Adam(cnn_tuned.parameters(), lr=best_hyperparameters['learning_rate'], betas=best_hyperparameters['betas'])\n",
        "\n",
        "# Number of epochs\n",
        "num_epochs = 10\n",
        "\n",
        "# Train the CNN with the best hyperparameters\n",
        "for epoch in range(num_epochs):\n",
        "    running_loss = 0.0\n",
        "    correct = 0\n",
        "    total = 0\n",
        "    for inputs, labels in train_loader:\n",
        "        labels = labels.type(torch.LongTensor)  # Cast to Long\n",
        "        inputs, labels = inputs.to(device), labels.to(device)\n",
        "\n",
        "        # Reset the optimizer tensor gradient every mini-batch\n",
        "        optimizer.zero_grad()\n",
        "\n",
        "        # Feed the network the train data\n",
        "        outputs = cnn_tuned(inputs)\n",
        "\n",
        "        # Get the prediction using argmax\n",
        "        temp, predicted = torch.max(outputs.data, 1)\n",
        "\n",
        "        # Find average loss for one mini-batch of inputs\n",
        "        loss = criterion(outputs, labels)\n",
        "\n",
        "        # Do a backpropagation\n",
        "        loss.backward()\n",
        "\n",
        "        # Update the weight using the gradients from backpropagation by learning step\n",
        "        optimizer.step()\n",
        "\n",
        "        # Get loss and add to accumulated loss for each epoch\n",
        "        running_loss += loss.item()\n",
        "\n",
        "        # Get number of correct prediction and increment the number of correct and total predictions after this batch\n",
        "        correct += (predicted == labels).sum().item()\n",
        "        total += labels.size(0)\n",
        "\n",
        "    # Calculate training accuracy for each epoch (should multiply by 100 to get percentage)\n",
        "    accuracy = correct / total * 100\n",
        "    acc_LIST_CNN_TUNE.append(accuracy)\n",
        "\n",
        "    # Get average loss for each epoch and add to loss_LIST_CNN_TUNE\n",
        "    loss_LIST_CNN_TUNE.append(running_loss / len(train_loader))\n",
        "\n",
        "    # Print statistics\n",
        "    print(\"The loss for Epoch {} is: {}, Accuracy = {}\".format(epoch, running_loss / len(train_loader), accuracy))\n",
        "\n",
        "\n",
        "# Train the CNN"
      ],
      "metadata": {
        "id": "rdy2eXWpZ4sM",
        "colab": {
          "base_uri": "https://localhost:8080/"
        },
        "outputId": "3a247c2d-fa62-439f-f8c1-13b8da4730d4"
      },
      "execution_count": null,
      "outputs": [
        {
          "output_type": "stream",
          "name": "stdout",
          "text": [
            "The loss for Epoch 0 is: 1.4174834496812272, Accuracy = 50.12\n",
            "The loss for Epoch 1 is: 0.5645173543742471, Accuracy = 82.84\n",
            "The loss for Epoch 2 is: 0.4263303951223268, Accuracy = 86.96666666666667\n",
            "The loss for Epoch 3 is: 0.343636978902161, Accuracy = 89.43333333333334\n",
            "The loss for Epoch 4 is: 0.2855625029867773, Accuracy = 91.33666666666667\n",
            "The loss for Epoch 5 is: 0.24073719292053028, Accuracy = 92.81333333333333\n",
            "The loss for Epoch 6 is: 0.18874084230647412, Accuracy = 94.19\n",
            "The loss for Epoch 7 is: 0.1547577982780331, Accuracy = 95.27666666666667\n",
            "The loss for Epoch 8 is: 0.12039055096517716, Accuracy = 96.28\n",
            "The loss for Epoch 9 is: 0.10148972068835836, Accuracy = 96.75\n",
            "CPU times: user 2min 1s, sys: 638 ms, total: 2min 2s\n",
            "Wall time: 2min 3s\n"
          ]
        }
      ]
    },
    {
      "cell_type": "code",
      "source": [
        "grader.grade(test_case_id = 'cnn_tuning_train_loss', answer = (acc_LIST_CNN_TUNE, loss_LIST_CNN_TUNE))"
      ],
      "metadata": {
        "id": "VzBMroHkwC72",
        "colab": {
          "base_uri": "https://localhost:8080/"
        },
        "outputId": "cf77ef15-2128-4925-f9d1-aa8cd7cb3797"
      },
      "execution_count": null,
      "outputs": [
        {
          "output_type": "stream",
          "name": "stdout",
          "text": [
            "Correct! You earned 5/5 points. You are a star!\n",
            "\n",
            "Your submission has been successfully recorded in the gradebook.\n"
          ]
        }
      ]
    },
    {
      "cell_type": "markdown",
      "source": [
        "Now, run your new model on the test data and gauge its performance."
      ],
      "metadata": {
        "id": "fIO6krC9-kgp"
      }
    },
    {
      "cell_type": "code",
      "source": [
        "total = 0\n",
        "correct = 0\n",
        "with torch.no_grad():\n",
        "    for images, labels in test_loader:\n",
        "        labels = labels.type(torch.LongTensor) # Cast to Float\n",
        "        images, labels = images.to(device), labels.to(device)\n",
        "        # TODO\n",
        "        # Get the output\n",
        "        outputs = cnn_tuned(images)\n",
        "\n",
        "        # Get the prediction using argmax\n",
        "        _, predicted = torch.max(outputs.data, 1)\n",
        "\n",
        "        # Get number of correct prediction and add to correct and total\n",
        "        correct += (predicted == labels).sum().item()\n",
        "        total += labels.size(0)\n",
        "\n",
        "# Calculate test accuracy for CNN (should multiple by 100)\n",
        "test_acc_CNN = 100 * correct / total\n",
        "# TODO END\n",
        "\n",
        "print(f'Test Accuracy: ' + str(test_acc_CNN))"
      ],
      "metadata": {
        "id": "ix4esy4K-w0r",
        "colab": {
          "base_uri": "https://localhost:8080/"
        },
        "outputId": "d2c8e8c0-b408-4800-86e0-450adb0b52f9"
      },
      "execution_count": null,
      "outputs": [
        {
          "output_type": "stream",
          "name": "stdout",
          "text": [
            "Test Accuracy: 87.14\n"
          ]
        }
      ]
    },
    {
      "cell_type": "code",
      "source": [
        "grader.grade(test_case_id = 'cnn_tuning_test_acc', answer = test_acc_CNN)"
      ],
      "metadata": {
        "id": "Fxap1j4_-z0-",
        "colab": {
          "base_uri": "https://localhost:8080/"
        },
        "outputId": "1b3a439f-dccd-45de-9a4d-7abe0f4fc536"
      },
      "execution_count": null,
      "outputs": [
        {
          "output_type": "stream",
          "name": "stdout",
          "text": [
            "Correct! You earned 2/2 points. You are a star!\n",
            "\n",
            "Your submission has been successfully recorded in the gradebook.\n"
          ]
        }
      ]
    },
    {
      "cell_type": "markdown",
      "metadata": {
        "id": "6zf6YZk3t5dc"
      },
      "source": [
        "## 2.4. Reflection\n"
      ]
    },
    {
      "cell_type": "markdown",
      "metadata": {
        "id": "rNLaEserlayE"
      },
      "source": [
        "\n",
        "Let's compare the model performance:\n",
        "\n",
        "From the test accuracies, we can see that FNN works better than Logistic Regression, and CNN works even better than FNN."
      ]
    },
    {
      "cell_type": "code",
      "execution_count": null,
      "metadata": {
        "id": "iZCBqWa6lJSb",
        "colab": {
          "base_uri": "https://localhost:8080/"
        },
        "outputId": "cc01e75b-a495-4390-ecf0-cd5a0329e2a7"
      },
      "outputs": [
        {
          "output_type": "stream",
          "name": "stdout",
          "text": [
            "Test Accuracy for Logistic Regression: 18.2\n",
            "Test Accuracy for FNN: 75.22\n",
            "Test Accuracy for CNN: 87.14\n"
          ]
        }
      ],
      "source": [
        "# Simply run this cell, please do not modify\n",
        "print(f'Test Accuracy for Logistic Regression: ' + str(test_acc_log))\n",
        "print(f'Test Accuracy for FNN: ' + str(test_acc_FNN))\n",
        "print(f'Test Accuracy for CNN: ' + str(test_acc_CNN))"
      ]
    },
    {
      "cell_type": "markdown",
      "metadata": {
        "id": "qOn_Yn3R_qWE"
      },
      "source": [
        "---\n",
        "**TODO:**\n",
        "\n",
        "Now that you've build an image classification model on a relatively simple dataset, could you think of a real-world practical/complex application/use-case where digit recognition is useful?\n",
        "\n",
        "---"
      ]
    },
    {
      "cell_type": "code",
      "execution_count": null,
      "metadata": {
        "id": "5u99LTB9jJci"
      },
      "outputs": [],
      "source": [
        "# Type your response in the following cell as a comment\n",
        "# In the context of speed limit detection, image classification models\n",
        "# trained on digit recognition can be employed to recognize speed limit signs\n",
        "# in real-world traffic scenes, contributing to automated systems that enhance\n",
        "# road safety and assist in enforcing speed regulations. This application aids\n",
        "# in efficiently identifying and processing speed limit information, supporting\n",
        "# intelligent transportation systems for improved traffic management and compliance.\n",
        "\n"
      ]
    },
    {
      "cell_type": "markdown",
      "metadata": {
        "id": "qVKpT1nRvOP8"
      },
      "source": [
        "## 2.5 Confusion Matrix (Total: 8 points)\n",
        "\n",
        "We want to give you some insight into how you can further analyze the performance of the classification model you have trained.\n",
        "\n",
        "Upto now we have only used accuracy as a measure of performance. Although accuracy is simple and widely used measure, there are drawbacks to using accuracy.\n",
        "\n",
        "Assume that we are trying to train a model to detect a rare disease from CT images of patients. For simplicity, assume that this rare disease has an incidence rate of 1%.\n",
        "\n",
        "In this situation, if we train a degenerative model which always predicts that the patient does not have the disease, the accuracy is very high, namely 99%! Obviously in this case, accuracy is not a good measure of performance of the model.\n",
        "\n",
        "This example serves to motivate confusion matrices and related metrics.\n",
        "\n",
        "A confusion matrix is defined to be $C \\times C$ 2D matrix, where $C$ is number of distinct labels in the dataset. In this matrix, the rows represent the actual labels and the columns represent the predicted labels.\n",
        "\n",
        "The $(i, j)$-th entry of the confusion matrix contains the no. of data points where the actual label is $i$ but the model predicted $j$.\n",
        "\n",
        "\n",
        "The provided image is an example of a confusion matrix for binary classification (C = 2), but you can easily imagine this scaling up to C > 2.\n",
        "\n",
        "From this confusion matrix we can get all sorts of useful metrics such as False Positive Rate (FPR), False Negative Rate (FNR), Recall, Precision, etc... If you are interested in learning more about confusion matrix and related metrics [this wikipedia page](https://en.wikipedia.org/wiki/Confusion_matrix#cite_note-11) is a good place to look at.\n",
        "\n",
        "\n",
        "\n",
        "\n",
        "\n"
      ]
    },
    {
      "cell_type": "markdown",
      "metadata": {
        "id": "HAbFnMXst_7i"
      },
      "source": [
        "### 2.5.1 Create a confusion matrix (4 points)\n",
        "\n",
        "---\n",
        "\n",
        "**TODO:**\n",
        "1. For the test dataset using the CNN model you have trained above, create a confusion matrix. Do this by creating a function called `cm_generator` which will return the labels and predictions from testing.\n",
        "2. Save the confusion matrix as a pandas dataframe called `confusion_matrix_df`.\n",
        "\n",
        "---\n",
        "**Hint:** Look at what you've done in 2.3.4, and see if what you have done can be re-used."
      ]
    },
    {
      "cell_type": "code",
      "execution_count": null,
      "metadata": {
        "id": "CVk7BesQt_7j"
      },
      "outputs": [],
      "source": [
        "import pandas as pd\n",
        "import numpy as np\n",
        "from sklearn.metrics import confusion_matrix\n",
        "\n",
        "# TODO\n",
        "\n",
        "def cm_generator(test_loader):\n",
        "\n",
        "  # The goal is to obtain two lists of prediction and actual labels.\n",
        "  # Then, using these two lists, create a confusion matrix dataframe\n",
        "    cnn_tuned.eval()\n",
        "    all_labels = []\n",
        "    all_preds = []\n",
        "\n",
        "    with torch.no_grad():\n",
        "        for inputs, labels in test_loader:\n",
        "            inputs, labels = inputs.to(device), labels.to(device)\n",
        "            outputs = cnn_tuned(inputs)\n",
        "            temp, preds = torch.max(outputs, 1)\n",
        "\n",
        "            all_labels.extend(labels.cpu().numpy())\n",
        "            all_preds.extend(preds.cpu().numpy())\n",
        "\n",
        "    return all_labels, all_preds\n",
        "# END TODO\n",
        "\n",
        "all_labels, all_preds = cm_generator(test_loader)\n",
        "\n",
        "# Create confusion matrix dataframe\n",
        "confusion_matrix_df = pd.DataFrame(confusion_matrix(all_labels, all_preds), index=range(10), columns=range(10))\n"
      ]
    },
    {
      "cell_type": "code",
      "execution_count": null,
      "metadata": {
        "id": "hsv-udDgt_7j",
        "colab": {
          "base_uri": "https://localhost:8080/"
        },
        "outputId": "356efbad-ba4e-4e00-9ac5-3bff32e04c88"
      },
      "outputs": [
        {
          "output_type": "stream",
          "name": "stdout",
          "text": [
            "Correct! You earned 4/4 points. You are a star!\n",
            "\n",
            "Your submission has been successfully recorded in the gradebook.\n"
          ]
        }
      ],
      "source": [
        "#Grader Cell (4 points)\n",
        "grader.grade('check_confusion_matrix', (str(type(confusion_matrix_df)),\n",
        "                                        confusion_matrix_df.shape,\n",
        "                                        confusion_matrix_df.to_numpy().sum(),\n",
        "                                        np.trace(confusion_matrix_df.to_numpy())\n",
        "                                        ))"
      ]
    },
    {
      "cell_type": "markdown",
      "metadata": {
        "id": "bfz3myW0t_7k"
      },
      "source": [
        "### 2.5.2 Visualizing Confusion Matrix (4 points - Manual Grading)\n",
        "\n",
        "---\n",
        "**TODOs:**\n",
        "\n",
        "Implement the code to visualize the confusion matrix you have created above. This section will be manually graded\n",
        "\n",
        "Suggested library is using Seaborn heatmap.\n",
        "\n",
        "Chart Specifications:\n",
        "1. Each cell is labled/annotated with associated values. Take a look at the parameter \"annot\".\n",
        "2. Make sure all annotated values are in integers, and not shown in scientific notations. Use the parameter `fmt = \"g\"`.\n",
        "3. Add chart title, and axis name label (\"Actual\" and \"Predicted\". Check out which axis is associated with either label.\n",
        "4. Set map color to Green/Blue.\n",
        "5. To avoid \"File Too Large\" for submission, please set figure size to (8,4).\n",
        "---\n",
        "Resource: [Seaborn Heatmap documentation](https://seaborn.pydata.org/generated/seaborn.heatmap.html )"
      ]
    },
    {
      "cell_type": "code",
      "execution_count": null,
      "metadata": {
        "id": "zMOQnqEAt_7k",
        "colab": {
          "base_uri": "https://localhost:8080/",
          "height": 410
        },
        "outputId": "15c66bd5-e877-4dcb-8f0a-2bfa7f52cd9b"
      },
      "outputs": [
        {
          "output_type": "display_data",
          "data": {
            "text/plain": [
              "<Figure size 800x400 with 1 Axes>"
            ],
            "image/png": "[encoded data removed]"
          },
          "metadata": {}
        }
      ],
      "source": [
        "# TODO\n",
        "plt.figure(figsize=(8, 4))\n",
        "sns.heatmap(confusion_matrix_df, annot=True, fmt='g', cmap='Blues', cbar=False)\n",
        "plt.title('Confusion Matrix')\n",
        "plt.xlabel('Predicted')\n",
        "plt.ylabel('Actual')\n",
        "plt.show()\n",
        "# END TODO"
      ]
    },
    {
      "cell_type": "markdown",
      "source": [
        "# Part 3: Time Series Data (Total: 8 points)\n",
        "\n",
        "Thus far we have looked models that utilize various features to output a certain target (perhaps a score in regression problems, a label in classification problems as seen above). In other words, we have been looking at the relationship of an output as a function of various features. But what if we want to track an output as a function of **time**?\n",
        "\n",
        "In this section, we will be exploring time series data and forecasting; many real-world problems have a time component, making the extrapolation of time series data extremely important. One can think about the pandemic, when we used time series models like ARIMA to predict **daily COVID cases** ([link](https://www.ncbi.nlm.nih.gov/pmc/articles/PMC7445441/)). Or consider the stock market; when you are choosing a stock, you definitely look at the **prior history of the share price**; over the past year, the past month, or even the past week. Time series models are instrumental in assisting you with predicting the price of a stock in the near future.\n",
        "\n",
        "Another simple instance for the need for time series models is page view statistics; meaning, in a given timeframe, how many times was a webpage accessed. To get you ready for a much deserved Thanksgiving break, we will be looking at page view data for the Wikipedia article for \"Thanksgiving\" seen [here](https://en.wikipedia.org/wiki/Thanksgiving). (As an aside, you can easily get the page view statistics of any Wikipedia article using [this](https://pageviews.wmcloud.org/?project=en.wikipedia.org&platform=all-access&agent=user&redirects=0&range=latest-20&pages=) link)\n",
        "\n",
        "In this section we will be forecasting the number of page views for the \"Thanksgiving\" Wikipedia article in November, with the assistance of a time series model called **Prophet**."
      ],
      "metadata": {
        "id": "VSQbJc6b-7Au"
      }
    },
    {
      "cell_type": "markdown",
      "source": [
        "### 3.1 Prepare Data (2 points)"
      ],
      "metadata": {
        "id": "-Y6ssd-s-7A6"
      }
    },
    {
      "cell_type": "markdown",
      "source": [
        "Load in the thanksgiving dataframe. Keep in mind that it consists of page views on a given day **UP UNTIL THE LAST DAY OF NOVEMBER 2022**"
      ],
      "metadata": {
        "id": "80PneZPf-7A7"
      }
    },
    {
      "cell_type": "code",
      "source": [
        "# Get the csv file (thanksgiving.csv)\n",
        "! wget -nc https://storage.googleapis.com/penn-cis5450/thanksgiving.csv"
      ],
      "metadata": {
        "id": "P1QvaRTnaIt4",
        "colab": {
          "base_uri": "https://localhost:8080/"
        },
        "outputId": "20478492-b26e-48d9-82f5-13c96c6db802"
      },
      "execution_count": null,
      "outputs": [
        {
          "output_type": "stream",
          "name": "stdout",
          "text": [
            "--2023-11-24 19:24:15--  https://storage.googleapis.com/penn-cis5450/thanksgiving.csv\n",
            "Resolving storage.googleapis.com (storage.googleapis.com)... 142.251.2.207, 2607:f8b0:4023:c0d::cf, 2607:f8b0:4023:c06::cf, ...\n",
            "Connecting to storage.googleapis.com (storage.googleapis.com)|142.251.2.207|:443... connected.\n",
            "HTTP request sent, awaiting response... 200 OK\n",
            "Length: 43562 (43K) [text/csv]\n",
            "Saving to: ‘thanksgiving.csv’\n",
            "\n",
            "\rthanksgiving.csv      0%[                    ]       0  --.-KB/s               \rthanksgiving.csv    100%[===================>]  42.54K  --.-KB/s    in 0s      \n",
            "\n",
            "2023-11-24 19:24:15 (192 MB/s) - ‘thanksgiving.csv’ saved [43562/43562]\n",
            "\n"
          ]
        }
      ]
    },
    {
      "cell_type": "code",
      "source": [
        "# TODO: Read in the thanksgiving dataset\n",
        "# Make sure that the \"Date\" column is of type date\n",
        "thanksgiving_df = pd.read_csv('thanksgiving.csv')\n",
        "thanksgiving_df['Date'] = pd.to_datetime(thanksgiving_df['Date'])"
      ],
      "metadata": {
        "id": "ReluHXwj-7A7"
      },
      "execution_count": null,
      "outputs": []
    },
    {
      "cell_type": "markdown",
      "source": [
        "Rename the `Date` column `ds` and the `Views` column `y`. This is crucial for running the Prophet model"
      ],
      "metadata": {
        "id": "RpgsAqsq-7A7"
      }
    },
    {
      "cell_type": "code",
      "source": [
        "# TODO: Rename the \"Date\" column \"ds\" and the \"Views\" column \"y\"\n",
        "# This is crucial for running the Prophet model\n",
        "thanksgiving_df = thanksgiving_df.rename(columns={'Date': 'ds', 'Views': 'y'})"
      ],
      "metadata": {
        "id": "9q9qea4J-7A8"
      },
      "execution_count": null,
      "outputs": []
    },
    {
      "cell_type": "markdown",
      "source": [
        "Split this dataframe into training and test data. The training data should consist of entries **BEFORE NOVEMBER 2022**, meaning the testing data consists from entries from November 1, 2022 onwards.\n",
        "\n",
        "\n",
        "**MAKE SURE TO USE RESET_INDEX FUNCTION FOR BOTH DATAFRAMES TO AVOID AUTOGRADER ISSUES**"
      ],
      "metadata": {
        "id": "UiSvlfXj-7A8"
      }
    },
    {
      "cell_type": "code",
      "source": [
        "# TODO: Create thanksgiving_train and thanksgiving_test as defined above\n",
        "thanksgiving_train = thanksgiving_df.loc[thanksgiving_df['ds'] < '2022-11-01'].reset_index(drop=True)\n",
        "thanksgiving_test = thanksgiving_df.loc[thanksgiving_df['ds'] >= '2022-11-01'].reset_index(drop=True)"
      ],
      "metadata": {
        "id": "n7ns5M8s-7A8"
      },
      "execution_count": null,
      "outputs": []
    },
    {
      "cell_type": "code",
      "source": [
        "#Grader Cell (2 points)\n",
        "grader.grade(test_case_id = 'prepare_data', answer = (thanksgiving_train, thanksgiving_test))"
      ],
      "metadata": {
        "id": "dPtM4y-Qbun5",
        "colab": {
          "base_uri": "https://localhost:8080/"
        },
        "outputId": "8ac840e4-8ef6-4a8f-d530-79c922ef8f09"
      },
      "execution_count": null,
      "outputs": [
        {
          "output_type": "stream",
          "name": "stdout",
          "text": [
            "Correct! You earned 2/2 points. You are a star!\n",
            "\n",
            "Your submission has been successfully recorded in the gradebook.\n"
          ]
        }
      ]
    },
    {
      "cell_type": "markdown",
      "source": [
        "### 3.2 Prophet Model (6 points)"
      ],
      "metadata": {
        "id": "70zwb6MO-7A9"
      }
    },
    {
      "cell_type": "markdown",
      "source": [
        "Prophet is a model developed by Facebook that is used for forecasting time series data, similar to ARIMA, a model you have explored or will explore soon in lecture. As you might imagine, forecasting future statistics, like the number of daily views on a certain webpage or advertisement, is very important to companies like Facebook.\n",
        "\n",
        "In this section you will be exploring the Prophet model and comparing **two types of models**; one where you do not account for holidays (Thanksgiving is a U.S. holiday), and one where you do account for holidays.\n",
        "\n",
        "Please refer to the Prophet documentation [here](https://facebook.github.io/prophet/docs/quick_start.html#python-api). This page has ALL the information you will need to complete this section"
      ],
      "metadata": {
        "id": "QL9062pz-7A9"
      }
    },
    {
      "cell_type": "markdown",
      "source": [
        "#### 3.2.1 Prophet Model (Base) (4 points)"
      ],
      "metadata": {
        "id": "b5D0Hcep-7A9"
      }
    },
    {
      "cell_type": "markdown",
      "source": [
        "In this section you will instantiate a Prophet model. **Do not do anything else besides fit the model on the train data**"
      ],
      "metadata": {
        "id": "-PJ_Hh8V-7A9"
      }
    },
    {
      "cell_type": "code",
      "source": [
        "# TODO: Create and fit a Prophet model on your training data.\n",
        "# DO NOT DO ANY OTHER PREPROCESSING STEPS! Just instantiate the model\n",
        "# and train it on thanksgiving_train\n",
        "m = Prophet()\n",
        "m.fit(thanksgiving_train)"
      ],
      "metadata": {
        "colab": {
          "base_uri": "https://localhost:8080/"
        },
        "outputId": "09abb60e-c6d1-42d6-e80c-258e0d231a21",
        "id": "wmArNSH_-7A9"
      },
      "execution_count": null,
      "outputs": [
        {
          "output_type": "stream",
          "name": "stderr",
          "text": [
            "INFO:prophet:Disabling daily seasonality. Run prophet with daily_seasonality=True to override this.\n",
            "DEBUG:cmdstanpy:input tempfile: /tmp/tmpbobgi8jt/qqgf71ul.json\n",
            "DEBUG:cmdstanpy:input tempfile: /tmp/tmpbobgi8jt/j5k6a1io.json\n",
            "DEBUG:cmdstanpy:idx 0\n",
            "DEBUG:cmdstanpy:running CmdStan, num_threads: None\n",
            "DEBUG:cmdstanpy:CmdStan args: ['/usr/local/lib/python3.10/dist-packages/prophet/stan_model/prophet_model.bin', 'random', 'seed=48032', 'data', 'file=/tmp/tmpbobgi8jt/qqgf71ul.json', 'init=/tmp/tmpbobgi8jt/j5k6a1io.json', 'output', 'file=/tmp/tmpbobgi8jt/prophet_model0dv3qa8o/prophet_model-20231124192820.csv', 'method=optimize', 'algorithm=lbfgs', 'iter=10000']\n",
            "19:28:20 - cmdstanpy - INFO - Chain [1] start processing\n",
            "INFO:cmdstanpy:Chain [1] start processing\n",
            "19:28:21 - cmdstanpy - INFO - Chain [1] done processing\n",
            "INFO:cmdstanpy:Chain [1] done processing\n"
          ]
        },
        {
          "output_type": "execute_result",
          "data": {
            "text/plain": [
              "<prophet.forecaster.Prophet at 0x7b607cd5b370>"
            ]
          },
          "metadata": {},
          "execution_count": 179
        }
      ]
    },
    {
      "cell_type": "markdown",
      "source": [
        "With this model, forecast the number of page views in November 2022. Refer to the documentation to see which function(s) you should use.\n",
        "\n",
        "When done correctly, you should notice three important columns: yhat_lower (lower bound), yhat (predicted value) and yhat_upper (upper bound).\n",
        "\n",
        "Save the predictions (**only yhat**) to a dataframe called **future_df**. This dataframe should be **30 entries long**, as there are 30 days in November (same size as the test dataframe).\n",
        "\n",
        "\n",
        "**Final Schema for future_df**:\n",
        ">ds | yhat |\n",
        ">--- | --- |"
      ],
      "metadata": {
        "id": "1BHwUlLW-7A9"
      }
    },
    {
      "cell_type": "code",
      "source": [
        "# TODO: forecast the daily page view numbers for November 2022,\n",
        "# save them to a dataframe called future_df\n",
        "future = m.make_future_dataframe(periods=30, freq='D', include_history=False)\n",
        "forecast = m.predict(future)\n",
        "future_df = forecast[['ds', 'yhat']]"
      ],
      "metadata": {
        "id": "VwAhs9X--7A9"
      },
      "execution_count": null,
      "outputs": []
    },
    {
      "cell_type": "markdown",
      "source": [
        "Create a line plot in matplotlib that has both the **predicted (Prophet forecasting)** and **actual page views (from thanksgiving_test)** for November 2022. Make sure to have appropriate labels, clearly differentiate the predicted vs actual views and make a legend, make the x ticks legible, and title the graph \"Page Views for Thanksgiving Article (November 2022).\"\n",
        "\n",
        "This graph is solely designed to help you visualize the data, so do not worry too much about exact dimension sizes of the plot or anything like that."
      ],
      "metadata": {
        "id": "aquTDjRq-7A9"
      }
    },
    {
      "cell_type": "code",
      "source": [
        "# TODO: Make a lineplot comparing the predicted page view numbers with the actual\n",
        "# page view numbers\n",
        "plt.plot(thanksgiving_test['ds'], thanksgiving_test['y'], label='Actual Views', marker='o')\n",
        "plt.plot(future_df['ds'], future_df['yhat'], label='Predicted Views', linestyle='--', marker='x')\n",
        "plt.xlabel('Date')\n",
        "plt.ylabel('Page Views')\n",
        "plt.title('Page Views for Thanksgiving Article (November 2022)')\n",
        "plt.legend()\n",
        "plt.xticks(rotation=45, ha='right')\n",
        "plt.show()"
      ],
      "metadata": {
        "id": "zO0GipFX-7A-",
        "colab": {
          "base_uri": "https://localhost:8080/",
          "height": 524
        },
        "outputId": "3b5c6806-848c-445e-9e6d-4e4b2ceb7f0d"
      },
      "execution_count": null,
      "outputs": [
        {
          "output_type": "display_data",
          "data": {
            "text/plain": [
              "<Figure size 640x480 with 1 Axes>"
            ],
            "image/png": "[encoded data removed]"
          },
          "metadata": {}
        }
      ]
    },
    {
      "cell_type": "code",
      "source": [
        "#Grader Cell (4 points)\n",
        "grader.grade(test_case_id = 'prophet_base', answer = (future_df, thanksgiving_test))"
      ],
      "metadata": {
        "id": "V4PYW2sncZmC",
        "colab": {
          "base_uri": "https://localhost:8080/"
        },
        "outputId": "c57bd477-551a-4ec6-99ed-17ed6526424c"
      },
      "execution_count": null,
      "outputs": [
        {
          "output_type": "stream",
          "name": "stdout",
          "text": [
            "Correct! You earned 4/4 points. You are a star!\n",
            "\n",
            "Your submission has been successfully recorded in the gradebook.\n"
          ]
        }
      ]
    },
    {
      "cell_type": "markdown",
      "source": [
        "#### 3.2.2 Prophet Model (Holiday) (2 points)"
      ],
      "metadata": {
        "id": "OWktRoml-7A_"
      }
    },
    {
      "cell_type": "markdown",
      "source": [
        "As you saw in the previous section, the base model does a decent job at anticipating an increase in views as we get closer to Thanksgiving Day, but does a poor job of predicting a massive spike on the day itself. Let us see what happens when we rerun the Prophet model but allow the model to incorporate US holidays into its prediction.\n",
        "\n",
        "In this section, you will again instantiate and fit a Prophet model, **but now add US holidays to the model** (again, please refer to the documentation to find out how you can do this)."
      ],
      "metadata": {
        "id": "M3dmLW3q-7A_"
      }
    },
    {
      "cell_type": "code",
      "source": [
        "# TODO: Create and fit a Prophet model on your training data.\n",
        "# MAKE SURE TO CONSIDER NATIONAL (US) HOLIDAYS\n",
        "m = Prophet()\n",
        "m.add_country_holidays(country_name='US')\n",
        "m.fit(thanksgiving_train)"
      ],
      "metadata": {
        "colab": {
          "base_uri": "https://localhost:8080/"
        },
        "outputId": "ac4ee18c-6e45-4ea7-dc30-cee6f061485c",
        "id": "CPFURSWW-7A_"
      },
      "execution_count": null,
      "outputs": [
        {
          "output_type": "stream",
          "name": "stderr",
          "text": [
            "INFO:prophet:Disabling daily seasonality. Run prophet with daily_seasonality=True to override this.\n",
            "DEBUG:cmdstanpy:input tempfile: /tmp/tmpbobgi8jt/bcaxqlmj.json\n",
            "DEBUG:cmdstanpy:input tempfile: /tmp/tmpbobgi8jt/gzmul2nc.json\n",
            "DEBUG:cmdstanpy:idx 0\n",
            "DEBUG:cmdstanpy:running CmdStan, num_threads: None\n",
            "DEBUG:cmdstanpy:CmdStan args: ['/usr/local/lib/python3.10/dist-packages/prophet/stan_model/prophet_model.bin', 'random', 'seed=19538', 'data', 'file=/tmp/tmpbobgi8jt/bcaxqlmj.json', 'init=/tmp/tmpbobgi8jt/gzmul2nc.json', 'output', 'file=/tmp/tmpbobgi8jt/prophet_modelr1xo69g9/prophet_model-20231124193640.csv', 'method=optimize', 'algorithm=lbfgs', 'iter=10000']\n",
            "19:36:40 - cmdstanpy - INFO - Chain [1] start processing\n",
            "INFO:cmdstanpy:Chain [1] start processing\n",
            "19:36:40 - cmdstanpy - INFO - Chain [1] done processing\n",
            "INFO:cmdstanpy:Chain [1] done processing\n"
          ]
        },
        {
          "output_type": "execute_result",
          "data": {
            "text/plain": [
              "<prophet.forecaster.Prophet at 0x7b607c591fc0>"
            ]
          },
          "metadata": {},
          "execution_count": 187
        }
      ]
    },
    {
      "cell_type": "markdown",
      "source": [
        "Create **future_holiday_df** using the same process you had for creating future_df"
      ],
      "metadata": {
        "id": "UN705PxD-7BA"
      }
    },
    {
      "cell_type": "code",
      "source": [
        "# TODO: create future_holiday_df\n",
        "future_holiday_df = m.make_future_dataframe(periods=30, freq='D', include_history=False)\n",
        "forecast = m.predict(future_holiday_df)\n",
        "future_holiday_df = forecast[['ds', 'yhat']]"
      ],
      "metadata": {
        "id": "4Ugc68ox-7BA"
      },
      "execution_count": null,
      "outputs": []
    },
    {
      "cell_type": "markdown",
      "source": [
        "Again, create a line plot in matplotlib that has both the **predicted (Prophet forecasting)** and **actual page views (from thanksgiving_test)** for November 2022. Make sure to have appropriate labels, clearly differentiate the predicted vs actual views and make a legend, make the x ticks legible, and title the graph \"Page Views for Thanksgiving Article (November 2022).\"\n",
        "\n",
        "This graph is solely designed to help you visualize the data, so do not worry too much about exact dimension sizes of the plot or anything like that."
      ],
      "metadata": {
        "id": "dJmJrQzcREGw"
      }
    },
    {
      "cell_type": "code",
      "source": [
        "plt.plot(thanksgiving_test['ds'], thanksgiving_test['y'], label='Actual Views', marker='o')\n",
        "plt.plot(future_holiday_df['ds'], future_holiday_df['yhat'], label='Predicted Views', linestyle='--', marker='x')\n",
        "plt.xlabel('Date')\n",
        "plt.ylabel('Page Views')\n",
        "plt.title('Page Views for Thanksgiving Article (November 2022)')\n",
        "plt.legend()\n",
        "plt.xticks(rotation=45, ha='right')\n",
        "plt.show()"
      ],
      "metadata": {
        "id": "SbmBEUrJ-7BA",
        "colab": {
          "base_uri": "https://localhost:8080/",
          "height": 524
        },
        "outputId": "27ea2e94-47ee-4496-9874-4237293e5b17"
      },
      "execution_count": null,
      "outputs": [
        {
          "output_type": "display_data",
          "data": {
            "text/plain": [
              "<Figure size 640x480 with 1 Axes>"
            ],
            "image/png": "[encoded data removed]"
          },
          "metadata": {}
        }
      ]
    },
    {
      "cell_type": "markdown",
      "source": [
        "**Much better!**"
      ],
      "metadata": {
        "id": "7FdctPMc-7BA"
      }
    },
    {
      "cell_type": "code",
      "source": [
        "#Grader Cell (2 points)\n",
        "grader.grade(test_case_id = 'prophet_improved', answer = (future_holiday_df, thanksgiving_test))"
      ],
      "metadata": {
        "id": "7Opgor5wcUuy",
        "colab": {
          "base_uri": "https://localhost:8080/"
        },
        "outputId": "4fa68aff-d18e-4326-f32c-fbed4a571a26"
      },
      "execution_count": null,
      "outputs": [
        {
          "output_type": "stream",
          "name": "stdout",
          "text": [
            "Correct! You earned 2/2 points. You are a star!\n",
            "\n",
            "Your submission has been successfully recorded in the gradebook.\n"
          ]
        }
      ]
    },
    {
      "cell_type": "markdown",
      "metadata": {
        "id": "AXRYkQMgMfQK"
      },
      "source": [
        "# Homework Submission\n",
        "\n",
        "Good job! You have finished the homework :) The submission instructions are as follows:\n",
        "\n",
        "* **Double check** that you have the correct PennID (all numbers) in the autograder.\n",
        "\n",
        "* **Triple check** that you have all plots shown in this Colab notebook before submitting (otherwise, your submission will be subjected to a **penalty of -5 points**).\n",
        "\n",
        "*  Go to the \"File\" tab at the top left of the Colab UI, click \"Download .ipynb\" and then \"Download .py\".  **Rename** these two files to `homework5.ipynb` and `homework5.py` respectively and upload them to Gradescope.\n",
        "  - <ins>**WAIT UNTIL THE GRADESCOPE AUTOGRADER FINISHES RUNNING!**</ins> If we have to manually upload this for you after the deadline, **we will apply a penalty of -5 points** (this stacks with any other penatlies)\n",
        "\n",
        "* You must submit your notebook to receive credit. Post any issues with submission on Ed and make sure to keep in mind the late day policy.\n",
        "\n",
        "* After you submit your code, the teaching staff will manually grade your Colab notebook in order to validate the correctness of your code."
      ]
    }
  ],
  "metadata": {
    "colab": {
      "provenance": [],
      "gpuType": "T4"
    },
    "kernelspec": {
      "display_name": "Python 3",
      "name": "python3"
    },
    "language_info": {
      "name": "python"
    },
    "accelerator": "GPU"
  },
  "nbformat": 4,
  "nbformat_minor": 0
}