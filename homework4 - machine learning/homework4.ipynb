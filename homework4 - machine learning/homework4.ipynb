{
  "cells": [
    {
      "cell_type": "markdown",
      "metadata": {
        "id": "I2L0PkeSIuOD"
      },
      "source": [
        "# CIS 5450 Homework 4: Machine Learning\n",
        "\n",
        "*Due Date: **November 15th at 10:00PM EST**, 100 points total (= 81 autograded + 19 manually graded).*\n"
      ]
    },
    {
      "cell_type": "markdown",
      "metadata": {
        "id": "ETZ9CDIDLYHp"
      },
      "source": [
        "# Imports/Setup\n",
        "Run the following cells to set up the notebook.\n"
      ]
    },
    {
      "cell_type": "markdown",
      "metadata": {
        "id": "eEUIzvEuMdGQ"
      },
      "source": [
        "Please make sure you enter your **8 digit Penn ID** in the  student ID field below."
      ]
    },
    {
      "cell_type": "code",
      "execution_count": null,
      "metadata": {
        "id": "adECTPlZLtVi"
      },
      "outputs": [],
      "source": [
        "%%capture\n",
        "!pip install -i https://test.pypi.org/simple/ penn-grader==0.5.0\n",
        "from penngrader.grader import *\n",
        "\n",
        "#PLEASE ENSURE YOUR PENN-ID IS ENTERED CORRECTLY. IF NOT, THE AUTOGRADER WON'T KNOW WHO\n",
        "#TO ASSIGN POINTS TO YOU IN OUR BACKEND\n",
        "\n",
        "STUDENT_ID = 58076764       # YOUR PENN-ID GOES HERE AS AN INTEGER"
      ]
    },
    {
      "cell_type": "code",
      "execution_count": null,
      "metadata": {
        "colab": {
          "base_uri": "https://localhost:8080/"
        },
        "id": "wZexIJTJHaIS",
        "outputId": "852335e7-3795-46a5-d002-ca6bb6d0203f"
      },
      "outputs": [
        {
          "name": "stdout",
          "output_type": "stream",
          "text": [
            "Overwriting config.yaml\n"
          ]
        }
      ],
      "source": [
        "%%writefile config.yaml\n",
        "\n",
        "grader_api_url: 'https://wyv616tp17.execute-api.us-east-1.amazonaws.com/default/Grader'\n",
        "grader_api_key: 'Kd32fl3g3p917iM0zwjiO23Bitj4PO9ga4LektOa'"
      ]
    },
    {
      "cell_type": "code",
      "execution_count": null,
      "metadata": {
        "colab": {
          "base_uri": "https://localhost:8080/"
        },
        "id": "DiwvxL6CHYmC",
        "outputId": "6942a975-4fee-4fee-a881-694ee68bf909"
      },
      "outputs": [
        {
          "name": "stdout",
          "output_type": "stream",
          "text": [
            "PennGrader initialized with Student ID: 58076764\n",
            "\n",
            "Make sure this correct or we will not be able to store your grade\n"
          ]
        }
      ],
      "source": [
        "grader = PennGrader('config.yaml', 'CIS5450_F23_HW4', STUDENT_ID, STUDENT_ID)"
      ]
    },
    {
      "cell_type": "code",
      "execution_count": null,
      "metadata": {
        "id": "TBTaESEdMmiU"
      },
      "outputs": [],
      "source": [
        "# import packages\n",
        "import json\n",
        "import glob\n",
        "import pandas as pd\n",
        "import numpy as np\n",
        "import datetime as dt\n",
        "import re\n",
        "import os\n",
        "import matplotlib.pyplot as plt\n",
        "import seaborn as sns\n",
        "from matplotlib import cm\n",
        "from google.colab import drive\n",
        "from sklearn.model_selection import train_test_split\n",
        "from collections import Counter\n",
        "import seaborn as sns\n",
        "\n",
        "import warnings\n",
        "warnings.filterwarnings(\"ignore\", category=DeprecationWarning)"
      ]
    },
    {
      "cell_type": "code",
      "execution_count": null,
      "metadata": {
        "id": "tA6oTIZtRjf7"
      },
      "outputs": [],
      "source": [
        "%%capture\n",
        "!apt update\n",
        "!pip install kaggle"
      ]
    },
    {
      "cell_type": "markdown",
      "metadata": {
        "id": "odlXF5IYJ-et"
      },
      "source": [
        "# **Part I:** Preprocessing and Modeling in `scikit-learn` (65 points)"
      ]
    },
    {
      "cell_type": "markdown",
      "metadata": {
        "id": "_XSw-F5VjVKI"
      },
      "source": [
        "## **1.1** Data Loading and Preprocessing [0 Points]"
      ]
    },
    {
      "cell_type": "markdown",
      "metadata": {
        "id": "1Sw7LCAacKOu"
      },
      "source": [
        "### **1.1.1** Read and Load Data\n",
        "\n",
        "We are using one CSV for this homework, `properties_data.csv` from a Kaggle [dataset](https://www.kaggle.com/datasets/dataregress/dubai-properties-dataset/data). The dataset contains 38 columns and over 1900 property entries.\n",
        "\n",
        "To get the data in here:\n",
        "1. Go to this [Kaggle link](https://www.kaggle.com) and create a Kaggle account (unless you already have one)\n",
        "2. Go to Account and click on \"Create New API Token\" to get the API key in the form of a json file `kaggle.json`\n",
        "3. Upload the `kaggle.json` file to the default location in your Google Drive (Please **DO NOT** upload the json file into any _specific_ folder as it will be difficult for us to debug issues if you deviate from these instructions!).\n",
        "\n",
        "This can be helpful for your project if you decide to use Kaggle for your final project or for future projects!"
      ]
    },
    {
      "cell_type": "code",
      "execution_count": null,
      "metadata": {
        "colab": {
          "base_uri": "https://localhost:8080/"
        },
        "id": "RGz24WQ86ptM",
        "outputId": "8e51c412-e5b7-4973-eb62-9a1681794fe0"
      },
      "outputs": [
        {
          "name": "stdout",
          "output_type": "stream",
          "text": [
            "Drive already mounted at /content/drive; to attempt to forcibly remount, call drive.mount(\"/content/drive\", force_remount=True).\n"
          ]
        }
      ],
      "source": [
        "# Run this cell to mount your drive (you will be prompted to sign in)\n",
        "from google.colab import drive\n",
        "drive.mount('/content/drive')"
      ]
    },
    {
      "cell_type": "code",
      "execution_count": null,
      "metadata": {
        "colab": {
          "base_uri": "https://localhost:8080/"
        },
        "id": "R4taOIpPb6CN",
        "outputId": "be71c72a-b9c9-43f3-c642-d32794b448de"
      },
      "outputs": [
        {
          "name": "stdout",
          "output_type": "stream",
          "text": [
            "mkdir: cannot create directory ‘/root/.kaggle’: File exists\n"
          ]
        }
      ],
      "source": [
        "# Create the kaggle directory and\n",
        "# (NOTE: Do NOT run this cell more than once unless restarting kernel)\n",
        "!mkdir ~/.kaggle"
      ]
    },
    {
      "cell_type": "code",
      "execution_count": null,
      "metadata": {
        "id": "uO1UNkV6cbxA"
      },
      "outputs": [],
      "source": [
        "# Read the uploaded kaggle.json file\n",
        "!cp /content/drive/MyDrive/kaggle.json ~/.kaggle/"
      ]
    },
    {
      "cell_type": "code",
      "execution_count": null,
      "metadata": {
        "colab": {
          "base_uri": "https://localhost:8080/"
        },
        "id": "PZzBBL4VHVTK",
        "outputId": "d5e0f0cc-8b59-40d9-c00c-7d89097b5a4e"
      },
      "outputs": [
        {
          "data": {
            "text/plain": [
              "['dubai-properties-dataset.zip: Skipping, found more recently modified local copy (use --force to force download)']"
            ]
          },
          "execution_count": 9,
          "metadata": {},
          "output_type": "execute_result"
        }
      ],
      "source": [
        "# Download dataset\n",
        "!!kaggle datasets download -d dataregress/dubai-properties-dataset"
      ]
    },
    {
      "cell_type": "code",
      "execution_count": null,
      "metadata": {
        "colab": {
          "base_uri": "https://localhost:8080/"
        },
        "id": "SGrKYIOUHebk",
        "outputId": "fc452e6f-4112-4128-976f-416e717340e8"
      },
      "outputs": [
        {
          "name": "stdout",
          "output_type": "stream",
          "text": [
            "Archive:  /content/dubai-properties-dataset.zip\n",
            "replace properties_data.csv? [y]es, [n]o, [A]ll, [N]one, [r]ename: "
          ]
        }
      ],
      "source": [
        "# Unzip folder in Colab content folder\n",
        "!unzip /content/dubai-properties-dataset.zip"
      ]
    },
    {
      "cell_type": "code",
      "execution_count": null,
      "metadata": {
        "id": "UehH19fqHR4L"
      },
      "outputs": [],
      "source": [
        "# TODO: Read the csv file and save it to a dataframe called \"df_properties\"\n",
        "df_properties = pd.read_csv(\"properties_data.csv\")"
      ]
    },
    {
      "cell_type": "markdown",
      "metadata": {
        "id": "Ut_yMmcO2kXF"
      },
      "source": [
        "### **1.1.2** Understanding Data\n",
        "\n",
        "A good practice before approaching any data science problem, is to understand the data you will be working with. This can be through descriptive statistics, datatypes, or just a quick tabular visualization. We will be walking through such tasks through Pandas."
      ]
    },
    {
      "cell_type": "markdown",
      "metadata": {
        "id": "LsDRMCdfkACq"
      },
      "source": [
        "## **1.2** EDA [subtotal 18 points]\n",
        "\n",
        "Exploratory Data Analysis (EDA) is an approach to analyzing data sets to summarize their main characteristics, often with visual methods. A statistical model can be used or not, but primarily EDA is for seeing what the data can tell us beyond the formal modeling or hypothesis testing task.\n"
      ]
    },
    {
      "cell_type": "markdown",
      "metadata": {
        "id": "YwLDb9QE6sEF"
      },
      "source": [
        "### **1.2.1** Visualization [12 points]"
      ]
    },
    {
      "cell_type": "markdown",
      "metadata": {
        "id": "SCE6Y6TF7thU"
      },
      "source": [
        "#### (a) Examining Neighborhood and Quality [6 Points]"
      ]
    },
    {
      "cell_type": "markdown",
      "metadata": {
        "id": "pCOF-tYX9zVV"
      },
      "source": [
        "**Task:** For the ***top ten neighborhoods with the most properties***, we want to find the number of Low, Medium, High, Ultra listings from the `quality` column. You are **required** to use the Seaborn library for this problem to create a [countplot](https://seaborn.pydata.org/generated/seaborn.countplot.html).\n",
        "\n",
        "**Requirements:**\n",
        "\n",
        "You should use `df_properties` for this problem.\n",
        "\n",
        "Your plot must:\n",
        "*   Be of size (8,6) and use `palette = 'husl'`.\n",
        "*   Have appropriate titles, axes labels, and a legend.\n",
        "*   Be clearly legible and should **not** have overlapping text or bars.\n",
        "\n",
        "*Note: Not all neighborhoods will have all four qualities (low, medium, high, ultra). In other words, you may not see four bars for all neighborhoods.*"
      ]
    },
    {
      "cell_type": "code",
      "execution_count": null,
      "metadata": {
        "id": "JVMB6q7YP6pM"
      },
      "outputs": [],
      "source": [
        "# TODO: create a list 'top_ten_neighborhoods' which contains the top ten neighborhoods\n",
        "# with the MOST number of properties in descending order\n",
        "\n",
        "top_ten_neighborhoods = df_properties['neighborhood'].value_counts().head(10).index"
      ]
    },
    {
      "cell_type": "code",
      "execution_count": null,
      "metadata": {
        "id": "N7Zcv8VVP6rt"
      },
      "outputs": [],
      "source": [
        "# TODO (2 points):\n",
        "# filter for entries in 'df_properties' that contain the neighborhoods in 'top_ten_neighborhoods'\n",
        "# save your dataframe as 'ten_neighborhoods_df\n",
        "\n",
        "ten_neighborhoods_df = df_properties[df_properties['neighborhood'].isin(top_ten_neighborhoods)]"
      ]
    },
    {
      "cell_type": "code",
      "execution_count": null,
      "metadata": {
        "colab": {
          "base_uri": "https://localhost:8080/"
        },
        "id": "i5l_Tr4_HqJ5",
        "outputId": "4778c6ad-6709-493e-f9b9-9e6747d7ab12"
      },
      "outputs": [
        {
          "name": "stdout",
          "output_type": "stream",
          "text": [
            "Correct! You earned 2/2 points. You are a star!\n",
            "\n",
            "Your submission has been successfully recorded in the gradebook.\n"
          ]
        }
      ],
      "source": [
        "#Grader Cell (2 points)\n",
        "grader.grade(test_case_id = 'ten_neighborhoods', answer = (top_ten_neighborhoods, ten_neighborhoods_df))"
      ]
    },
    {
      "cell_type": "code",
      "execution_count": null,
      "metadata": {
        "colab": {
          "base_uri": "https://localhost:8080/",
          "height": 762
        },
        "id": "qWS4tgh-Hsqq",
        "outputId": "154062f5-00f6-422a-9239-5a6327ac95dd"
      },
      "outputs": [
        {
          "data": {
            "image/png": "[encoded data removed]",
            "text/plain": [
              "<Figure size 800x600 with 1 Axes>"
            ]
          },
          "metadata": {},
          "output_type": "display_data"
        }
      ],
      "source": [
        "# TODO (4 Manually Graded Points)\n",
        "# create a count plot which has bars placed side by side in a single plot\n",
        "# showing the number of Low, Medium, High, Ultra quality property listings\n",
        "plt.figure(figsize=(8, 6))\n",
        "sns.set(style=\"whitegrid\")\n",
        "sns.set_palette(\"husl\")\n",
        "\n",
        "plot = sns.countplot(data=ten_neighborhoods_df, x='neighborhood', hue='quality', order=top_ten_neighborhoods)\n",
        "\n",
        "plot.set_title(\"Number of Properties by Quality in Top 10 Neighborhoods\")\n",
        "plot.set_xlabel(\"Neighborhood\")\n",
        "plot.set_ylabel(\"Count\")\n",
        "plt.xticks(rotation=90)\n",
        "plot.legend(title='Quality', loc='upper right')\n",
        "plt.show()"
      ]
    },
    {
      "cell_type": "markdown",
      "metadata": {
        "id": "yS7viOKL8Bap"
      },
      "source": [
        "#### (b) 3D Scatterplot [6 Points]"
      ]
    },
    {
      "cell_type": "markdown",
      "metadata": {
        "id": "63W2fWFygolZ"
      },
      "source": [
        "**Task:** We want to examine the relationship between three variables: `number_of_bedrooms`, `number_of_bathrooms`, and `price`. We also want to examine `quality` as well. You are **required** to use the Matplotlib library for this problem to create a [3D Scatterplot](https://matplotlib.org/stable/gallery/mplot3d/scatter3d.html).\n",
        "\n",
        "**Requirements:**\n",
        "\n",
        "You should use `df_properties` for this problem.\n",
        "\n",
        "Your plot must:\n",
        "*   Be of size (6,6).\n",
        "*   Have each data point be colored accordingly by `Quality`. The color mapping should be: Low is red, Medium is green, High is blue, and Ultra is magenta.\n",
        "*   Have `number_of_bedrooms` in the x-axis, `number_of_bathrooms` in the y-axis, and `price` in the z-axis.\n",
        "*   Have appropriate titles, axes labels, and a legend.\n",
        "*   Be clearly legible and should **not** have overlapping text or bars.\n",
        "\n",
        "\n",
        "**Very Helpful Resources:**\n",
        "\n",
        "*   [3D Scatter Plotting in Python using Matplotlib](https://www.geeksforgeeks.org/3d-scatter-plotting-in-python-using-matplotlib/)\n",
        "*   [List of named colors](https://matplotlib.org/stable/gallery/color/named_colors.html)\n"
      ]
    },
    {
      "cell_type": "code",
      "execution_count": null,
      "metadata": {
        "colab": {
          "base_uri": "https://localhost:8080/",
          "height": 524
        },
        "id": "QyCDKQ2BH09K",
        "outputId": "0e81ebad-54eb-4f84-a910-564e884cf942"
      },
      "outputs": [
        {
          "data": {
            "image/png": "[encoded data removed]",
            "text/plain": [
              "<Figure size 600x600 with 1 Axes>"
            ]
          },
          "metadata": {},
          "output_type": "display_data"
        }
      ],
      "source": [
        "import matplotlib.pyplot as plt\n",
        "\n",
        "# TODO (6 Manually Graded Points): create 3d scatter plot\n",
        "# the comments will guide you through the process\n",
        "\n",
        "number_of_bedrooms = df_properties['no_of_bedrooms']\n",
        "number_of_bathrooms = df_properties['no_of_bathrooms']\n",
        "price = df_properties['price']\n",
        "quality = df_properties['quality']\n",
        "\n",
        "fig = plt.figure(figsize=(6, 6))\n",
        "ax = fig.add_subplot(111, projection='3d')\n",
        "\n",
        "color_dict = {\n",
        "    'Low': 'red',\n",
        "    'Medium': 'green',\n",
        "    'High': 'blue',\n",
        "    'Ultra': 'magenta'\n",
        "}\n",
        "\n",
        "for qual in color_dict.keys():\n",
        "    ax.scatter(number_of_bedrooms[quality == qual],\n",
        "               number_of_bathrooms[quality == qual],\n",
        "               price[quality == qual],\n",
        "               c=color_dict[qual])\n",
        "\n",
        "ax.set_title(\"Relationship between No. of Bedrooms, Bathrooms, Price by Quality\")\n",
        "ax.set_xlabel(\"Number of Bedrooms\")\n",
        "ax.set_ylabel(\"Number of Bathrooms\")\n",
        "ax.set_zlabel(\"Price\")\n",
        "\n",
        "\n",
        "### STOP HERE ###\n",
        "### DO NOT EDIT ###\n",
        "for quality, color in color_dict.items():\n",
        "    ax.scatter([], [], [], c=color, marker='o', label=quality)\n",
        "ax.legend(loc='upper left')\n",
        "plt.show()"
      ]
    },
    {
      "cell_type": "markdown",
      "metadata": {
        "id": "D_uvTv_VKYfY"
      },
      "source": [
        "### **1.2.2** Correlation of Feature Variables [6 Points]\n",
        "\n",
        "With multiple features, it can be somewhat exhausting to do bivariate analysis on every possible pair of features. While you certainly should, your first instinct should be to check for the correlation between features since certain models (e.g. Linear Regression) won't work well if we have strong multicollinearity."
      ]
    },
    {
      "cell_type": "markdown",
      "metadata": {
        "id": "YacG1jN-_WI6"
      },
      "source": [
        "_**Isolating Numerics from Categorical Features**_\n",
        "\n",
        "Before anything else, it may help to create groups of the numeric and categorical variables. You should use `df_properties` for this problem.\n",
        "\n",
        "\n",
        "**Task:** Split the `df_properties` dataframe into 2 dataframes:\n",
        "\n",
        "1. `num_df`: This dataframe contains all numerical columns from `df_properties`\n",
        "\n",
        "2. `cat_df`: This dataframe contains all categorical columns from `df_properties`\n",
        "  - i.e. the columns with non-numeric datatype or containing boolean values\n",
        "\n",
        "For your dataframes, **do not include** the following columns: `id`, `latitude`, `longitude`, `quality`, `price`.\n",
        "\n",
        "**Sort the columns of `num_df` and `cat_df` in alphabetic order.**"
      ]
    },
    {
      "cell_type": "code",
      "execution_count": null,
      "metadata": {
        "colab": {
          "base_uri": "https://localhost:8080/"
        },
        "id": "Qyb8_WIfID3y",
        "outputId": "22bdb2d7-a49b-47f1-a19f-4851b38c9c54"
      },
      "outputs": [
        {
          "name": "stdout",
          "output_type": "stream",
          "text": [
            "id 1905 int64\n",
            "neighborhood 54 object\n",
            "latitude 723 float64\n",
            "longitude 722 float64\n",
            "price 821 int64\n",
            "size_in_sqft 1121 int64\n",
            "price_per_sqft 1784 float64\n",
            "no_of_bedrooms 6 int64\n",
            "no_of_bathrooms 6 int64\n",
            "quality 4 object\n",
            "maid_room 2 bool\n",
            "unfurnished 2 bool\n",
            "balcony 2 bool\n",
            "barbecue_area 2 bool\n",
            "built_in_wardrobes 2 bool\n",
            "central_ac 2 bool\n",
            "childrens_play_area 2 bool\n",
            "childrens_pool 2 bool\n",
            "concierge 2 bool\n",
            "covered_parking 2 bool\n",
            "kitchen_appliances 2 bool\n",
            "lobby_in_building 2 bool\n",
            "maid_service 2 bool\n",
            "networked 2 bool\n",
            "pets_allowed 2 bool\n",
            "private_garden 2 bool\n",
            "private_gym 2 bool\n",
            "private_jacuzzi 2 bool\n",
            "private_pool 2 bool\n",
            "security 2 bool\n",
            "shared_gym 2 bool\n",
            "shared_pool 2 bool\n",
            "shared_spa 2 bool\n",
            "study 2 bool\n",
            "vastu_compliant 2 bool\n",
            "view_of_landmark 2 bool\n",
            "view_of_water 2 bool\n",
            "walk_in_closet 2 bool\n"
          ]
        }
      ],
      "source": [
        "# visualize number of unique values and datatype in each column\n",
        "for col in df_properties.columns:\n",
        "  print(col, df_properties[col].nunique(), df_properties[col].dtype)"
      ]
    },
    {
      "cell_type": "code",
      "execution_count": null,
      "metadata": {
        "id": "PZIPC3qoLgag"
      },
      "outputs": [],
      "source": [
        "# TODO: Create 'num_df' and 'cat_df'\n",
        "exclude_columns = ['id', 'latitude', 'longitude','price']\n",
        "num_df = df_properties.select_dtypes(include=['int64', 'float64']).drop(columns=exclude_columns)\n",
        "cat_df = df_properties.select_dtypes(include=['object', 'bool']).drop(['quality'], axis=1)\n"
      ]
    },
    {
      "cell_type": "code",
      "execution_count": null,
      "metadata": {
        "id": "zcnftjDlNyWx"
      },
      "outputs": [],
      "source": [
        "# TODO: sort the columns of `num_df` and `cat_df` in alphabetic order\n",
        "num_df = num_df.reindex(sorted(num_df.columns), axis=1)\n",
        "cat_df = cat_df.reindex(sorted(cat_df.columns), axis=1)"
      ]
    },
    {
      "cell_type": "code",
      "execution_count": null,
      "metadata": {
        "colab": {
          "base_uri": "https://localhost:8080/"
        },
        "id": "VU3eQ2viINds",
        "outputId": "10a0fd09-f004-4e9e-8759-94f1730e3c53"
      },
      "outputs": [
        {
          "data": {
            "text/plain": [
              "Index(['no_of_bathrooms', 'no_of_bedrooms', 'price_per_sqft', 'size_in_sqft'], dtype='object')"
            ]
          },
          "execution_count": 20,
          "metadata": {},
          "output_type": "execute_result"
        }
      ],
      "source": [
        "# self-check\n",
        "num_df.columns"
      ]
    },
    {
      "cell_type": "code",
      "execution_count": null,
      "metadata": {
        "colab": {
          "base_uri": "https://localhost:8080/"
        },
        "id": "0xlFUDPTIOnk",
        "outputId": "4a6eab69-9082-4779-c308-c72d45ef5f58"
      },
      "outputs": [
        {
          "data": {
            "text/plain": [
              "Index(['balcony', 'barbecue_area', 'built_in_wardrobes', 'central_ac',\n",
              "       'childrens_play_area', 'childrens_pool', 'concierge', 'covered_parking',\n",
              "       'kitchen_appliances', 'lobby_in_building', 'maid_room', 'maid_service',\n",
              "       'neighborhood', 'networked', 'pets_allowed', 'private_garden',\n",
              "       'private_gym', 'private_jacuzzi', 'private_pool', 'security',\n",
              "       'shared_gym', 'shared_pool', 'shared_spa', 'study', 'unfurnished',\n",
              "       'vastu_compliant', 'view_of_landmark', 'view_of_water',\n",
              "       'walk_in_closet'],\n",
              "      dtype='object')"
            ]
          },
          "execution_count": 21,
          "metadata": {},
          "output_type": "execute_result"
        }
      ],
      "source": [
        "# self-check\n",
        "cat_df.columns"
      ]
    },
    {
      "cell_type": "code",
      "execution_count": null,
      "metadata": {
        "colab": {
          "base_uri": "https://localhost:8080/"
        },
        "id": "2rRaMoMvIQ2p",
        "outputId": "06400575-f7f1-4c02-fe86-4e8aefd91636"
      },
      "outputs": [
        {
          "name": "stdout",
          "output_type": "stream",
          "text": [
            "Correct! You earned 3/3 points. You are a star!\n",
            "\n",
            "Your submission has been successfully recorded in the gradebook.\n"
          ]
        }
      ],
      "source": [
        "#Grader Cell (3 points)\n",
        "grader.grade(test_case_id = 'cat_num_df', answer = (num_df, cat_df))"
      ]
    },
    {
      "cell_type": "markdown",
      "metadata": {
        "id": "QRaftmxV-FEV"
      },
      "source": [
        "_**Correlation Heatmap**_\n",
        "\n",
        "**Task:** Create a correlation matrix using `num_df` and call it `corr_mat`. Using the correlation matrix, generate a correlation heatmap for these numeric features. You are required to use Seaborn library to create this [heatmap](https://seaborn.pydata.org/generated/seaborn.heatmap.html).\n",
        "\n",
        "Make sure your correlation heatmap meets the following criteria:\n",
        "*   Ensure that your heatmap is sized (8,8): all feature labels should be visible on both the $x$-axis and $y$-axis\n",
        "*   Use the `RdBu` color map to ensure that negative correlations are red and positive correlations are blue\n",
        "*   Standardize the color scale so that -1 takes the darkest red color, 0 is totally white, and +1 takes the darkest blue color"
      ]
    },
    {
      "cell_type": "code",
      "execution_count": null,
      "metadata": {
        "colab": {
          "base_uri": "https://localhost:8080/",
          "height": 819
        },
        "id": "vUf-1zk2IauC",
        "outputId": "cafb218c-16f5-4469-868d-a78dd648bde4"
      },
      "outputs": [
        {
          "data": {
            "image/png": "[encoded data removed]",
            "text/plain": [
              "<Figure size 800x800 with 2 Axes>"
            ]
          },
          "metadata": {},
          "output_type": "display_data"
        }
      ],
      "source": [
        "# TODO: Plot correlation heatmap (3 Manually Graded Points)\n",
        "\n",
        "corr_mat = num_df.corr()\n",
        "plt.figure(figsize=(8, 8))\n",
        "\n",
        "sns.heatmap(corr_mat, annot=True, cmap='RdBu', vmin=-1,vmax=1, center=0, fmt=\".2f\", linewidths=.5)\n",
        "plt.title(\"Correlation Heatmap of Numeric Features\")\n",
        "plt.show()\n"
      ]
    },
    {
      "cell_type": "markdown",
      "metadata": {
        "id": "06OFh_eTNIPI"
      },
      "source": [
        "## **1.3** Feature Engineering [subtotal 4 points]\n",
        "\n",
        "Feature engineering is the process of applying domain knowledge to extract features from raw data via data mining techniques. These features can be used to improve the performance of machine learning algorithms."
      ]
    },
    {
      "cell_type": "markdown",
      "metadata": {
        "id": "gJ2ptxmkNyG6"
      },
      "source": [
        "### **1.3.1** Cast Boolean Values into Integers [2 Points]"
      ]
    },
    {
      "cell_type": "markdown",
      "metadata": {
        "id": "AIaH3ZHsNvei"
      },
      "source": [
        "Encoding is a process by which categorical variables are converted into a form that could be provided to ML algorithms to do a better job in prediction.\n",
        "\n",
        "In this section, we want to cast the columns containing Boolean variables into integer values (0 and 1).\n",
        "\n",
        "**Task:**\n",
        "\n",
        "*   You should use `properties_df` for this problem.\n",
        "*   Drop the following columns `id`, `latitude`, `longitude`, `neighborhood`.\n",
        "*   Cast all the columns with Boolean variables as integer values (0 and 1).\n",
        "*   Save results in `encoded_properties_df`.\n"
      ]
    },
    {
      "cell_type": "code",
      "execution_count": null,
      "metadata": {
        "id": "ttMWoxUPOhqF"
      },
      "outputs": [],
      "source": [
        "# TODO: drop columns from `df_properties`\n",
        "drop_columns = ['id', 'latitude', 'longitude', 'neighborhood']\n",
        "df_properties = df_properties.drop(columns=drop_columns)"
      ]
    },
    {
      "cell_type": "code",
      "execution_count": null,
      "metadata": {
        "id": "vHkQI4mi1fdu"
      },
      "outputs": [],
      "source": [
        "# TODO: cast boolean columns into integers\n",
        "bool_columns = df_properties.select_dtypes(include=['bool']).columns\n",
        "df_properties[bool_columns] = df_properties[bool_columns].astype(int)\n",
        "encoded_df_properties = df_properties"
      ]
    },
    {
      "cell_type": "code",
      "execution_count": null,
      "metadata": {
        "colab": {
          "base_uri": "https://localhost:8080/"
        },
        "id": "EXo7TdQ5IjBy",
        "outputId": "cab73e55-ee2d-4298-d725-4e167f823c9b"
      },
      "outputs": [
        {
          "name": "stdout",
          "output_type": "stream",
          "text": [
            "Correct! You earned 2/2 points. You are a star!\n",
            "\n",
            "Your submission has been successfully recorded in the gradebook.\n"
          ]
        }
      ],
      "source": [
        "#Grader Cell (2 points)\n",
        "grader.grade(test_case_id = 'one_hot_encoded', answer = encoded_df_properties.head(10))"
      ]
    },
    {
      "cell_type": "markdown",
      "metadata": {
        "id": "4bVkkvxRrWuc"
      },
      "source": [
        "### **1.3.2** Encode Classes in 'Quality' Column [2 Points]"
      ]
    },
    {
      "cell_type": "markdown",
      "metadata": {
        "id": "SGMeJ17zsX5v"
      },
      "source": [
        "**Task:** We will be predicting the `quality` for our classification problem. We first want to transform our target into numerical values. Map the classes in the quality column in the following way:\n",
        "*   Low: 0\n",
        "*   Medium: 1\n",
        "*   High: 2\n",
        "*   Ultra: 3\n",
        "\n",
        "You should use `encoded_df_properties` for this problem. Save your results in `encoded_df_properties`."
      ]
    },
    {
      "cell_type": "code",
      "execution_count": null,
      "metadata": {
        "id": "HuPVCItW4oGe"
      },
      "outputs": [],
      "source": [
        "# TODO: create and apply a mapping\n",
        "quality_mapping = {\n",
        "    'Low': 0,\n",
        "    'Medium': 1,\n",
        "    'High': 2,\n",
        "    'Ultra': 3\n",
        "}\n",
        "encoded_df_properties['quality'] = encoded_df_properties['quality'].map(quality_mapping)"
      ]
    },
    {
      "cell_type": "code",
      "execution_count": null,
      "metadata": {
        "colab": {
          "base_uri": "https://localhost:8080/"
        },
        "id": "1FXihRrTIm9h",
        "outputId": "c56cc6c0-bca0-4117-9766-a54bdfdee3dd"
      },
      "outputs": [
        {
          "data": {
            "text/plain": [
              "array([1, 0, 2, 3])"
            ]
          },
          "execution_count": 28,
          "metadata": {},
          "output_type": "execute_result"
        }
      ],
      "source": [
        "# self-check\n",
        "encoded_df_properties['quality'].unique()"
      ]
    },
    {
      "cell_type": "code",
      "execution_count": null,
      "metadata": {
        "colab": {
          "base_uri": "https://localhost:8080/"
        },
        "id": "dHy5SOZDIm7J",
        "outputId": "d1c968d1-e7d3-4ca7-8842-c058e9bc9891"
      },
      "outputs": [
        {
          "name": "stdout",
          "output_type": "stream",
          "text": [
            "Correct! You earned 2/2 points. You are a star!\n",
            "\n",
            "Your submission has been successfully recorded in the gradebook.\n"
          ]
        }
      ],
      "source": [
        "#Grader Cell (2 points)\n",
        "grader.grade(test_case_id = 'quality_map', answer = (encoded_df_properties['quality'], encoded_df_properties.head(20)['quality']))"
      ]
    },
    {
      "cell_type": "markdown",
      "metadata": {
        "id": "K-iqlFZacKO9"
      },
      "source": [
        "## **1.4** Modeling (sklearn) [subtotal 43 points]"
      ]
    },
    {
      "cell_type": "markdown",
      "metadata": {
        "id": "xPBSUmK9HRHc"
      },
      "source": [
        "### **1.4.1** Preprocessing: Create Features and Label and Split Data into Train and Test [4 Points]\n",
        "\n",
        "Now that we have explored and cleaned our dataset, let's prepare it for a machine learning task. In this homework, you will work with various models and attempt to predict the `quality` of the property.\n",
        "\n",
        "The features will be all the variables in the dataset **except** `quality`, which will act as the label for our problem. First, store these two as `features` (pd.DataFrame) and `target` (pd.Series), respectively."
      ]
    },
    {
      "cell_type": "code",
      "execution_count": null,
      "metadata": {
        "id": "N7_jhB-LEVNK"
      },
      "outputs": [],
      "source": [
        "# TODO: stores features dataframe into variable called \"features\"\n",
        "features = encoded_df_properties.drop(columns=['quality'])\n",
        "\n",
        "# TODO: store the classification target variable into \"target\"\n",
        "target = encoded_df_properties['quality']"
      ]
    },
    {
      "cell_type": "markdown",
      "metadata": {
        "id": "Q4IK9S59ud0Q"
      },
      "source": [
        "Now, use Scikit-learn's [`train_test_split`](https://scikit-learn.org/stable/modules/generated/sklearn.model_selection.train_test_split.html) function to split data for regression into training and testing sets. The split should be 80-20 meaning 80% for training and the rest for testing.\n",
        "\n",
        "**_IMPORTANT_: Please set the `seed` variable to 42 and then set the parameter to `random_state = seed`** and store the resulting splits as `X_train, X_test, y_train,` and `y_test`.\n",
        "\n",
        "If you want to understand the purpose of *seed*, please feel free read over this concise yet thorough explanation on [StackOverflow](https://stackoverflow.com/questions/21494489/what-does-numpy-random-seed0-do)."
      ]
    },
    {
      "cell_type": "code",
      "execution_count": null,
      "metadata": {
        "id": "D48UmEtDEo0g"
      },
      "outputs": [],
      "source": [
        "# TODO: Assign appropriate value to seed and conduct 80/20 train-test split with random_state = seed\n",
        "from sklearn.model_selection import train_test_split\n",
        "seed = 42\n",
        "X_train, X_test, y_train, y_test = train_test_split(features, target, test_size=0.2, random_state=seed)"
      ]
    },
    {
      "cell_type": "code",
      "execution_count": null,
      "metadata": {
        "colab": {
          "base_uri": "https://localhost:8080/"
        },
        "id": "ui5KMAvOIp-5",
        "outputId": "4e48cb6e-6ec4-4859-d8bf-cddff5218323"
      },
      "outputs": [
        {
          "name": "stdout",
          "output_type": "stream",
          "text": [
            "Correct! You earned 4/4 points. You are a star!\n",
            "\n",
            "Your submission has been successfully recorded in the gradebook.\n"
          ]
        }
      ],
      "source": [
        "# Grader cell (4 points)\n",
        "grader.grade(test_case_id = 'train_test_split_classification', answer = (X_train.shape, X_test.shape,\n",
        "                                                                     y_train.shape, y_test.shape,\n",
        "                                                                     seed, Counter(y_test)))"
      ]
    },
    {
      "cell_type": "markdown",
      "metadata": {
        "id": "IQid9KfyIN2-"
      },
      "source": [
        "### **1.4.2** Classification Models [15 points]"
      ]
    },
    {
      "cell_type": "markdown",
      "metadata": {
        "id": "M1Vj9AkIIgpL"
      },
      "source": [
        "#### (a) Logistic Regression [2 Points]\n",
        "\n",
        "Fit a Logistic Regression classifier on the `X_train` and `y_train` with the hyperparameters provided below. Calculate the accuracy of the model on the test set using the `score` method and store it in a variable named `log_acc`.\n",
        "\n",
        "**Task:**\n",
        "\n",
        "*   Read the Scikit-learn [documentation](https://scikit-learn.org/stable/modules/generated/sklearn.linear_model.LogisticRegression.html) for Logistic Regression.\n",
        "*   For hyperparameters, set the `penalty = None` and set `multi_class = 'multinomial'`.\n",
        "*   Train the logistic regression model and evaluate it using the `score` method.\n",
        "*   Save your score in a variable `log_acc`."
      ]
    },
    {
      "cell_type": "code",
      "execution_count": null,
      "metadata": {
        "colab": {
          "base_uri": "https://localhost:8080/"
        },
        "id": "1989P2yhIzfJ",
        "outputId": "fd7cf81e-947c-4807-89c4-f0707156c49c"
      },
      "outputs": [
        {
          "name": "stderr",
          "output_type": "stream",
          "text": [
            "/usr/local/lib/python3.10/dist-packages/sklearn/linear_model/_logistic.py:1173: FutureWarning: `penalty='none'`has been deprecated in 1.2 and will be removed in 1.4. To keep the past behaviour, set `penalty=None`.\n",
            "  warnings.warn(\n"
          ]
        },
        {
          "data": {
            "text/plain": [
              "0.5931758530183727"
            ]
          },
          "execution_count": 33,
          "metadata": {},
          "output_type": "execute_result"
        }
      ],
      "source": [
        "# TODO: Import required libraries\n",
        "from sklearn.linear_model import LogisticRegression\n",
        "# TODO: Initialize model with the parameters mentioned above and fit it on the training set\n",
        "\n",
        "logistic_regression = LogisticRegression(penalty='none', multi_class='multinomial', random_state=42)\n",
        "# TO-DO: Use the model to predict on the test set and save these predictions as `y_pred`\n",
        "\n",
        "logistic_regression.fit(X_train, y_train)\n",
        "y_pred = logistic_regression.predict(X_test)\n",
        "# TO-DO: Find the accuracy and store the value in `log_acc`\n",
        "log_acc =logistic_regression.score(X_test, y_test)\n",
        "\n",
        "log_acc"
      ]
    },
    {
      "cell_type": "code",
      "execution_count": null,
      "metadata": {
        "colab": {
          "base_uri": "https://localhost:8080/"
        },
        "id": "OFVfZ6-uI7TJ",
        "outputId": "b39748bb-d65d-47e6-ec42-38d29cb3bb22"
      },
      "outputs": [
        {
          "name": "stdout",
          "output_type": "stream",
          "text": [
            "Correct! You earned 2/2 points. You are a star!\n",
            "\n",
            "Your submission has been successfully recorded in the gradebook.\n"
          ]
        }
      ],
      "source": [
        "#Grader Cell [2 points]\n",
        "grader.grade(test_case_id = 'check_log_clf', answer = log_acc)"
      ]
    },
    {
      "cell_type": "markdown",
      "metadata": {
        "id": "wgbNIcEFMch4"
      },
      "source": [
        "#### (b) Random Forest Classifier [3 Points]\n",
        "\n",
        "Fit a Random Forest classifier on the `X_train` and `y_train` with the hyperparameters provided below. Calculate the accuracy of the model on the test set using the `score` method and store it in a variable named `rf_acc`.\n",
        "\n",
        "**Task:**\n",
        "\n",
        "*   Read the Scikit-learn [documentation](https://scikit-learn.org/stable/modules/generated/sklearn.ensemble.RandomForestClassifier.html) for Random Forest Classifier.\n",
        "*   For hyperparameters, set:\n",
        "    - `class_weight = 'balanced'`\n",
        "    - `n_estimators = 120`\n",
        "    - `max_depth = 30`\n",
        "    - `random_state = 42`\n",
        "*   Train the random forest classifier model and evaluate it using the `score` method.\n",
        "*   Save your score in a variable `rf_acc`.\n",
        "*   Also, compute a [confusion matrix](https://scikit-learn.org/stable/modules/generated/sklearn.metrics.confusion_matrix.html) for your prediction and save it to `rf_confusion`."
      ]
    },
    {
      "cell_type": "code",
      "execution_count": null,
      "metadata": {
        "colab": {
          "base_uri": "https://localhost:8080/"
        },
        "id": "89LHKRSNI-A5",
        "outputId": "c49c026e-bfec-4037-e781-32625267fcb6"
      },
      "outputs": [
        {
          "data": {
            "text/plain": [
              "(0.9212598425196851,\n",
              " array([[ 97,  15,   0,   0],\n",
              "        [  1, 225,   2,   0],\n",
              "        [  0,  12,  17,   0],\n",
              "        [  0,   0,   0,  12]]))"
            ]
          },
          "execution_count": 35,
          "metadata": {},
          "output_type": "execute_result"
        }
      ],
      "source": [
        "# TODO: Import required libraries\n",
        "from sklearn.ensemble import RandomForestClassifier\n",
        "from sklearn.metrics import confusion_matrix\n",
        "\n",
        "# TODO: Initialize model with given parameters and fit it on the training set\n",
        "\n",
        "random_forest = RandomForestClassifier(\n",
        "    class_weight='balanced',\n",
        "    n_estimators=120,\n",
        "    max_depth=30,\n",
        "    random_state=42\n",
        ")\n",
        "# TODO: Use the model to predict on the test set and save these predictions as `y_pred`\n",
        "random_forest.fit(X_train, y_train)\n",
        "y_pred = random_forest.predict(X_test)\n",
        "# TODO: Find the accuracy and store the value in `rf_acc`\n",
        "rf_acc = random_forest.score(X_test, y_test)\n",
        "\n",
        "# TODO: Compute the confusion matrix.\n",
        "rf_confusion = confusion_matrix(y_test, y_pred)\n",
        "\n",
        "# self-check\n",
        "rf_acc, rf_confusion"
      ]
    },
    {
      "cell_type": "code",
      "execution_count": null,
      "metadata": {
        "colab": {
          "base_uri": "https://localhost:8080/"
        },
        "id": "qU_tsY6AJGoB",
        "outputId": "1712eeb2-4192-43ac-cdd9-49ea57d74a1d"
      },
      "outputs": [
        {
          "name": "stdout",
          "output_type": "stream",
          "text": [
            "Correct! You earned 3/3 points. You are a star!\n",
            "\n",
            "Your submission has been successfully recorded in the gradebook.\n"
          ]
        }
      ],
      "source": [
        "#Grader Cell\n",
        "grader.grade(test_case_id = 'check_rf_clf', answer = (rf_acc, rf_confusion))"
      ]
    },
    {
      "cell_type": "markdown",
      "metadata": {
        "id": "lbSul1eKNIVG"
      },
      "source": [
        "#### (c) PCA to Reduce Dimensionality [6 Points] (2 manually graded points)\n",
        "\n",
        "The goal of Principal Component Analysis is to reduce number of dimensions of our features. Please read the documentation for [StandardScaler](https://scikit-learn.org/stable/modules/generated/sklearn.preprocessing.StandardScaler.html) and [PCA](https://scikit-learn.org/stable/modules/generated/sklearn.decomposition.PCA.html) before attempting the problem.\n",
        "\n",
        "*Hint: Understanding of standardization and respective Scikit-learn functions under StandardScaler() class, like fit(), fit_transform(), transform(), is commonly tested on Midterm 2, so we advise you read the documentation. 👀*"
      ]
    },
    {
      "cell_type": "markdown",
      "metadata": {
        "id": "caGTeWhxNL3K"
      },
      "source": [
        "_**Initial PCA**_\n",
        "\n",
        "As a first step instantiate and fit `PCA` from scikit-learn on your training set. We are not reducing the dimensionality of our data in this step but rather trying to find what would be the ideal number of Principal Components to choose. So keep all Principal Components for this step\n",
        "\n",
        "Please remember that PCA is **not** scale-invariant! What does this imply you need to do first?"
      ]
    },
    {
      "cell_type": "code",
      "execution_count": null,
      "metadata": {
        "colab": {
          "base_uri": "https://localhost:8080/",
          "height": 75
        },
        "id": "PuETOl5gQuNb",
        "outputId": "be63aa52-17da-4b3e-c0ba-7b5beb9b374c"
      },
      "outputs": [
        {
          "data": {
            "text/html": [
              "<style>#sk-container-id-1 {color: black;background-color: white;}#sk-container-id-1 pre{padding: 0;}#sk-container-id-1 div.sk-toggleable {background-color: white;}#sk-container-id-1 label.sk-toggleable__label {cursor: pointer;display: block;width: 100%;margin-bottom: 0;padding: 0.3em;box-sizing: border-box;text-align: center;}#sk-container-id-1 label.sk-toggleable__label-arrow:before {content: \"▸\";float: left;margin-right: 0.25em;color: #696969;}#sk-container-id-1 label.sk-toggleable__label-arrow:hover:before {color: black;}#sk-container-id-1 div.sk-estimator:hover label.sk-toggleable__label-arrow:before {color: black;}#sk-container-id-1 div.sk-toggleable__content {max-height: 0;max-width: 0;overflow: hidden;text-align: left;background-color: #f0f8ff;}#sk-container-id-1 div.sk-toggleable__content pre {margin: 0.2em;color: black;border-radius: 0.25em;background-color: #f0f8ff;}#sk-container-id-1 input.sk-toggleable__control:checked~div.sk-toggleable__content {max-height: 200px;max-width: 100%;overflow: auto;}#sk-container-id-1 input.sk-toggleable__control:checked~label.sk-toggleable__label-arrow:before {content: \"▾\";}#sk-container-id-1 div.sk-estimator input.sk-toggleable__control:checked~label.sk-toggleable__label {background-color: #d4ebff;}#sk-container-id-1 div.sk-label input.sk-toggleable__control:checked~label.sk-toggleable__label {background-color: #d4ebff;}#sk-container-id-1 input.sk-hidden--visually {border: 0;clip: rect(1px 1px 1px 1px);clip: rect(1px, 1px, 1px, 1px);height: 1px;margin: -1px;overflow: hidden;padding: 0;position: absolute;width: 1px;}#sk-container-id-1 div.sk-estimator {font-family: monospace;background-color: #f0f8ff;border: 1px dotted black;border-radius: 0.25em;box-sizing: border-box;margin-bottom: 0.5em;}#sk-container-id-1 div.sk-estimator:hover {background-color: #d4ebff;}#sk-container-id-1 div.sk-parallel-item::after {content: \"\";width: 100%;border-bottom: 1px solid gray;flex-grow: 1;}#sk-container-id-1 div.sk-label:hover label.sk-toggleable__label {background-color: #d4ebff;}#sk-container-id-1 div.sk-serial::before {content: \"\";position: absolute;border-left: 1px solid gray;box-sizing: border-box;top: 0;bottom: 0;left: 50%;z-index: 0;}#sk-container-id-1 div.sk-serial {display: flex;flex-direction: column;align-items: center;background-color: white;padding-right: 0.2em;padding-left: 0.2em;position: relative;}#sk-container-id-1 div.sk-item {position: relative;z-index: 1;}#sk-container-id-1 div.sk-parallel {display: flex;align-items: stretch;justify-content: center;background-color: white;position: relative;}#sk-container-id-1 div.sk-item::before, #sk-container-id-1 div.sk-parallel-item::before {content: \"\";position: absolute;border-left: 1px solid gray;box-sizing: border-box;top: 0;bottom: 0;left: 50%;z-index: -1;}#sk-container-id-1 div.sk-parallel-item {display: flex;flex-direction: column;z-index: 1;position: relative;background-color: white;}#sk-container-id-1 div.sk-parallel-item:first-child::after {align-self: flex-end;width: 50%;}#sk-container-id-1 div.sk-parallel-item:last-child::after {align-self: flex-start;width: 50%;}#sk-container-id-1 div.sk-parallel-item:only-child::after {width: 0;}#sk-container-id-1 div.sk-dashed-wrapped {border: 1px dashed gray;margin: 0 0.4em 0.5em 0.4em;box-sizing: border-box;padding-bottom: 0.4em;background-color: white;}#sk-container-id-1 div.sk-label label {font-family: monospace;font-weight: bold;display: inline-block;line-height: 1.2em;}#sk-container-id-1 div.sk-label-container {text-align: center;}#sk-container-id-1 div.sk-container {/* jupyter's `normalize.less` sets `[hidden] { display: none; }` but bootstrap.min.css set `[hidden] { display: none !important; }` so we also need the `!important` here to be able to override the default hidden behavior on the sphinx rendered scikit-learn.org. See: https://github.com/scikit-learn/scikit-learn/issues/21755 */display: inline-block !important;position: relative;}#sk-container-id-1 div.sk-text-repr-fallback {display: none;}</style><div id=\"sk-container-id-1\" class=\"sk-top-container\"><div class=\"sk-text-repr-fallback\"><pre>PCA()</pre><b>In a Jupyter environment, please rerun this cell to show the HTML representation or trust the notebook. <br />On GitHub, the HTML representation is unable to render, please try loading this page with nbviewer.org.</b></div><div class=\"sk-container\" hidden><div class=\"sk-item\"><div class=\"sk-estimator sk-toggleable\"><input class=\"sk-toggleable__control sk-hidden--visually\" id=\"sk-estimator-id-1\" type=\"checkbox\" checked><label for=\"sk-estimator-id-1\" class=\"sk-toggleable__label sk-toggleable__label-arrow\">PCA</label><div class=\"sk-toggleable__content\"><pre>PCA()</pre></div></div></div></div></div>"
            ],
            "text/plain": [
              "PCA()"
            ]
          },
          "execution_count": 37,
          "metadata": {},
          "output_type": "execute_result"
        }
      ],
      "source": [
        "# TODO: Import libraries\n",
        "from sklearn.preprocessing import StandardScaler\n",
        "from sklearn.decomposition import PCA\n",
        "\n",
        "# TODO: Intermediate step to address scale-invariance\n",
        "scaler = StandardScaler()\n",
        "X_train_scaled = scaler.fit_transform(X_train)\n",
        "\n",
        "# TODO: Instantiate and Fit PCA\n",
        "pca = PCA()\n",
        "pca.fit(X_train_scaled)"
      ]
    },
    {
      "cell_type": "markdown",
      "metadata": {
        "id": "oeJnO6EENQQq"
      },
      "source": [
        "_**Cumulative Explained Variance Ratios**_\n",
        "\n",
        "Create an array of explained variance ratios and store it into a variable called `explained_variance_ratios`. Also, calculate the _cumulative_ explained variance ratios and store that into another variable called `cum_evr`."
      ]
    },
    {
      "cell_type": "code",
      "execution_count": null,
      "metadata": {
        "id": "LomThMizJIlR"
      },
      "outputs": [],
      "source": [
        "# TODO: Save the explained variance ratios into variable called \"explained_variance_ratios\"\n",
        "explained_variance_ratios = pca.explained_variance_ratio_\n",
        "\n",
        "\n",
        "# TODO: Save the CUMULATIVE explained variance ratios into variable called \"cum_evr\"\n",
        "cum_evr =  explained_variance_ratios.cumsum()\n"
      ]
    },
    {
      "cell_type": "code",
      "execution_count": null,
      "metadata": {
        "colab": {
          "base_uri": "https://localhost:8080/"
        },
        "id": "gjaETVLzJQM6",
        "outputId": "85dac041-158b-4c7b-8702-c86813e26fcf"
      },
      "outputs": [
        {
          "name": "stdout",
          "output_type": "stream",
          "text": [
            "Correct! You earned 2/2 points. You are a star!\n",
            "\n",
            "Your submission has been successfully recorded in the gradebook.\n"
          ]
        }
      ],
      "source": [
        "# 2 points\n",
        "#Grader cell\n",
        "grader.grade(test_case_id = 'check_pca_explained_variance', answer = (explained_variance_ratios, cum_evr))"
      ]
    },
    {
      "cell_type": "markdown",
      "metadata": {
        "id": "UNzvjLeTNZB-"
      },
      "source": [
        "**Task:** Plot the _cumulative_ `explained_variance_ratio` against the number of components to decide the number of components you should keep. Also add a horizontal line that represents the 80% of the variance as a threshold.\n",
        "\n",
        "As before, you should ensure that the plot follows the best practices you've developed over the past 2 plotting exercises in this HW (Labelling the axes and adding title to the plot). **This will be manually graded for 2 points**\n",
        "\n",
        "**Requirements:**\n",
        "\n",
        "You should use `cum_evr` and Matplotlib for this problem.\n",
        "\n",
        "Your plot must:\n",
        "*   Be of size (8,3) and have both lines clearly represented.\n",
        "*   Have appropriate titles and axes labels and correct ticks.\n",
        "*   Be clearly legible and should **not** have overlapping text.\n",
        "\n",
        "_**CAUTION:** Recall that Python starts counting from 0, but this would make it very unintuitive when reading from your graph. We strongly recommend that you modify the x-axis of your graph so that the **number of components begins at 1**. Otherwise, you may risk making silly mistakes in the subsequent sections._"
      ]
    },
    {
      "cell_type": "code",
      "execution_count": null,
      "metadata": {
        "colab": {
          "base_uri": "https://localhost:8080/",
          "height": 337
        },
        "id": "c5_hXQIKJST6",
        "outputId": "fa3a4b6f-41cb-4240-98c2-424ba019fa08"
      },
      "outputs": [
        {
          "data": {
            "image/png": "[encoded data removed]",
            "text/plain": [
              "<Figure size 800x300 with 1 Axes>"
            ]
          },
          "metadata": {},
          "output_type": "display_data"
        }
      ],
      "source": [
        "# TODO: (2 Manually Graded Points) find optimal num components\n",
        "# to use (n) by plotting explained variance ratio\n",
        "# Set the figure size\n",
        "plt.figure(figsize=(8,3))\n",
        "plt.plot(range(1, len(cum_evr) + 1), cum_evr, marker='o', label='Cumulative Explained Variance Ratio', color='blue')\n",
        "plt.axhline(y=0.80, color='red', linestyle='--', label='80% Variance Threshold')\n",
        "plt.title(\"Cumulative Explained Variance Ratio vs. Number of Components\")\n",
        "plt.xlabel(\"Number of Components\")\n",
        "plt.ylabel(\"Cumul. Explained Variance Ratio\")\n",
        "plt.xticks(range(1, len(cum_evr) + 1), fontsize=8)\n",
        "plt.legend()\n",
        "plt.show()"
      ]
    },
    {
      "cell_type": "markdown",
      "metadata": {
        "id": "PIhrE2ILNmve"
      },
      "source": [
        "_**Final PCA**_\n",
        "\n",
        "Using your results above to help you decide the number of components to keep, choose a number (`n`) that explains **at least 80% of total variance** in the dataset. *If the intersection of your cumulative rato and the variance line looks like it may be between two principal components, we advise rounding up to the nearest prinipal component.* Then re-fit and transform your PCA on the training set using the number of components you decided.\n",
        "\n",
        "Remember that your PCA should be trained on the training set (`X_train`) but only transformed on the test set (`X_test`).\n",
        "\n",
        "Call your transformed set of principal components `X_test_pca` in order to submit it to the autograder."
      ]
    },
    {
      "cell_type": "code",
      "execution_count": null,
      "metadata": {
        "colab": {
          "base_uri": "https://localhost:8080/"
        },
        "id": "o3jrh59gGZ0s",
        "outputId": "e617c6c0-6e32-4c27-971b-ec6a19a05549"
      },
      "outputs": [
        {
          "name": "stderr",
          "output_type": "stream",
          "text": [
            "/usr/local/lib/python3.10/dist-packages/sklearn/base.py:432: UserWarning: X has feature names, but PCA was fitted without feature names\n",
            "  warnings.warn(\n"
          ]
        }
      ],
      "source": [
        "# TODO: Get transformed set of principal components on x_test\n",
        "\n",
        "# 1. Refit and transform on training with parameter n (as deduced from the last step)\n",
        "# Calculate the number of components (n) to explain at least 80% of the variance\n",
        "\n",
        "pca = PCA(n_components=16)\n",
        "X_train_pca = pca.fit(X_train_scaled)\n",
        "X_test_pca = pca.transform(X_test)\n",
        "\n",
        "scaler = StandardScaler()\n",
        "X_train_scaled = scaler.fit_transform(X_train)\n",
        "X_test_scaled = scaler.transform(X_test)\n",
        "\n",
        "pca_final = PCA(n_components=16)\n",
        "X_train_pca = pca_final.fit_transform(X_train_scaled)\n",
        "X_test_pca = pca_final.transform(X_test_scaled)"
      ]
    },
    {
      "cell_type": "code",
      "execution_count": null,
      "metadata": {
        "colab": {
          "base_uri": "https://localhost:8080/"
        },
        "id": "ee2s1O4FJ0Gy",
        "outputId": "f23e78ce-d46d-40fd-884f-b97656ac69af"
      },
      "outputs": [
        {
          "name": "stdout",
          "output_type": "stream",
          "text": [
            "Correct! You earned 2/2 points. You are a star!\n",
            "\n",
            "Your submission has been successfully recorded in the gradebook.\n"
          ]
        }
      ],
      "source": [
        "# 2 points\n",
        "# Grader cell\n",
        "grader.grade(test_case_id = 'check_fitted_pca', answer = X_test_pca)"
      ]
    },
    {
      "cell_type": "markdown",
      "metadata": {
        "id": "TzIlLTj0Nq92"
      },
      "source": [
        "#### (d) Logistic Regression with PCA [4 Points]\n",
        "\n",
        "**Tasks:**\n",
        "\n",
        "1. Fit a logistic regression model on your Final Principal Components data using your optimal `n` value. Name the model `log_reg_pca`\n",
        "    - For hyperparameters, set the `penalty = None` and set `multi_class = 'multinomial'`.\n",
        "2. Make predictions on the test set.\n",
        "3. Report accuracy for the test set and call it `test_accuracy`"
      ]
    },
    {
      "cell_type": "code",
      "execution_count": null,
      "metadata": {
        "colab": {
          "base_uri": "https://localhost:8080/"
        },
        "id": "sUMXF0YDJ2ci",
        "outputId": "fc8687d5-7dba-4079-82d9-23c3916d77f1"
      },
      "outputs": [
        {
          "data": {
            "text/plain": [
              "0.994750656167979"
            ]
          },
          "execution_count": 43,
          "metadata": {},
          "output_type": "execute_result"
        }
      ],
      "source": [
        "# TODO: Initialize `log_reg_pca` model with default parameters and fit it on the PCA transformed training set\n",
        "log_reg_pca = LogisticRegression(penalty=None, multi_class='multinomial', random_state=42)\n",
        "log_reg_pca.fit(X_train_pca, y_train)\n",
        "y_pred = log_reg_pca.predict(X_test_pca)\n",
        "test_accuracy = log_reg_pca.score(X_test_pca, y_test)\n",
        "test_accuracy"
      ]
    },
    {
      "cell_type": "code",
      "execution_count": null,
      "metadata": {
        "colab": {
          "base_uri": "https://localhost:8080/"
        },
        "id": "aIXO5MaRJ6G5",
        "outputId": "349eadd9-17c6-4d40-b8b7-cc413dfe74ec"
      },
      "outputs": [
        {
          "name": "stdout",
          "output_type": "stream",
          "text": [
            "Correct! You earned 4/4 points. You are a star!\n",
            "\n",
            "Your submission has been successfully recorded in the gradebook.\n"
          ]
        }
      ],
      "source": [
        "# Grader (4 points)\n",
        "grader.grade(test_case_id = 'check_log_reg_pca', answer = (test_accuracy, log_reg_pca.n_features_in_, y_pred))"
      ]
    },
    {
      "cell_type": "markdown",
      "metadata": {
        "id": "tYGjFnJ8kfaK"
      },
      "source": [
        "### **1.4.3.0** Regression: Split Data into Train and Test [4 Points]\n",
        "\n",
        "**Task:**\n",
        " We will be predicting `price` for regression models.\n",
        "\n",
        " Drop all column except for `price`, `size_in_sqft`, `no_of_bedrooms`, and `no_of_bathrooms`. Save these columns in `reg_df_properties`. `price` will be your target variable and the others will be the features.\n",
        "\n",
        "\n",
        " Then, use scikit-learn's `train_test_split` function to split data for regression into train and test sets. The split should be 80-20 meaning 80% for training and rest for testing.\n",
        "\n",
        "**_IMPORTANT_: Please set the `seed` variable to 42 and then set the parameter to `random_state = seed`** and store the resulting splits as `X_train, X_test, y_train,` and `y_test`."
      ]
    },
    {
      "cell_type": "code",
      "execution_count": null,
      "metadata": {
        "id": "X6uGSdSYbLaO"
      },
      "outputs": [],
      "source": [
        "# TODO save columns price, size_in_sqft, no_of_bedrooms, and no_of_bathrooms as reg_df_properties\n",
        "reg_df_properties = df_properties[['price', 'size_in_sqft', 'no_of_bedrooms', 'no_of_bathrooms']]"
      ]
    },
    {
      "cell_type": "code",
      "execution_count": null,
      "metadata": {
        "id": "5f8a8uTcmTSV"
      },
      "outputs": [],
      "source": [
        "# TODO: stores features dataframe into variable called \"features\"\n",
        "features = reg_df_properties[['size_in_sqft', 'no_of_bedrooms', 'no_of_bathrooms']]\n",
        "\n",
        "# TODO: store the classification target variable (`price`) into \"target\"\n",
        "target = reg_df_properties['price']"
      ]
    },
    {
      "cell_type": "code",
      "execution_count": null,
      "metadata": {
        "id": "Z5rG25VRkfaL"
      },
      "outputs": [],
      "source": [
        "# TODO: Assign appropriate value to seed and conduct 80/20 train-test split with random_state = seed\n",
        "seed = 42\n",
        "X_train, X_test, y_train, y_test = train_test_split(features, target, test_size=0.20, random_state=seed)"
      ]
    },
    {
      "cell_type": "code",
      "execution_count": null,
      "metadata": {
        "colab": {
          "base_uri": "https://localhost:8080/"
        },
        "id": "cY1Rrlx5KGIR",
        "outputId": "c96c409b-4744-484f-b710-6a12cc16217c"
      },
      "outputs": [
        {
          "name": "stdout",
          "output_type": "stream",
          "text": [
            "Correct! You earned 4/4 points. You are a star!\n",
            "\n",
            "Your submission has been successfully recorded in the gradebook.\n"
          ]
        }
      ],
      "source": [
        "# Grader cell (4 points)\n",
        "grader.grade(test_case_id = 'train_test_split_regression', answer = (X_train.shape, X_test.shape,\n",
        "                                                                     y_train.shape, y_test.shape,\n",
        "                                                                     seed))"
      ]
    },
    {
      "cell_type": "markdown",
      "metadata": {
        "id": "NGlb6tnNcKO-"
      },
      "source": [
        "### **1.4.3.1** Regression Models [10 points]\n",
        "\n",
        "In this section, we will switch from classification models to regression models.\n",
        "\n",
        "Let's use the features we created in 1.4.3.0 to create regression models and predict the average price per room."
      ]
    },
    {
      "cell_type": "markdown",
      "metadata": {
        "id": "GlMOX0ljUk12"
      },
      "source": [
        "#### (a) Linear Regression (Unregularized) [5 Points]\n",
        "\n",
        "Use the `LinearRegression` class in scikit-learn to perform Linear Regression. Initialize a Linear regression model named `reg` with default parameters, fit the model to the training set, and then make predictions on the testing set Save your predictions in an array named `y_pred`, and report your R-squared score (saved it as a variable called `lin_reg_score`).\n",
        "\n",
        "**Task:**\n",
        "\n",
        "*   Read the Scikit-learn [documentation](https://scikit-learn.org/stable/modules/generated/sklearn.linear_model.LinearRegression.html) for Linear Regression.\n",
        "*   Use default hyperparameters.\n",
        "*   Train the linear regression model and evaluate it using the `score` method.\n",
        "*   Save your score in a variable `lin_reg_score`."
      ]
    },
    {
      "cell_type": "code",
      "execution_count": null,
      "metadata": {
        "id": "6PCTGcGEokY2"
      },
      "outputs": [],
      "source": [
        "# TODO: Import required libraries\n",
        "from sklearn.linear_model import LinearRegression\n",
        "from sklearn.metrics import r2_score\n",
        "\n",
        "# TODO: Initialize model with default parameters and fit it on the training set\n",
        "reg = LinearRegression()\n",
        "reg.fit(X_train, y_train)\n",
        "\n",
        "# TODO: Use the model to predict on the test set and save these predictions as `y_pred`\n",
        "y_pred = reg.predict(X_test)\n",
        "\n",
        "# TODO: Find the R-squared score and store the value in `lin_reg_score`\n",
        "lin_reg_score = r2_score(y_test, y_pred)"
      ]
    },
    {
      "cell_type": "code",
      "execution_count": null,
      "metadata": {
        "colab": {
          "base_uri": "https://localhost:8080/"
        },
        "id": "p3haAMi9KfVp",
        "outputId": "460ef611-7388-49fd-ad85-31accc823277"
      },
      "outputs": [
        {
          "name": "stdout",
          "output_type": "stream",
          "text": [
            "Correct! You earned 5/5 points. You are a star!\n",
            "\n",
            "Your submission has been successfully recorded in the gradebook.\n"
          ]
        }
      ],
      "source": [
        "# Grader (5 points)\n",
        "grader.grade(test_case_id = 'check_linear_reg', answer = (lin_reg_score, reg.coef_, reg.intercept_))\n"
      ]
    },
    {
      "cell_type": "markdown",
      "metadata": {
        "id": "G7EV4dpDcKO_"
      },
      "source": [
        "#### (b) Lasso Regression [5 Points]\n",
        "\n",
        "Use the `Lasso` class in scikit-learn to perform $L_1$ Regularized Linear Regression. Initialize a Ridge regression model named `reg_ridge` with regularization strength `alpha = 0.5`, fit the model to the training set, and then make predictions on the testing set. Report your $R^2$ score and save it as a variable called `lasso_score`.\n",
        "\n",
        "**Note:** Recall that Ridge regression is not scale-invariant, so you will need to standardize the features prior to modeling.\n",
        "\n",
        "**Task:**\n",
        "\n",
        "*   Read the Scikit-learn [documentation](https://scikit-learn.org/stable/modules/generated/sklearn.linear_model.Lasso.html#sklearn.linear_model.Lasso) for Lasso Regression.\n",
        "*   Set `alpha = 0.5`.\n",
        "*   Train the Lasso regression model and evaluate it using the `score` method.\n",
        "*   Save your score in a variable `lasso_score`."
      ]
    },
    {
      "cell_type": "code",
      "execution_count": null,
      "metadata": {
        "id": "pUi11tA3zCUe"
      },
      "outputs": [],
      "source": [
        "# TODO: Intermediate step to address scale-invariance\n",
        "alpha = 0.5"
      ]
    },
    {
      "cell_type": "code",
      "execution_count": null,
      "metadata": {
        "colab": {
          "base_uri": "https://localhost:8080/"
        },
        "id": "WOKnu3kiKotN",
        "outputId": "84b6ee22-1f48-4ed0-c06b-99b94336e7f7"
      },
      "outputs": [
        {
          "data": {
            "text/plain": [
              "0.7092097454167732"
            ]
          },
          "execution_count": 52,
          "metadata": {},
          "output_type": "execute_result"
        }
      ],
      "source": [
        "# TODO: Import required libraries\n",
        "from sklearn.linear_model import Lasso\n",
        "from sklearn.preprocessing import StandardScaler\n",
        "from sklearn.metrics import r2_score\n",
        "# TODO: Initialize model with alpha = 1 (keep other hyperparameters as default values) and fit it on the training set\n",
        "reg_lasso = Lasso(alpha=alpha)\n",
        "scaler = StandardScaler()\n",
        "X_train_scaled = scaler.fit_transform(X_train)\n",
        "X_test_scaled = scaler.transform(X_test)\n",
        "reg_lasso.fit(X_train_scaled, y_train)\n",
        "# TODO: Use the model to predict on the test set and save these predictions as `y_pred`\n",
        "y_pred =reg_lasso.predict(X_test_scaled)\n",
        "\n",
        "# TODO: Find the R-squared score and store the value in `lasso_score`\n",
        "lasso_score = r2_score(y_test, y_pred)\n",
        "\n",
        "lasso_score"
      ]
    },
    {
      "cell_type": "code",
      "execution_count": null,
      "metadata": {
        "colab": {
          "base_uri": "https://localhost:8080/"
        },
        "id": "dDnz9Tx0KqZ6",
        "outputId": "be7f521f-5446-46b2-f761-b5dbca59c225"
      },
      "outputs": [
        {
          "name": "stdout",
          "output_type": "stream",
          "text": [
            "Correct! You earned 5/5 points. You are a star!\n",
            "\n",
            "Your submission has been successfully recorded in the gradebook.\n"
          ]
        }
      ],
      "source": [
        "# Grader (2 points)\n",
        "grader.grade(test_case_id = 'check_lasso_reg', answer = (lasso_score, reg_lasso.alpha, reg_lasso.coef_))"
      ]
    },
    {
      "cell_type": "markdown",
      "metadata": {
        "id": "iX1UkLEjk7U_"
      },
      "source": [
        "### **1.4.4** K-Means Clustering [10 points]\n",
        "\n",
        "K-means clustering is a popular unsupervised machine learning algorithm that is used for grouping similar data points into a predetermined number of clusters. It is a simple and effective algorithm that is widely used in various fields such as image processing, recommendation systems, and customer segmentation.\n",
        "\n",
        "An elbow plot is a visualization tool used to determine the optimal number of clusters for a dataset. It plots the within-cluster sum of squares (WCSS) against the number of clusters. WCSS is the sum of the squared distance between each data point and its assigned centroid. The elbow plot helps you to choose the number of clusters that minimize the WCSS while avoiding overfitting.\n",
        "\n",
        "Please refer to the [Kmeans documentation](https://scikit-learn.org/stable/modules/generated/sklearn.cluster.KMeans.html) to find out how to compute the sum of squared distances.\n",
        "\n",
        "**We will be using the same features from the classification setting.\n",
        "To determine the best k for the clustering, let's firstly generate an elbow plot.**\n",
        "- Consider number of clusters from 2 to 10\n",
        "- Set parameter `n_init` to 5.\n",
        "- Set random seed to 0.\n",
        "\n",
        "**The elbow plot (4 points) will be manully graded**\n",
        "- x-axis is the \"number of clusters\", i.e. \"k\".\n",
        "- y-axis is the within-cluster sum of squares (WCSS) value\n",
        "- add proper titles for the plot and axis.\n",
        "\n",
        "\n",
        "**Note that standardizing the data before performing k-means clustering is often recommended, but for illustration purpose, we do not standardize the input in this section.**"
      ]
    },
    {
      "cell_type": "markdown",
      "metadata": {
        "id": "nTF8RcWHtJf1"
      },
      "source": [
        "#### (a) Find the best number of clusters with the elbow plot"
      ]
    },
    {
      "cell_type": "code",
      "execution_count": null,
      "metadata": {
        "id": "XXEC7Ab9k_4W"
      },
      "outputs": [],
      "source": [
        "# TODO: Prepare the data (the same features from the classification setting, i.e. excluding \"quality\")\n",
        "# stores features dataframe into variable called \"features\"\n",
        "features= encoded_df_properties.drop(columns=['quality'])"
      ]
    },
    {
      "cell_type": "code",
      "execution_count": null,
      "metadata": {
        "colab": {
          "base_uri": "https://localhost:8080/",
          "height": 573
        },
        "id": "ryEmlfE9KvW6",
        "outputId": "1a816b20-e4a4-486f-f427-9c92e438adaa"
      },
      "outputs": [
        {
          "data": {
            "image/png": "[encoded data removed]",
            "text/plain": [
              "<Figure size 800x600 with 1 Axes>"
            ]
          },
          "metadata": {},
          "output_type": "display_data"
        }
      ],
      "source": [
        "# Import the necessary libraries\n",
        "import matplotlib.pyplot as plt\n",
        "from sklearn.cluster import KMeans\n",
        "\n",
        "k_values = range(2, 11)\n",
        "wcss = []\n",
        "for k in k_values:\n",
        "    kmeans = KMeans(n_clusters=k, n_init=5, random_state=0)\n",
        "    kmeans.fit(features)\n",
        "    wcss.append(kmeans.inertia_)\n",
        "\n",
        "plt.figure(figsize=(8, 6))\n",
        "plt.plot(k_values, wcss, marker='o', linestyle='-', color='blue')\n",
        "plt.title('Elbow Plot for K-Means Clustering')\n",
        "plt.xlabel('Number of Clusters (k)')\n",
        "plt.ylabel('Within-Cluster Sum of Squares (WCSS)')\n",
        "plt.grid(True)\n",
        "plt.show()"
      ]
    },
    {
      "cell_type": "code",
      "execution_count": null,
      "metadata": {
        "id": "DMZqEOq7rW95"
      },
      "outputs": [],
      "source": [
        "# TODO: choose the best number of clusters (the elbow) and fill in\n",
        "number_of_clusters = 5"
      ]
    },
    {
      "cell_type": "code",
      "execution_count": null,
      "metadata": {
        "colab": {
          "base_uri": "https://localhost:8080/"
        },
        "id": "ZzzTpo8wKxia",
        "outputId": "475db7c1-0682-4ae2-a191-8f803dd430f0"
      },
      "outputs": [
        {
          "name": "stdout",
          "output_type": "stream",
          "text": [
            "Correct! You earned 3/3 points. You are a star!\n",
            "\n",
            "Your submission has been successfully recorded in the gradebook.\n"
          ]
        }
      ],
      "source": [
        "# Grader (2 points)\n",
        "grader.grade(test_case_id = 'kmeans_elbow', answer = (number_of_clusters, wcss))"
      ]
    },
    {
      "cell_type": "markdown",
      "metadata": {
        "id": "EQLHFhzds7BC"
      },
      "source": [
        "#### (b) Re-fit with the best number of clusters"
      ]
    },
    {
      "cell_type": "code",
      "execution_count": null,
      "metadata": {
        "colab": {
          "base_uri": "https://localhost:8080/",
          "height": 75
        },
        "id": "2EKE2fOEK0Gq",
        "outputId": "db1599b6-40ba-4120-adba-6ce33c00da95"
      },
      "outputs": [
        {
          "data": {
            "text/html": [
              "<style>#sk-container-id-2 {color: black;background-color: white;}#sk-container-id-2 pre{padding: 0;}#sk-container-id-2 div.sk-toggleable {background-color: white;}#sk-container-id-2 label.sk-toggleable__label {cursor: pointer;display: block;width: 100%;margin-bottom: 0;padding: 0.3em;box-sizing: border-box;text-align: center;}#sk-container-id-2 label.sk-toggleable__label-arrow:before {content: \"▸\";float: left;margin-right: 0.25em;color: #696969;}#sk-container-id-2 label.sk-toggleable__label-arrow:hover:before {color: black;}#sk-container-id-2 div.sk-estimator:hover label.sk-toggleable__label-arrow:before {color: black;}#sk-container-id-2 div.sk-toggleable__content {max-height: 0;max-width: 0;overflow: hidden;text-align: left;background-color: #f0f8ff;}#sk-container-id-2 div.sk-toggleable__content pre {margin: 0.2em;color: black;border-radius: 0.25em;background-color: #f0f8ff;}#sk-container-id-2 input.sk-toggleable__control:checked~div.sk-toggleable__content {max-height: 200px;max-width: 100%;overflow: auto;}#sk-container-id-2 input.sk-toggleable__control:checked~label.sk-toggleable__label-arrow:before {content: \"▾\";}#sk-container-id-2 div.sk-estimator input.sk-toggleable__control:checked~label.sk-toggleable__label {background-color: #d4ebff;}#sk-container-id-2 div.sk-label input.sk-toggleable__control:checked~label.sk-toggleable__label {background-color: #d4ebff;}#sk-container-id-2 input.sk-hidden--visually {border: 0;clip: rect(1px 1px 1px 1px);clip: rect(1px, 1px, 1px, 1px);height: 1px;margin: -1px;overflow: hidden;padding: 0;position: absolute;width: 1px;}#sk-container-id-2 div.sk-estimator {font-family: monospace;background-color: #f0f8ff;border: 1px dotted black;border-radius: 0.25em;box-sizing: border-box;margin-bottom: 0.5em;}#sk-container-id-2 div.sk-estimator:hover {background-color: #d4ebff;}#sk-container-id-2 div.sk-parallel-item::after {content: \"\";width: 100%;border-bottom: 1px solid gray;flex-grow: 1;}#sk-container-id-2 div.sk-label:hover label.sk-toggleable__label {background-color: #d4ebff;}#sk-container-id-2 div.sk-serial::before {content: \"\";position: absolute;border-left: 1px solid gray;box-sizing: border-box;top: 0;bottom: 0;left: 50%;z-index: 0;}#sk-container-id-2 div.sk-serial {display: flex;flex-direction: column;align-items: center;background-color: white;padding-right: 0.2em;padding-left: 0.2em;position: relative;}#sk-container-id-2 div.sk-item {position: relative;z-index: 1;}#sk-container-id-2 div.sk-parallel {display: flex;align-items: stretch;justify-content: center;background-color: white;position: relative;}#sk-container-id-2 div.sk-item::before, #sk-container-id-2 div.sk-parallel-item::before {content: \"\";position: absolute;border-left: 1px solid gray;box-sizing: border-box;top: 0;bottom: 0;left: 50%;z-index: -1;}#sk-container-id-2 div.sk-parallel-item {display: flex;flex-direction: column;z-index: 1;position: relative;background-color: white;}#sk-container-id-2 div.sk-parallel-item:first-child::after {align-self: flex-end;width: 50%;}#sk-container-id-2 div.sk-parallel-item:last-child::after {align-self: flex-start;width: 50%;}#sk-container-id-2 div.sk-parallel-item:only-child::after {width: 0;}#sk-container-id-2 div.sk-dashed-wrapped {border: 1px dashed gray;margin: 0 0.4em 0.5em 0.4em;box-sizing: border-box;padding-bottom: 0.4em;background-color: white;}#sk-container-id-2 div.sk-label label {font-family: monospace;font-weight: bold;display: inline-block;line-height: 1.2em;}#sk-container-id-2 div.sk-label-container {text-align: center;}#sk-container-id-2 div.sk-container {/* jupyter's `normalize.less` sets `[hidden] { display: none; }` but bootstrap.min.css set `[hidden] { display: none !important; }` so we also need the `!important` here to be able to override the default hidden behavior on the sphinx rendered scikit-learn.org. See: https://github.com/scikit-learn/scikit-learn/issues/21755 */display: inline-block !important;position: relative;}#sk-container-id-2 div.sk-text-repr-fallback {display: none;}</style><div id=\"sk-container-id-2\" class=\"sk-top-container\"><div class=\"sk-text-repr-fallback\"><pre>KMeans(n_clusters=5, n_init=5, random_state=0)</pre><b>In a Jupyter environment, please rerun this cell to show the HTML representation or trust the notebook. <br />On GitHub, the HTML representation is unable to render, please try loading this page with nbviewer.org.</b></div><div class=\"sk-container\" hidden><div class=\"sk-item\"><div class=\"sk-estimator sk-toggleable\"><input class=\"sk-toggleable__control sk-hidden--visually\" id=\"sk-estimator-id-2\" type=\"checkbox\" checked><label for=\"sk-estimator-id-2\" class=\"sk-toggleable__label sk-toggleable__label-arrow\">KMeans</label><div class=\"sk-toggleable__content\"><pre>KMeans(n_clusters=5, n_init=5, random_state=0)</pre></div></div></div></div></div>"
            ],
            "text/plain": [
              "KMeans(n_clusters=5, n_init=5, random_state=0)"
            ]
          },
          "execution_count": 58,
          "metadata": {},
          "output_type": "execute_result"
        }
      ],
      "source": [
        "# TODO: re-run the K-Means clustering with the best number of clusters\n",
        "best_number_of_clusters = 5\n",
        "kmeans = KMeans(n_clusters=best_number_of_clusters, n_init=5, random_state=0)\n",
        "kmeans.fit(features)"
      ]
    },
    {
      "cell_type": "code",
      "execution_count": null,
      "metadata": {
        "colab": {
          "base_uri": "https://localhost:8080/"
        },
        "id": "9veijEgkK4mp",
        "outputId": "1802a7f3-19eb-4bff-8d6c-b8c8c1b60c7e"
      },
      "outputs": [
        {
          "name": "stdout",
          "output_type": "stream",
          "text": [
            "Correct! You earned 3/3 points. You are a star!\n",
            "\n",
            "Your submission has been successfully recorded in the gradebook.\n"
          ]
        }
      ],
      "source": [
        "# Grader (3 points)\n",
        "grader.grade(test_case_id = 'refit_kmeans', answer = (Counter(kmeans.labels_), kmeans.n_features_in_))"
      ]
    },
    {
      "cell_type": "markdown",
      "metadata": {
        "id": "nyURjOkMcKPD"
      },
      "source": [
        "# **Part II:** Distributed Machine Learning with Spark (35  points)\n",
        "\n",
        "Apache Spark ML is a machine learning library that consists of common learning algorithms and utilities, including classification, regression, clustering, collaborative filtering, dimensionality reduction, and underlying optimization primitives.\n",
        "\n",
        "**Why Spark ML?**\n",
        "\n",
        "Moving to the Big Data Era requires heavy iterative computations on very large datasets. Standard implementations of machine learning algorithms require very powerful machines to be able to run. However, depending on high-end machines is not advantageous due to their high price and improper costs of scaling up. The idea of using distributed computing engines is to distribute the calculations to multiple low-end machines (commodity hardware) instead of a single high-end one. _This **definitely speeds up** the learning phase and allows us to create better models._\n",
        "\n",
        "**Read more about it with the Python documentation [here](https://spark.apache.org/docs/latest/ml-guide.html)**.\n",
        "\n",
        "Run the code below to set up Spark."
      ]
    },
    {
      "cell_type": "markdown",
      "metadata": {
        "id": "PY9ShBxkOQT0"
      },
      "source": [
        "**Note:** The cell below may take upto a 4-5 minutes to run."
      ]
    },
    {
      "cell_type": "code",
      "execution_count": null,
      "metadata": {
        "id": "9Eo8fwt8OcMa"
      },
      "outputs": [],
      "source": [
        "%%capture\n",
        "\n",
        "!apt install libkrb5-dev\n",
        "!wget https://downloads.apache.org/spark/spark-3.1.2/spark-3.1.2-bin-hadoop3.2.tgz\n",
        "!tar xf spark-3.1.2-bin-hadoop3.2.tgz\n",
        "!pip install findspark\n",
        "!pip install sparkmagic\n",
        "!pip install pyspark\n",
        "! pip install pyspark --user\n",
        "! pip install seaborn --user\n",
        "! pip install plotly --user\n",
        "! pip install imageio --user\n",
        "! pip install folium --user"
      ]
    },
    {
      "cell_type": "code",
      "execution_count": null,
      "metadata": {
        "colab": {
          "base_uri": "https://localhost:8080/"
        },
        "id": "lwqTpkc3Ogz3",
        "outputId": "0d587423-0106-4fe3-f3c9-ef6a735fb44a"
      },
      "outputs": [
        {
          "name": "stderr",
          "output_type": "stream",
          "text": [
            "/usr/local/lib/python3.10/dist-packages/pyspark/sql/context.py:113: FutureWarning: Deprecated in 3.0.0. Use SparkSession.builder.getOrCreate() instead.\n",
            "  warnings.warn(\n"
          ]
        }
      ],
      "source": [
        "import pyspark\n",
        "from pyspark.sql import SQLContext\n",
        "from pyspark.sql import SparkSession\n",
        "from pyspark.sql.types import *\n",
        "import pyspark.sql.functions as F\n",
        "\n",
        "spark = SparkSession.builder.appName('bigdata-hw4').getOrCreate()\n",
        "sqlContext = SQLContext(spark)"
      ]
    },
    {
      "cell_type": "code",
      "execution_count": null,
      "metadata": {
        "id": "WAjmBWz7Oqs0"
      },
      "outputs": [],
      "source": [
        "%load_ext sparkmagic.magics"
      ]
    },
    {
      "cell_type": "code",
      "execution_count": null,
      "metadata": {
        "id": "TfQ72cpUOr3l"
      },
      "outputs": [],
      "source": [
        "# Graph section\n",
        "import networkx as nx\n",
        "\n",
        "# SQLite RDBMS\n",
        "import sqlite3\n",
        "\n",
        "import os\n",
        "os.environ['SPARK_HOME'] = '/content/spark-3.1.2-bin-hadoop3.2'\n",
        "os.environ[\"JAVA_HOME\"] = \"/usr/lib/jvm/java-8-openjdk-amd64\""
      ]
    },
    {
      "cell_type": "markdown",
      "metadata": {
        "id": "6F4x_ia7RGyp"
      },
      "source": [
        "## **2.1** Initializing Spark Data [Subtotal 2 Points]\n",
        "\n",
        "We have the spark setup ready, and we now need the data for our ML algorithms. We will use the data you processed in Part I, but in Spark."
      ]
    },
    {
      "cell_type": "markdown",
      "metadata": {
        "id": "WYTG07Kq4E82"
      },
      "source": [
        "### **2.1.0** Converting the Pandas Dataframe into a Spark Dataframe [0 Points]\n",
        "\n",
        "Read the `encoded_df_properties` that you created in Part I into a Spark dataframe (`sdf`) and name the SDF as `properties_sdf`. \\\\\n",
        "**Note:** Just like Part I, the target variable (label) for this section will be `\"quality\"`."
      ]
    },
    {
      "cell_type": "code",
      "execution_count": null,
      "metadata": {
        "id": "UQtC3kw7rf1V"
      },
      "outputs": [],
      "source": [
        "#TODO: Read encoded_df_reservations into a Spark Dataframe called properties_sdf\n",
        "properties_sdf = spark.createDataFrame(encoded_df_properties)"
      ]
    },
    {
      "cell_type": "code",
      "execution_count": null,
      "metadata": {
        "id": "xL5S9baj1gLn"
      },
      "outputs": [],
      "source": [
        "# TODO: Verify that the schema of your Spark dataframe matches the above\n",
        "#        Make sure to double-check that the target variable i.e. quality is of type \"double\"\n",
        "from pyspark.sql.functions import col\n",
        "properties_sdf = properties_sdf.withColumn(\"quality\", col(\"quality\").cast(\"double\"))"
      ]
    },
    {
      "cell_type": "markdown",
      "metadata": {
        "id": "ywmJD03O0Zas"
      },
      "source": [
        "Print out the Dataframe Schema and verify the datatypes. If you did everything correctly so far, the schema should be:\n",
        "```\n",
        "root\n",
        " |-- neighborhood: string (nullable = true)\n",
        " |-- price: long (nullable = true)\n",
        " |-- size_in_sqft: long (nullable = true)\n",
        " |-- price_per_sqft: double (nullable = true)\n",
        " |-- no_of_bedrooms: long (nullable = true)\n",
        " |-- no_of_bathrooms: long (nullable = true)\n",
        " |-- quality: double (nullable = true)\n",
        " |-- maid_room: long (nullable = true)\n",
        " |-- unfurnished: long (nullable = true)\n",
        " |-- balcony: long (nullable = true)\n",
        " |-- barbecue_area: long (nullable = true)\n",
        " |-- built_in_wardrobes: long (nullable = true)\n",
        " |-- central_ac: long (nullable = true)\n",
        " |-- childrens_play_area: long (nullable = true)\n",
        " |-- childrens_pool: long (nullable = true)\n",
        " |-- concierge: long (nullable = true)\n",
        " |-- covered_parking: long (nullable = true)\n",
        " |-- kitchen_appliances: long (nullable = true)\n",
        " |-- lobby_in_building: long (nullable = true)\n",
        " |-- maid_service: long (nullable = true)\n",
        " |-- networked: long (nullable = true)\n",
        " |-- pets_allowed: long (nullable = true)\n",
        " |-- private_garden: long (nullable = true)\n",
        " |-- private_gym: long (nullable = true)\n",
        " |-- private_jacuzzi: long (nullable = true)\n",
        " |-- private_pool: long (nullable = true)\n",
        " |-- security: long (nullable = true)\n",
        " |-- shared_gym: long (nullable = true)\n",
        " |-- shared_pool: long (nullable = true)\n",
        " |-- shared_spa: long (nullable = true)\n",
        " |-- study: long (nullable = true)\n",
        " |-- vastu_compliant: long (nullable = true)\n",
        " |-- view_of_landmark: long (nullable = true)\n",
        " |-- view_of_water: long (nullable = true)\n",
        " |-- walk_in_closet: long (nullable = true)\n",
        "```\n",
        "\n",
        "**Note:** Especially ensure that the target variable is of the datatype `double`. Cast it to the correct datatype, if needed."
      ]
    },
    {
      "cell_type": "markdown",
      "metadata": {
        "id": "X3WUlDEv46rH"
      },
      "source": [
        "### **2.1.1** Setting Up a VectorAssembler [2 Points]\n",
        "\n",
        "Great! We have the processed data now. For Spark ML, we need to create a feature column which has all features concatenated as a list, and a single column for labels (which we already have!)\n",
        "We will use `VectorAssembler()` to create a feature vector from all our features, and we will call this vectorized variable as “features”.\n",
        "\n",
        "First, list all column names in `properties_sdf` and store them in a list variable called `all_columns`."
      ]
    },
    {
      "cell_type": "code",
      "execution_count": null,
      "metadata": {
        "colab": {
          "base_uri": "https://localhost:8080/"
        },
        "id": "yFoJ18QJLA9p",
        "outputId": "eae2c7e2-81d5-4464-b216-ddd1ce413b06"
      },
      "outputs": [
        {
          "name": "stdout",
          "output_type": "stream",
          "text": [
            "['price', 'size_in_sqft', 'price_per_sqft', 'no_of_bedrooms', 'no_of_bathrooms', 'quality', 'maid_room', 'unfurnished', 'balcony', 'barbecue_area', 'built_in_wardrobes', 'central_ac', 'childrens_play_area', 'childrens_pool', 'concierge', 'covered_parking', 'kitchen_appliances', 'lobby_in_building', 'maid_service', 'networked', 'pets_allowed', 'private_garden', 'private_gym', 'private_jacuzzi', 'private_pool', 'security', 'shared_gym', 'shared_pool', 'shared_spa', 'study', 'vastu_compliant', 'view_of_landmark', 'view_of_water', 'walk_in_closet']\n"
          ]
        }
      ],
      "source": [
        "# TODO: store all column names in the data_sdf in a list called \"all_columns\"\n",
        "all_columns = properties_sdf.columns\n",
        "print(all_columns)"
      ]
    },
    {
      "cell_type": "markdown",
      "metadata": {
        "id": "OAMDrTU157iA"
      },
      "source": [
        "Create a list of column(s) you don't want to include as your features (i.e., `'quality', 'neighborhood'`). Name this list `drop_columns`."
      ]
    },
    {
      "cell_type": "code",
      "execution_count": null,
      "metadata": {
        "id": "tbcp9QqH5_l0"
      },
      "outputs": [],
      "source": [
        "# TODO: Create \"drop_columns\"\n",
        "drop_columns = ['quality', 'neighborhood']"
      ]
    },
    {
      "cell_type": "markdown",
      "metadata": {
        "id": "j56ev2Mr6MZN"
      },
      "source": [
        "Now, using `drop_columns`, create a list called `feature_columns` that only contains the names of the columns that would be used as features for our ML models."
      ]
    },
    {
      "cell_type": "code",
      "execution_count": null,
      "metadata": {
        "colab": {
          "base_uri": "https://localhost:8080/"
        },
        "id": "FGC2k4RXMVj6",
        "outputId": "4556d163-61c9-4c11-eb26-6d2e5417f594"
      },
      "outputs": [
        {
          "name": "stdout",
          "output_type": "stream",
          "text": [
            "['price', 'size_in_sqft', 'price_per_sqft', 'no_of_bedrooms', 'no_of_bathrooms', 'maid_room', 'unfurnished', 'balcony', 'barbecue_area', 'built_in_wardrobes', 'central_ac', 'childrens_play_area', 'childrens_pool', 'concierge', 'covered_parking', 'kitchen_appliances', 'lobby_in_building', 'maid_service', 'networked', 'pets_allowed', 'private_garden', 'private_gym', 'private_jacuzzi', 'private_pool', 'security', 'shared_gym', 'shared_pool', 'shared_spa', 'study', 'vastu_compliant', 'view_of_landmark', 'view_of_water', 'walk_in_closet']\n"
          ]
        }
      ],
      "source": [
        "# TODO: Create the \"feature_columns\" list\n",
        "feature_columns =[col for col in all_columns if col not in drop_columns]\n",
        "print(feature_columns)"
      ]
    },
    {
      "cell_type": "code",
      "execution_count": null,
      "metadata": {
        "colab": {
          "base_uri": "https://localhost:8080/"
        },
        "id": "nyRU-NSLMYIZ",
        "outputId": "ab62504e-0333-4152-cc44-0677b01aec80"
      },
      "outputs": [
        {
          "name": "stdout",
          "output_type": "stream",
          "text": [
            "Correct! You earned 2/2 points. You are a star!\n",
            "\n",
            "Your submission has been successfully recorded in the gradebook.\n"
          ]
        }
      ],
      "source": [
        "# 2 points\n",
        "#Grader cell\n",
        "grader.grade(test_case_id = 'check_feature_columns', answer = feature_columns)"
      ]
    },
    {
      "cell_type": "markdown",
      "metadata": {
        "id": "JFDTSMCM72uR"
      },
      "source": [
        "Finally, create a [VectorAssembler](https://spark.apache.org/docs/3.1.3/api/python/reference/api/pyspark.ml.feature.VectorAssembler.html) object with the columns that you want to use as features. Name your output column as `features` (i.e. they are the features that will be used for SparkML)."
      ]
    },
    {
      "cell_type": "code",
      "execution_count": null,
      "metadata": {
        "id": "WmAZT38o7zxM"
      },
      "outputs": [],
      "source": [
        "# TODO: Import required library and create VectorAssembler object (to be used later)\n",
        "from pyspark.ml.feature import VectorAssembler\n",
        "\n",
        "assembler = VectorAssembler(inputCols=feature_columns, outputCol=\"features\")"
      ]
    },
    {
      "cell_type": "markdown",
      "metadata": {
        "id": "WYgt35u-68XA"
      },
      "source": [
        "## **2.2** Preprocessing: Pipeline and Train-Test Split [3 Points]\n",
        "\n",
        "Now that we have a VectorAssembler object ready, let's use it on our Spark dataframe to get the concatenated features column. To do this, we implement a [Pipeline](https://spark.apache.org/docs/latest/api/python/reference/api/pyspark.ml.Pipeline.html), which can be used to streamline multiple preprocessing stages at once. For this data, we just need a single stage with the assembler, but you could have other stages before that where you perform operations on the data like converting categorical strings in the features to numeric values, or do feature scaling operations.\n",
        "\n",
        "We will create a pipeline with a single stage — the assembler. Fit the pipeline on `reservations_df` to create the transformed dataframe and name it `processed_reservations_sdf`.\n"
      ]
    },
    {
      "cell_type": "code",
      "execution_count": null,
      "metadata": {
        "id": "PozlPEwbMw9l"
      },
      "outputs": [],
      "source": [
        "# TODO: Import required libraries\n",
        "\n",
        "from pyspark.ml import Pipeline\n",
        "# TODO: Define a pipeline object\n",
        "pipeline = Pipeline(stages=[assembler])\n",
        "\n",
        "# TODO: Fit and transform the pipeline on the data and store the transformed sdf as \"processed_properties_sdf\"\n",
        "processed_properties_sdf=pipeline.fit(properties_sdf).transform(properties_sdf)"
      ]
    },
    {
      "cell_type": "markdown",
      "metadata": {
        "id": "3LUua0RlNLpk"
      },
      "source": [
        "Now that we have the data in the format we need, we will create our train and test sets.\n",
        "\n",
        "Conduct a train-test split where 80% of the data is assigned to the training set while the remaining 20% is assigned to the testing set.\n",
        "\n",
        "- Name these sets as `train_sdf` and `test_sdf` respectively.\n",
        "- Set the variable `random_seed` to 42 and then add the argument `seed = random_seed` in the function to fix the random state in order to ensure consistency with our results."
      ]
    },
    {
      "cell_type": "code",
      "execution_count": null,
      "metadata": {
        "id": "CXym9xONNrzB"
      },
      "outputs": [],
      "source": [
        "# TODO: Assign appropriate value to the random_seed variable\n",
        "random_seed = 42\n",
        "\n",
        "# TODO: Do 80/20 train-test split with seed = random_seed and store them as \"train_sdf\" and \"test_sdf\"\n",
        "train_sdf, test_sdf = processed_properties_sdf.randomSplit([0.8, 0.2], seed=random_seed)"
      ]
    },
    {
      "cell_type": "code",
      "execution_count": null,
      "metadata": {
        "colab": {
          "base_uri": "https://localhost:8080/"
        },
        "id": "b9eZhdFwLQsy",
        "outputId": "fb18af2e-edc6-484b-9b02-c44f4c946dd7"
      },
      "outputs": [
        {
          "name": "stdout",
          "output_type": "stream",
          "text": [
            "Correct! You earned 3/3 points. You are a star!\n",
            "\n",
            "Your submission has been successfully recorded in the gradebook.\n"
          ]
        }
      ],
      "source": [
        "# Grader (3 points)\n",
        "grader.grade(test_case_id = 'check_train_test_split_spark', answer = (train_sdf.count(), test_sdf.count(), random_seed))"
      ]
    },
    {
      "cell_type": "markdown",
      "metadata": {
        "id": "ZlAv_PlBcYDr"
      },
      "source": [
        "## **2.3** Modelling (SparkML) [Subtotal 30 Points]\n",
        "\n",
        "Time to do the cool stuff! We will work on various types of models using SparkML to see the difference in implementation from sklearn."
      ]
    },
    {
      "cell_type": "markdown",
      "metadata": {
        "id": "0s65E3utg0Zo"
      },
      "source": [
        "### **2.3.1** Vanilla Logistic Regression [6 Points]\n",
        "\n",
        "Let's train an **unregularized** Logistic Regression model to our data and try to predict whether the `booking_status` will be cancelled or not.\n",
        "\n",
        "This time, we will use \"Big\" data tools to help us build a Logistic Regression model for binary classification. Look up the documentation online and try to understand how to implement this.\n",
        "\n",
        "**Note**: Make sure to set the parameter `maxIter` to 5 for fast computation. For all logistic regression models, use `family='multinomial'`."
      ]
    },
    {
      "cell_type": "code",
      "execution_count": null,
      "metadata": {
        "id": "IktoDMkWhn9p"
      },
      "outputs": [],
      "source": [
        "# TODO: Import required library for Logistic Regression\n",
        "from pyspark.ml.classification import LogisticRegression\n",
        "# TO-DO: Instantiate and fit Logistic Regression model to training data\n",
        "lr = LogisticRegression(maxIter=5, family='multinomial', labelCol=\"quality\")\n",
        "lr_model = lr.fit(train_sdf)"
      ]
    },
    {
      "cell_type": "markdown",
      "metadata": {
        "id": "uQWTQGRjiy2A"
      },
      "source": [
        "Calculate the training accuracy using the model's summary and store it in a variable called `train_accuracy`."
      ]
    },
    {
      "cell_type": "code",
      "execution_count": null,
      "metadata": {
        "id": "XjyYCYw6i1sD"
      },
      "outputs": [],
      "source": [
        "# TODO: Get training accuracy and store it as `train_accuracy`\n",
        "train_accuracy =  lr_model.summary.accuracy"
      ]
    },
    {
      "cell_type": "code",
      "execution_count": null,
      "metadata": {
        "colab": {
          "base_uri": "https://localhost:8080/"
        },
        "id": "YDKeHAJ6LY2h",
        "outputId": "45885ecc-abfc-4a8c-bf32-f2ebfb246c17"
      },
      "outputs": [
        {
          "data": {
            "text/plain": [
              "0.9406130268199234"
            ]
          },
          "execution_count": 76,
          "metadata": {},
          "output_type": "execute_result"
        }
      ],
      "source": [
        "train_accuracy"
      ]
    },
    {
      "cell_type": "markdown",
      "metadata": {
        "id": "C20Hy2qii_OO"
      },
      "source": [
        "Now, let's find out how good the model actually is and see if it overfits to the training data.\n",
        "\n",
        "Predict the labels `\"quality\"` for your test data and store them as `predictions` _(Hint: it is called 'transform' in SparkML)_"
      ]
    },
    {
      "cell_type": "code",
      "execution_count": null,
      "metadata": {
        "id": "szq8zQ3QjPWp"
      },
      "outputs": [],
      "source": [
        "# TODO: Make predictions on testing set and store it as \"predictions\"\n",
        "predictions = lr_model.transform(test_sdf)"
      ]
    },
    {
      "cell_type": "markdown",
      "metadata": {
        "id": "ZzEQ4ltcnKZg"
      },
      "source": [
        "Given the confusion matrix, we can calculate various metrics such as accuracy, precision, recall, F1 score etc.\n",
        "\n",
        "For our task, we will calculate the test accuracy. The formula for this is: \\\\\n",
        "\n",
        "> Accuracy = $\\frac{TP + TN}{TP + FP + TN + FN}$"
      ]
    },
    {
      "cell_type": "markdown",
      "metadata": {
        "id": "FBjkb5KAn2rl"
      },
      "source": [
        "Evaluate the performance using the Confusion Matrix using [MulticlassMetrics](https://spark.apache.org/docs/latest/api/python/reference/api/pyspark.mllib.evaluation.MulticlassMetrics.html) object in the SparkML Regression library. Store the Confusion Matrix as an numpy array named  `confusion_matrix`. \\\\\n",
        "\n",
        "(*Ignore any warnings you may get*)"
      ]
    },
    {
      "cell_type": "code",
      "execution_count": null,
      "metadata": {
        "colab": {
          "base_uri": "https://localhost:8080/"
        },
        "id": "hudav4vrLkoR",
        "outputId": "bfc04b84-a422-4273-f231-b21dbaebc569"
      },
      "outputs": [
        {
          "name": "stderr",
          "output_type": "stream",
          "text": [
            "/usr/local/lib/python3.10/dist-packages/pyspark/sql/context.py:158: FutureWarning: Deprecated in 3.0.0. Use SparkSession.builder.getOrCreate() instead.\n",
            "  warnings.warn(\n"
          ]
        }
      ],
      "source": [
        "# TODO: Import required libraries\n",
        "\n",
        "from pyspark.mllib.evaluation import MulticlassMetrics\n",
        "# TODO: Select appropriate columns to use MulticlassMetrics\n",
        "# Hint: use the .rdd function when selecting the columns\n",
        "# to create the input to MuliclassMetrics\n",
        "true_labels = predictions.select(\"quality\").rdd.map(lambda x: float(x[0]))\n",
        "predicted_labels = predictions.select(\"prediction\").rdd.map(lambda x: float(x[0]))\n",
        "metrics = MulticlassMetrics(true_labels.zip(predicted_labels))\n",
        "confusion_matrix = metrics.confusionMatrix().toArray()"
      ]
    },
    {
      "cell_type": "markdown",
      "metadata": {
        "id": "xWDnRN0upGh1"
      },
      "source": [
        "Now, calculate the test accuracy using the Confusion Matrix obtained above and store it in a variable called `test_accuracy`."
      ]
    },
    {
      "cell_type": "code",
      "execution_count": null,
      "metadata": {
        "colab": {
          "base_uri": "https://localhost:8080/"
        },
        "id": "zAFs87WsLnYJ",
        "outputId": "af03536f-1ba3-4317-c5a2-7edf6fbb2381"
      },
      "outputs": [
        {
          "data": {
            "text/plain": [
              "0.9491525423728814"
            ]
          },
          "execution_count": 79,
          "metadata": {},
          "output_type": "execute_result"
        }
      ],
      "source": [
        "#TODO: Calculate test accuracy using the confusion matrix and store it as \"test_accuracy\"\n",
        "true_positives = confusion_matrix[1, 1]\n",
        "false_positives = confusion_matrix[0, 1]\n",
        "true_negatives = confusion_matrix[0, 0]\n",
        "false_negatives = confusion_matrix[1, 0]\n",
        "\n",
        "test_accuracy = (true_positives + true_negatives) / (true_positives + false_positives + true_negatives + false_negatives)\n",
        "\n",
        "test_accuracy"
      ]
    },
    {
      "cell_type": "code",
      "execution_count": null,
      "metadata": {
        "colab": {
          "base_uri": "https://localhost:8080/"
        },
        "id": "FJRYOCSzLoli",
        "outputId": "82834382-57e9-4073-ddd8-b29617d09d1b"
      },
      "outputs": [
        {
          "name": "stdout",
          "output_type": "stream",
          "text": [
            "Correct! You earned 6/6 points. You are a star!\n",
            "\n",
            "Your submission has been successfully recorded in the gradebook.\n"
          ]
        }
      ],
      "source": [
        "# 6 points\n",
        "#Grader cell\n",
        "grader.grade(test_case_id = 'check_unreg_logistic', answer = (train_accuracy, test_accuracy, confusion_matrix))"
      ]
    },
    {
      "cell_type": "markdown",
      "metadata": {
        "id": "zu_wBe65VrW9"
      },
      "source": [
        "### **2.3.2** Regularized Logistic Regression [8 Points]\n",
        "\n",
        "Now, we will add regularization – LASSO (L1), Ridge (L2) and elastic net (combination of L1 and L2), to avoid overfitting. You can play around with different regularization (regParam and elasticNetParam) hyperparameters when initializing the 3 different regularized logistic regression models.\n",
        "\n",
        "Compare these with each other and with the unregularized regression performed in 2.3.1.\n",
        "\n",
        "Make sure to evaluate the performance on test data using the same methodology as above (using a confusion matrix to calculate the accuracy).\n",
        "\n",
        "**Note**: Just like 2.3.1, set `maxIter` to 5."
      ]
    },
    {
      "cell_type": "markdown",
      "metadata": {
        "id": "fSEYNPEPYBJk"
      },
      "source": [
        "#### (a) LASSO (L1)\n",
        "\n",
        "First, implement a LASSO Logistic Regression model using SparkML and call it `l1_model`, fit it on `train_sdf` and get predictions using `test_sdf`. Get the training accuracy and store it as `l1_train_accuracy`."
      ]
    },
    {
      "cell_type": "code",
      "execution_count": null,
      "metadata": {
        "colab": {
          "base_uri": "https://localhost:8080/"
        },
        "id": "MfTbTlY3Lq5h",
        "outputId": "8fdc8392-b90e-454a-d95e-de880a61954c"
      },
      "outputs": [
        {
          "data": {
            "text/plain": [
              "0.8320561941251596"
            ]
          },
          "execution_count": 81,
          "metadata": {},
          "output_type": "execute_result"
        }
      ],
      "source": [
        "# TODO: Instantiate LASSO/L1 regularized model as \"l1_model\"\n",
        "l1_model = LogisticRegression(featuresCol='features', labelCol='quality', maxIter=5, regParam=0.1, elasticNetParam=1.0)\n",
        "# TODO: Fit and Transform using \"l1_model\"\n",
        "l1_model = l1_model.fit(train_sdf)\n",
        "l1_predictions = l1_model.transform(test_sdf)\n",
        "# TODO: Store training accuracy as \"l1_train_accuracy\"\n",
        "l1_train_accuracy =l1_model.summary.accuracy\n",
        "l1_train_accuracy"
      ]
    },
    {
      "cell_type": "markdown",
      "metadata": {
        "id": "YZTFIUbicwmh"
      },
      "source": [
        "From the predictions, create a confusion matrix and use it to get the test accuracy. Store this accuracy value as `l1_test_accuracy`."
      ]
    },
    {
      "cell_type": "code",
      "execution_count": null,
      "metadata": {
        "colab": {
          "base_uri": "https://localhost:8080/"
        },
        "id": "ZJ2cQM7xLzry",
        "outputId": "d0bb22e4-0a8b-4fc8-8e00-098330ae9b06"
      },
      "outputs": [
        {
          "data": {
            "text/plain": [
              "(0.8525073746312685,\n",
              " array([[ 59,  25,   0,   0],\n",
              "        [  1, 222,   0,   0],\n",
              "        [  0,  23,   0,   0],\n",
              "        [  0,   1,   0,   8]]))"
            ]
          },
          "execution_count": 82,
          "metadata": {},
          "output_type": "execute_result"
        }
      ],
      "source": [
        "# TODO: Create the Confusion matrix\n",
        "from pyspark.ml.evaluation import MulticlassClassificationEvaluator\n",
        "evaluator = MulticlassClassificationEvaluator(labelCol=\"quality\", predictionCol=\"prediction\", metricName=\"accuracy\")\n",
        "l1_test_accuracy = evaluator.evaluate(l1_predictions)\n",
        "true_labels = np.array(l1_predictions.select(\"quality\").rdd.map(lambda x: x[0]).collect())\n",
        "predicted_labels = np.array(l1_predictions.select(\"prediction\").rdd.map(lambda x: x[0]).collect())\n",
        "confusion_matrix_l1 = np.zeros((4, 4), dtype=int)\n",
        "for i in range(len(true_labels)):\n",
        "    confusion_matrix_l1[int(true_labels[i])][int(predicted_labels[i])] += 1\n",
        "\n",
        "l1_test_accuracy, confusion_matrix_l1"
      ]
    },
    {
      "cell_type": "markdown",
      "metadata": {
        "id": "-O7Oq8KPdD9h"
      },
      "source": [
        "#### (b) Ridge (L2)\n",
        "\n",
        "Next, implement a Ridge Logistic Regression model using SparkML and call it `l2_model`, fit it on `train_sdf` and get predictions using `test_sdf`. Get the training accuracy and store it as `l2_train_accuracy`."
      ]
    },
    {
      "cell_type": "code",
      "execution_count": null,
      "metadata": {
        "colab": {
          "base_uri": "https://localhost:8080/"
        },
        "id": "p1YTDFXOMCYf",
        "outputId": "827a42b3-cbdd-47dd-8065-ac20997c7f8c"
      },
      "outputs": [
        {
          "data": {
            "text/plain": [
              "0.9157088122605364"
            ]
          },
          "execution_count": 83,
          "metadata": {},
          "output_type": "execute_result"
        }
      ],
      "source": [
        "# TODO: Instantiate Ridge/L2 regularized model as \"l2_model\"\n",
        "l2_model = LogisticRegression(featuresCol=\"features\", labelCol=\"quality\", maxIter=5, regParam=0.1, family=\"multinomial\")\n",
        "\n",
        "# TODO: Fit and Transform using \"l2_model\"\n",
        "\n",
        "l2_model = l2_model.fit(train_sdf)\n",
        "l2_train_predictions = l2_model.transform(train_sdf)\n",
        "evaluator = MulticlassClassificationEvaluator(labelCol=\"quality\", predictionCol=\"prediction\", metricName=\"accuracy\")\n",
        "# TODO: Store training accuracy as \"l2_train_accuracy\"\n",
        "l2_train_accuracy = evaluator.evaluate(l2_train_predictions)\n",
        "l2_train_accuracy"
      ]
    },
    {
      "cell_type": "markdown",
      "metadata": {
        "id": "z6BD1lsvdjZS"
      },
      "source": [
        "From the predictions, create a confusion matrix and use it to get the test accuracy. Store this accuracy value as `l2_test_accuracy`."
      ]
    },
    {
      "cell_type": "code",
      "execution_count": null,
      "metadata": {
        "colab": {
          "base_uri": "https://localhost:8080/"
        },
        "id": "p3TwzqJiMF86",
        "outputId": "3829cc6c-fc39-4a2a-bb2c-118660d1f490"
      },
      "outputs": [
        {
          "data": {
            "text/plain": [
              "(0.9462989840348331,\n",
              " array([[391.,  69.,   0.,   0.],\n",
              "        [  5., 913.,   5.,   0.],\n",
              "        [  0.,  49.,  59.,   3.],\n",
              "        [  0.,   0.,   1.,  71.]]))"
            ]
          },
          "execution_count": 84,
          "metadata": {},
          "output_type": "execute_result"
        }
      ],
      "source": [
        "# TODO: Create the Confusion matrix\n",
        "# TODO: Create the Confusion matrix\n",
        "l2_train_predictions = l2_train_predictions.withColumn(\"prediction\", col(\"prediction\").cast(DoubleType()))\n",
        "l2_train_predictions = l2_train_predictions.withColumn(\"quality\", col(\"quality\").cast(DoubleType()))\n",
        "predictions_and_labels = l2_train_predictions.select(\"prediction\", \"quality\").rdd\n",
        "metrics = MulticlassMetrics(predictions_and_labels)\n",
        "confusion_matrix_l2 = metrics.confusionMatrix().toArray()\n",
        "\n",
        "TP = confusion_matrix_l2[1, 1]\n",
        "TN = confusion_matrix_l2[0, 0]\n",
        "FP = confusion_matrix_l2[0, 1]\n",
        "FN = confusion_matrix_l2[1, 0]\n",
        "\n",
        "# TODO: Calculate the test accuracy as done in the previous section. Store test accuracy as \"l1_test_accuracy\"\n",
        "l2_test_accuracy = (TP + TN) / (TP + FP + TN + FN)\n",
        "l2_test_accuracy, confusion_matrix_l2"
      ]
    },
    {
      "cell_type": "markdown",
      "metadata": {
        "id": "fUibpxvqeCsz"
      },
      "source": [
        "#### (c) Elastic Net\n",
        "\n",
        "Finally, implement an Elastic Net Logistic Regression model using SparkML and call it `en_model`, fit it on `train_sdf` and get predictions using `test_sdf`. Get the training accuracy and store it as `en_train_accuracy`."
      ]
    },
    {
      "cell_type": "code",
      "execution_count": null,
      "metadata": {
        "colab": {
          "base_uri": "https://localhost:8080/"
        },
        "id": "O8WJJUSTMHch",
        "outputId": "eeaf09bf-b17e-4476-9d96-a9b53dae7cb6"
      },
      "outputs": [
        {
          "data": {
            "text/plain": [
              "0.8607918263090677"
            ]
          },
          "execution_count": 85,
          "metadata": {},
          "output_type": "execute_result"
        }
      ],
      "source": [
        "# TODO: Instantiate Elastic Net regularized model as \"en_model\"\n",
        "# Importing the necessary libraries\n",
        "from pyspark.ml.classification import LogisticRegression\n",
        "en_model = LogisticRegression(maxIter=5, regParam=0.1, elasticNetParam=0.5, labelCol='quality', family='multinomial')\n",
        "en_model = en_model.fit(train_sdf)\n",
        "en_predictions = en_model.transform(test_sdf)\n",
        "en_train_accuracy = en_model.summary.accuracy\n",
        "\n",
        "en_train_accuracy"
      ]
    },
    {
      "cell_type": "markdown",
      "metadata": {
        "id": "-Xge3cFxecaU"
      },
      "source": [
        "From the predictions, create a confusion matrix and use it to get the test accuracy. Store this accuracy value as `en_test_accuracy`."
      ]
    },
    {
      "cell_type": "code",
      "execution_count": null,
      "metadata": {
        "colab": {
          "base_uri": "https://localhost:8080/"
        },
        "id": "cL6ubSekMK8i",
        "outputId": "9cdea669-7ae8-4e06-a5d3-39d4656267ab"
      },
      "outputs": [
        {
          "data": {
            "text/plain": [
              "(0.9381107491856677,\n",
              " array([[ 68.,  16.,   0.,   0.],\n",
              "        [  3., 220.,   0.,   0.],\n",
              "        [  0.,  23.,   0.,   0.],\n",
              "        [  0.,   1.,   0.,   8.]]))"
            ]
          },
          "execution_count": 86,
          "metadata": {},
          "output_type": "execute_result"
        }
      ],
      "source": [
        "# TO-DO: Create the Confusion matrix\n",
        "\n",
        "en_predictions = en_predictions.withColumn(\"prediction\", col(\"prediction\").cast(DoubleType()))\n",
        "en_predictions = en_predictions.withColumn(\"quality\", col(\"quality\").cast(DoubleType()))\n",
        "predictions_and_labels = en_predictions.select(\"prediction\", \"quality\").rdd\n",
        "metrics = MulticlassMetrics(predictions_and_labels)\n",
        "confusion_matrix_en = metrics.confusionMatrix().toArray()\n",
        "\n",
        "TP = confusion_matrix_en[1, 1]\n",
        "TN = confusion_matrix_en[0, 0]\n",
        "FP = confusion_matrix_en[0, 1]\n",
        "FN = confusion_matrix_en[1, 0]\n",
        "\n",
        "en_test_accuracy = (TP + TN) / (TP + FP + TN + FN)\n",
        "en_test_accuracy, confusion_matrix_en\n",
        "\n",
        "# TODO: Calculate the test accuracy as done in the p\n"
      ]
    },
    {
      "cell_type": "code",
      "execution_count": null,
      "metadata": {
        "colab": {
          "base_uri": "https://localhost:8080/"
        },
        "id": "wiEhlN2kMPAB",
        "outputId": "4e460ea2-5ca9-4d43-be6d-caa0f35d8ea5"
      },
      "outputs": [
        {
          "name": "stdout",
          "output_type": "stream",
          "text": [
            "Correct! You earned 8/8 points. You are a star!\n",
            "\n",
            "Your submission has been successfully recorded in the gradebook.\n"
          ]
        }
      ],
      "source": [
        "#8 points\n",
        "#Grader cell\n",
        "grader.grade(test_case_id = 'check_reg_logistic', answer = (l1_model.getElasticNetParam(), l1_model.getRegParam(), l1_train_accuracy, l1_test_accuracy, l2_model.getElasticNetParam(), l2_model.getRegParam(), l2_train_accuracy, l2_test_accuracy, en_model.getElasticNetParam(), en_model.getRegParam(), en_train_accuracy, en_test_accuracy))"
      ]
    },
    {
      "cell_type": "markdown",
      "metadata": {
        "id": "H8k-KqujfWbA"
      },
      "source": [
        "### **2.3.3** Random Forest Classification [8 Points]\n",
        "\n",
        "If you are looking to win Kaggle competitions, you definitely must know about Random Forests, Boosted Trees, etc. These ensemble methods generalize and work surprisingly well for a lot of classification problems and sometimes for regression problems (though regression trees are not the focus of this course).\n",
        "\n",
        "Let's give it a go. Similar to what you did for the Logistic Regression model, create a Random Forest classifier model and name it `rf` and fit it to the training data. Call the fitted model `rf_model`.\n",
        "\n",
        "**Note1:** Set the `random_seed` to 42 and set the argument `seed = random_seed` while creating `rf` as a RandomForest object. \\\\\n",
        "**Note2:** Set `maxDepth` to 10 to find a good balance between performance and computation time."
      ]
    },
    {
      "cell_type": "code",
      "execution_count": null,
      "metadata": {
        "id": "J-rKH7Qh0m4H"
      },
      "outputs": [],
      "source": [
        "# TODO: Import required libraries\n",
        "\n",
        "from pyspark.ml.classification import RandomForestClassifier\n",
        "\n",
        "# TODO: Set random_seed to 42\n",
        "random_seed = 42\n",
        "\n",
        "# TODO: Instantiate the RF Model and call it \"rf\", then fit it on the training data\n",
        "rf =RandomForestClassifier(seed=random_seed, maxDepth=10,labelCol=\"quality\")\n",
        "rf_model = rf.fit(train_sdf)"
      ]
    },
    {
      "cell_type": "markdown",
      "metadata": {
        "id": "M71HnmZ41eIy"
      },
      "source": [
        "This time, get predictions on both the training and testing sets, and store them as `train_pred` and `test_pred` respectively."
      ]
    },
    {
      "cell_type": "code",
      "execution_count": null,
      "metadata": {
        "id": "dzPe3ld01hhA"
      },
      "outputs": [],
      "source": [
        "# TODO: Get predictions and save to \"train_pred\" and \"test_pred\" respectively\n",
        "train_pred =rf_model.transform(train_sdf)\n",
        "test_pred = rf_model.transform(test_sdf)"
      ]
    },
    {
      "cell_type": "markdown",
      "metadata": {
        "id": "xcEQUtzP1tZ4"
      },
      "source": [
        "Evaluate using the accuracy metric again, similar to the previous sections.\n",
        "- Store the confusion matrices as `rf_train_cm` and `rf_test_cm` respectively.\n",
        "- Store the training and test accuracy as `rf_train_accuracy` and  `rf_test_accuracy` respectively."
      ]
    },
    {
      "cell_type": "code",
      "execution_count": null,
      "metadata": {
        "id": "es9Wql3B14TV"
      },
      "outputs": [],
      "source": [
        "# TODO: Evaluate the prediction accuracy for train set and call it \"rf_train_accuracy\"\n",
        "train_pred_rdd = train_pred.select(\"prediction\", \"quality\").rdd\n",
        "test_pred_rdd = test_pred.select(\"prediction\", \"quality\").rdd\n",
        "rf_train_metrics = MulticlassMetrics(train_pred_rdd)\n",
        "rf_test_metrics = MulticlassMetrics(test_pred_rdd)\n",
        "\n",
        "rf_train_cm = rf_train_metrics.confusionMatrix().toArray()\n",
        "\n",
        "rf_train_accuracy = rf_train_metrics.accuracy\n",
        "\n",
        "# TODO: Evaluate the prediction accuracy for test set and call it \"rf_test_accuracy\"\n",
        "\n",
        "rf_test_cm =rf_test_metrics.confusionMatrix().toArray()\n",
        "rf_test_accuracy =rf_test_metrics.accuracy"
      ]
    },
    {
      "cell_type": "code",
      "execution_count": null,
      "metadata": {
        "colab": {
          "base_uri": "https://localhost:8080/"
        },
        "id": "Vu-Sgki4Msgi",
        "outputId": "d1375773-d231-4971-b2e8-e24465a82ec7"
      },
      "outputs": [
        {
          "name": "stdout",
          "output_type": "stream",
          "text": [
            "Correct! You earned 8/8 points. You are a star!\n",
            "\n",
            "Your submission has been successfully recorded in the gradebook.\n"
          ]
        }
      ],
      "source": [
        "# 8 points\n",
        "#Grader\n",
        "grader.grade(test_case_id = 'check_random_forest', answer = (rf_train_accuracy, train_pred.count(), rf_test_accuracy, test_pred.count(), rf_train_cm, rf_test_cm))"
      ]
    },
    {
      "cell_type": "markdown",
      "metadata": {
        "id": "n972zXod4DXF"
      },
      "source": [
        "### **2.3.4** Dimensionality Reduction Using PCA [8 Points]\n",
        "\n",
        "We will again use the powerful PCA to reduce the dimensions and project the data onto a lower dimensional space and fit a logistic regression on the new projected data."
      ]
    },
    {
      "cell_type": "markdown",
      "metadata": {
        "id": "LiL8evmIBhDL"
      },
      "source": [
        "Initialize a PCA model on SparkML, where you select an appropriate number of dimensions, and call it `pca`. Then, fit the model on the training data and get the PCA features from the trained model.\n",
        "\n",
        "**Hint**: Choose `k` for the PCA model using the explained variance plot you made earlier in 1.4.2"
      ]
    },
    {
      "cell_type": "code",
      "execution_count": null,
      "metadata": {
        "id": "J4t4b6RECbRl"
      },
      "outputs": [],
      "source": [
        "# Import required libraries\n",
        "from pyspark.ml.feature import PCA\n",
        "from pyspark.ml.feature import StandardScaler\n",
        "scaler = StandardScaler(inputCol=\"features\", outputCol=\"scaled_features\", withStd=True, withMean=True)\n",
        "scaler_model = scaler.fit(train_sdf)\n",
        "scaled_train_data = scaler_model.transform(train_sdf)\n",
        "test_sdf_scaled = scaler_model.transform(test_sdf)\n",
        "k = 1\n",
        "pca = PCA(k=k, inputCol=\"scaled_features\", outputCol=\"pca_features\")\n",
        "pca_model = pca.fit(scaled_train_data)\n",
        "train_sdf_pca = pca_model.transform(scaled_train_data)\n",
        "test_sdf_pca = pca_model.transform(test_sdf_scaled)"
      ]
    },
    {
      "cell_type": "markdown",
      "metadata": {
        "id": "IFxyRkmTDBta"
      },
      "source": [
        "Now, create a Logistic Regression model and train it using the PCA features."
      ]
    },
    {
      "cell_type": "code",
      "execution_count": null,
      "metadata": {
        "id": "QdX0LisYDcb1"
      },
      "outputs": [],
      "source": [
        "# TODO: Instantiate Logistic Regression model and call the model object \"lr_model\"\n",
        "lr_model = LogisticRegression(featuresCol=\"pca_features\", labelCol=\"quality\")\n",
        "lr_model = lr_model.fit(train_sdf_pca)\n",
        "# TODO: Fit Logistic Regression Model and get predictions\n",
        "test_pred = lr_model.transform(test_sdf_pca)"
      ]
    },
    {
      "cell_type": "markdown",
      "metadata": {
        "id": "pz2c4099D_h-"
      },
      "source": [
        "Calculate the training accuracy using the model's summary and store it in a variable called `train_accuracy_pca`."
      ]
    },
    {
      "cell_type": "code",
      "execution_count": null,
      "metadata": {
        "id": "ZqgCxBWfM3HS"
      },
      "outputs": [],
      "source": [
        "# TODO: Get training accuracy and store it as `train_accuracy_pca`\n",
        "evaluator = MulticlassClassificationEvaluator(labelCol=\"quality\", predictionCol=\"prediction\", metricName=\"accuracy\")\n",
        "train_accuracy_pca = evaluator.evaluate(test_pred)"
      ]
    },
    {
      "cell_type": "markdown",
      "metadata": {
        "id": "DRTBu6AOEe-L"
      },
      "source": [
        "\n",
        "Evaulate the test performance by creating a confusion matrix and call it `confusion_matrix_pca`. Then, calculate the test accuracy using the confusion matrix  and store it as `test_accuracy_pca`."
      ]
    },
    {
      "cell_type": "code",
      "execution_count": null,
      "metadata": {
        "id": "6AbNje50EU2a"
      },
      "outputs": [],
      "source": [
        "# TODO: Create confusion matrix and store it as \"confusion_matrix_pca\"\n",
        "test_pred = test_pred.withColumn(\"prediction\", col(\"prediction\").cast(DoubleType()))\n",
        "test_pred  = test_pred.withColumn(\"quality\", col(\"quality\").cast(DoubleType()))\n",
        "\n",
        "predictions_and_labels = test_pred.select(\"prediction\", \"quality\").rdd\n",
        "metrics = MulticlassMetrics(predictions_and_labels)\n",
        "\n",
        "confusion_matrix_pca = metrics.confusionMatrix().toArray()\n",
        "TP = confusion_matrix_pca[1, 1]\n",
        "TN = confusion_matrix_pca[0, 0]\n",
        "FP = confusion_matrix_pca[0, 1]\n",
        "FN = confusion_matrix_pca[1, 0]\n",
        "test_accuracy_pca = (TP + TN) / (TP + FN + TN + FP)\n"
      ]
    },
    {
      "cell_type": "code",
      "execution_count": null,
      "metadata": {
        "colab": {
          "base_uri": "https://localhost:8080/"
        },
        "id": "RqqLdEouM7n5",
        "outputId": "77eb0ec0-c802-4d09-df65-484657703ae0"
      },
      "outputs": [
        {
          "name": "stdout",
          "output_type": "stream",
          "text": [
            "Correct! You earned 8/8 points. You are a star!\n",
            "\n",
            "Your submission has been successfully recorded in the gradebook.\n"
          ]
        }
      ],
      "source": [
        "# 8 points\n",
        "#Grader cell\n",
        "grader.grade(test_case_id = 'check_pca', answer = (pca.getK(), len(lr_model.coefficientMatrix.toArray()), train_accuracy_pca, test_accuracy_pca, confusion_matrix_pca))"
      ]
    },
    {
      "cell_type": "markdown",
      "metadata": {
        "id": "jfH7LMHMGpgB"
      },
      "source": [
        "# Homework Submission\n",
        "\n",
        "Good job! You have finished the homework :) The submission instructions are as follows:\n",
        "\n",
        "* **Double check** that you have the correct PennID (all numbers) in the autograder.\n",
        "\n",
        "* **Triple check** that you fulfilled all the requirements mentioned in the beginning of the notebook.\n",
        "\n",
        "*  Go to the \"File\" tab at the top left of the Colab UI, click \"Download .ipynb\" and then \"Download .py\".  **Rename** these two files to `homework4.ipynb` and `homework4.py` respectively and upload them to Gradescope.\n",
        "\n",
        "* You must submit your notebook to receive credit. Post any issues with submission on Ed and make sure to keep in mind the late day policy.\n",
        "\n",
        "* After you submit your code, the teaching staff will manually grade your Colab notebook in order to validate the correctness of your code."
      ]
    }
  ],
  "metadata": {
    "colab": {
      "provenance": [],
      "toc_visible": true
    },
    "kernelspec": {
      "display_name": "Python 3",
      "name": "python3"
    },
    "language_info": {
      "name": "python"
    }
  },
  "nbformat": 4,
  "nbformat_minor": 0
}
