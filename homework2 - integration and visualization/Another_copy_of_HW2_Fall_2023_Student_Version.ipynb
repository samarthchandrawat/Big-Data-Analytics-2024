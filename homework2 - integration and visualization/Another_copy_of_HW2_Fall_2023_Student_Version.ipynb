{
  "cells": [
    {
      "cell_type": "markdown",
      "metadata": {
        "id": "wlv8esDGMj0h"
      },
      "source": [
        "# CIS 5450 Homework 2: SQL\n",
        "## Due: Wednesday, October 11 2023, 10:00 pm EST\n",
        "### Worth 100 points in total (90 Points Autograded + 10 Points Manually Graded)\n",
        "\n",
        "Welcome to Homework 2! By now, you should be familiar with the world of data science and the Pandas library. This assignment focuses on helping you get to grips with a new tool: SQL.\n",
        "\n",
        "Through this homework, we will be working with SQL (specifically **pandasql**) by exploring a [Yelp](https://www.kaggle.com/datasets/yelp-dataset/yelp-dataset/versions/6) dataset containing business, checkin, tip, and user data. We will also conduct some text analysis.\n",
        "\n",
        " <!-- We will finish off the homework with some text analysis. -->\n",
        "\n",
        "We are introducing a lot of new things in this homework, and this is often where students start to get lost. Thus, we **strongly** encourage you to review the slides/material as you work through this assignment.\n",
        "\n",
        "**Before you begin:**\n",
        "- Be sure to click \"Copy to Drive\" to make sure you're working on your own personal version of the homework\n",
        "- Check the **pinned FAQ post** on Ed for updates! If you have been stuck, chances are other students have also faced similar problems.\n",
        "- **WARNING:** You MUST check that your notebook displays ALL visualizations on the Gradescope preview AND verify that the autograder finishes running and gives you your expected score (not a 0). (Ed [#251](https://edstem.org/us/courses/44790/discussion/3426442)).\n",
        "  - **Penalty:** -10: if we have to resubmit your notebook to Gradescope for you after the deadline. (e.g. not naming your files correctly, not submitting `.py` and .`ipynb`, etc.).\n",
        "  - **Penalty:** -5: failing to restart and re-run your notebook and ensure that that all visualizations show up in the Gradescope preview of your `.ipynb` (see step 1 and 2 in screenshot below for how to check this) (e.g. `Large File Hidden Error`).\n",
        "  - **Note:** If your plot is not run or not present after we open your notebook, we will deduct the entire manually graded point value of the plot. (e.g. if your plot is worth 4 points, we will deduct 4 points).\n",
        "  - **Note:** If your `.py` file is hidden because it's too large, that's ok! We only care about your `.ipynb` file.\n",
        "\n"
      ]
    },
    {
      "cell_type": "markdown",
      "metadata": {
        "id": "W0hcZWDcqCUL"
      },
      "source": [
        "## Part 0: Libraries and Set Up Jargon (The usual wall of imports)"
      ]
    },
    {
      "cell_type": "code",
      "execution_count": null,
      "metadata": {
        "colab": {
          "base_uri": "https://localhost:8080/"
        },
        "id": "EOhd4iaEONEK",
        "outputId": "8df9b0c2-243e-49e6-d28b-04144fce9743"
      },
      "outputs": [
        {
          "output_type": "stream",
          "name": "stdout",
          "text": [
            "env: HW_ID=CIS5450_F23_HW2\n"
          ]
        }
      ],
      "source": [
        "%set_env HW_ID=CIS5450_F23_HW2"
      ]
    },
    {
      "cell_type": "code",
      "execution_count": null,
      "metadata": {
        "id": "brXQGz4QLIW2"
      },
      "outputs": [],
      "source": [
        "%%capture\n",
        "!pip install penngrader-client"
      ]
    },
    {
      "cell_type": "code",
      "execution_count": null,
      "metadata": {
        "colab": {
          "base_uri": "https://localhost:8080/"
        },
        "id": "ylkUtozb2Oc8",
        "outputId": "b0dcf9b0-6add-48e5-dfc3-c790ca0ffd3f"
      },
      "outputs": [
        {
          "output_type": "stream",
          "name": "stdout",
          "text": [
            "Collecting sqlalchemy==1.4.46\n",
            "  Downloading SQLAlchemy-1.4.46-cp310-cp310-manylinux_2_5_x86_64.manylinux1_x86_64.manylinux_2_17_x86_64.manylinux2014_x86_64.whl (1.6 MB)\n",
            "\u001b[2K     \u001b[90m━━━━━━━━━━━━━━━━━━━━━━━━━━━━━━━━━━━━━━━━\u001b[0m \u001b[32m1.6/1.6 MB\u001b[0m \u001b[31m12.8 MB/s\u001b[0m eta \u001b[36m0:00:00\u001b[0m\n",
            "\u001b[?25hRequirement already satisfied: greenlet!=0.4.17 in /usr/local/lib/python3.10/dist-packages (from sqlalchemy==1.4.46) (2.0.2)\n",
            "Installing collected packages: sqlalchemy\n",
            "  Attempting uninstall: sqlalchemy\n",
            "    Found existing installation: SQLAlchemy 2.0.21\n",
            "    Uninstalling SQLAlchemy-2.0.21:\n",
            "      Successfully uninstalled SQLAlchemy-2.0.21\n",
            "\u001b[31mERROR: pip's dependency resolver does not currently take into account all the packages that are installed. This behaviour is the source of the following dependency conflicts.\n",
            "ipython-sql 0.5.0 requires sqlalchemy>=2.0, but you have sqlalchemy 1.4.46 which is incompatible.\u001b[0m\u001b[31m\n",
            "\u001b[0mSuccessfully installed sqlalchemy-1.4.46\n",
            "Collecting pandasql\n",
            "  Downloading pandasql-0.7.3.tar.gz (26 kB)\n",
            "  Preparing metadata (setup.py) ... \u001b[?25l\u001b[?25hdone\n",
            "Requirement already satisfied: numpy in /usr/local/lib/python3.10/dist-packages (from pandasql) (1.23.5)\n",
            "Requirement already satisfied: pandas in /usr/local/lib/python3.10/dist-packages (from pandasql) (1.5.3)\n",
            "Requirement already satisfied: sqlalchemy in /usr/local/lib/python3.10/dist-packages (from pandasql) (1.4.46)\n",
            "Requirement already satisfied: python-dateutil>=2.8.1 in /usr/local/lib/python3.10/dist-packages (from pandas->pandasql) (2.8.2)\n",
            "Requirement already satisfied: pytz>=2020.1 in /usr/local/lib/python3.10/dist-packages (from pandas->pandasql) (2023.3.post1)\n",
            "Requirement already satisfied: greenlet!=0.4.17 in /usr/local/lib/python3.10/dist-packages (from sqlalchemy->pandasql) (2.0.2)\n",
            "Requirement already satisfied: six>=1.5 in /usr/local/lib/python3.10/dist-packages (from python-dateutil>=2.8.1->pandas->pandasql) (1.16.0)\n",
            "Building wheels for collected packages: pandasql\n",
            "  Building wheel for pandasql (setup.py) ... \u001b[?25l\u001b[?25hdone\n",
            "  Created wheel for pandasql: filename=pandasql-0.7.3-py3-none-any.whl size=26771 sha256=f62691b3f00bf1e97a867693cc6c5bdef528e4290a98f9dc7987190c0e662c52\n",
            "  Stored in directory: /root/.cache/pip/wheels/e9/bc/3a/8434bdcccf5779e72894a9b24fecbdcaf97940607eaf4bcdf9\n",
            "Successfully built pandasql\n",
            "Installing collected packages: pandasql\n",
            "Successfully installed pandasql-0.7.3\n",
            "Requirement already satisfied: geopy in /usr/local/lib/python3.10/dist-packages (2.3.0)\n",
            "Requirement already satisfied: geographiclib<3,>=1.52 in /usr/local/lib/python3.10/dist-packages (from geopy) (2.0)\n",
            "Collecting kaleido\n",
            "  Downloading kaleido-0.2.1-py2.py3-none-manylinux1_x86_64.whl (79.9 MB)\n",
            "\u001b[2K     \u001b[90m━━━━━━━━━━━━━━━━━━━━━━━━━━━━━━━━━━━━━━━━\u001b[0m \u001b[32m79.9/79.9 MB\u001b[0m \u001b[31m10.0 MB/s\u001b[0m eta \u001b[36m0:00:00\u001b[0m\n",
            "\u001b[?25hInstalling collected packages: kaleido\n",
            "Successfully installed kaleido-0.2.1\n"
          ]
        }
      ],
      "source": [
        "!pip install sqlalchemy==1.4.46\n",
        "!pip install pandasql\n",
        "!pip install geopy\n",
        "!pip install -U kaleido"
      ]
    },
    {
      "cell_type": "code",
      "execution_count": null,
      "metadata": {
        "colab": {
          "base_uri": "https://localhost:8080/"
        },
        "id": "LAXVD0Lo454x",
        "outputId": "3e658346-245e-4639-c8fd-1722882ccb8f"
      },
      "outputs": [
        {
          "output_type": "stream",
          "name": "stderr",
          "text": [
            "[nltk_data] Downloading package punkt to /root/nltk_data...\n",
            "[nltk_data]   Unzipping tokenizers/punkt.zip.\n"
          ]
        }
      ],
      "source": [
        "from penngrader.grader import *\n",
        "import pandas as pd\n",
        "import datetime as dt\n",
        "import geopy.distance as gp\n",
        "import matplotlib.image as mpimg\n",
        "import plotly.express as px\n",
        "import pandasql as ps #SQL on Pandas Dataframe\n",
        "import nltk\n",
        "nltk.download('punkt')\n",
        "\n",
        "from wordcloud import WordCloud\n",
        "from matplotlib.dates import date2num\n",
        "import matplotlib.pyplot as plt\n",
        "import math\n",
        "import re\n",
        "import json\n",
        "import os\n",
        "from collections import Counter\n",
        "import random"
      ]
    },
    {
      "cell_type": "code",
      "execution_count": null,
      "metadata": {
        "colab": {
          "base_uri": "https://localhost:8080/"
        },
        "id": "0TmMEXVcwONB",
        "outputId": "8f876ace-f838-4a0f-8a02-89e42c8f0284"
      },
      "outputs": [
        {
          "output_type": "stream",
          "name": "stdout",
          "text": [
            "--2023-10-03 20:00:57--  https://storage.googleapis.com/penn-cis5450/yelp_business.csv\n",
            "Resolving storage.googleapis.com (storage.googleapis.com)... 142.250.107.207, 173.194.202.207, 173.194.203.207, ...\n",
            "Connecting to storage.googleapis.com (storage.googleapis.com)|142.250.107.207|:443... connected.\n",
            "HTTP request sent, awaiting response... 200 OK\n",
            "Length: 31760674 (30M) [text/csv]\n",
            "Saving to: ‘yelp_business.csv’\n",
            "\n",
            "yelp_business.csv   100%[===================>]  30.29M   120MB/s    in 0.3s    \n",
            "\n",
            "2023-10-03 20:00:57 (120 MB/s) - ‘yelp_business.csv’ saved [31760674/31760674]\n",
            "\n",
            "--2023-10-03 20:00:57--  https://storage.googleapis.com/penn-cis5450/yelp_checkin.csv\n",
            "Resolving storage.googleapis.com (storage.googleapis.com)... 142.250.107.207, 173.194.202.207, 173.194.203.207, ...\n",
            "Connecting to storage.googleapis.com (storage.googleapis.com)|142.250.107.207|:443... connected.\n",
            "HTTP request sent, awaiting response... 200 OK\n",
            "Length: 135964892 (130M) [text/csv]\n",
            "Saving to: ‘yelp_checkin.csv’\n",
            "\n",
            "yelp_checkin.csv    100%[===================>] 129.67M   151MB/s    in 0.9s    \n",
            "\n",
            "2023-10-03 20:00:58 (151 MB/s) - ‘yelp_checkin.csv’ saved [135964892/135964892]\n",
            "\n",
            "--2023-10-03 20:00:58--  https://storage.googleapis.com/penn-cis5450/yelp_tip.csv\n",
            "Resolving storage.googleapis.com (storage.googleapis.com)... 142.250.107.207, 173.194.202.207, 173.194.203.207, ...\n",
            "Connecting to storage.googleapis.com (storage.googleapis.com)|142.250.107.207|:443... connected.\n",
            "HTTP request sent, awaiting response... 200 OK\n",
            "Length: 148085910 (141M) [text/csv]\n",
            "Saving to: ‘yelp_tip.csv’\n",
            "\n",
            "yelp_tip.csv        100%[===================>] 141.23M   137MB/s    in 1.0s    \n",
            "\n",
            "2023-10-03 20:00:59 (137 MB/s) - ‘yelp_tip.csv’ saved [148085910/148085910]\n",
            "\n",
            "--2023-10-03 20:00:59--  https://storage.googleapis.com/penn-cis5450/yelp_user.csv\n",
            "Resolving storage.googleapis.com (storage.googleapis.com)... 142.250.107.207, 173.194.202.207, 173.194.203.207, ...\n",
            "Connecting to storage.googleapis.com (storage.googleapis.com)|142.250.107.207|:443... connected.\n",
            "HTTP request sent, awaiting response... 200 OK\n",
            "Length: 1363176944 (1.3G) [text/csv]\n",
            "Saving to: ‘yelp_user.csv’\n",
            "\n",
            "yelp_user.csv       100%[===================>]   1.27G  97.9MB/s    in 15s     \n",
            "\n",
            "2023-10-03 20:01:14 (87.9 MB/s) - ‘yelp_user.csv’ saved [1363176944/1363176944]\n",
            "\n",
            "--2023-10-03 20:01:14--  https://storage.googleapis.com/penn-cis5450/hotel_reviews.csv\n",
            "Resolving storage.googleapis.com (storage.googleapis.com)... 142.250.107.207, 173.194.202.207, 173.194.203.207, ...\n",
            "Connecting to storage.googleapis.com (storage.googleapis.com)|142.250.107.207|:443... connected.\n",
            "HTTP request sent, awaiting response... 200 OK\n",
            "Length: 122430441 (117M) [text/csv]\n",
            "Saving to: ‘hotel_reviews.csv’\n",
            "\n",
            "hotel_reviews.csv   100%[===================>] 116.76M  51.7MB/s    in 2.3s    \n",
            "\n",
            "2023-10-03 20:01:17 (51.7 MB/s) - ‘hotel_reviews.csv’ saved [122430441/122430441]\n",
            "\n"
          ]
        }
      ],
      "source": [
        "# Five datasets we're using\n",
        "! wget -nc https://storage.googleapis.com/penn-cis5450/yelp_business.csv\n",
        "! wget -nc https://storage.googleapis.com/penn-cis5450/yelp_checkin.csv\n",
        "! wget -nc https://storage.googleapis.com/penn-cis5450/yelp_tip.csv\n",
        "! wget -nc https://storage.googleapis.com/penn-cis5450/yelp_user.csv\n",
        "! wget -nc https://storage.googleapis.com/penn-cis5450/hotel_reviews.csv"
      ]
    },
    {
      "cell_type": "code",
      "execution_count": null,
      "metadata": {
        "colab": {
          "base_uri": "https://localhost:8080/"
        },
        "id": "b5NogkmdhhQ7",
        "outputId": "4468d1db-85cd-478f-bfe5-f48e9f055fb6"
      },
      "outputs": [
        {
          "output_type": "stream",
          "name": "stdout",
          "text": [
            "1.5.3\n"
          ]
        }
      ],
      "source": [
        "print(pd.__version__ )"
      ]
    },
    {
      "cell_type": "markdown",
      "metadata": {
        "id": "TeyWoMn6pxSC"
      },
      "source": [
        "### PennGrader Setup"
      ]
    },
    {
      "cell_type": "code",
      "execution_count": null,
      "metadata": {
        "id": "H2DysIgZL2u-"
      },
      "outputs": [],
      "source": [
        "# PLEASE ENSURE YOUR PENN-ID IS ENTERED CORRECTLY.\n",
        "# IF NOT, THE AUTOGRADER WON'T KNOW WHO TO ASSIGN POINTS TO YOU IN OUR BACKEND\n",
        "# TODO: YOUR PENN-ID GOES HERE AS AN INTEGER\n",
        "STUDENT_ID = 48580633\n",
        "\n",
        "# You should also update this to a unique \"secret\" just for this homework, to\n",
        "# authenticate this is YOUR submission\n",
        "SECRET = STUDENT_ID"
      ]
    },
    {
      "cell_type": "markdown",
      "metadata": {
        "id": "KNFSUjDSHlUY"
      },
      "source": [
        "Leave this cell as-is..."
      ]
    },
    {
      "cell_type": "code",
      "execution_count": null,
      "metadata": {
        "colab": {
          "base_uri": "https://localhost:8080/"
        },
        "id": "STmv3XDuHko3",
        "outputId": "1e94cf06-67c7-4cab-8ee8-f9c7b88b8d54"
      },
      "outputs": [
        {
          "output_type": "stream",
          "name": "stdout",
          "text": [
            "Writing notebook-config.yaml\n"
          ]
        }
      ],
      "source": [
        "%%writefile notebook-config.yaml\n",
        "\n",
        "grader_api_url: 'https://23whrwph9h.execute-api.us-east-1.amazonaws.com/default/Grader23'\n",
        "grader_api_key: 'flfkE736fA6Z8GxMDJe2q8Kfk8UDqjsG3GVqOFOa'"
      ]
    },
    {
      "cell_type": "code",
      "execution_count": null,
      "metadata": {
        "colab": {
          "base_uri": "https://localhost:8080/"
        },
        "id": "Fja4mIB1L8oI",
        "outputId": "9d6dabf3-f120-423b-fe6a-8682d55e1c29"
      },
      "outputs": [
        {
          "output_type": "stream",
          "name": "stdout",
          "text": [
            "PennGrader initialized with Student ID: 48580633\n",
            "\n",
            "Make sure this correct or we will not be able to store your grade\n"
          ]
        }
      ],
      "source": [
        "grader = PennGrader('notebook-config.yaml', os.environ['HW_ID'], STUDENT_ID, SECRET)"
      ]
    },
    {
      "cell_type": "markdown",
      "metadata": {
        "id": "4w_ZD5UMfj26"
      },
      "source": [
        "# Yelp Dataset\n",
        "\n",
        "<br>\n",
        "<center><img src = \"https://static-prod.adweek.com/wp-content/uploads/2021/08/YelpLogoAugust2021.jpg\" width= \"500\" align =\"center\"/></center>\n",
        "<br>\n",
        "\n",
        "\n",
        "\n",
        "I'm sure you have used Yelp when searching for good restaurants or reliable local services, and with good reason. In this homework, we'll explore Yelp's extensive datasets to gain valuable insights into businesses and users on the platform. The data we will be using includes:\n",
        "\n",
        "* Business: data about businesses listed on Yelp\n",
        "* Check-in: data about check-ins made on businesses\n",
        "* Tip: data about tips that users left for each business\n",
        "* User: data about each user on Yelp including friends and number of reviews\n",
        "\n",
        "We'll be parsing this data into dataframes and relations, and then exploring how to query and assemble the tables into results. We will primarily be using PandaSQL, but for some of the initial questions, we will ask you to perform the same operations in Pandas as well, so as to familiarize you with the differences and similarities of the two.\n",
        "\n",
        "For the final part of this homework, we'll perform some text analysis on a hotel review dataset."
      ]
    },
    {
      "cell_type": "markdown",
      "metadata": {
        "id": "oENmSeFkFRCo"
      },
      "source": [
        "## Part 1: Load & Process our Datasets [12 points total]\n",
        "\n",
        "Before we get into the data, we first need to load and clean our datasets.\n",
        "\n",
        "# Metadata\n",
        "You'll be working with four CSV files:\n",
        "- `yelp_business.csv`\n",
        "- `yelp_checkin.csv`\n",
        "- `yelp_tip.csv`\n",
        "- `yelp_user.csv`\n",
        "\n",
        "The file `yelp_business.csv` contains data of businesses listed on Yelp such as name, address, stars, review count, etc.\n",
        "\n",
        "The file `yelp_checkin.csv` contains check-in data for businesses including day, hour, and number of people.\n",
        "\n",
        "The file `yelp_tip.csv` contains tips that each user left for each business.\n",
        "\n",
        "The file `yelp_user.csv` contains data of each user such as name, review count, friends, start date of membership, and etc.\n",
        "\n",
        "\n",
        "**TODO**:\n",
        "* Load `yelp_business.csv` and save the data to a dataframe called `business_df`.\n",
        "* Load `yelp_checkin.csv` and save the data to a dataframe called `checkin_df`.\n",
        "* Load `yelp_tip.csv` and save the data to a dataframe called `tip_df`.\n",
        "* Load `yelp_user.csv` and save the data to a dataframe called `user_df`.\n"
      ]
    },
    {
      "cell_type": "code",
      "execution_count": null,
      "metadata": {
        "id": "8ipfWu0afpCz"
      },
      "outputs": [],
      "source": [
        "business_df = pd.read_csv('yelp_business.csv')\n",
        "checkin_df = pd.read_csv('yelp_checkin.csv')\n",
        "tip_df = pd.read_csv('yelp_tip.csv')\n",
        "user_df = pd.read_csv('yelp_user.csv')"
      ]
    },
    {
      "cell_type": "code",
      "execution_count": null,
      "metadata": {
        "id": "9z4IukuZpX3U"
      },
      "outputs": [],
      "source": [
        "# TODO: view business_df (just the first 5 rows with .head() is fine) to make sure the import was successful\n",
        "business_df.head()"
      ]
    },
    {
      "cell_type": "code",
      "execution_count": null,
      "metadata": {
        "id": "Zd7egLysp-BK"
      },
      "outputs": [],
      "source": [
        "# TODO: view checkin_df (just the first 5 rows with .head() is fine) to make sure the import was successful\n",
        "checkin_df.head()"
      ]
    },
    {
      "cell_type": "code",
      "execution_count": null,
      "metadata": {
        "id": "bNicxKmiqCic"
      },
      "outputs": [],
      "source": [
        "# TODO: view tip_df (just the first 5 rows with .head() is fine) to make sure the import was successful\n",
        "tip_df.head()"
      ]
    },
    {
      "cell_type": "code",
      "execution_count": null,
      "metadata": {
        "id": "_00COZ1oqGNq"
      },
      "outputs": [],
      "source": [
        "# TODO: view user_df (just the first 5 rows with .head() is fine) to make sure the import was successful\n",
        "user_df.head()"
      ]
    },
    {
      "cell_type": "markdown",
      "metadata": {
        "id": "kgRgNCSJquoB"
      },
      "source": [
        "### 1.1 Data Preprocessing\n",
        "\n",
        "Next, we are going to want to clean up our dataframes. We will start with cleaning up `business_df`."
      ]
    },
    {
      "cell_type": "markdown",
      "metadata": {
        "id": "CEh-87BqyD5z"
      },
      "source": [
        "#### 1.1.1 Cleaning `business_df` [4 points]\n",
        "\n",
        "`.info()` gives us meaningful information regarding columns, their types, and the amount of nulls, based on which we can now clean our dataframe.\n",
        "\n",
        "Perform these steps and save results on a new dataframe: `business_cleaned_df`\n",
        "\n",
        "**TODO**:\n",
        "* Copy `business_df` to the new dataframe called `business_cleaned_df`\n",
        "* Remove extra quotation marks from the entries in the columns `name` and `address` in `business_cleaned_df`\n",
        "* Convert the column `categories` into a list of strings\n",
        "* Drop `neighborhood` column from `business_cleaned_df`\n",
        "* Create a column called `is_restaurant` where the value is 1 if `'Restaurants'` is in the list in column `categories` and is 0 otherwise\n",
        "* Create individual rows for each category of each business instead of having a list of categories (Hint: explode)\n",
        "* Sort `business_cleaned_df` by `business_id` and `categories` respectively in an ascending order and reset index as well as drop old indices\n",
        "* Create a list called `business_category_list` containing all unique values found in column `categories` and sort the list in an alphabetical order\n",
        "\n",
        "After performing these steps, `business_cleaned_df` should have the following schema:\n",
        "\n",
        "**Final Schema**:\n",
        ">business_id | name | address | city | state | postal_code | latitude | longitude | stars | review_count | is_open | categories | is_restaurant\n",
        ">--- | --- | --- |--- | --- | --- | --- |--- | --- | --- |--- |--- |---\n",
        "\n",
        "### **NOTES: MAKE SURE TO ALWAYS RESET INDEX. OTHERWISE, YOU MIGHT GET AN INTERNAL SERVER ERROR WHEN RUNNING THE TEST CASES!!!**"
      ]
    },
    {
      "cell_type": "code",
      "execution_count": null,
      "metadata": {
        "id": "mxyBVlCLwWR4"
      },
      "outputs": [],
      "source": [
        "# View info of business_df\n",
        "business_df.info()"
      ]
    },
    {
      "cell_type": "code",
      "execution_count": null,
      "metadata": {
        "id": "UBBLxYaz2QKh"
      },
      "outputs": [],
      "source": [
        "# TODO: Save business_df to business_cleaned_df\n",
        "business_cleaned_df = business_df.copy()"
      ]
    },
    {
      "cell_type": "code",
      "execution_count": null,
      "metadata": {
        "id": "hRhkZHBkq_sc"
      },
      "outputs": [],
      "source": [
        "# TODO: Remove extra quotations from name and address\n",
        "business_cleaned_df['name'] = business_cleaned_df['name'].str.replace('\"', '')\n",
        "business_cleaned_df['address'] = business_cleaned_df['address'].str.replace('\"', '')"
      ]
    },
    {
      "cell_type": "code",
      "execution_count": null,
      "metadata": {
        "id": "_HURPCdPrCuu"
      },
      "outputs": [],
      "source": [
        "# TODO: Convert categories into a list of strings\n",
        "business_cleaned_df['categories'] = business_cleaned_df['categories'].str.split(';')"
      ]
    },
    {
      "cell_type": "code",
      "execution_count": null,
      "metadata": {
        "id": "Trab6sxo1YX6"
      },
      "outputs": [],
      "source": [
        "# TODO: Drop neighborhood column\n",
        "business_cleaned_df.drop(columns=['neighborhood'], inplace=True)"
      ]
    },
    {
      "cell_type": "code",
      "execution_count": null,
      "metadata": {
        "id": "x_1o_fZHJynx"
      },
      "outputs": [],
      "source": [
        "# TODO: Create a column called is_restaurant where the value is 1 if 'Restaurants' is within the list in the column categories and is 0 otherwise\n",
        "business_cleaned_df['is_restaurant'] = business_cleaned_df['categories'].apply(lambda x: 1 if 'Restaurants' in x else 0)"
      ]
    },
    {
      "cell_type": "code",
      "execution_count": null,
      "metadata": {
        "id": "16XahuHoV8iD"
      },
      "outputs": [],
      "source": [
        "# TODO: Create individual rows for each category of each business (Hint: explode)\n",
        "business_cleaned_df = business_cleaned_df.explode('categories')"
      ]
    },
    {
      "cell_type": "code",
      "execution_count": null,
      "metadata": {
        "id": "Qgg_aM2h1VLg"
      },
      "outputs": [],
      "source": [
        "# TODO: Sort business_id and categories by ascending order\n",
        "business_cleaned_df = business_cleaned_df.sort_values(by=['business_id', 'categories']).reset_index(drop=True)"
      ]
    },
    {
      "cell_type": "code",
      "execution_count": null,
      "metadata": {
        "id": "I029QC98IYrt"
      },
      "outputs": [],
      "source": [
        "# TODO: Create a list called business_category_list containing all unique values found in column categories and sort the list in an alphabetical order\n",
        "business_category_list = sorted(business_cleaned_df['categories'].unique())"
      ]
    },
    {
      "cell_type": "code",
      "execution_count": null,
      "metadata": {
        "id": "bXIx23EpWFTi"
      },
      "outputs": [],
      "source": [
        "# 4 points\n",
        "grader.grade(test_case_id = 'test_cleaning_business', answer = (len(business_category_list), business_cleaned_df.head(5)))"
      ]
    },
    {
      "cell_type": "markdown",
      "metadata": {
        "id": "7Awewzgl3JYz"
      },
      "source": [
        "#### 1.1.2 Cleaning `checkin_df` [3 points]\n",
        "\n",
        "We will inspect `checkin_df` through the following steps:\n",
        "\n",
        "**TODO**:\n",
        "* Save `checkin_df` to the new dataframe called `checkin_cleaned_df`\n",
        "* Inspect the values in `weekday` column. Store the number of unique values for the column `weekday` in the variable called `weekday_count_checkin`\n",
        "* Inspect the values in `hour` column. Store the number of unique values for the column `hour` in the variable called `hour_count_checkin`\n",
        "* We would like to know the maximum number of check-ins received by a business in the dataframe. Store this value in the variable called `max_checkin_single`\n",
        "\n",
        "After performing these steps, `checkin_cleaned_df` should have the following schema (should be the same as `checkin_df`):\n",
        "\n",
        "**Final Schema**:\n",
        ">business_id | weekday | hour | checkins\n",
        ">--- | --- | --- |---"
      ]
    },
    {
      "cell_type": "code",
      "execution_count": null,
      "metadata": {
        "id": "Gnx3lUOr7Fhj"
      },
      "outputs": [],
      "source": [
        "# View info of checkin_df\n",
        "checkin_df.info()"
      ]
    },
    {
      "cell_type": "code",
      "execution_count": null,
      "metadata": {
        "id": "ZXAmSuLt3Ztl"
      },
      "outputs": [],
      "source": [
        "# TODO: Save checkin_df to checkin_cleaned_df\n",
        "checkin_cleaned_df = checkin_df.copy()"
      ]
    },
    {
      "cell_type": "code",
      "execution_count": null,
      "metadata": {
        "id": "ns-lrDAj7YAo"
      },
      "outputs": [],
      "source": [
        "# TODO: Store the number of unique values for the column weekday in the variable called weekday_count_checkin\n",
        "weekday_count_checkin = checkin_cleaned_df['weekday'].nunique()"
      ]
    },
    {
      "cell_type": "code",
      "execution_count": null,
      "metadata": {
        "id": "ApV76mb430fR"
      },
      "outputs": [],
      "source": [
        "# TODO: Store the number of unique values for the column hour in the variable called hour_count_checkin\n",
        "hour_count_checkin = checkin_cleaned_df['hour'].nunique()"
      ]
    },
    {
      "cell_type": "code",
      "execution_count": null,
      "metadata": {
        "id": "BBPBCQkk3lug"
      },
      "outputs": [],
      "source": [
        "# TODO: Store the maximum number of check-ins for a single business in the variable called max_checkin_single\n",
        "business_checkin_counts = checkin_df.groupby('business_id')['checkins'].sum()\n",
        "max_checkin_single = business_checkin_counts.max()"
      ]
    },
    {
      "cell_type": "code",
      "execution_count": null,
      "metadata": {
        "id": "LEMGzLbvg-qv"
      },
      "outputs": [],
      "source": [
        "# 3 points\n",
        "grader.grade(test_case_id = 'test_cleaning_checkin', answer = (weekday_count_checkin, hour_count_checkin, max_checkin_single))"
      ]
    },
    {
      "cell_type": "markdown",
      "metadata": {
        "id": "in0_6-2c3RMw"
      },
      "source": [
        "#### 1.1.3 Cleaning `tip_df` [2 points]\n",
        "\n",
        "We will clean `tip_df` through the following steps:\n",
        "\n",
        "**TODO**:\n",
        "* Save `tip_df` to the new dataframe called `tip_cleaned_df`\n",
        "* Drop all rows with NA\n",
        "* Convert the data type in `date` column from string to `datetime64[ns]` (Use default format: `'%Y-%m-%d'`)\n",
        "* Sort `tip_cleaned_df` by `business_id` and `user_id` in an ascending order and reset index\n",
        "\n",
        "After performing these steps, `tip_cleaned_df` should have the following schema (should be the same as `tip_df`):\n",
        "\n",
        "**Final Schema**:\n",
        ">text | date | likes | business_id | user_id\n",
        ">--- | --- | --- |--- |---"
      ]
    },
    {
      "cell_type": "code",
      "execution_count": null,
      "metadata": {
        "id": "YZ87eMU39B5q"
      },
      "outputs": [],
      "source": [
        "# View info of tip_df\n",
        "tip_df.info()"
      ]
    },
    {
      "cell_type": "code",
      "execution_count": null,
      "metadata": {
        "id": "poCUWRqG87HD"
      },
      "outputs": [],
      "source": [
        "# TODO: Save tip_df to tip_cleaned_df\n",
        "tip_cleaned_df = tip_df.copy()"
      ]
    },
    {
      "cell_type": "code",
      "execution_count": null,
      "metadata": {
        "id": "qjffdTXX89y5"
      },
      "outputs": [],
      "source": [
        "# TODO: Drop rows with NA\n",
        "tip_cleaned_df.dropna(inplace=True)"
      ]
    },
    {
      "cell_type": "code",
      "execution_count": null,
      "metadata": {
        "id": "RTGj5K_289v_"
      },
      "outputs": [],
      "source": [
        "# TODO: Convert the data in date column from string to datetime64[ns]\n",
        "tip_cleaned_df['date'] = pd.to_datetime(tip_cleaned_df['date'], format='%Y-%m-%d')"
      ]
    },
    {
      "cell_type": "code",
      "execution_count": null,
      "metadata": {
        "id": "AMXd21cJh7XB"
      },
      "outputs": [],
      "source": [
        "# TODO: Sort tip_cleaned_df by business_id in an ascending order and reset index\n",
        "tip_cleaned_df = tip_cleaned_df.sort_values(by=['business_id', 'user_id']).reset_index(drop=True)"
      ]
    },
    {
      "cell_type": "code",
      "execution_count": null,
      "metadata": {
        "id": "yYPAMBN8hpWS"
      },
      "outputs": [],
      "source": [
        "# 2 points\n",
        "grader.grade(test_case_id = 'test_cleaning_tip', answer = (tip_cleaned_df.head(5), len(tip_cleaned_df)))"
      ]
    },
    {
      "cell_type": "markdown",
      "metadata": {
        "id": "7lOZKViO3RWp"
      },
      "source": [
        "#### 1.1.4 Cleaning `user_df` [3 points]\n",
        "\n",
        "To understand what each column means, please refer to [this documentation](https://www.yelp.com/dataset/documentation/main) (Note that the original datasets were in JSON format).\n",
        "\n",
        "Perform these steps and save results on a new dataframe: `user_cleaned_df`\n",
        "\n",
        "**TODO**:\n",
        "* Save `user_df` to the new dataframe called `user_cleaned_df`\n",
        "* Create a column called `has_friend` which contains a value of 1 if the user has at least 1 friends and contains a value of 0 otherwise\n",
        "* Drop unwanted columns so we only have the following columns in `user_cleaned_df`: `user_id, name, review_count, yelping_since, friends, elite, average_stars, has_friend`\n",
        "* Sort `user_cleaned_df` by `user_id` in an ascending order and reset index\n",
        "\n",
        "After performing these steps, `user_cleaned_df` should have the following schema:\n",
        "\n",
        "**Final Schema**:\n",
        ">user_id | name | review_count | yelping_since | friends | elite | average_stars | has_friend\n",
        ">--- | --- | --- |--- | --- | --- |--- |---\n",
        "\n",
        "\n",
        "**Notes:**\n",
        "* Do not convert the `friends` column into a list of strings since the table is very large, and performing such an operation could lead to a depletion of your RAM. We will address this column later, but only on a smaller subset of the table.\n",
        "* `'friends'` column is of type string, and `'None'` should not be interpreted as `NA` but rather a string `'None'`"
      ]
    },
    {
      "cell_type": "code",
      "execution_count": null,
      "metadata": {
        "id": "dDfP5zGpMt7O"
      },
      "outputs": [],
      "source": [
        "# View info of user_df\n",
        "user_df.info()"
      ]
    },
    {
      "cell_type": "code",
      "execution_count": null,
      "metadata": {
        "id": "gM_Ri0dt891T"
      },
      "outputs": [],
      "source": [
        "# TODO: Save user_df to user_cleaned_df\n",
        "user_cleaned_df = user_df.copy()"
      ]
    },
    {
      "cell_type": "code",
      "execution_count": null,
      "metadata": {
        "id": "p9FvvNaeUbot"
      },
      "outputs": [],
      "source": [
        "# TODO: Create a column called has_friend which contains a value of 1 if the user has friends and 0 otherwise\n",
        "user_cleaned_df['has_friend'] = user_cleaned_df['friends'].apply(lambda x: 1 if x != 'None' else 0)"
      ]
    },
    {
      "cell_type": "code",
      "execution_count": null,
      "metadata": {
        "id": "XSvrCzREbBRH"
      },
      "outputs": [],
      "source": [
        "# TODO: Drop unwanted columns\n",
        "columns_to_keep = ['user_id', 'name', 'review_count', 'yelping_since', 'friends', 'elite', 'average_stars', 'has_friend']\n",
        "user_cleaned_df = user_cleaned_df[columns_to_keep]"
      ]
    },
    {
      "cell_type": "code",
      "execution_count": null,
      "metadata": {
        "id": "6iLZNXrKUvRR"
      },
      "outputs": [],
      "source": [
        "# TODO: Sort by user_id in an ascending order\n",
        "user_cleaned_df = user_cleaned_df.sort_values(by='user_id').reset_index(drop=True)"
      ]
    },
    {
      "cell_type": "code",
      "execution_count": null,
      "metadata": {
        "id": "FUy9fXMDk0q7"
      },
      "outputs": [],
      "source": [
        "# 3 points\n",
        "grader.grade(test_case_id = 'test_cleaning_user', answer = (user_cleaned_df.head(5), len(user_cleaned_df)))"
      ]
    },
    {
      "cell_type": "markdown",
      "metadata": {
        "id": "kYp9fW_SvG3g"
      },
      "source": [
        "### 1.2 Your Sandbox\n",
        "\n",
        "`.info()` is just one of many basic tools that you can use for Exploratory Data Analysis (EDA). Instead of throwing you straight into the deep end, we wanted to give you a chance to take some time and explore the data on your own. **This section is not graded**, so for the speedrunners out there feel free to just jump in, but we wanted to at least give you a small space to utilize your EDA toolkit to familiarize yourself with all the data you just downloaded.\n",
        "\n",
        "Some suggestions to get you started:\n",
        "- `df.head()`\n",
        "- `df.describe()`\n",
        "- `Series.unique()`"
      ]
    },
    {
      "cell_type": "code",
      "execution_count": null,
      "metadata": {
        "id": "U429NTI5RY4a"
      },
      "outputs": [],
      "source": [
        "# Your EDA here! Feel free to add more cells\n"
      ]
    },
    {
      "cell_type": "markdown",
      "metadata": {
        "id": "uLO0ZpVr54ZS"
      },
      "source": [
        "## Part 2: Exploring the Data with PandasSQL (and Pandas) [74 points total]\n",
        "\n",
        "Now that you are familiar (or still unfamiliar) with the dataset, we will now introduce you to SQL, or more specifically **pandasql**: a package created to allow users to query pandas DataFrames with SQL statements.\n",
        "\n",
        "**Notes: Please note that in this part, the questions are not necessarily ordered by increasing difficulty, i.e., the first question may not necessarily be the easiest, and the difficulty level may vary.**"
      ]
    },
    {
      "cell_type": "markdown",
      "metadata": {
        "id": "2_1-ZcAko9e-"
      },
      "source": [
        "## 👇👇👇 IMPORTANT: Pay VERY CLOSE attention to this style guide! 👇👇👇\n",
        "\n",
        "The typical flow to use pandasql (aliased as `ps`) is as follows:\n",
        "1. Write a SQL query in the form of a string\n",
        "    - **String Syntax:** use triple quotes `\"\"\"<your query>\"\"\"` to write multi-line strings\n",
        "    - **Aliases are your friend:** if there are very long table names or you find yourself needed to declare the source (common during join tasks), it's almost always optimal to alias your tables with short INTUITIVE alias names\n",
        "    - **New Clauses New Line:** each of the main SQL clauses (`SELECT`, `FROM`, `WHERE`, etc.) should begin on a new line\n",
        "    - **Use Indentation:** if there are many components for a single clause, separate them out with new <ins>indented</ins> lines.\n",
        "\n",
        "    Example below:\n",
        "    ```SQL\n",
        "    \"\"\"\n",
        "    SELECT ltn.some_id, SUM(stn.some_value) AS total\n",
        "    FROM long_table_name AS ltn\n",
        "         INNER JOIN short_table_name AS stn\n",
        "            ON ltn.common_key = stn.common_key\n",
        "         INNER JOIN med_table_name AS mtn\n",
        "            ON ltn.other_key = mtn.other_key\n",
        "    WHERE ltn.col1 > value\n",
        "         AND stn.col2 <= another_value\n",
        "         AND mtn.col3 != something_else\n",
        "    GROUP BY ltn.some_id\n",
        "    ORDER BY total\n",
        "    \"\"\"\n",
        "    ```\n",
        "2. Run the query using **ps.sqldf(your_query, locals())**\n",
        "\n",
        "Pandasql is convenient in that it allows you to reference the dataframes that are currently defined in your notebook, so you will be able to fully utilize the dataframes that you have created above!\n",
        "\n",
        "Given that it is a brand new language, we wanted to give you a chance to directly compare the similarities/differences of the pandas that you already know and the SQL that you are about to learn. Thus, for each of the simpler queries, we may ask that you **look into the question twice: once with pandas and once with pandasql**. The SQL queries may take a minute to run, don't worry that is normal!"
      ]
    },
    {
      "cell_type": "markdown",
      "metadata": {
        "id": "sxy0N9pDZDE7"
      },
      "source": [
        "### 2.1 Location, Location, Location [22 points]\n",
        "\n",
        "In the world of real estate, the phrase \"location, location, location\" has long been a mantra, emphasizing the importance of where a property is situated. Surprisingly, this mantra holds true not just for real estate but also for the culinary world. When it comes to restaurants, location can make or break a business. In this analysis, we're going to take a deep dive into the intersection of restaurants and their locations."
      ]
    },
    {
      "cell_type": "markdown",
      "metadata": {
        "id": "0PfvXCpC6NB2"
      },
      "source": [
        "#### 2.1.1 What are the cities with the most restaurants? [6 points]\n",
        "\n",
        "The dataframe `business_cleaned_df` contains information of each business. We want to know the top 10 cities with the most **unique** restaurants. Note that we can distinguish restaurants by their `business_id`, i.e., `business_id` are unique to each restaurant.\n",
        "\n",
        "**TODO:**\n",
        "\n",
        "* Use `pandas` to find top 10 cities in the `city` and `state` column with the most restaurants. Note that you should also include `state` in groupby since city names could repeat, i.e., `city` together with `state` are unique\n",
        "* Include average stars of restaurants in each city in the column called `average_stars`\n",
        "* Order the resulting dataframe by the total number of restaurants, `restaurant_count`, in descending order\n",
        "* Save the result as `most_res_df` and don't forget to reset index\n",
        "\n",
        "**Final Schema**:\n",
        ">city | state | restaurant_count | average_stars\n",
        ">--- | --- | --- |---\n",
        "\n",
        "**Hint:**\n",
        "* There are two indicators whether the business is a restaurant or not:\n",
        "    * `is_restaurant` equals `1`\n",
        "    * `categories` equals `'Restaurants'`\n",
        "* Think about how we cleaned `business_df` to figure out the best way to filter the restaurants!"
      ]
    },
    {
      "cell_type": "code",
      "execution_count": null,
      "metadata": {
        "id": "zYybPj-tbf6t"
      },
      "outputs": [],
      "source": [
        "restaurants_df = business_cleaned_df[(business_cleaned_df['is_restaurant'] == 1) & (business_cleaned_df['categories'].str.contains('Restaurants'))]\n",
        "\n",
        "# Group by city and state, and calculate the count of unique restaurant businesses and the average stars in each city\n",
        "city_restaurant_stats = restaurants_df.groupby(['city', 'state']).agg({'business_id': 'nunique', 'stars': 'mean'}).reset_index()\n",
        "\n",
        "# Rename the columns for clarity\n",
        "city_restaurant_stats.rename(columns={'business_id': 'restaurant_count', 'stars': 'average_stars'}, inplace=True)\n",
        "\n",
        "# Sort the dataframe by the restaurant count in descending order\n",
        "city_restaurant_stats = city_restaurant_stats.sort_values(by='restaurant_count', ascending=False).head(10)\n",
        "\n",
        "# Reset the index\n",
        "city_restaurant_stats.reset_index(drop=True, inplace=True)\n",
        "\n",
        "most_res_df = city_restaurant_stats.copy()"
      ]
    },
    {
      "cell_type": "code",
      "execution_count": null,
      "metadata": {
        "id": "PZA_b2J7a1j4"
      },
      "outputs": [],
      "source": [
        "# 3 points\n",
        "grader.grade(test_case_id = 'most_res_pd', answer = most_res_df)"
      ]
    },
    {
      "cell_type": "markdown",
      "metadata": {
        "id": "8WjJF8A3bl7W"
      },
      "source": [
        "**TODO:**\n",
        "* Now, use `pandasql` to find top 10 cities with the most restaurants\n",
        "* The result should be saved as `most_res_df_sql` and should be the same as the result from `pandas`\n",
        "\n",
        "**WARNING: DO NOT USE PANDAS FOR ALL SQL QUESTIONS! OTHERWISE, YOU WON'T RECEIVE CREDITS FOR ALL SQL QUESTIONS**"
      ]
    },
    {
      "cell_type": "code",
      "execution_count": null,
      "metadata": {
        "id": "XcHW1fe02LW_"
      },
      "outputs": [],
      "source": [
        "# TODO: Use SQL to find top 10 cities (including state) with the most restaurants. Also include average stars\n",
        "# SQL query to find the top 10 cities with the most unique restaurants\n",
        "most_res_query = '''\n",
        "SELECT city, state, COUNT(DISTINCT business_id) AS restaurant_count, AVG(stars) AS average_stars\n",
        "FROM business_cleaned_df\n",
        "WHERE is_restaurant = 1\n",
        "  AND categories LIKE '%Restaurants%'\n",
        "GROUP BY city, state\n",
        "ORDER BY restaurant_count DESC\n",
        "LIMIT 10\n",
        "'''\n",
        "\n",
        "# Execute the query using pandasql\n",
        "most_res_df_sql = ps.sqldf(most_res_query, locals())\n",
        "\n",
        "# Reset the index\n",
        "most_res_df_sql.head()"
      ]
    },
    {
      "cell_type": "code",
      "execution_count": null,
      "metadata": {
        "id": "cj_5REUcbrgd"
      },
      "outputs": [],
      "source": [
        "# 3 points\n",
        "grader.grade(test_case_id = 'most_res_sql', answer = (most_res_df_sql, most_res_query))"
      ]
    },
    {
      "cell_type": "markdown",
      "metadata": {
        "id": "tzQWkRS5e3AZ"
      },
      "source": [
        "#### 2.1.2 Which cities have the highest average check-ins per restaurant? [8 points]\n",
        "\n",
        "The dataframe `checkin_cleaned_df` contains check-in information for each business. We want to know the top 15 cities with the highest average check-ins per restaurant.\n",
        "\n",
        "**TODO:**\n",
        "\n",
        "* Use `pandas` to find top 15 cities in the `city` and `state` column with the highest average check-ins per restaurant. Note that you should also include `state` in groupby since city names could repeat, i.e., `city` together with `state` are unique\n",
        "* Include average check-ins per restaurant in each city in the column called `avg_checkins`\n",
        "* Order the resulting dataframe by `avg_checkins` in descending order\n",
        "* Save the result as `most_checkin_df` and don't forget to reset index\n",
        "\n",
        "**Notes:**\n",
        "* Only consider businesses with check-in data in `checkin_cleaned_df`. Do not include businesses with no check-in data in the average.\n",
        "* One `business_id` can appear in more than one row in `business_cleaned_df` and `checkin_cleaned_df`. Think about how we can filter restaurants from other types of business without taking duplicates.\n",
        "\n",
        "**Final Schema**:\n",
        ">city | state | avg_checkins\n",
        ">--- | --- | ---"
      ]
    },
    {
      "cell_type": "code",
      "execution_count": null,
      "metadata": {
        "id": "Z0YxVrMKhFxQ"
      },
      "outputs": [],
      "source": [
        "# Filter business_cleaned_df to include only restaurants\n",
        "restaurant_business_df = business_cleaned_df[(business_cleaned_df['is_restaurant'] == 1) & (business_cleaned_df['categories'].str.contains('Restaurants'))]\n",
        "\n",
        "# Merge restaurant_business_df and checkin_cleaned_df on 'business_id' to filter only restaurants with check-in data\n",
        "restaurant_checkins_df = restaurant_business_df.merge(checkin_cleaned_df, on='business_id', how='inner')\n",
        "\n",
        "# Group the merged dataframe by 'business_id' to sum check-ins for each restaurant\n",
        "restaurant_checkins_df = restaurant_checkins_df.groupby('business_id')['checkins'].sum().reset_index()\n",
        "\n",
        "# Merge with restaurant_business_df to retain city and state information\n",
        "restaurant_checkins_df = restaurant_checkins_df.merge(restaurant_business_df[['business_id', 'city', 'state']], on='business_id', how='inner')\n",
        "\n",
        "# Group the merged dataframe by city and state, and calculate the average check-ins per restaurant in each city\n",
        "city_checkin_stats = restaurant_checkins_df.groupby(['city', 'state'])['checkins'].mean().reset_index()\n",
        "\n",
        "# Rename the columns for clarity\n",
        "city_checkin_stats.rename(columns={'checkins': 'avg_checkins'}, inplace=True)\n",
        "\n",
        "# Sort the dataframe by average check-ins per restaurant in descending order\n",
        "city_checkin_stats = city_checkin_stats.sort_values(by='avg_checkins', ascending=False).head(15)\n",
        "\n",
        "# Reset the index\n",
        "city_checkin_stats.reset_index(drop=True, inplace=True)\n",
        "\n",
        "# Display the result\n",
        "most_checkin_df = city_checkin_stats"
      ]
    },
    {
      "cell_type": "code",
      "execution_count": null,
      "metadata": {
        "id": "foHQPnHKeUZE"
      },
      "outputs": [],
      "source": [
        "# 4 points\n",
        "grader.grade(test_case_id = 'most_checkin_pd', answer = most_checkin_df)"
      ]
    },
    {
      "cell_type": "markdown",
      "metadata": {
        "id": "MuWsyJiNhMl1"
      },
      "source": [
        "**TODO:**\n",
        "* Now, use `pandasql` to find top 15 cities with the highest average check-ins per restaurant\n",
        "* The result should be saved as `most_res_df_sql` and should be the same as the result from `pandas`"
      ]
    },
    {
      "cell_type": "code",
      "execution_count": null,
      "metadata": {
        "id": "A7UItnNw_Mg8"
      },
      "outputs": [],
      "source": [
        "# TODO: Use SQL to find 15 cities (including state) with highest average checkins per restaurant\n",
        "most_checkin_query = '''\n",
        "SELECT city, state, AVG(avg_checkins) AS avg_checkins\n",
        "FROM (\n",
        "    SELECT bc.city, bc.state, cc.business_id, AVG(cc.checkins) AS avg_checkins\n",
        "    FROM business_cleaned_df AS bc\n",
        "    INNER JOIN (\n",
        "        SELECT business_id, SUM(checkins) AS checkins\n",
        "        FROM checkin_cleaned_df\n",
        "        GROUP BY business_id\n",
        "    ) AS cc ON bc.business_id = cc.business_id\n",
        "    WHERE bc.is_restaurant = 1 AND bc.categories LIKE '%Restaurants%'\n",
        "    GROUP BY bc.city, bc.state, cc.business_id\n",
        ")\n",
        "GROUP BY city, state\n",
        "ORDER BY avg_checkins DESC\n",
        "LIMIT 15\n",
        "'''\n",
        "most_checkin_df_sql = ps.sqldf(most_checkin_query, locals())\n",
        "most_checkin_df_sql.head()"
      ]
    },
    {
      "cell_type": "code",
      "execution_count": null,
      "metadata": {
        "id": "LSmvDc3xfPMk"
      },
      "outputs": [],
      "source": [
        "# 4 points\n",
        "grader.grade(test_case_id = 'most_checkin_sql', answer = (most_checkin_df_sql, most_checkin_query))"
      ]
    },
    {
      "cell_type": "markdown",
      "metadata": {
        "id": "DTZsT5z01eo9"
      },
      "source": [
        "#### 2.1.3 Which states have the most popular Thai restaurants? [8 points]\n",
        "We would like to know which state has the most popular Thai restaurants, which we will gauge using the number of reviews.\n",
        "\n",
        "**TODO:**\n",
        "* Use `business_cleaned_df` to find Thai restaurants with the highest `review_count` for each state\n",
        "* The resulting dataframe should include the `state` and `city` in which the restaurant is located, the `name` of the restaurant, the number of reviews in the `max_review` column, and the `stars` of the restaurant\n",
        "* If there are more than one Thai restaurants in the same state with the maximum number of reviews, include all of them in the resulting dataframe\n",
        "* Save the result as `popular_thai_df` and don't forget to reset index\n",
        "* Finally, order the resulting dataframe by `max_review` in a descending order and `name` in an ascending order respectively\n",
        "\n",
        "\n",
        "**Final Schema**:\n",
        ">state | city | name | max_review | stars\n",
        ">--- | --- | --- | --- | ---"
      ]
    },
    {
      "cell_type": "code",
      "execution_count": null,
      "metadata": {
        "id": "IDtHj_4H5AYC"
      },
      "outputs": [],
      "source": [
        "# Filter business_cleaned_df to include only Thai restaurants\n",
        "thai_restaurants_df = business_cleaned_df[(business_cleaned_df['categories'].str.contains('Thai'))]\n",
        "\n",
        "# Group by state and find the Thai restaurant(s) with the highest review_count in each state\n",
        "popular_thai_df = thai_restaurants_df.groupby('state').apply(lambda x: x[x['review_count'] == x['review_count'].max()]).reset_index(drop=True)\n",
        "\n",
        "# Reset the index\n",
        "popular_thai_df.reset_index(drop=True, inplace=True)\n",
        "\n",
        "# Sort the resulting dataframe by review_count in descending order and name in ascending order\n",
        "popular_thai_df = popular_thai_df.sort_values(by=['review_count', 'name'], ascending=[False, True])\n",
        "\n",
        "# Rename the 'review_count' column to 'max_review'\n",
        "popular_thai_df.rename(columns={'review_count': 'max_review'}, inplace=True)\n",
        "\n",
        "# Keep only the required columns: state, city, name, max_review, and stars\n",
        "popular_thai_df = popular_thai_df[['state', 'city', 'name', 'max_review', 'stars']]\n",
        "\n",
        "popular_thai_df.reset_index(drop=True, inplace=True)"
      ]
    },
    {
      "cell_type": "code",
      "execution_count": null,
      "metadata": {
        "id": "P4GIspvOhjZ_"
      },
      "outputs": [],
      "source": [
        "# 4 points\n",
        "grader.grade(test_case_id = 'popular_thai_pd', answer = popular_thai_df)"
      ]
    },
    {
      "cell_type": "markdown",
      "metadata": {
        "id": "P8MNpEyE41Y0"
      },
      "source": [
        "**TODO:**\n",
        "* Now, use `pandasql` to find Thai restaurants with highest review count for each state\n",
        "* The result should be saved as `popular_thai_df_sql` and should be the same as the result from `pandas`"
      ]
    },
    {
      "cell_type": "code",
      "execution_count": null,
      "metadata": {
        "id": "tA7BsRmI3VaG"
      },
      "outputs": [],
      "source": [
        "# TODO: Use SQL to find Thai restaurants with highest review count for each state\n",
        "popular_thai_query = '''\n",
        "SELECT state, city, name, review_count AS max_review, stars\n",
        "FROM (\n",
        "    SELECT state, city, name, review_count, stars, DENSE_RANK() OVER(PARTITION BY state ORDER BY review_count DESC) AS state_rank\n",
        "    FROM business_cleaned_df\n",
        "    WHERE categories LIKE '%Thai%'\n",
        ")\n",
        "WHERE state_rank = 1\n",
        "ORDER BY max_review DESC, name ASC\n",
        "'''\n",
        "popular_thai_df_sql = ps.sqldf(popular_thai_query, locals())\n",
        "popular_thai_df_sql.head()"
      ]
    },
    {
      "cell_type": "code",
      "execution_count": null,
      "metadata": {
        "id": "CSs5AQ-oifCo"
      },
      "outputs": [],
      "source": [
        "# 4 points\n",
        "grader.grade(test_case_id = 'popular_thai_sql', answer = (popular_thai_df_sql, popular_thai_query))"
      ]
    },
    {
      "cell_type": "markdown",
      "metadata": {
        "id": "_gVAIFiYMdpf"
      },
      "source": [
        "###2.2 Best Time to Visit Restaurant [14 points]"
      ]
    },
    {
      "cell_type": "markdown",
      "metadata": {
        "id": "tcFlnI8G9-T0"
      },
      "source": [
        "#### 2.2.1 Finding restaurants  [6 points]\n",
        "\n",
        "After working hard on this course, you were able to find a summer internship position in Phoenix, AZ. You want to explore food places and you decided to start with Italian restaurants. We will use `business_cleaned_df` to find the top 10 Italian restaurant in Phoenix, AZ that has the highest `review_count`.\n",
        "\n",
        "**TODO** (`pandas`):\n",
        "* Filter the `business_cleaned_df` on the given conditions.\n",
        "* Keep only `business_id`,`name`, `stars`, `review_count`, and `categories` for the final dataframe\n",
        "* Sort by the `review_count` descending order\n",
        "\n",
        "**Final Schema**:\n",
        ">business_id | name | stars | review_count | categories\n",
        ">--- | --- | --- | --- | ---"
      ]
    },
    {
      "cell_type": "code",
      "execution_count": null,
      "metadata": {
        "id": "ZedXYZ3q_UQm"
      },
      "outputs": [],
      "source": [
        "# TODO: Finding restaurants\n",
        "# Filter business_cleaned_df to include only Italian restaurants in Phoenix, AZ\n",
        "italian_restaurants_phx_df = business_cleaned_df[(business_cleaned_df['categories'].str.contains('Italian')) & (business_cleaned_df['city'] == 'Phoenix') & (business_cleaned_df['state'] == 'AZ')]\n",
        "\n",
        "# Keep only the required columns: business_id, name, stars, review_count, and categories\n",
        "italian_restaurants_phx_df = italian_restaurants_phx_df[['business_id', 'name', 'stars', 'review_count', 'categories']]\n",
        "\n",
        "# Sort by review_count in descending order\n",
        "italian_restaurants_phx_df = italian_restaurants_phx_df.sort_values(by='review_count', ascending=False)\n",
        "\n",
        "# Get the top 10 Italian restaurants\n",
        "best_italian_df = italian_restaurants_phx_df.head(10)\n",
        "\n",
        "# Display the result\n",
        "best_italian_df.reset_index(drop=True, inplace=True)"
      ]
    },
    {
      "cell_type": "code",
      "execution_count": null,
      "metadata": {
        "id": "ZFjh-3hOHlx1"
      },
      "outputs": [],
      "source": [
        "# 2 points\n",
        "grader.grade(test_case_id = 'test_italian', answer = best_italian_df)"
      ]
    },
    {
      "cell_type": "markdown",
      "metadata": {
        "id": "SY9roAN-KI32"
      },
      "source": [
        "**TO-DO** : Repeat the same using `business_cleaned_df` (only for this sql query) and `pandasql`, saving it as `best_italian_df_sql`.\n"
      ]
    },
    {
      "cell_type": "code",
      "execution_count": null,
      "metadata": {
        "id": "5bb4EFj__Upx"
      },
      "outputs": [],
      "source": [
        "# TODO: Use SQL to find top 10 Italian restaurants with highest review count in Pheonix, AZ\n",
        "best_italian_df_query = '''\n",
        "SELECT business_id, name, stars, review_count, categories\n",
        "FROM business_cleaned_df\n",
        "WHERE categories LIKE '%Italian%' AND city = 'Phoenix' AND state = 'AZ'\n",
        "ORDER BY review_count DESC\n",
        "LIMIT 10\n",
        "'''\n",
        "best_italian_df_sql = ps.sqldf(best_italian_df_query, locals())\n",
        "best_italian_df_sql.head()"
      ]
    },
    {
      "cell_type": "code",
      "execution_count": null,
      "metadata": {
        "colab": {
          "base_uri": "https://localhost:8080/"
        },
        "id": "a3zXOF52FbHL",
        "outputId": "eeb98fb6-5281-4ec8-dd03-56b7ca0da2f6"
      },
      "outputs": [
        {
          "metadata": {
            "tags": null
          },
          "name": "stdout",
          "output_type": "stream",
          "text": [
            "Correct! You earned 4/4 points. You are a star!\n",
            "\n",
            "Your submission has been successfully recorded in the gradebook.\n"
          ]
        }
      ],
      "source": [
        "# 4 points\n",
        "grader.grade(test_case_id = 'test_italian_sql', answer = (best_italian_df_query,best_italian_df_sql))"
      ]
    },
    {
      "cell_type": "markdown",
      "metadata": {
        "id": "NTA-d4G5FbyQ"
      },
      "source": [
        "#### 2.2.2 Avoid Restaurant Traffic  [8 points]\n",
        "\n",
        "You visited one of the Italian restaurants from the 2.2.1 list. But, you weren't able to find a table to seat because the restaurant was very crowded at the time of your visit. Now, you want to try Burgers instead and want to find a better time to visit so you don't have to wait.\n",
        "\n",
        "* Use `business_cleaned_df` and to find the top 5 Burgers restaurant by review counts in Phoenix, AZ.\n",
        "\n",
        "* `checkin_cleaned_df` will be used to find the number of check-ins at specific day and hour.\n",
        "\n",
        "* Keep only the rows that have less than 5 checkins at given day and hour\n",
        "\n",
        "**Final Schema**:\n",
        ">name | address | city | state | stars | review_count | categories | weekday | hour | checkins\n",
        ">--- | --- | --- | ---  | --- | --- | --- | --- | --- | ---"
      ]
    },
    {
      "cell_type": "code",
      "execution_count": null,
      "metadata": {
        "colab": {
          "base_uri": "https://localhost:8080/",
          "height": 206
        },
        "id": "JFM3qeerFsXX",
        "outputId": "53feb779-f9a1-47a5-ded2-54088d6aca8f"
      },
      "outputs": [
        {
          "data": {
            "text/html": [
              "\n",
              "  <div id=\"df-e19ce7d1-b52f-4bcb-b2d9-323d1269ae1a\" class=\"colab-df-container\">\n",
              "    <div>\n",
              "<style scoped>\n",
              "    .dataframe tbody tr th:only-of-type {\n",
              "        vertical-align: middle;\n",
              "    }\n",
              "\n",
              "    .dataframe tbody tr th {\n",
              "        vertical-align: top;\n",
              "    }\n",
              "\n",
              "    .dataframe thead th {\n",
              "        text-align: right;\n",
              "    }\n",
              "</style>\n",
              "<table border=\"1\" class=\"dataframe\">\n",
              "  <thead>\n",
              "    <tr style=\"text-align: right;\">\n",
              "      <th></th>\n",
              "      <th>name</th>\n",
              "      <th>address</th>\n",
              "      <th>city</th>\n",
              "      <th>state</th>\n",
              "      <th>stars</th>\n",
              "      <th>review_count</th>\n",
              "      <th>categories</th>\n",
              "      <th>weekday</th>\n",
              "      <th>hour</th>\n",
              "      <th>checkins</th>\n",
              "    </tr>\n",
              "  </thead>\n",
              "  <tbody>\n",
              "    <tr>\n",
              "      <th>0</th>\n",
              "      <td>The Arrogant Butcher</td>\n",
              "      <td>2 E Jefferson St, Ste 150</td>\n",
              "      <td>Phoenix</td>\n",
              "      <td>AZ</td>\n",
              "      <td>4.0</td>\n",
              "      <td>1526</td>\n",
              "      <td>Burgers</td>\n",
              "      <td>Mon</td>\n",
              "      <td>14:00</td>\n",
              "      <td>2</td>\n",
              "    </tr>\n",
              "    <tr>\n",
              "      <th>1</th>\n",
              "      <td>The Arrogant Butcher</td>\n",
              "      <td>2 E Jefferson St, Ste 150</td>\n",
              "      <td>Phoenix</td>\n",
              "      <td>AZ</td>\n",
              "      <td>4.0</td>\n",
              "      <td>1526</td>\n",
              "      <td>Burgers</td>\n",
              "      <td>Tue</td>\n",
              "      <td>12:00</td>\n",
              "      <td>3</td>\n",
              "    </tr>\n",
              "    <tr>\n",
              "      <th>2</th>\n",
              "      <td>The Arrogant Butcher</td>\n",
              "      <td>2 E Jefferson St, Ste 150</td>\n",
              "      <td>Phoenix</td>\n",
              "      <td>AZ</td>\n",
              "      <td>4.0</td>\n",
              "      <td>1526</td>\n",
              "      <td>Burgers</td>\n",
              "      <td>Sat</td>\n",
              "      <td>17:00</td>\n",
              "      <td>2</td>\n",
              "    </tr>\n",
              "    <tr>\n",
              "      <th>3</th>\n",
              "      <td>The Arrogant Butcher</td>\n",
              "      <td>2 E Jefferson St, Ste 150</td>\n",
              "      <td>Phoenix</td>\n",
              "      <td>AZ</td>\n",
              "      <td>4.0</td>\n",
              "      <td>1526</td>\n",
              "      <td>Burgers</td>\n",
              "      <td>Thu</td>\n",
              "      <td>7:00</td>\n",
              "      <td>1</td>\n",
              "    </tr>\n",
              "    <tr>\n",
              "      <th>4</th>\n",
              "      <td>The Arrogant Butcher</td>\n",
              "      <td>2 E Jefferson St, Ste 150</td>\n",
              "      <td>Phoenix</td>\n",
              "      <td>AZ</td>\n",
              "      <td>4.0</td>\n",
              "      <td>1526</td>\n",
              "      <td>Burgers</td>\n",
              "      <td>Wed</td>\n",
              "      <td>7:00</td>\n",
              "      <td>2</td>\n",
              "    </tr>\n",
              "  </tbody>\n",
              "</table>\n",
              "</div>\n",
              "    <div class=\"colab-df-buttons\">\n",
              "\n",
              "  <div class=\"colab-df-container\">\n",
              "    <button class=\"colab-df-convert\" onclick=\"convertToInteractive('df-e19ce7d1-b52f-4bcb-b2d9-323d1269ae1a')\"\n",
              "            title=\"Convert this dataframe to an interactive table.\"\n",
              "            style=\"display:none;\">\n",
              "\n",
              "  <svg xmlns=\"http://www.w3.org/2000/svg\" height=\"24px\" viewBox=\"0 -960 960 960\">\n",
              "    <path d=\"M120-120v-720h720v720H120Zm60-500h600v-160H180v160Zm220 220h160v-160H400v160Zm0 220h160v-160H400v160ZM180-400h160v-160H180v160Zm440 0h160v-160H620v160ZM180-180h160v-160H180v160Zm440 0h160v-160H620v160Z\"/>\n",
              "  </svg>\n",
              "    </button>\n",
              "\n",
              "  <style>\n",
              "    .colab-df-container {\n",
              "      display:flex;\n",
              "      gap: 12px;\n",
              "    }\n",
              "\n",
              "    .colab-df-convert {\n",
              "      background-color: #E8F0FE;\n",
              "      border: none;\n",
              "      border-radius: 50%;\n",
              "      cursor: pointer;\n",
              "      display: none;\n",
              "      fill: #1967D2;\n",
              "      height: 32px;\n",
              "      padding: 0 0 0 0;\n",
              "      width: 32px;\n",
              "    }\n",
              "\n",
              "    .colab-df-convert:hover {\n",
              "      background-color: #E2EBFA;\n",
              "      box-shadow: 0px 1px 2px rgba(60, 64, 67, 0.3), 0px 1px 3px 1px rgba(60, 64, 67, 0.15);\n",
              "      fill: #174EA6;\n",
              "    }\n",
              "\n",
              "    .colab-df-buttons div {\n",
              "      margin-bottom: 4px;\n",
              "    }\n",
              "\n",
              "    [theme=dark] .colab-df-convert {\n",
              "      background-color: #3B4455;\n",
              "      fill: #D2E3FC;\n",
              "    }\n",
              "\n",
              "    [theme=dark] .colab-df-convert:hover {\n",
              "      background-color: #434B5C;\n",
              "      box-shadow: 0px 1px 3px 1px rgba(0, 0, 0, 0.15);\n",
              "      filter: drop-shadow(0px 1px 2px rgba(0, 0, 0, 0.3));\n",
              "      fill: #FFFFFF;\n",
              "    }\n",
              "  </style>\n",
              "\n",
              "    <script>\n",
              "      const buttonEl =\n",
              "        document.querySelector('#df-e19ce7d1-b52f-4bcb-b2d9-323d1269ae1a button.colab-df-convert');\n",
              "      buttonEl.style.display =\n",
              "        google.colab.kernel.accessAllowed ? 'block' : 'none';\n",
              "\n",
              "      async function convertToInteractive(key) {\n",
              "        const element = document.querySelector('#df-e19ce7d1-b52f-4bcb-b2d9-323d1269ae1a');\n",
              "        const dataTable =\n",
              "          await google.colab.kernel.invokeFunction('convertToInteractive',\n",
              "                                                    [key], {});\n",
              "        if (!dataTable) return;\n",
              "\n",
              "        const docLinkHtml = 'Like what you see? Visit the ' +\n",
              "          '<a target=\"_blank\" href=https://colab.research.google.com/notebooks/data_table.ipynb>data table notebook</a>'\n",
              "          + ' to learn more about interactive tables.';\n",
              "        element.innerHTML = '';\n",
              "        dataTable['output_type'] = 'display_data';\n",
              "        await google.colab.output.renderOutput(dataTable, element);\n",
              "        const docLink = document.createElement('div');\n",
              "        docLink.innerHTML = docLinkHtml;\n",
              "        element.appendChild(docLink);\n",
              "      }\n",
              "    </script>\n",
              "  </div>\n",
              "\n",
              "\n",
              "<div id=\"df-4e5cc53d-ea1f-4052-ac4e-626825b7f54a\">\n",
              "  <button class=\"colab-df-quickchart\" onclick=\"quickchart('df-4e5cc53d-ea1f-4052-ac4e-626825b7f54a')\"\n",
              "            title=\"Suggest charts.\"\n",
              "            style=\"display:none;\">\n",
              "\n",
              "<svg xmlns=\"http://www.w3.org/2000/svg\" height=\"24px\"viewBox=\"0 0 24 24\"\n",
              "     width=\"24px\">\n",
              "    <g>\n",
              "        <path d=\"M19 3H5c-1.1 0-2 .9-2 2v14c0 1.1.9 2 2 2h14c1.1 0 2-.9 2-2V5c0-1.1-.9-2-2-2zM9 17H7v-7h2v7zm4 0h-2V7h2v10zm4 0h-2v-4h2v4z\"/>\n",
              "    </g>\n",
              "</svg>\n",
              "  </button>\n",
              "\n",
              "<style>\n",
              "  .colab-df-quickchart {\n",
              "      --bg-color: #E8F0FE;\n",
              "      --fill-color: #1967D2;\n",
              "      --hover-bg-color: #E2EBFA;\n",
              "      --hover-fill-color: #174EA6;\n",
              "      --disabled-fill-color: #AAA;\n",
              "      --disabled-bg-color: #DDD;\n",
              "  }\n",
              "\n",
              "  [theme=dark] .colab-df-quickchart {\n",
              "      --bg-color: #3B4455;\n",
              "      --fill-color: #D2E3FC;\n",
              "      --hover-bg-color: #434B5C;\n",
              "      --hover-fill-color: #FFFFFF;\n",
              "      --disabled-bg-color: #3B4455;\n",
              "      --disabled-fill-color: #666;\n",
              "  }\n",
              "\n",
              "  .colab-df-quickchart {\n",
              "    background-color: var(--bg-color);\n",
              "    border: none;\n",
              "    border-radius: 50%;\n",
              "    cursor: pointer;\n",
              "    display: none;\n",
              "    fill: var(--fill-color);\n",
              "    height: 32px;\n",
              "    padding: 0;\n",
              "    width: 32px;\n",
              "  }\n",
              "\n",
              "  .colab-df-quickchart:hover {\n",
              "    background-color: var(--hover-bg-color);\n",
              "    box-shadow: 0 1px 2px rgba(60, 64, 67, 0.3), 0 1px 3px 1px rgba(60, 64, 67, 0.15);\n",
              "    fill: var(--button-hover-fill-color);\n",
              "  }\n",
              "\n",
              "  .colab-df-quickchart-complete:disabled,\n",
              "  .colab-df-quickchart-complete:disabled:hover {\n",
              "    background-color: var(--disabled-bg-color);\n",
              "    fill: var(--disabled-fill-color);\n",
              "    box-shadow: none;\n",
              "  }\n",
              "\n",
              "  .colab-df-spinner {\n",
              "    border: 2px solid var(--fill-color);\n",
              "    border-color: transparent;\n",
              "    border-bottom-color: var(--fill-color);\n",
              "    animation:\n",
              "      spin 1s steps(1) infinite;\n",
              "  }\n",
              "\n",
              "  @keyframes spin {\n",
              "    0% {\n",
              "      border-color: transparent;\n",
              "      border-bottom-color: var(--fill-color);\n",
              "      border-left-color: var(--fill-color);\n",
              "    }\n",
              "    20% {\n",
              "      border-color: transparent;\n",
              "      border-left-color: var(--fill-color);\n",
              "      border-top-color: var(--fill-color);\n",
              "    }\n",
              "    30% {\n",
              "      border-color: transparent;\n",
              "      border-left-color: var(--fill-color);\n",
              "      border-top-color: var(--fill-color);\n",
              "      border-right-color: var(--fill-color);\n",
              "    }\n",
              "    40% {\n",
              "      border-color: transparent;\n",
              "      border-right-color: var(--fill-color);\n",
              "      border-top-color: var(--fill-color);\n",
              "    }\n",
              "    60% {\n",
              "      border-color: transparent;\n",
              "      border-right-color: var(--fill-color);\n",
              "    }\n",
              "    80% {\n",
              "      border-color: transparent;\n",
              "      border-right-color: var(--fill-color);\n",
              "      border-bottom-color: var(--fill-color);\n",
              "    }\n",
              "    90% {\n",
              "      border-color: transparent;\n",
              "      border-bottom-color: var(--fill-color);\n",
              "    }\n",
              "  }\n",
              "</style>\n",
              "\n",
              "  <script>\n",
              "    async function quickchart(key) {\n",
              "      const quickchartButtonEl =\n",
              "        document.querySelector('#' + key + ' button');\n",
              "      quickchartButtonEl.disabled = true;  // To prevent multiple clicks.\n",
              "      quickchartButtonEl.classList.add('colab-df-spinner');\n",
              "      try {\n",
              "        const charts = await google.colab.kernel.invokeFunction(\n",
              "            'suggestCharts', [key], {});\n",
              "      } catch (error) {\n",
              "        console.error('Error during call to suggestCharts:', error);\n",
              "      }\n",
              "      quickchartButtonEl.classList.remove('colab-df-spinner');\n",
              "      quickchartButtonEl.classList.add('colab-df-quickchart-complete');\n",
              "    }\n",
              "    (() => {\n",
              "      let quickchartButtonEl =\n",
              "        document.querySelector('#df-4e5cc53d-ea1f-4052-ac4e-626825b7f54a button');\n",
              "      quickchartButtonEl.style.display =\n",
              "        google.colab.kernel.accessAllowed ? 'block' : 'none';\n",
              "    })();\n",
              "  </script>\n",
              "</div>\n",
              "    </div>\n",
              "  </div>\n"
            ],
            "text/plain": [
              "                   name                    address     city state  stars  \\\n",
              "0  The Arrogant Butcher  2 E Jefferson St, Ste 150  Phoenix    AZ    4.0   \n",
              "1  The Arrogant Butcher  2 E Jefferson St, Ste 150  Phoenix    AZ    4.0   \n",
              "2  The Arrogant Butcher  2 E Jefferson St, Ste 150  Phoenix    AZ    4.0   \n",
              "3  The Arrogant Butcher  2 E Jefferson St, Ste 150  Phoenix    AZ    4.0   \n",
              "4  The Arrogant Butcher  2 E Jefferson St, Ste 150  Phoenix    AZ    4.0   \n",
              "\n",
              "   review_count categories weekday   hour  checkins  \n",
              "0          1526    Burgers     Mon  14:00         2  \n",
              "1          1526    Burgers     Tue  12:00         3  \n",
              "2          1526    Burgers     Sat  17:00         2  \n",
              "3          1526    Burgers     Thu   7:00         1  \n",
              "4          1526    Burgers     Wed   7:00         2  "
            ]
          },
          "execution_count": 61,
          "metadata": {},
          "output_type": "execute_result"
        }
      ],
      "source": [
        "# Filter Burger restaurants in Phoenix, AZ\n",
        "burgers_df = business_cleaned_df[\n",
        "    (business_cleaned_df['city'] == 'Phoenix') &\n",
        "    (business_cleaned_df['state'] == 'AZ') &\n",
        "    (business_cleaned_df['categories'].str.contains('Burgers', case=False, na=False))\n",
        "]\n",
        "\n",
        "# Sort Burger restaurants by review counts in descending order\n",
        "top_burger_restaurants = burgers_df.sort_values(by='review_count', ascending=False).head(5)\n",
        "\n",
        "# Merge with checkin_cleaned_df to get check-in data\n",
        "merged_df = pd.merge(top_burger_restaurants, checkin_cleaned_df, on='business_id')\n",
        "\n",
        "# Filter rows with less than 5 check-ins at a specific day and hour\n",
        "filtered_df = merged_df[merged_df['checkins'] < 5]\n",
        "\n",
        "# Select the final schema columns\n",
        "best_burgers_df = filtered_df[['name', 'address', 'city', 'state', 'stars', 'review_count', 'categories', 'weekday', 'hour', 'checkins']]\n",
        "\n",
        "# Display the result\n",
        "best_burgers_df.reset_index(drop=True, inplace=True)\n",
        "best_burgers_df.head()"
      ]
    },
    {
      "cell_type": "code",
      "execution_count": null,
      "metadata": {
        "colab": {
          "base_uri": "https://localhost:8080/"
        },
        "id": "UvRsM0zHHkyj",
        "outputId": "bce18e05-a83e-4f33-fb5e-840b44a87ee7"
      },
      "outputs": [
        {
          "metadata": {
            "tags": null
          },
          "name": "stdout",
          "output_type": "stream",
          "text": [
            "Correct! You earned 3/3 points. You are a star!\n",
            "\n",
            "Your submission has been successfully recorded in the gradebook.\n"
          ]
        }
      ],
      "source": [
        "# 3 points\n",
        "grader.grade(test_case_id = 'test_burgers', answer = best_burgers_df)"
      ]
    },
    {
      "cell_type": "markdown",
      "metadata": {
        "id": "L5jZvklWZZDg"
      },
      "source": [
        "**TODO:**\n",
        "* Now, use `pandasql` to find the top 5 Burgers restaurants in Phoenix, AZ with less than 5 check-ins.\n",
        "* The result should be saved as `best_burgers_sql` and should be the same as the result from `pandas`"
      ]
    },
    {
      "cell_type": "code",
      "execution_count": null,
      "metadata": {
        "colab": {
          "base_uri": "https://localhost:8080/",
          "height": 206
        },
        "id": "76KJayxiCL_5",
        "outputId": "cfde68d3-2d0c-486a-8978-209c2e5e6c02"
      },
      "outputs": [
        {
          "output_type": "execute_result",
          "data": {
            "text/plain": [
              "                   name                    address     city state  stars  \\\n",
              "0  The Arrogant Butcher  2 E Jefferson St, Ste 150  Phoenix    AZ    4.0   \n",
              "1  The Arrogant Butcher  2 E Jefferson St, Ste 150  Phoenix    AZ    4.0   \n",
              "2  The Arrogant Butcher  2 E Jefferson St, Ste 150  Phoenix    AZ    4.0   \n",
              "3  The Arrogant Butcher  2 E Jefferson St, Ste 150  Phoenix    AZ    4.0   \n",
              "4  The Arrogant Butcher  2 E Jefferson St, Ste 150  Phoenix    AZ    4.0   \n",
              "\n",
              "   review_count categories weekday   hour  checkins  \n",
              "0          1526    Burgers     Mon  14:00         2  \n",
              "1          1526    Burgers     Tue  12:00         3  \n",
              "2          1526    Burgers     Sat  17:00         2  \n",
              "3          1526    Burgers     Thu   7:00         1  \n",
              "4          1526    Burgers     Wed   7:00         2  "
            ],
            "text/html": [
              "\n",
              "  <div id=\"df-f55b2b33-a859-4ec7-8af5-d24756bc11d5\" class=\"colab-df-container\">\n",
              "    <div>\n",
              "<style scoped>\n",
              "    .dataframe tbody tr th:only-of-type {\n",
              "        vertical-align: middle;\n",
              "    }\n",
              "\n",
              "    .dataframe tbody tr th {\n",
              "        vertical-align: top;\n",
              "    }\n",
              "\n",
              "    .dataframe thead th {\n",
              "        text-align: right;\n",
              "    }\n",
              "</style>\n",
              "<table border=\"1\" class=\"dataframe\">\n",
              "  <thead>\n",
              "    <tr style=\"text-align: right;\">\n",
              "      <th></th>\n",
              "      <th>name</th>\n",
              "      <th>address</th>\n",
              "      <th>city</th>\n",
              "      <th>state</th>\n",
              "      <th>stars</th>\n",
              "      <th>review_count</th>\n",
              "      <th>categories</th>\n",
              "      <th>weekday</th>\n",
              "      <th>hour</th>\n",
              "      <th>checkins</th>\n",
              "    </tr>\n",
              "  </thead>\n",
              "  <tbody>\n",
              "    <tr>\n",
              "      <th>0</th>\n",
              "      <td>The Arrogant Butcher</td>\n",
              "      <td>2 E Jefferson St, Ste 150</td>\n",
              "      <td>Phoenix</td>\n",
              "      <td>AZ</td>\n",
              "      <td>4.0</td>\n",
              "      <td>1526</td>\n",
              "      <td>Burgers</td>\n",
              "      <td>Mon</td>\n",
              "      <td>14:00</td>\n",
              "      <td>2</td>\n",
              "    </tr>\n",
              "    <tr>\n",
              "      <th>1</th>\n",
              "      <td>The Arrogant Butcher</td>\n",
              "      <td>2 E Jefferson St, Ste 150</td>\n",
              "      <td>Phoenix</td>\n",
              "      <td>AZ</td>\n",
              "      <td>4.0</td>\n",
              "      <td>1526</td>\n",
              "      <td>Burgers</td>\n",
              "      <td>Tue</td>\n",
              "      <td>12:00</td>\n",
              "      <td>3</td>\n",
              "    </tr>\n",
              "    <tr>\n",
              "      <th>2</th>\n",
              "      <td>The Arrogant Butcher</td>\n",
              "      <td>2 E Jefferson St, Ste 150</td>\n",
              "      <td>Phoenix</td>\n",
              "      <td>AZ</td>\n",
              "      <td>4.0</td>\n",
              "      <td>1526</td>\n",
              "      <td>Burgers</td>\n",
              "      <td>Sat</td>\n",
              "      <td>17:00</td>\n",
              "      <td>2</td>\n",
              "    </tr>\n",
              "    <tr>\n",
              "      <th>3</th>\n",
              "      <td>The Arrogant Butcher</td>\n",
              "      <td>2 E Jefferson St, Ste 150</td>\n",
              "      <td>Phoenix</td>\n",
              "      <td>AZ</td>\n",
              "      <td>4.0</td>\n",
              "      <td>1526</td>\n",
              "      <td>Burgers</td>\n",
              "      <td>Thu</td>\n",
              "      <td>7:00</td>\n",
              "      <td>1</td>\n",
              "    </tr>\n",
              "    <tr>\n",
              "      <th>4</th>\n",
              "      <td>The Arrogant Butcher</td>\n",
              "      <td>2 E Jefferson St, Ste 150</td>\n",
              "      <td>Phoenix</td>\n",
              "      <td>AZ</td>\n",
              "      <td>4.0</td>\n",
              "      <td>1526</td>\n",
              "      <td>Burgers</td>\n",
              "      <td>Wed</td>\n",
              "      <td>7:00</td>\n",
              "      <td>2</td>\n",
              "    </tr>\n",
              "  </tbody>\n",
              "</table>\n",
              "</div>\n",
              "    <div class=\"colab-df-buttons\">\n",
              "\n",
              "  <div class=\"colab-df-container\">\n",
              "    <button class=\"colab-df-convert\" onclick=\"convertToInteractive('df-f55b2b33-a859-4ec7-8af5-d24756bc11d5')\"\n",
              "            title=\"Convert this dataframe to an interactive table.\"\n",
              "            style=\"display:none;\">\n",
              "\n",
              "  <svg xmlns=\"http://www.w3.org/2000/svg\" height=\"24px\" viewBox=\"0 -960 960 960\">\n",
              "    <path d=\"M120-120v-720h720v720H120Zm60-500h600v-160H180v160Zm220 220h160v-160H400v160Zm0 220h160v-160H400v160ZM180-400h160v-160H180v160Zm440 0h160v-160H620v160ZM180-180h160v-160H180v160Zm440 0h160v-160H620v160Z\"/>\n",
              "  </svg>\n",
              "    </button>\n",
              "\n",
              "  <style>\n",
              "    .colab-df-container {\n",
              "      display:flex;\n",
              "      gap: 12px;\n",
              "    }\n",
              "\n",
              "    .colab-df-convert {\n",
              "      background-color: #E8F0FE;\n",
              "      border: none;\n",
              "      border-radius: 50%;\n",
              "      cursor: pointer;\n",
              "      display: none;\n",
              "      fill: #1967D2;\n",
              "      height: 32px;\n",
              "      padding: 0 0 0 0;\n",
              "      width: 32px;\n",
              "    }\n",
              "\n",
              "    .colab-df-convert:hover {\n",
              "      background-color: #E2EBFA;\n",
              "      box-shadow: 0px 1px 2px rgba(60, 64, 67, 0.3), 0px 1px 3px 1px rgba(60, 64, 67, 0.15);\n",
              "      fill: #174EA6;\n",
              "    }\n",
              "\n",
              "    .colab-df-buttons div {\n",
              "      margin-bottom: 4px;\n",
              "    }\n",
              "\n",
              "    [theme=dark] .colab-df-convert {\n",
              "      background-color: #3B4455;\n",
              "      fill: #D2E3FC;\n",
              "    }\n",
              "\n",
              "    [theme=dark] .colab-df-convert:hover {\n",
              "      background-color: #434B5C;\n",
              "      box-shadow: 0px 1px 3px 1px rgba(0, 0, 0, 0.15);\n",
              "      filter: drop-shadow(0px 1px 2px rgba(0, 0, 0, 0.3));\n",
              "      fill: #FFFFFF;\n",
              "    }\n",
              "  </style>\n",
              "\n",
              "    <script>\n",
              "      const buttonEl =\n",
              "        document.querySelector('#df-f55b2b33-a859-4ec7-8af5-d24756bc11d5 button.colab-df-convert');\n",
              "      buttonEl.style.display =\n",
              "        google.colab.kernel.accessAllowed ? 'block' : 'none';\n",
              "\n",
              "      async function convertToInteractive(key) {\n",
              "        const element = document.querySelector('#df-f55b2b33-a859-4ec7-8af5-d24756bc11d5');\n",
              "        const dataTable =\n",
              "          await google.colab.kernel.invokeFunction('convertToInteractive',\n",
              "                                                    [key], {});\n",
              "        if (!dataTable) return;\n",
              "\n",
              "        const docLinkHtml = 'Like what you see? Visit the ' +\n",
              "          '<a target=\"_blank\" href=https://colab.research.google.com/notebooks/data_table.ipynb>data table notebook</a>'\n",
              "          + ' to learn more about interactive tables.';\n",
              "        element.innerHTML = '';\n",
              "        dataTable['output_type'] = 'display_data';\n",
              "        await google.colab.output.renderOutput(dataTable, element);\n",
              "        const docLink = document.createElement('div');\n",
              "        docLink.innerHTML = docLinkHtml;\n",
              "        element.appendChild(docLink);\n",
              "      }\n",
              "    </script>\n",
              "  </div>\n",
              "\n",
              "\n",
              "<div id=\"df-63393b9b-be6a-4ca2-b4c5-604dca12785e\">\n",
              "  <button class=\"colab-df-quickchart\" onclick=\"quickchart('df-63393b9b-be6a-4ca2-b4c5-604dca12785e')\"\n",
              "            title=\"Suggest charts.\"\n",
              "            style=\"display:none;\">\n",
              "\n",
              "<svg xmlns=\"http://www.w3.org/2000/svg\" height=\"24px\"viewBox=\"0 0 24 24\"\n",
              "     width=\"24px\">\n",
              "    <g>\n",
              "        <path d=\"M19 3H5c-1.1 0-2 .9-2 2v14c0 1.1.9 2 2 2h14c1.1 0 2-.9 2-2V5c0-1.1-.9-2-2-2zM9 17H7v-7h2v7zm4 0h-2V7h2v10zm4 0h-2v-4h2v4z\"/>\n",
              "    </g>\n",
              "</svg>\n",
              "  </button>\n",
              "\n",
              "<style>\n",
              "  .colab-df-quickchart {\n",
              "      --bg-color: #E8F0FE;\n",
              "      --fill-color: #1967D2;\n",
              "      --hover-bg-color: #E2EBFA;\n",
              "      --hover-fill-color: #174EA6;\n",
              "      --disabled-fill-color: #AAA;\n",
              "      --disabled-bg-color: #DDD;\n",
              "  }\n",
              "\n",
              "  [theme=dark] .colab-df-quickchart {\n",
              "      --bg-color: #3B4455;\n",
              "      --fill-color: #D2E3FC;\n",
              "      --hover-bg-color: #434B5C;\n",
              "      --hover-fill-color: #FFFFFF;\n",
              "      --disabled-bg-color: #3B4455;\n",
              "      --disabled-fill-color: #666;\n",
              "  }\n",
              "\n",
              "  .colab-df-quickchart {\n",
              "    background-color: var(--bg-color);\n",
              "    border: none;\n",
              "    border-radius: 50%;\n",
              "    cursor: pointer;\n",
              "    display: none;\n",
              "    fill: var(--fill-color);\n",
              "    height: 32px;\n",
              "    padding: 0;\n",
              "    width: 32px;\n",
              "  }\n",
              "\n",
              "  .colab-df-quickchart:hover {\n",
              "    background-color: var(--hover-bg-color);\n",
              "    box-shadow: 0 1px 2px rgba(60, 64, 67, 0.3), 0 1px 3px 1px rgba(60, 64, 67, 0.15);\n",
              "    fill: var(--button-hover-fill-color);\n",
              "  }\n",
              "\n",
              "  .colab-df-quickchart-complete:disabled,\n",
              "  .colab-df-quickchart-complete:disabled:hover {\n",
              "    background-color: var(--disabled-bg-color);\n",
              "    fill: var(--disabled-fill-color);\n",
              "    box-shadow: none;\n",
              "  }\n",
              "\n",
              "  .colab-df-spinner {\n",
              "    border: 2px solid var(--fill-color);\n",
              "    border-color: transparent;\n",
              "    border-bottom-color: var(--fill-color);\n",
              "    animation:\n",
              "      spin 1s steps(1) infinite;\n",
              "  }\n",
              "\n",
              "  @keyframes spin {\n",
              "    0% {\n",
              "      border-color: transparent;\n",
              "      border-bottom-color: var(--fill-color);\n",
              "      border-left-color: var(--fill-color);\n",
              "    }\n",
              "    20% {\n",
              "      border-color: transparent;\n",
              "      border-left-color: var(--fill-color);\n",
              "      border-top-color: var(--fill-color);\n",
              "    }\n",
              "    30% {\n",
              "      border-color: transparent;\n",
              "      border-left-color: var(--fill-color);\n",
              "      border-top-color: var(--fill-color);\n",
              "      border-right-color: var(--fill-color);\n",
              "    }\n",
              "    40% {\n",
              "      border-color: transparent;\n",
              "      border-right-color: var(--fill-color);\n",
              "      border-top-color: var(--fill-color);\n",
              "    }\n",
              "    60% {\n",
              "      border-color: transparent;\n",
              "      border-right-color: var(--fill-color);\n",
              "    }\n",
              "    80% {\n",
              "      border-color: transparent;\n",
              "      border-right-color: var(--fill-color);\n",
              "      border-bottom-color: var(--fill-color);\n",
              "    }\n",
              "    90% {\n",
              "      border-color: transparent;\n",
              "      border-bottom-color: var(--fill-color);\n",
              "    }\n",
              "  }\n",
              "</style>\n",
              "\n",
              "  <script>\n",
              "    async function quickchart(key) {\n",
              "      const quickchartButtonEl =\n",
              "        document.querySelector('#' + key + ' button');\n",
              "      quickchartButtonEl.disabled = true;  // To prevent multiple clicks.\n",
              "      quickchartButtonEl.classList.add('colab-df-spinner');\n",
              "      try {\n",
              "        const charts = await google.colab.kernel.invokeFunction(\n",
              "            'suggestCharts', [key], {});\n",
              "      } catch (error) {\n",
              "        console.error('Error during call to suggestCharts:', error);\n",
              "      }\n",
              "      quickchartButtonEl.classList.remove('colab-df-spinner');\n",
              "      quickchartButtonEl.classList.add('colab-df-quickchart-complete');\n",
              "    }\n",
              "    (() => {\n",
              "      let quickchartButtonEl =\n",
              "        document.querySelector('#df-63393b9b-be6a-4ca2-b4c5-604dca12785e button');\n",
              "      quickchartButtonEl.style.display =\n",
              "        google.colab.kernel.accessAllowed ? 'block' : 'none';\n",
              "    })();\n",
              "  </script>\n",
              "</div>\n",
              "    </div>\n",
              "  </div>\n"
            ]
          },
          "metadata": {},
          "execution_count": 63
        }
      ],
      "source": [
        "# TODO: Use SQL to find the number of checkins that are less than 5 for\n",
        "# top 5 Burgers restaurants with highest review count\n",
        "best_burgers_query = '''\n",
        "SELECT sub.name, sub.address, sub.city, sub.state, sub.stars, sub.review_count, sub.categories, c.weekday, c.hour, c.checkins\n",
        "FROM\n",
        "    (SELECT\n",
        "        b.business_id, b.name, b.address, b.city, b.state, b.stars, b.review_count, b.categories\n",
        "    FROM\n",
        "        business_cleaned_df AS b\n",
        "    WHERE\n",
        "        b.categories LIKE '%Burgers%'\n",
        "        AND b.city = 'Phoenix'\n",
        "        AND b.state = 'AZ'\n",
        "    ORDER BY\n",
        "        b.review_count DESC\n",
        "    LIMIT 5) AS sub\n",
        "LEFT JOIN\n",
        "    checkin_cleaned_df AS c\n",
        "ON\n",
        "    sub.business_id = c.business_id\n",
        "WHERE\n",
        "    c.checkins < 5\n",
        "'''\n",
        "best_burgers_sql = ps.sqldf(best_burgers_query, locals())\n",
        "best_burgers_sql.head()"
      ]
    },
    {
      "cell_type": "code",
      "execution_count": null,
      "metadata": {
        "id": "HwqmlLrBHj--"
      },
      "outputs": [],
      "source": [
        "# 5 points\n",
        "grader.grade(test_case_id = 'test_burgers_sql', answer = (best_burgers_query,best_burgers_sql))"
      ]
    },
    {
      "cell_type": "markdown",
      "metadata": {
        "id": "jcqNApWfXfI2"
      },
      "source": [
        "###2.3 Avid Yelpers [22 points]\n",
        "In this section we'll be taking a deeper dive into `user_cleaned_df`. We'll be focusing on Yelp users who are particularly active! In this digital age, even Yelp has a friends/follower count 😲. Let's see who's friends with who, and who reigns supreme on the newest social media platform -- Yelp!\n",
        "\n",
        "\n"
      ]
    },
    {
      "cell_type": "markdown",
      "metadata": {
        "id": "-HCFx2-2ZJfL"
      },
      "source": [
        "#### 2.3.1 Elite Yelp Reviewers [6 points]\n",
        "\n",
        "Use `user_cleaned_df` to find all elite Yelp users who have at least have one friend and have left at least 2000 reviews.\n",
        "\n",
        "**TODO:**\n",
        "* Filter for the above characteristics\n",
        "* Sort the dataframe by `review_count` in descending order, then by `yelping_since` in ascending order\n",
        "* Reset index\n",
        "* Save the resulting dataframe as `elite_user_df`\n",
        "\n",
        "**NOTE:**\n",
        "\n",
        "* Beware of the datatype of `elite` when dealing with not elite users\n",
        "\n",
        "**Final Schema**:\n",
        ">user_id | name | review_count | yelping_since | friends | elite | average_stars | has_friend |\n",
        ">--- | --- | --- | ---  | --- | --- | --- | --- |"
      ]
    },
    {
      "cell_type": "code",
      "execution_count": null,
      "metadata": {
        "id": "Sx7DZosudeao"
      },
      "outputs": [],
      "source": [
        "# TODO: Use pandas to find elite yelp reviewers\n",
        "user_cleaned_df.info()\n",
        "elite_user_df = user_cleaned_df[(user_cleaned_df['has_friend'] == 1) & (user_cleaned_df['review_count'] >= 2000) & (user_cleaned_df['elite'] != 'None')]\n",
        "elite_user_df = elite_user_df.sort_values(by=['review_count', 'yelping_since'], ascending=[False, True])\n",
        "elite_user_df.reset_index(drop=True, inplace=True)"
      ]
    },
    {
      "cell_type": "code",
      "execution_count": null,
      "metadata": {
        "id": "OzFIQ8BJZ7xH"
      },
      "outputs": [],
      "source": [
        "# 2 points\n",
        "grader.grade(test_case_id = 'elite_user_pd', answer = (elite_user_df.head(), len(elite_user_df)))"
      ]
    },
    {
      "cell_type": "markdown",
      "metadata": {
        "id": "NlRa7pBcZTTc"
      },
      "source": [
        "**TODO:**\n",
        "* Now, use `pandasql` to find all elite Yelp users who have at least have one friend and have left at least 2000 reviews.\n",
        "* The result should be saved as `elite_user_df_sql` and should be the same as the result from `pandas`"
      ]
    },
    {
      "cell_type": "code",
      "execution_count": null,
      "metadata": {
        "id": "PeyNrNqNZy9I"
      },
      "outputs": [],
      "source": [
        "## TODO: Use SQL to find elite yelp reviewers\n",
        "elite_user_query = '''\n",
        "SELECT *\n",
        "FROM user_cleaned_df\n",
        "WHERE (review_count >= 2000) AND (has_friend = 1) AND (elite != 'None')\n",
        "ORDER BY review_count DESC, yelping_since ASC\n",
        "'''\n",
        "elite_user_df_sql = ps.sqldf(elite_user_query, locals())\n",
        "elite_user_df_sql.head()"
      ]
    },
    {
      "cell_type": "code",
      "execution_count": null,
      "metadata": {
        "id": "bWHC7dQZZ4V9"
      },
      "outputs": [],
      "source": [
        "# 4 points\n",
        "grader.grade(test_case_id = 'elite_user_sql', answer = (elite_user_df_sql.head(), elite_user_query, len(elite_user_df_sql)))"
      ]
    },
    {
      "cell_type": "markdown",
      "metadata": {
        "id": "wsyB903yjVTC"
      },
      "source": [
        "#### 2.3.2 Joining Users' Friends  [8 points]\n",
        "\n",
        "We now want to find the friends of all the elite users. Before we do any analysis, let's clean up the `friends` column.\n",
        "\n",
        "**TODO:**\n",
        "\n",
        "*   Use `elite_user_df` and create a new row for each friend an elite user has (hint split the strings then explode, make sure there is no trailing whitespace)\n",
        "*   This modified `elite_user_df` will be used for the rest of 2.3.2\n",
        "\n"
      ]
    },
    {
      "cell_type": "code",
      "execution_count": null,
      "metadata": {
        "id": "-VuBKBT3kTAu"
      },
      "outputs": [],
      "source": [
        "# Split the friends column into a list of friends\n",
        "elite_user_df['friends'] = elite_user_df['friends'].str.split(', ')\n",
        "\n",
        "# Explode the list of friends into separate rows\n",
        "elite_user_df = elite_user_df.explode('friends')\n",
        "\n",
        "# Remove trailing whitespace from the friends column\n",
        "elite_user_df['friends'] = elite_user_df['friends'].str.strip()\n",
        "\n",
        "# Reset the index\n",
        "elite_user_df.reset_index(drop=True, inplace=True)"
      ]
    },
    {
      "cell_type": "markdown",
      "metadata": {
        "id": "SfvHA9vnaRIG"
      },
      "source": [
        "Now we will merge the friends' information in pandas.\n",
        "\n",
        "**TODO:**\n",
        "\n",
        "* Use `elite_user_df` and `user_cleaned_df` to join the friends' `name` and `average_stars`\n",
        "\n",
        "* Keep the elite user's `user_id`, `name`, and `average_stars`. You can drop all other columns\n",
        "\n",
        "* Rename the friend columns to `user_id_friend`, `name_friend`, and `average_stars_friend` (hint: check out the parameters of merge)\n",
        "* Sort the dataframe by `user_id` ascending, then by `user_id_friend` ascending\n",
        "* Save the resulting dataframe as `friends_df`\n",
        "\n",
        "**Final Schema**:\n",
        ">user_id | name | average_stars | user_id_friend | name_friend | average_stars_friend |\n",
        ">--- | --- | --- | ---  | --- |--- |"
      ]
    },
    {
      "cell_type": "code",
      "execution_count": null,
      "metadata": {
        "id": "TIS-6ru5mf46"
      },
      "outputs": [],
      "source": [
        "elite_user_df.head()\n",
        "\n",
        "# Merge elite_user_df with user_cleaned_df on the friends column\n",
        "friends_df = elite_user_df.merge(user_cleaned_df, left_on='friends', right_on='user_id', how='inner', suffixes=('', '_friend'))\n",
        "friends_df = friends_df[['user_id', 'name', 'average_stars',  'user_id_friend', 'name_friend', 'average_stars_friend']]\n",
        "friends_df = friends_df.sort_values(by=['user_id', 'user_id_friend'], ascending=[True, True])\n",
        "friends_df = friends_df.reset_index(drop=True)"
      ]
    },
    {
      "cell_type": "code",
      "execution_count": null,
      "metadata": {
        "id": "BjZOKl1-rxhn"
      },
      "outputs": [],
      "source": [
        "# 2 points\n",
        "grader.grade(test_case_id = 'friends_join_pd', answer = (friends_df.head(10), len(friends_df)))"
      ]
    },
    {
      "cell_type": "markdown",
      "metadata": {
        "id": "BoKbu1lpaXpM"
      },
      "source": [
        "**TODO:**\n",
        "* Now, use `pandasql` to merge elite users' friends' information\n",
        "* The result should be saved as `friends_df_sql` and should be the same as the result from `pandas`"
      ]
    },
    {
      "cell_type": "code",
      "execution_count": null,
      "metadata": {
        "id": "s4Gm6lX6aZ33"
      },
      "outputs": [],
      "source": [
        "# TODO: Use SQL to join elite yelp reviewers' friends\n",
        "friends_join_query = '''\n",
        "SELECT\n",
        "    eu.user_id AS user_id,\n",
        "    eu.name AS name,\n",
        "    eu.average_stars AS average_stars,\n",
        "    u.user_id AS user_id_friend,\n",
        "    u.name AS name_friend,\n",
        "    u.average_stars AS average_stars_friend\n",
        "FROM\n",
        "    elite_user_df AS eu\n",
        "INNER JOIN\n",
        "    user_cleaned_df AS u\n",
        "ON\n",
        "    eu.friends = u.user_id\n",
        "ORDER BY\n",
        "    user_id ASC,\n",
        "    user_id_friend ASC\n",
        "'''\n",
        "friends_df_sql = ps.sqldf(friends_join_query, locals())\n",
        "friends_df_sql.head()"
      ]
    },
    {
      "cell_type": "code",
      "execution_count": null,
      "metadata": {
        "id": "LkwENZSGsKae"
      },
      "outputs": [],
      "source": [
        "# 4 points\n",
        "grader.grade(test_case_id = 'friends_join_sql', answer = (friends_df_sql.head(), friends_join_query, len(friends_df_sql)))"
      ]
    },
    {
      "cell_type": "markdown",
      "metadata": {
        "id": "lR1S_9NLaVA5"
      },
      "source": [
        "#### 2.3.3 Do Friends Think Alike?  [8 points]\n",
        "\n",
        "Now that we joined all of the elite users' friends, we want to compare their average ratings. Let's take a look at the difference between elite users' average stars and the average of all their friends' stars.\n",
        "\n",
        "**TODO:**\n",
        "* Use `friends_df` to calculate the difference between each elite user's `average_stars` and the average of all of their friends' `average_stars` (`average_stars` - `average_stars_friend`). Name this column `average_stars_diff`\n",
        "\n",
        "* Save the results in `stars_diff_df`. Keep only the `user_id` and `average_stars_diff` columns.\n",
        "\n",
        "**Final Schema**:\n",
        ">user_id | average_stars_diff |\n",
        ">--- | --- |"
      ]
    },
    {
      "cell_type": "code",
      "execution_count": null,
      "metadata": {
        "id": "cwC9RNuZu6zC"
      },
      "outputs": [],
      "source": [
        "# TODO: Use pandas to calculate the difference in average_stars amongst a user and their friends\n",
        "# Calculate the difference between each user's average_stars and the average of all their friends' average_stars\n",
        "friends_df['average_stars_diff'] = friends_df['average_stars'] - friends_df.groupby('user_id')['average_stars_friend'].transform('mean')\n",
        "\n",
        "# Keep only the user_id and average_stars_diff columns\n",
        "stars_diff_df = friends_df[['user_id', 'average_stars_diff']]\n",
        "stars_diff_df = stars_diff_df.drop_duplicates()\n",
        "# Reset the index\n",
        "stars_diff_df.reset_index(drop=True, inplace=True)"
      ]
    },
    {
      "cell_type": "code",
      "execution_count": null,
      "metadata": {
        "id": "igCUulx6u9xw"
      },
      "outputs": [],
      "source": [
        "# 2 points\n",
        "grader.grade(test_case_id = 'stars_diff_pd', answer = stars_diff_df)"
      ]
    },
    {
      "cell_type": "markdown",
      "metadata": {
        "id": "3tjX3_RFvAUA"
      },
      "source": [
        "**TODO:**\n",
        "* Now, use `pandasql` to to calculate the difference in `average_stars` amongst a user and their friends\n",
        "* The result should be saved as `stars_diff_df_sql` and should be the same as the result from `pandas`"
      ]
    },
    {
      "cell_type": "code",
      "execution_count": null,
      "metadata": {
        "colab": {
          "base_uri": "https://localhost:8080/",
          "height": 206
        },
        "id": "yu0J5UjlvCP_",
        "outputId": "90578147-988e-4bfd-ba72-b5538f6f5e9b"
      },
      "outputs": [
        {
          "data": {
            "text/html": [
              "\n",
              "  <div id=\"df-3b00654a-0b4b-4253-ac25-8b92e2e351f8\" class=\"colab-df-container\">\n",
              "    <div>\n",
              "<style scoped>\n",
              "    .dataframe tbody tr th:only-of-type {\n",
              "        vertical-align: middle;\n",
              "    }\n",
              "\n",
              "    .dataframe tbody tr th {\n",
              "        vertical-align: top;\n",
              "    }\n",
              "\n",
              "    .dataframe thead th {\n",
              "        text-align: right;\n",
              "    }\n",
              "</style>\n",
              "<table border=\"1\" class=\"dataframe\">\n",
              "  <thead>\n",
              "    <tr style=\"text-align: right;\">\n",
              "      <th></th>\n",
              "      <th>user_id</th>\n",
              "      <th>average_stars_diff</th>\n",
              "    </tr>\n",
              "  </thead>\n",
              "  <tbody>\n",
              "    <tr>\n",
              "      <th>0</th>\n",
              "      <td>-G7Zkl1wIWBBmD0KRy_sCw</td>\n",
              "      <td>-0.215785</td>\n",
              "    </tr>\n",
              "    <tr>\n",
              "      <th>1</th>\n",
              "      <td>08mOpJRCpZe3D8UHszP4FA</td>\n",
              "      <td>-0.429125</td>\n",
              "    </tr>\n",
              "    <tr>\n",
              "      <th>2</th>\n",
              "      <td>0G-bcpdR48tfZy6koGUiTQ</td>\n",
              "      <td>-0.152151</td>\n",
              "    </tr>\n",
              "    <tr>\n",
              "      <th>3</th>\n",
              "      <td>0Igx-a1wAstiBDerGxXk2A</td>\n",
              "      <td>0.203473</td>\n",
              "    </tr>\n",
              "    <tr>\n",
              "      <th>4</th>\n",
              "      <td>0QeJC2inz6P-OVzROU_LNw</td>\n",
              "      <td>0.157838</td>\n",
              "    </tr>\n",
              "  </tbody>\n",
              "</table>\n",
              "</div>\n",
              "    <div class=\"colab-df-buttons\">\n",
              "\n",
              "  <div class=\"colab-df-container\">\n",
              "    <button class=\"colab-df-convert\" onclick=\"convertToInteractive('df-3b00654a-0b4b-4253-ac25-8b92e2e351f8')\"\n",
              "            title=\"Convert this dataframe to an interactive table.\"\n",
              "            style=\"display:none;\">\n",
              "\n",
              "  <svg xmlns=\"http://www.w3.org/2000/svg\" height=\"24px\" viewBox=\"0 -960 960 960\">\n",
              "    <path d=\"M120-120v-720h720v720H120Zm60-500h600v-160H180v160Zm220 220h160v-160H400v160Zm0 220h160v-160H400v160ZM180-400h160v-160H180v160Zm440 0h160v-160H620v160ZM180-180h160v-160H180v160Zm440 0h160v-160H620v160Z\"/>\n",
              "  </svg>\n",
              "    </button>\n",
              "\n",
              "  <style>\n",
              "    .colab-df-container {\n",
              "      display:flex;\n",
              "      gap: 12px;\n",
              "    }\n",
              "\n",
              "    .colab-df-convert {\n",
              "      background-color: #E8F0FE;\n",
              "      border: none;\n",
              "      border-radius: 50%;\n",
              "      cursor: pointer;\n",
              "      display: none;\n",
              "      fill: #1967D2;\n",
              "      height: 32px;\n",
              "      padding: 0 0 0 0;\n",
              "      width: 32px;\n",
              "    }\n",
              "\n",
              "    .colab-df-convert:hover {\n",
              "      background-color: #E2EBFA;\n",
              "      box-shadow: 0px 1px 2px rgba(60, 64, 67, 0.3), 0px 1px 3px 1px rgba(60, 64, 67, 0.15);\n",
              "      fill: #174EA6;\n",
              "    }\n",
              "\n",
              "    .colab-df-buttons div {\n",
              "      margin-bottom: 4px;\n",
              "    }\n",
              "\n",
              "    [theme=dark] .colab-df-convert {\n",
              "      background-color: #3B4455;\n",
              "      fill: #D2E3FC;\n",
              "    }\n",
              "\n",
              "    [theme=dark] .colab-df-convert:hover {\n",
              "      background-color: #434B5C;\n",
              "      box-shadow: 0px 1px 3px 1px rgba(0, 0, 0, 0.15);\n",
              "      filter: drop-shadow(0px 1px 2px rgba(0, 0, 0, 0.3));\n",
              "      fill: #FFFFFF;\n",
              "    }\n",
              "  </style>\n",
              "\n",
              "    <script>\n",
              "      const buttonEl =\n",
              "        document.querySelector('#df-3b00654a-0b4b-4253-ac25-8b92e2e351f8 button.colab-df-convert');\n",
              "      buttonEl.style.display =\n",
              "        google.colab.kernel.accessAllowed ? 'block' : 'none';\n",
              "\n",
              "      async function convertToInteractive(key) {\n",
              "        const element = document.querySelector('#df-3b00654a-0b4b-4253-ac25-8b92e2e351f8');\n",
              "        const dataTable =\n",
              "          await google.colab.kernel.invokeFunction('convertToInteractive',\n",
              "                                                    [key], {});\n",
              "        if (!dataTable) return;\n",
              "\n",
              "        const docLinkHtml = 'Like what you see? Visit the ' +\n",
              "          '<a target=\"_blank\" href=https://colab.research.google.com/notebooks/data_table.ipynb>data table notebook</a>'\n",
              "          + ' to learn more about interactive tables.';\n",
              "        element.innerHTML = '';\n",
              "        dataTable['output_type'] = 'display_data';\n",
              "        await google.colab.output.renderOutput(dataTable, element);\n",
              "        const docLink = document.createElement('div');\n",
              "        docLink.innerHTML = docLinkHtml;\n",
              "        element.appendChild(docLink);\n",
              "      }\n",
              "    </script>\n",
              "  </div>\n",
              "\n",
              "\n",
              "<div id=\"df-3fa933fb-9ea4-436e-b882-51993cd422dc\">\n",
              "  <button class=\"colab-df-quickchart\" onclick=\"quickchart('df-3fa933fb-9ea4-436e-b882-51993cd422dc')\"\n",
              "            title=\"Suggest charts.\"\n",
              "            style=\"display:none;\">\n",
              "\n",
              "<svg xmlns=\"http://www.w3.org/2000/svg\" height=\"24px\"viewBox=\"0 0 24 24\"\n",
              "     width=\"24px\">\n",
              "    <g>\n",
              "        <path d=\"M19 3H5c-1.1 0-2 .9-2 2v14c0 1.1.9 2 2 2h14c1.1 0 2-.9 2-2V5c0-1.1-.9-2-2-2zM9 17H7v-7h2v7zm4 0h-2V7h2v10zm4 0h-2v-4h2v4z\"/>\n",
              "    </g>\n",
              "</svg>\n",
              "  </button>\n",
              "\n",
              "<style>\n",
              "  .colab-df-quickchart {\n",
              "      --bg-color: #E8F0FE;\n",
              "      --fill-color: #1967D2;\n",
              "      --hover-bg-color: #E2EBFA;\n",
              "      --hover-fill-color: #174EA6;\n",
              "      --disabled-fill-color: #AAA;\n",
              "      --disabled-bg-color: #DDD;\n",
              "  }\n",
              "\n",
              "  [theme=dark] .colab-df-quickchart {\n",
              "      --bg-color: #3B4455;\n",
              "      --fill-color: #D2E3FC;\n",
              "      --hover-bg-color: #434B5C;\n",
              "      --hover-fill-color: #FFFFFF;\n",
              "      --disabled-bg-color: #3B4455;\n",
              "      --disabled-fill-color: #666;\n",
              "  }\n",
              "\n",
              "  .colab-df-quickchart {\n",
              "    background-color: var(--bg-color);\n",
              "    border: none;\n",
              "    border-radius: 50%;\n",
              "    cursor: pointer;\n",
              "    display: none;\n",
              "    fill: var(--fill-color);\n",
              "    height: 32px;\n",
              "    padding: 0;\n",
              "    width: 32px;\n",
              "  }\n",
              "\n",
              "  .colab-df-quickchart:hover {\n",
              "    background-color: var(--hover-bg-color);\n",
              "    box-shadow: 0 1px 2px rgba(60, 64, 67, 0.3), 0 1px 3px 1px rgba(60, 64, 67, 0.15);\n",
              "    fill: var(--button-hover-fill-color);\n",
              "  }\n",
              "\n",
              "  .colab-df-quickchart-complete:disabled,\n",
              "  .colab-df-quickchart-complete:disabled:hover {\n",
              "    background-color: var(--disabled-bg-color);\n",
              "    fill: var(--disabled-fill-color);\n",
              "    box-shadow: none;\n",
              "  }\n",
              "\n",
              "  .colab-df-spinner {\n",
              "    border: 2px solid var(--fill-color);\n",
              "    border-color: transparent;\n",
              "    border-bottom-color: var(--fill-color);\n",
              "    animation:\n",
              "      spin 1s steps(1) infinite;\n",
              "  }\n",
              "\n",
              "  @keyframes spin {\n",
              "    0% {\n",
              "      border-color: transparent;\n",
              "      border-bottom-color: var(--fill-color);\n",
              "      border-left-color: var(--fill-color);\n",
              "    }\n",
              "    20% {\n",
              "      border-color: transparent;\n",
              "      border-left-color: var(--fill-color);\n",
              "      border-top-color: var(--fill-color);\n",
              "    }\n",
              "    30% {\n",
              "      border-color: transparent;\n",
              "      border-left-color: var(--fill-color);\n",
              "      border-top-color: var(--fill-color);\n",
              "      border-right-color: var(--fill-color);\n",
              "    }\n",
              "    40% {\n",
              "      border-color: transparent;\n",
              "      border-right-color: var(--fill-color);\n",
              "      border-top-color: var(--fill-color);\n",
              "    }\n",
              "    60% {\n",
              "      border-color: transparent;\n",
              "      border-right-color: var(--fill-color);\n",
              "    }\n",
              "    80% {\n",
              "      border-color: transparent;\n",
              "      border-right-color: var(--fill-color);\n",
              "      border-bottom-color: var(--fill-color);\n",
              "    }\n",
              "    90% {\n",
              "      border-color: transparent;\n",
              "      border-bottom-color: var(--fill-color);\n",
              "    }\n",
              "  }\n",
              "</style>\n",
              "\n",
              "  <script>\n",
              "    async function quickchart(key) {\n",
              "      const quickchartButtonEl =\n",
              "        document.querySelector('#' + key + ' button');\n",
              "      quickchartButtonEl.disabled = true;  // To prevent multiple clicks.\n",
              "      quickchartButtonEl.classList.add('colab-df-spinner');\n",
              "      try {\n",
              "        const charts = await google.colab.kernel.invokeFunction(\n",
              "            'suggestCharts', [key], {});\n",
              "      } catch (error) {\n",
              "        console.error('Error during call to suggestCharts:', error);\n",
              "      }\n",
              "      quickchartButtonEl.classList.remove('colab-df-spinner');\n",
              "      quickchartButtonEl.classList.add('colab-df-quickchart-complete');\n",
              "    }\n",
              "    (() => {\n",
              "      let quickchartButtonEl =\n",
              "        document.querySelector('#df-3fa933fb-9ea4-436e-b882-51993cd422dc button');\n",
              "      quickchartButtonEl.style.display =\n",
              "        google.colab.kernel.accessAllowed ? 'block' : 'none';\n",
              "    })();\n",
              "  </script>\n",
              "</div>\n",
              "    </div>\n",
              "  </div>\n"
            ],
            "text/plain": [
              "                  user_id  average_stars_diff\n",
              "0  -G7Zkl1wIWBBmD0KRy_sCw           -0.215785\n",
              "1  08mOpJRCpZe3D8UHszP4FA           -0.429125\n",
              "2  0G-bcpdR48tfZy6koGUiTQ           -0.152151\n",
              "3  0Igx-a1wAstiBDerGxXk2A            0.203473\n",
              "4  0QeJC2inz6P-OVzROU_LNw            0.157838"
            ]
          },
          "execution_count": 76,
          "metadata": {},
          "output_type": "execute_result"
        }
      ],
      "source": [
        "# TODO: Use SQL to calculate the difference in average_stars amongst a user and their friends\n",
        "stars_diff_query = '''\n",
        "SELECT DISTINCT user_id, average_stars - avg(average_stars_friend) AS average_stars_diff\n",
        "FROM friends_df\n",
        "GROUP BY user_id;\n",
        "'''\n",
        "stars_diff_df_sql = ps.sqldf(stars_diff_query, locals())\n",
        "stars_diff_df_sql.head()"
      ]
    },
    {
      "cell_type": "code",
      "execution_count": null,
      "metadata": {
        "colab": {
          "base_uri": "https://localhost:8080/"
        },
        "id": "RkFjlcXKvE-a",
        "outputId": "9824468c-f390-4b11-9e3a-79e13054b8a4"
      },
      "outputs": [
        {
          "metadata": {
            "tags": null
          },
          "name": "stdout",
          "output_type": "stream",
          "text": [
            "Correct! You earned 5/5 points. You are a star!\n",
            "\n",
            "Your submission has been successfully recorded in the gradebook.\n"
          ]
        }
      ],
      "source": [
        "# 4 points\n",
        "grader.grade(test_case_id = 'stars_diff_sql', answer = (stars_diff_df_sql, stars_diff_query))"
      ]
    },
    {
      "cell_type": "markdown",
      "metadata": {
        "id": "bfKqHmW6zWil"
      },
      "source": [
        "###2.4 Restaurant Reviews [16 points]\n",
        "In this section we'll take a look at Yelp restaurant reviews. Who leaves these comments? What type of restaurants get the most reviews? Stay tuned.\n",
        "\n",
        "\n"
      ]
    },
    {
      "cell_type": "markdown",
      "metadata": {
        "id": "byfPwZkM0lWI"
      },
      "source": [
        "#### 2.4.1 Are reviewers on average positive or negative?  [8 points]\n",
        "\n",
        "Do people who leave **restaurant** reviews tend to be on average pessimistic or optimistic? Critical or soft? Let's take a look at the `average_stars` of users who leave Yelp reviews.\n",
        "\n",
        "**TODO:**\n",
        "* Use `tip_cleaned_df`,  `business_cleaned_df`, and `user_cleaned_df` to calculate the average rating of all Yelp reviewers in the dataset who have left a tip/review on a restaurant.\n",
        "* Make sure each user only appears once in the dataframe.\n",
        "\n",
        "* Save the results in `average_rating_tip_df`. This will be a one column, one row dataframe.\n",
        "\n",
        "**Final Schema**:\n",
        ">average_stars |\n",
        ">--- |"
      ]
    },
    {
      "cell_type": "code",
      "execution_count": null,
      "metadata": {
        "colab": {
          "base_uri": "https://localhost:8080/",
          "height": 81
        },
        "id": "c3IIaBWR1s1c",
        "outputId": "42946ddd-bc22-49ce-9a75-b64642f57d02"
      },
      "outputs": [
        {
          "data": {
            "text/html": [
              "\n",
              "  <div id=\"df-bce8283d-b325-495c-999e-d0305d1e05ee\" class=\"colab-df-container\">\n",
              "    <div>\n",
              "<style scoped>\n",
              "    .dataframe tbody tr th:only-of-type {\n",
              "        vertical-align: middle;\n",
              "    }\n",
              "\n",
              "    .dataframe tbody tr th {\n",
              "        vertical-align: top;\n",
              "    }\n",
              "\n",
              "    .dataframe thead th {\n",
              "        text-align: right;\n",
              "    }\n",
              "</style>\n",
              "<table border=\"1\" class=\"dataframe\">\n",
              "  <thead>\n",
              "    <tr style=\"text-align: right;\">\n",
              "      <th></th>\n",
              "      <th>average_stars</th>\n",
              "    </tr>\n",
              "  </thead>\n",
              "  <tbody>\n",
              "    <tr>\n",
              "      <th>0</th>\n",
              "      <td>3.782817</td>\n",
              "    </tr>\n",
              "  </tbody>\n",
              "</table>\n",
              "</div>\n",
              "    <div class=\"colab-df-buttons\">\n",
              "\n",
              "  <div class=\"colab-df-container\">\n",
              "    <button class=\"colab-df-convert\" onclick=\"convertToInteractive('df-bce8283d-b325-495c-999e-d0305d1e05ee')\"\n",
              "            title=\"Convert this dataframe to an interactive table.\"\n",
              "            style=\"display:none;\">\n",
              "\n",
              "  <svg xmlns=\"http://www.w3.org/2000/svg\" height=\"24px\" viewBox=\"0 -960 960 960\">\n",
              "    <path d=\"M120-120v-720h720v720H120Zm60-500h600v-160H180v160Zm220 220h160v-160H400v160Zm0 220h160v-160H400v160ZM180-400h160v-160H180v160Zm440 0h160v-160H620v160ZM180-180h160v-160H180v160Zm440 0h160v-160H620v160Z\"/>\n",
              "  </svg>\n",
              "    </button>\n",
              "\n",
              "  <style>\n",
              "    .colab-df-container {\n",
              "      display:flex;\n",
              "      gap: 12px;\n",
              "    }\n",
              "\n",
              "    .colab-df-convert {\n",
              "      background-color: #E8F0FE;\n",
              "      border: none;\n",
              "      border-radius: 50%;\n",
              "      cursor: pointer;\n",
              "      display: none;\n",
              "      fill: #1967D2;\n",
              "      height: 32px;\n",
              "      padding: 0 0 0 0;\n",
              "      width: 32px;\n",
              "    }\n",
              "\n",
              "    .colab-df-convert:hover {\n",
              "      background-color: #E2EBFA;\n",
              "      box-shadow: 0px 1px 2px rgba(60, 64, 67, 0.3), 0px 1px 3px 1px rgba(60, 64, 67, 0.15);\n",
              "      fill: #174EA6;\n",
              "    }\n",
              "\n",
              "    .colab-df-buttons div {\n",
              "      margin-bottom: 4px;\n",
              "    }\n",
              "\n",
              "    [theme=dark] .colab-df-convert {\n",
              "      background-color: #3B4455;\n",
              "      fill: #D2E3FC;\n",
              "    }\n",
              "\n",
              "    [theme=dark] .colab-df-convert:hover {\n",
              "      background-color: #434B5C;\n",
              "      box-shadow: 0px 1px 3px 1px rgba(0, 0, 0, 0.15);\n",
              "      filter: drop-shadow(0px 1px 2px rgba(0, 0, 0, 0.3));\n",
              "      fill: #FFFFFF;\n",
              "    }\n",
              "  </style>\n",
              "\n",
              "    <script>\n",
              "      const buttonEl =\n",
              "        document.querySelector('#df-bce8283d-b325-495c-999e-d0305d1e05ee button.colab-df-convert');\n",
              "      buttonEl.style.display =\n",
              "        google.colab.kernel.accessAllowed ? 'block' : 'none';\n",
              "\n",
              "      async function convertToInteractive(key) {\n",
              "        const element = document.querySelector('#df-bce8283d-b325-495c-999e-d0305d1e05ee');\n",
              "        const dataTable =\n",
              "          await google.colab.kernel.invokeFunction('convertToInteractive',\n",
              "                                                    [key], {});\n",
              "        if (!dataTable) return;\n",
              "\n",
              "        const docLinkHtml = 'Like what you see? Visit the ' +\n",
              "          '<a target=\"_blank\" href=https://colab.research.google.com/notebooks/data_table.ipynb>data table notebook</a>'\n",
              "          + ' to learn more about interactive tables.';\n",
              "        element.innerHTML = '';\n",
              "        dataTable['output_type'] = 'display_data';\n",
              "        await google.colab.output.renderOutput(dataTable, element);\n",
              "        const docLink = document.createElement('div');\n",
              "        docLink.innerHTML = docLinkHtml;\n",
              "        element.appendChild(docLink);\n",
              "      }\n",
              "    </script>\n",
              "  </div>\n",
              "\n",
              "    </div>\n",
              "  </div>\n"
            ],
            "text/plain": [
              "   average_stars\n",
              "0       3.782817"
            ]
          },
          "execution_count": 78,
          "metadata": {},
          "output_type": "execute_result"
        }
      ],
      "source": [
        "# Merge tip_cleaned_df, business_cleaned_df, and user_cleaned_df to get all relevant data\n",
        "merged_df = tip_cleaned_df.merge(business_cleaned_df[business_cleaned_df['categories'].str.contains('Restaurants')], on='business_id', how='inner')\n",
        "merged_df = merged_df.merge(user_cleaned_df, on='user_id', how='inner')\n",
        "merged_df = merged_df.drop_duplicates(subset=['user_id'], keep='first')\n",
        "\n",
        "# Calculate the overall average rating of all Yelp reviewers who left a tip/review on a restaurant\n",
        "average_rating = merged_df['average_stars'].mean()\n",
        "\n",
        "# Create a one-row dataframe with the result\n",
        "average_rating_tip_df = pd.DataFrame({'average_stars': [average_rating]})\n",
        "\n",
        "# Display the result\n",
        "average_rating_tip_df"
      ]
    },
    {
      "cell_type": "code",
      "execution_count": null,
      "metadata": {
        "colab": {
          "base_uri": "https://localhost:8080/"
        },
        "id": "2vn3Rt3k1sAG",
        "outputId": "e53ff2e7-1443-4ede-f7ad-065148b82172"
      },
      "outputs": [
        {
          "metadata": {
            "tags": null
          },
          "name": "stdout",
          "output_type": "stream",
          "text": [
            "Correct! You earned 3/3 points. You are a star!\n",
            "\n",
            "Your submission has been successfully recorded in the gradebook.\n"
          ]
        }
      ],
      "source": [
        "# 2 points\n",
        "grader.grade(test_case_id = 'average_rating_tip_pd', answer = average_rating_tip_df)"
      ]
    },
    {
      "cell_type": "markdown",
      "metadata": {
        "id": "7vzfOJUa3Kbs"
      },
      "source": [
        "**TODO:**\n",
        "* Now, use `pandasql` to to calculate the average ratings of users who leave Yelp reviews on restaurants\n",
        "* The result should be saved as `average_rating_tip_df_sql` and should be the same as the result from `pandas`\n",
        "\n",
        "(Don't worry this will take a minute)."
      ]
    },
    {
      "cell_type": "code",
      "execution_count": null,
      "metadata": {
        "colab": {
          "base_uri": "https://localhost:8080/",
          "height": 81
        },
        "id": "bSpp8Zna3OIp",
        "outputId": "3aa16081-f021-41c5-d187-5e8be5ec8985"
      },
      "outputs": [
        {
          "output_type": "execute_result",
          "data": {
            "text/plain": [
              "   average_stars\n",
              "0       3.784924"
            ],
            "text/html": [
              "\n",
              "  <div id=\"df-dbb834ac-58e4-4449-8e0c-88fd629551e0\" class=\"colab-df-container\">\n",
              "    <div>\n",
              "<style scoped>\n",
              "    .dataframe tbody tr th:only-of-type {\n",
              "        vertical-align: middle;\n",
              "    }\n",
              "\n",
              "    .dataframe tbody tr th {\n",
              "        vertical-align: top;\n",
              "    }\n",
              "\n",
              "    .dataframe thead th {\n",
              "        text-align: right;\n",
              "    }\n",
              "</style>\n",
              "<table border=\"1\" class=\"dataframe\">\n",
              "  <thead>\n",
              "    <tr style=\"text-align: right;\">\n",
              "      <th></th>\n",
              "      <th>average_stars</th>\n",
              "    </tr>\n",
              "  </thead>\n",
              "  <tbody>\n",
              "    <tr>\n",
              "      <th>0</th>\n",
              "      <td>3.784924</td>\n",
              "    </tr>\n",
              "  </tbody>\n",
              "</table>\n",
              "</div>\n",
              "    <div class=\"colab-df-buttons\">\n",
              "\n",
              "  <div class=\"colab-df-container\">\n",
              "    <button class=\"colab-df-convert\" onclick=\"convertToInteractive('df-dbb834ac-58e4-4449-8e0c-88fd629551e0')\"\n",
              "            title=\"Convert this dataframe to an interactive table.\"\n",
              "            style=\"display:none;\">\n",
              "\n",
              "  <svg xmlns=\"http://www.w3.org/2000/svg\" height=\"24px\" viewBox=\"0 -960 960 960\">\n",
              "    <path d=\"M120-120v-720h720v720H120Zm60-500h600v-160H180v160Zm220 220h160v-160H400v160Zm0 220h160v-160H400v160ZM180-400h160v-160H180v160Zm440 0h160v-160H620v160ZM180-180h160v-160H180v160Zm440 0h160v-160H620v160Z\"/>\n",
              "  </svg>\n",
              "    </button>\n",
              "\n",
              "  <style>\n",
              "    .colab-df-container {\n",
              "      display:flex;\n",
              "      gap: 12px;\n",
              "    }\n",
              "\n",
              "    .colab-df-convert {\n",
              "      background-color: #E8F0FE;\n",
              "      border: none;\n",
              "      border-radius: 50%;\n",
              "      cursor: pointer;\n",
              "      display: none;\n",
              "      fill: #1967D2;\n",
              "      height: 32px;\n",
              "      padding: 0 0 0 0;\n",
              "      width: 32px;\n",
              "    }\n",
              "\n",
              "    .colab-df-convert:hover {\n",
              "      background-color: #E2EBFA;\n",
              "      box-shadow: 0px 1px 2px rgba(60, 64, 67, 0.3), 0px 1px 3px 1px rgba(60, 64, 67, 0.15);\n",
              "      fill: #174EA6;\n",
              "    }\n",
              "\n",
              "    .colab-df-buttons div {\n",
              "      margin-bottom: 4px;\n",
              "    }\n",
              "\n",
              "    [theme=dark] .colab-df-convert {\n",
              "      background-color: #3B4455;\n",
              "      fill: #D2E3FC;\n",
              "    }\n",
              "\n",
              "    [theme=dark] .colab-df-convert:hover {\n",
              "      background-color: #434B5C;\n",
              "      box-shadow: 0px 1px 3px 1px rgba(0, 0, 0, 0.15);\n",
              "      filter: drop-shadow(0px 1px 2px rgba(0, 0, 0, 0.3));\n",
              "      fill: #FFFFFF;\n",
              "    }\n",
              "  </style>\n",
              "\n",
              "    <script>\n",
              "      const buttonEl =\n",
              "        document.querySelector('#df-dbb834ac-58e4-4449-8e0c-88fd629551e0 button.colab-df-convert');\n",
              "      buttonEl.style.display =\n",
              "        google.colab.kernel.accessAllowed ? 'block' : 'none';\n",
              "\n",
              "      async function convertToInteractive(key) {\n",
              "        const element = document.querySelector('#df-dbb834ac-58e4-4449-8e0c-88fd629551e0');\n",
              "        const dataTable =\n",
              "          await google.colab.kernel.invokeFunction('convertToInteractive',\n",
              "                                                    [key], {});\n",
              "        if (!dataTable) return;\n",
              "\n",
              "        const docLinkHtml = 'Like what you see? Visit the ' +\n",
              "          '<a target=\"_blank\" href=https://colab.research.google.com/notebooks/data_table.ipynb>data table notebook</a>'\n",
              "          + ' to learn more about interactive tables.';\n",
              "        element.innerHTML = '';\n",
              "        dataTable['output_type'] = 'display_data';\n",
              "        await google.colab.output.renderOutput(dataTable, element);\n",
              "        const docLink = document.createElement('div');\n",
              "        docLink.innerHTML = docLinkHtml;\n",
              "        element.appendChild(docLink);\n",
              "      }\n",
              "    </script>\n",
              "  </div>\n",
              "\n",
              "    </div>\n",
              "  </div>\n"
            ]
          },
          "metadata": {},
          "execution_count": 80
        }
      ],
      "source": [
        "# TODO: Use SQL to calculate the average ratings of users who leave Yelp reviews\n",
        "average_rating_tip_query = '''\n",
        "SELECT AVG(user_average_stars) AS average_stars\n",
        "FROM (\n",
        "    SELECT DISTINCT t.user_id, b.stars AS business_stars, u.average_stars AS user_average_stars\n",
        "    FROM tip_cleaned_df AS t\n",
        "    INNER JOIN business_cleaned_df AS b\n",
        "    ON t.business_id = b.business_id\n",
        "    INNER JOIN user_cleaned_df AS u\n",
        "    ON t.user_id = u.user_id\n",
        "    WHERE b.categories LIKE '%Restaurants%'\n",
        ") AS MergedData\n",
        "'''\n",
        "average_rating_tip_df_sql = ps.sqldf(average_rating_tip_query, locals())\n",
        "average_rating_tip_df_sql"
      ]
    },
    {
      "cell_type": "code",
      "execution_count": null,
      "metadata": {
        "id": "IUR32DuY3S6l"
      },
      "outputs": [],
      "source": [
        "# 4 points\n",
        "grader.grade(test_case_id = 'average_rating_tip_sql', answer = (average_rating_tip_df_sql, average_rating_tip_query))"
      ]
    },
    {
      "cell_type": "markdown",
      "metadata": {
        "id": "ukmSCzGb43Cb"
      },
      "source": [
        "#### 2.4.2 What type of restuarants get the most reviews in January?  [8 points]\n",
        "\n",
        "We want to find out which restaurant categories get the most reviews in January across all years.\n",
        "\n",
        "**TODO:**\n",
        "* Use `tip_cleaned_df` and `business_cleaned_df` to find the count of reviews for each category\n",
        "* Keep the categories that have more than 100 reviews\n",
        "* Sort the dataframe descending by count\n",
        "* Save the results in `category_tip_df`\n",
        "\n",
        "**Note:**\n",
        "* Some categoties with the restaurant tag may not seem related-- that's okay.\n",
        "* Take a look at [this documentation](https://docs.python.org/3/library/datetime.html) for help with datetime objects\n",
        "\n",
        "\n",
        "**Final Schema**:\n",
        ">categories |count |\n",
        ">--- |--- |"
      ]
    },
    {
      "cell_type": "code",
      "execution_count": null,
      "metadata": {
        "id": "E2Bk-PFh_ikl"
      },
      "outputs": [],
      "source": [
        "# Filter tips for January reviews\n",
        "january_tips_df = tip_cleaned_df[tip_cleaned_df['date'].dt.month == 1]\n",
        "# january_tips_df.head()\n",
        "# # Merge with business_cleaned_df to get categories\n",
        "merged_df = january_tips_df.merge(business_cleaned_df[business_cleaned_df['is_restaurant'] == 1], on='business_id')\n",
        "# business_cleaned_df.head()\n",
        "# # Group by categories and calculate the count of reviews\n",
        "category_counts = merged_df.groupby('categories').size().reset_index(name='count')\n",
        "\n",
        "# Filter categories with more than 100 reviews\n",
        "category_counts = category_counts[category_counts['count'] > 100]\n",
        "\n",
        "# Sort the dataframe in descending order by count\n",
        "category_counts = category_counts.sort_values(by='count', ascending=False)\n",
        "\n",
        "# Reset the index\n",
        "category_counts.reset_index(drop=True, inplace=True)\n",
        "\n",
        "# Save the results in category_tip_df\n",
        "category_tip_df = category_counts.copy()\n",
        "\n",
        "# Display the result\n",
        "category_tip_df\n",
        "\n",
        "merged_df.head()\n"
      ]
    },
    {
      "cell_type": "code",
      "execution_count": null,
      "metadata": {
        "id": "40luyvep_cNh"
      },
      "outputs": [],
      "source": [
        "# 2 points\n",
        "grader.grade(test_case_id = 'category_tip_pd', answer = category_tip_df)"
      ]
    },
    {
      "cell_type": "markdown",
      "metadata": {
        "id": "iRDgpMFV_N1Q"
      },
      "source": [
        "**TODO:**\n",
        "* Now, use `pandasql` to to calculate the count of restaurant reviews in January\n",
        "* The result should be saved as `category_tip_df_sql` and should be the same as the result from `pandas`\n",
        "* Hint: Try using the strftime function"
      ]
    },
    {
      "cell_type": "code",
      "execution_count": null,
      "metadata": {
        "id": "I2b6DakK5MFi"
      },
      "outputs": [],
      "source": [
        "# TODO: Use SQL to calculate the count of reviews in January by category\n",
        "category_tip_query = '''\n",
        "    SELECT categories, COUNT(*) as count\n",
        "    FROM (\n",
        "        SELECT t.*, b.categories\n",
        "        FROM (\n",
        "            SELECT *\n",
        "            FROM tip_cleaned_df\n",
        "            WHERE strftime('%m', date) = '01'\n",
        "        ) t\n",
        "        INNER JOIN (\n",
        "            SELECT *\n",
        "            FROM business_cleaned_df\n",
        "            WHERE is_restaurant = 1\n",
        "        ) b\n",
        "        ON t.business_id = b.business_id\n",
        "    )\n",
        "    GROUP BY categories\n",
        "    HAVING count > 100\n",
        "    ORDER BY count DESC\n",
        "'''\n",
        "category_tip_df_sql = ps.sqldf(category_tip_query, locals())\n",
        "category_tip_df_sql.head()"
      ]
    },
    {
      "cell_type": "code",
      "execution_count": null,
      "metadata": {
        "colab": {
          "base_uri": "https://localhost:8080/"
        },
        "id": "E79qunXN_GrW",
        "outputId": "a0b1f430-62ff-44b4-efde-4e44c2817b27"
      },
      "outputs": [
        {
          "output_type": "stream",
          "name": "stdout",
          "text": [
            "Correct! You earned 5/5 points. You are a star!\n",
            "\n",
            "Your submission has been successfully recorded in the gradebook.\n"
          ]
        }
      ],
      "source": [
        "# 4 points\n",
        "grader.grade(test_case_id = 'category_tip_sql', answer = (category_tip_df_sql, category_tip_query))"
      ]
    },
    {
      "cell_type": "markdown",
      "metadata": {
        "id": "4_X6JARTSI1E"
      },
      "source": [
        "## Part 3: Data Visualization [6 points total - manually graded]"
      ]
    },
    {
      "cell_type": "markdown",
      "metadata": {
        "id": "GBs4i670SJmY"
      },
      "source": [
        "You've done great work so far! Now let's create a couple visualizations to illustrate data we might be interested in.\n",
        "\n",
        "\n",
        "This section will be **manually graded**."
      ]
    },
    {
      "cell_type": "markdown",
      "metadata": {
        "id": "89ihkDOCSNE6"
      },
      "source": [
        "Begin by following the directions below to prepare the dataset for plotting"
      ]
    },
    {
      "cell_type": "code",
      "execution_count": null,
      "metadata": {
        "id": "Cy0E743dwT64"
      },
      "outputs": [],
      "source": [
        "from datetime import datetime\n",
        "import seaborn as sns"
      ]
    },
    {
      "cell_type": "markdown",
      "metadata": {
        "id": "Hg2NQLybwX1p"
      },
      "source": [
        "For this part we will be using ``checkin_cleaned_df``"
      ]
    },
    {
      "cell_type": "code",
      "execution_count": null,
      "metadata": {
        "id": "j8xc3DELSOC-"
      },
      "outputs": [],
      "source": [
        "checkin_cleaned_df['hour'] = pd.to_datetime(checkin_cleaned_df['hour'], format='%H:%M').dt.time\n",
        "checkin_cleaned_df['Time of Day'] = checkin_cleaned_df['hour'].apply(lambda x: x.strftime('%H:%M'))\n",
        "checkin_cleaned_df"
      ]
    },
    {
      "cell_type": "code",
      "execution_count": null,
      "metadata": {
        "id": "2VjP3z3qwODK"
      },
      "outputs": [],
      "source": [
        "# Step 2 - Using the 'weekday' column, create a column called 'Day' which has the day\n",
        "# associated with the date (Monday, Tuesday, ..., Sunday). You can discard the\n",
        "# 'weekday' column once you're done.\n",
        "\n",
        "# Hint: You can try to come up with a way to map an abbreviated word to its full word.\n",
        "\n",
        "# Mon represents Monday, Tue represents Tuesday, ... , Sun represents Sunday\n",
        "\n",
        "# Use a lambda function to apply the mapping\n",
        "\n",
        "day_mapping = {\n",
        "    'Mon': 'Monday',\n",
        "    'Tue': 'Tuesday',\n",
        "    'Wed': 'Wednesday',\n",
        "    'Thu': 'Thursday',\n",
        "    'Fri': 'Friday',\n",
        "    'Sat': 'Saturday',\n",
        "    'Sun': 'Sunday'\n",
        "}\n",
        "checkin_cleaned_df['Day'] = checkin_cleaned_df['weekday'].apply(lambda x: day_mapping.get(x, x))\n",
        "checkin_cleaned_df.drop(columns=['weekday'], inplace=True)\n",
        "print(checkin_cleaned_df[['Day']].head())"
      ]
    },
    {
      "cell_type": "code",
      "execution_count": null,
      "metadata": {
        "colab": {
          "base_uri": "https://localhost:8080/",
          "height": 206
        },
        "id": "Negr3ekNwMS1",
        "outputId": "866e59c4-04ef-4cbf-eaef-2b3796f95603"
      },
      "outputs": [
        {
          "data": {
            "text/html": [
              "\n",
              "  <div id=\"df-760f9630-559c-4221-8b74-cb2d46ed8a1b\" class=\"colab-df-container\">\n",
              "    <div>\n",
              "<style scoped>\n",
              "    .dataframe tbody tr th:only-of-type {\n",
              "        vertical-align: middle;\n",
              "    }\n",
              "\n",
              "    .dataframe tbody tr th {\n",
              "        vertical-align: top;\n",
              "    }\n",
              "\n",
              "    .dataframe thead th {\n",
              "        text-align: right;\n",
              "    }\n",
              "</style>\n",
              "<table border=\"1\" class=\"dataframe\">\n",
              "  <thead>\n",
              "    <tr style=\"text-align: right;\">\n",
              "      <th></th>\n",
              "      <th>business_id</th>\n",
              "      <th>checkins</th>\n",
              "      <th>Time of Day</th>\n",
              "      <th>Day</th>\n",
              "    </tr>\n",
              "  </thead>\n",
              "  <tbody>\n",
              "    <tr>\n",
              "      <th>0</th>\n",
              "      <td>3Mc-LxcqeguOXOVT_2ZtCg</td>\n",
              "      <td>12</td>\n",
              "      <td>00:00</td>\n",
              "      <td>Tuesday</td>\n",
              "    </tr>\n",
              "    <tr>\n",
              "      <th>1</th>\n",
              "      <td>SVFx6_epO22bZTZnKwlX7g</td>\n",
              "      <td>4</td>\n",
              "      <td>00:00</td>\n",
              "      <td>Wednesday</td>\n",
              "    </tr>\n",
              "    <tr>\n",
              "      <th>2</th>\n",
              "      <td>vW9aLivd4-IorAfStzsHww</td>\n",
              "      <td>1</td>\n",
              "      <td>14:00</td>\n",
              "      <td>Tuesday</td>\n",
              "    </tr>\n",
              "    <tr>\n",
              "      <th>3</th>\n",
              "      <td>tEzxhauTQddACyqdJ0OPEQ</td>\n",
              "      <td>1</td>\n",
              "      <td>19:00</td>\n",
              "      <td>Friday</td>\n",
              "    </tr>\n",
              "    <tr>\n",
              "      <th>4</th>\n",
              "      <td>CEyZU32P-vtMhgqRCaXzMA</td>\n",
              "      <td>1</td>\n",
              "      <td>17:00</td>\n",
              "      <td>Tuesday</td>\n",
              "    </tr>\n",
              "  </tbody>\n",
              "</table>\n",
              "</div>\n",
              "    <div class=\"colab-df-buttons\">\n",
              "\n",
              "  <div class=\"colab-df-container\">\n",
              "    <button class=\"colab-df-convert\" onclick=\"convertToInteractive('df-760f9630-559c-4221-8b74-cb2d46ed8a1b')\"\n",
              "            title=\"Convert this dataframe to an interactive table.\"\n",
              "            style=\"display:none;\">\n",
              "\n",
              "  <svg xmlns=\"http://www.w3.org/2000/svg\" height=\"24px\" viewBox=\"0 -960 960 960\">\n",
              "    <path d=\"M120-120v-720h720v720H120Zm60-500h600v-160H180v160Zm220 220h160v-160H400v160Zm0 220h160v-160H400v160ZM180-400h160v-160H180v160Zm440 0h160v-160H620v160ZM180-180h160v-160H180v160Zm440 0h160v-160H620v160Z\"/>\n",
              "  </svg>\n",
              "    </button>\n",
              "\n",
              "  <style>\n",
              "    .colab-df-container {\n",
              "      display:flex;\n",
              "      gap: 12px;\n",
              "    }\n",
              "\n",
              "    .colab-df-convert {\n",
              "      background-color: #E8F0FE;\n",
              "      border: none;\n",
              "      border-radius: 50%;\n",
              "      cursor: pointer;\n",
              "      display: none;\n",
              "      fill: #1967D2;\n",
              "      height: 32px;\n",
              "      padding: 0 0 0 0;\n",
              "      width: 32px;\n",
              "    }\n",
              "\n",
              "    .colab-df-convert:hover {\n",
              "      background-color: #E2EBFA;\n",
              "      box-shadow: 0px 1px 2px rgba(60, 64, 67, 0.3), 0px 1px 3px 1px rgba(60, 64, 67, 0.15);\n",
              "      fill: #174EA6;\n",
              "    }\n",
              "\n",
              "    .colab-df-buttons div {\n",
              "      margin-bottom: 4px;\n",
              "    }\n",
              "\n",
              "    [theme=dark] .colab-df-convert {\n",
              "      background-color: #3B4455;\n",
              "      fill: #D2E3FC;\n",
              "    }\n",
              "\n",
              "    [theme=dark] .colab-df-convert:hover {\n",
              "      background-color: #434B5C;\n",
              "      box-shadow: 0px 1px 3px 1px rgba(0, 0, 0, 0.15);\n",
              "      filter: drop-shadow(0px 1px 2px rgba(0, 0, 0, 0.3));\n",
              "      fill: #FFFFFF;\n",
              "    }\n",
              "  </style>\n",
              "\n",
              "    <script>\n",
              "      const buttonEl =\n",
              "        document.querySelector('#df-760f9630-559c-4221-8b74-cb2d46ed8a1b button.colab-df-convert');\n",
              "      buttonEl.style.display =\n",
              "        google.colab.kernel.accessAllowed ? 'block' : 'none';\n",
              "\n",
              "      async function convertToInteractive(key) {\n",
              "        const element = document.querySelector('#df-760f9630-559c-4221-8b74-cb2d46ed8a1b');\n",
              "        const dataTable =\n",
              "          await google.colab.kernel.invokeFunction('convertToInteractive',\n",
              "                                                    [key], {});\n",
              "        if (!dataTable) return;\n",
              "\n",
              "        const docLinkHtml = 'Like what you see? Visit the ' +\n",
              "          '<a target=\"_blank\" href=https://colab.research.google.com/notebooks/data_table.ipynb>data table notebook</a>'\n",
              "          + ' to learn more about interactive tables.';\n",
              "        element.innerHTML = '';\n",
              "        dataTable['output_type'] = 'display_data';\n",
              "        await google.colab.output.renderOutput(dataTable, element);\n",
              "        const docLink = document.createElement('div');\n",
              "        docLink.innerHTML = docLinkHtml;\n",
              "        element.appendChild(docLink);\n",
              "      }\n",
              "    </script>\n",
              "  </div>\n",
              "\n",
              "\n",
              "<div id=\"df-a8ce494b-ba82-4a63-b878-4ffefbfb956b\">\n",
              "  <button class=\"colab-df-quickchart\" onclick=\"quickchart('df-a8ce494b-ba82-4a63-b878-4ffefbfb956b')\"\n",
              "            title=\"Suggest charts.\"\n",
              "            style=\"display:none;\">\n",
              "\n",
              "<svg xmlns=\"http://www.w3.org/2000/svg\" height=\"24px\"viewBox=\"0 0 24 24\"\n",
              "     width=\"24px\">\n",
              "    <g>\n",
              "        <path d=\"M19 3H5c-1.1 0-2 .9-2 2v14c0 1.1.9 2 2 2h14c1.1 0 2-.9 2-2V5c0-1.1-.9-2-2-2zM9 17H7v-7h2v7zm4 0h-2V7h2v10zm4 0h-2v-4h2v4z\"/>\n",
              "    </g>\n",
              "</svg>\n",
              "  </button>\n",
              "\n",
              "<style>\n",
              "  .colab-df-quickchart {\n",
              "      --bg-color: #E8F0FE;\n",
              "      --fill-color: #1967D2;\n",
              "      --hover-bg-color: #E2EBFA;\n",
              "      --hover-fill-color: #174EA6;\n",
              "      --disabled-fill-color: #AAA;\n",
              "      --disabled-bg-color: #DDD;\n",
              "  }\n",
              "\n",
              "  [theme=dark] .colab-df-quickchart {\n",
              "      --bg-color: #3B4455;\n",
              "      --fill-color: #D2E3FC;\n",
              "      --hover-bg-color: #434B5C;\n",
              "      --hover-fill-color: #FFFFFF;\n",
              "      --disabled-bg-color: #3B4455;\n",
              "      --disabled-fill-color: #666;\n",
              "  }\n",
              "\n",
              "  .colab-df-quickchart {\n",
              "    background-color: var(--bg-color);\n",
              "    border: none;\n",
              "    border-radius: 50%;\n",
              "    cursor: pointer;\n",
              "    display: none;\n",
              "    fill: var(--fill-color);\n",
              "    height: 32px;\n",
              "    padding: 0;\n",
              "    width: 32px;\n",
              "  }\n",
              "\n",
              "  .colab-df-quickchart:hover {\n",
              "    background-color: var(--hover-bg-color);\n",
              "    box-shadow: 0 1px 2px rgba(60, 64, 67, 0.3), 0 1px 3px 1px rgba(60, 64, 67, 0.15);\n",
              "    fill: var(--button-hover-fill-color);\n",
              "  }\n",
              "\n",
              "  .colab-df-quickchart-complete:disabled,\n",
              "  .colab-df-quickchart-complete:disabled:hover {\n",
              "    background-color: var(--disabled-bg-color);\n",
              "    fill: var(--disabled-fill-color);\n",
              "    box-shadow: none;\n",
              "  }\n",
              "\n",
              "  .colab-df-spinner {\n",
              "    border: 2px solid var(--fill-color);\n",
              "    border-color: transparent;\n",
              "    border-bottom-color: var(--fill-color);\n",
              "    animation:\n",
              "      spin 1s steps(1) infinite;\n",
              "  }\n",
              "\n",
              "  @keyframes spin {\n",
              "    0% {\n",
              "      border-color: transparent;\n",
              "      border-bottom-color: var(--fill-color);\n",
              "      border-left-color: var(--fill-color);\n",
              "    }\n",
              "    20% {\n",
              "      border-color: transparent;\n",
              "      border-left-color: var(--fill-color);\n",
              "      border-top-color: var(--fill-color);\n",
              "    }\n",
              "    30% {\n",
              "      border-color: transparent;\n",
              "      border-left-color: var(--fill-color);\n",
              "      border-top-color: var(--fill-color);\n",
              "      border-right-color: var(--fill-color);\n",
              "    }\n",
              "    40% {\n",
              "      border-color: transparent;\n",
              "      border-right-color: var(--fill-color);\n",
              "      border-top-color: var(--fill-color);\n",
              "    }\n",
              "    60% {\n",
              "      border-color: transparent;\n",
              "      border-right-color: var(--fill-color);\n",
              "    }\n",
              "    80% {\n",
              "      border-color: transparent;\n",
              "      border-right-color: var(--fill-color);\n",
              "      border-bottom-color: var(--fill-color);\n",
              "    }\n",
              "    90% {\n",
              "      border-color: transparent;\n",
              "      border-bottom-color: var(--fill-color);\n",
              "    }\n",
              "  }\n",
              "</style>\n",
              "\n",
              "  <script>\n",
              "    async function quickchart(key) {\n",
              "      const quickchartButtonEl =\n",
              "        document.querySelector('#' + key + ' button');\n",
              "      quickchartButtonEl.disabled = true;  // To prevent multiple clicks.\n",
              "      quickchartButtonEl.classList.add('colab-df-spinner');\n",
              "      try {\n",
              "        const charts = await google.colab.kernel.invokeFunction(\n",
              "            'suggestCharts', [key], {});\n",
              "      } catch (error) {\n",
              "        console.error('Error during call to suggestCharts:', error);\n",
              "      }\n",
              "      quickchartButtonEl.classList.remove('colab-df-spinner');\n",
              "      quickchartButtonEl.classList.add('colab-df-quickchart-complete');\n",
              "    }\n",
              "    (() => {\n",
              "      let quickchartButtonEl =\n",
              "        document.querySelector('#df-a8ce494b-ba82-4a63-b878-4ffefbfb956b button');\n",
              "      quickchartButtonEl.style.display =\n",
              "        google.colab.kernel.accessAllowed ? 'block' : 'none';\n",
              "    })();\n",
              "  </script>\n",
              "</div>\n",
              "    </div>\n",
              "  </div>\n"
            ],
            "text/plain": [
              "              business_id  checkins Time of Day        Day\n",
              "0  3Mc-LxcqeguOXOVT_2ZtCg        12       00:00    Tuesday\n",
              "1  SVFx6_epO22bZTZnKwlX7g         4       00:00  Wednesday\n",
              "2  vW9aLivd4-IorAfStzsHww         1       14:00    Tuesday\n",
              "3  tEzxhauTQddACyqdJ0OPEQ         1       19:00     Friday\n",
              "4  CEyZU32P-vtMhgqRCaXzMA         1       17:00    Tuesday"
            ]
          },
          "execution_count": 89,
          "metadata": {},
          "output_type": "execute_result"
        }
      ],
      "source": [
        "# Step 3 - Make a dataframe that just contains 'business_id', 'checkins', 'Time of Day', and 'Day'\n",
        "selected_columns = ['business_id', 'checkins', 'Time of Day', 'Day']\n",
        "selected_checkins_df = checkin_cleaned_df[selected_columns]\n",
        "\n",
        "selected_checkins_df.head()"
      ]
    },
    {
      "cell_type": "markdown",
      "metadata": {
        "id": "pnuXupTuSSFR"
      },
      "source": [
        "Your dataset is now complete! For the first line plot, you will be visualizing the number of trips that occur during each hour of the day, for all 7 days. To do so, you will be creating 2 line charts using Seaborn (sns).\n",
        "\n",
        "### This is important: using only Matplotlib will NOT result in full credit\n",
        "\n",
        "It is crucial that **your first line graph** contains the following features:\n",
        "1. The X-axis should be labelled \"Time of Day\", is of type datetime and ranges from 00:00 (midnight) to 23:00 (11 pm)\n",
        "2. The Y-axis should be labelled \"Average Checkins\".\n",
        "3. There should be a title called \"Average Checkins of Restaurants for each Hour of Day\"\n",
        "4. There are 7 lines for each day of the week, clearly labeled and differentiated, **containing markers**.\n",
        "5. Again, must be completed using Seaborn (sns)\n"
      ]
    },
    {
      "cell_type": "code",
      "execution_count": null,
      "metadata": {
        "colab": {
          "base_uri": "https://localhost:8080/",
          "height": 552
        },
        "id": "mILxbpMOSVgq",
        "outputId": "d45eea49-c645-486e-b2b0-c8be0236702e"
      },
      "outputs": [
        {
          "output_type": "execute_result",
          "data": {
            "text/plain": [
              "[Text(0.5, 1.0, 'Average Checkins of Restaurants for each Hour of Day'),\n",
              " Text(0.5, 0, 'Time of Day'),\n",
              " Text(0, 0.5, 'Average Checkins')]"
            ]
          },
          "metadata": {},
          "execution_count": 90
        },
        {
          "output_type": "display_data",
          "data": {
            "text/plain": [
              "<Figure size 2400x800 with 1 Axes>"
            ],
            "image/png": "[encoded data removed]"
          },
          "metadata": {}
        }
      ],
      "source": [
        "checkin_subset_df = selected_checkins_df.sort_values(by='Time of Day')\n",
        "columns_to_select = ['business_id', 'checkins', 'Time of Day', 'Day']\n",
        "checkin_subset_df = checkin_subset_df[columns_to_select]\n",
        "plot1_df = checkin_subset_df.groupby(['Day', 'Time of Day'])['checkins'].mean().reset_index()\n",
        "fig, ax = plt.subplots(figsize=(24, 8))\n",
        "sns.lineplot(data=plot1_df, x='Time of Day', y='checkins', hue='Day', markers=True, errorbar=None)\n",
        "\n",
        "ax.set(title='Average Checkins of Restaurants for each Hour of Day', xlabel='Time of Day', ylabel='Average Checkins')\n",
        "\n",
        "# Now, alter this dataframe to have 3 columns, IN THIS ORDER:\n",
        "# 'day', 'Time of Day', 'Average Checkins'. Average Checkins is the mean checkins\n",
        "# for the particular hour of that day.\n",
        "\n",
        "# Now just plot the graph"
      ]
    },
    {
      "cell_type": "markdown",
      "metadata": {
        "id": "h-LfoueMmy_Z"
      },
      "source": [
        "Now merge with `checkins2` with `business_cleaned_df` to find the average of checkins each hours of day (`Time of Day`) to visit the American restaurant.\n",
        "\n",
        "For this part, you will need to clean `business_cleaned_df` to keep stores that are restaurant and category is American (New).\n",
        "\n",
        "As a reminder, **your second line graph** should contain the following features:\n",
        "1. The X-axis should be the same as last time\n",
        "2. The Y-axis should be labelled \"Average Checkins\".\n",
        "3. There should be a title called \"Average Checkins of American (New) Restaurants for each Hour of Day\"\n",
        "4. There are 7 lines for each of the 7 days"
      ]
    },
    {
      "cell_type": "code",
      "execution_count": null,
      "metadata": {
        "colab": {
          "base_uri": "https://localhost:8080/",
          "height": 550
        },
        "id": "L7TyEQ1tpuMs",
        "outputId": "c59ada1b-0724-4e06-d5f2-09b01bccb8fd"
      },
      "outputs": [
        {
          "output_type": "execute_result",
          "data": {
            "text/plain": [
              "[Text(0.5, 1.0, 'Average Checkins of American (New) Restaurants for each Hour of Day'),\n",
              " Text(0.5, 0, 'Time of Day'),\n",
              " Text(0, 0.5, 'Average Checkins')]"
            ]
          },
          "metadata": {},
          "execution_count": 107
        },
        {
          "output_type": "display_data",
          "data": {
            "text/plain": [
              "<Figure size 2400x800 with 1 Axes>"
            ],
            "image/png": "[encoded data removed]"
          },
          "metadata": {}
        }
      ],
      "source": [
        "# Second Plot:\n",
        "\n",
        "# checkin_subset_df.info()\n",
        "\n",
        "filtered_business_df = business_cleaned_df[(business_cleaned_df['is_restaurant'] == 1) & (business_cleaned_df['categories'].str.contains(r'American\\s*\\(New\\)', case=False, regex=True))]\n",
        "filtered_business_df.head()\n",
        "# Apply the filter for is_restaurant and categories\n",
        "plot2_df = pd.merge(checkin_subset_df, filtered_business_df, on='business_id', how='inner')\n",
        "\n",
        "# Group by the 'Hour' and calculate the average number of check-ins.\n",
        "average_checkins_by_hour = plot2_df.groupby(['Day', 'Time of Day'])['checkins'].mean().reset_index()\n",
        "\n",
        "# Now 'average_checkins_by_hour' contains the average check-ins for each hour of the day.\n",
        "average_checkins_by_hour = average_checkins_by_hour.sort_values(by='Time of Day')\n",
        "# Now, alter this dataframe to have 3 columns, IN THIS ORDER:\n",
        "# 'day', 'Time of Day', 'Average Duration'. Average Duration is the mean duration time\n",
        "# for the particular hour of that day.\n",
        "plot1_df = average_checkins_by_hour.groupby(['Day', 'Time of Day'])['checkins'].mean().reset_index()\n",
        "fig, ax = plt.subplots(figsize=(24, 8))\n",
        "sns.lineplot(data=plot1_df, x='Time of Day', y='checkins', hue='Day', markers=True, errorbar=None)\n",
        "\n",
        "ax.set(title='Average Checkins of American (New) Restaurants for each Hour of Day', xlabel='Time of Day', ylabel='Average Checkins')\n",
        "\n"
      ]
    },
    {
      "cell_type": "markdown",
      "metadata": {
        "id": "PSIhhZUhRvul"
      },
      "source": [
        "## Part 4: Working with Text Data [8 points]\n",
        "\n",
        "Now, let's switch gears and try to text-based analysis. Textual data is complex, but can also be used to generate extremely interpretable results, making it both valuable and interesting.\n",
        "\n",
        "Throughout this section, we will attempt to answer the following question:\n",
        "\n",
        "**According to the `hotels_df` dataframe, what do the reviews for some of the most popular hotels in Europe look like?**"
      ]
    },
    {
      "cell_type": "code",
      "execution_count": null,
      "metadata": {
        "id": "YVfjaKb9TXgn",
        "colab": {
          "base_uri": "https://localhost:8080/",
          "height": 400
        },
        "outputId": "57d49a27-4fc9-41f3-b0aa-cbf2a85152e9"
      },
      "outputs": [
        {
          "output_type": "execute_result",
          "data": {
            "text/plain": [
              "   Average_Score   Hotel_Name  \\\n",
              "0            7.7  Hotel Arena   \n",
              "1            7.7  Hotel Arena   \n",
              "2            7.7  Hotel Arena   \n",
              "3            7.7  Hotel Arena   \n",
              "4            7.7  Hotel Arena   \n",
              "\n",
              "                                     Negative_Review  \\\n",
              "0   I am so angry that i made this post available...   \n",
              "1                                        No Negative   \n",
              "2   Rooms are nice but for elderly a bit difficul...   \n",
              "3   My room was dirty and I was afraid to walk ba...   \n",
              "4   You When I booked with your company on line y...   \n",
              "\n",
              "   Review_Total_Negative_Word_Counts  Total_Number_of_Reviews  \\\n",
              "0                                397                     1403   \n",
              "1                                  0                     1403   \n",
              "2                                 42                     1403   \n",
              "3                                210                     1403   \n",
              "4                                140                     1403   \n",
              "\n",
              "                                     Positive_Review  reviews  \\\n",
              "0   Only the park outside of the hotel was beauti...       11   \n",
              "1   No real complaints the hotel was great great ...      105   \n",
              "2   Location was good and staff were ok It is cut...       21   \n",
              "3   Great location in nice surroundings the bar a...       26   \n",
              "4    Amazing location and building Romantic setting         8   \n",
              "\n",
              "   Total_Number_of_Reviews_Reviewer_Has_Given  Reviewer_Score  \n",
              "0                                           7             2.9  \n",
              "1                                           7             7.5  \n",
              "2                                           9             7.1  \n",
              "3                                           1             3.8  \n",
              "4                                           3             6.7  "
            ],
            "text/html": [
              "\n",
              "  <div id=\"df-d2139d85-0c0e-486f-bbf8-36d6a2cbe3f8\" class=\"colab-df-container\">\n",
              "    <div>\n",
              "<style scoped>\n",
              "    .dataframe tbody tr th:only-of-type {\n",
              "        vertical-align: middle;\n",
              "    }\n",
              "\n",
              "    .dataframe tbody tr th {\n",
              "        vertical-align: top;\n",
              "    }\n",
              "\n",
              "    .dataframe thead th {\n",
              "        text-align: right;\n",
              "    }\n",
              "</style>\n",
              "<table border=\"1\" class=\"dataframe\">\n",
              "  <thead>\n",
              "    <tr style=\"text-align: right;\">\n",
              "      <th></th>\n",
              "      <th>Average_Score</th>\n",
              "      <th>Hotel_Name</th>\n",
              "      <th>Negative_Review</th>\n",
              "      <th>Review_Total_Negative_Word_Counts</th>\n",
              "      <th>Total_Number_of_Reviews</th>\n",
              "      <th>Positive_Review</th>\n",
              "      <th>reviews</th>\n",
              "      <th>Total_Number_of_Reviews_Reviewer_Has_Given</th>\n",
              "      <th>Reviewer_Score</th>\n",
              "    </tr>\n",
              "  </thead>\n",
              "  <tbody>\n",
              "    <tr>\n",
              "      <th>0</th>\n",
              "      <td>7.7</td>\n",
              "      <td>Hotel Arena</td>\n",
              "      <td>I am so angry that i made this post available...</td>\n",
              "      <td>397</td>\n",
              "      <td>1403</td>\n",
              "      <td>Only the park outside of the hotel was beauti...</td>\n",
              "      <td>11</td>\n",
              "      <td>7</td>\n",
              "      <td>2.9</td>\n",
              "    </tr>\n",
              "    <tr>\n",
              "      <th>1</th>\n",
              "      <td>7.7</td>\n",
              "      <td>Hotel Arena</td>\n",
              "      <td>No Negative</td>\n",
              "      <td>0</td>\n",
              "      <td>1403</td>\n",
              "      <td>No real complaints the hotel was great great ...</td>\n",
              "      <td>105</td>\n",
              "      <td>7</td>\n",
              "      <td>7.5</td>\n",
              "    </tr>\n",
              "    <tr>\n",
              "      <th>2</th>\n",
              "      <td>7.7</td>\n",
              "      <td>Hotel Arena</td>\n",
              "      <td>Rooms are nice but for elderly a bit difficul...</td>\n",
              "      <td>42</td>\n",
              "      <td>1403</td>\n",
              "      <td>Location was good and staff were ok It is cut...</td>\n",
              "      <td>21</td>\n",
              "      <td>9</td>\n",
              "      <td>7.1</td>\n",
              "    </tr>\n",
              "    <tr>\n",
              "      <th>3</th>\n",
              "      <td>7.7</td>\n",
              "      <td>Hotel Arena</td>\n",
              "      <td>My room was dirty and I was afraid to walk ba...</td>\n",
              "      <td>210</td>\n",
              "      <td>1403</td>\n",
              "      <td>Great location in nice surroundings the bar a...</td>\n",
              "      <td>26</td>\n",
              "      <td>1</td>\n",
              "      <td>3.8</td>\n",
              "    </tr>\n",
              "    <tr>\n",
              "      <th>4</th>\n",
              "      <td>7.7</td>\n",
              "      <td>Hotel Arena</td>\n",
              "      <td>You When I booked with your company on line y...</td>\n",
              "      <td>140</td>\n",
              "      <td>1403</td>\n",
              "      <td>Amazing location and building Romantic setting</td>\n",
              "      <td>8</td>\n",
              "      <td>3</td>\n",
              "      <td>6.7</td>\n",
              "    </tr>\n",
              "  </tbody>\n",
              "</table>\n",
              "</div>\n",
              "    <div class=\"colab-df-buttons\">\n",
              "\n",
              "  <div class=\"colab-df-container\">\n",
              "    <button class=\"colab-df-convert\" onclick=\"convertToInteractive('df-d2139d85-0c0e-486f-bbf8-36d6a2cbe3f8')\"\n",
              "            title=\"Convert this dataframe to an interactive table.\"\n",
              "            style=\"display:none;\">\n",
              "\n",
              "  <svg xmlns=\"http://www.w3.org/2000/svg\" height=\"24px\" viewBox=\"0 -960 960 960\">\n",
              "    <path d=\"M120-120v-720h720v720H120Zm60-500h600v-160H180v160Zm220 220h160v-160H400v160Zm0 220h160v-160H400v160ZM180-400h160v-160H180v160Zm440 0h160v-160H620v160ZM180-180h160v-160H180v160Zm440 0h160v-160H620v160Z\"/>\n",
              "  </svg>\n",
              "    </button>\n",
              "\n",
              "  <style>\n",
              "    .colab-df-container {\n",
              "      display:flex;\n",
              "      gap: 12px;\n",
              "    }\n",
              "\n",
              "    .colab-df-convert {\n",
              "      background-color: #E8F0FE;\n",
              "      border: none;\n",
              "      border-radius: 50%;\n",
              "      cursor: pointer;\n",
              "      display: none;\n",
              "      fill: #1967D2;\n",
              "      height: 32px;\n",
              "      padding: 0 0 0 0;\n",
              "      width: 32px;\n",
              "    }\n",
              "\n",
              "    .colab-df-convert:hover {\n",
              "      background-color: #E2EBFA;\n",
              "      box-shadow: 0px 1px 2px rgba(60, 64, 67, 0.3), 0px 1px 3px 1px rgba(60, 64, 67, 0.15);\n",
              "      fill: #174EA6;\n",
              "    }\n",
              "\n",
              "    .colab-df-buttons div {\n",
              "      margin-bottom: 4px;\n",
              "    }\n",
              "\n",
              "    [theme=dark] .colab-df-convert {\n",
              "      background-color: #3B4455;\n",
              "      fill: #D2E3FC;\n",
              "    }\n",
              "\n",
              "    [theme=dark] .colab-df-convert:hover {\n",
              "      background-color: #434B5C;\n",
              "      box-shadow: 0px 1px 3px 1px rgba(0, 0, 0, 0.15);\n",
              "      filter: drop-shadow(0px 1px 2px rgba(0, 0, 0, 0.3));\n",
              "      fill: #FFFFFF;\n",
              "    }\n",
              "  </style>\n",
              "\n",
              "    <script>\n",
              "      const buttonEl =\n",
              "        document.querySelector('#df-d2139d85-0c0e-486f-bbf8-36d6a2cbe3f8 button.colab-df-convert');\n",
              "      buttonEl.style.display =\n",
              "        google.colab.kernel.accessAllowed ? 'block' : 'none';\n",
              "\n",
              "      async function convertToInteractive(key) {\n",
              "        const element = document.querySelector('#df-d2139d85-0c0e-486f-bbf8-36d6a2cbe3f8');\n",
              "        const dataTable =\n",
              "          await google.colab.kernel.invokeFunction('convertToInteractive',\n",
              "                                                    [key], {});\n",
              "        if (!dataTable) return;\n",
              "\n",
              "        const docLinkHtml = 'Like what you see? Visit the ' +\n",
              "          '<a target=\"_blank\" href=https://colab.research.google.com/notebooks/data_table.ipynb>data table notebook</a>'\n",
              "          + ' to learn more about interactive tables.';\n",
              "        element.innerHTML = '';\n",
              "        dataTable['output_type'] = 'display_data';\n",
              "        await google.colab.output.renderOutput(dataTable, element);\n",
              "        const docLink = document.createElement('div');\n",
              "        docLink.innerHTML = docLinkHtml;\n",
              "        element.appendChild(docLink);\n",
              "      }\n",
              "    </script>\n",
              "  </div>\n",
              "\n",
              "\n",
              "<div id=\"df-3116610c-233c-4087-a7f7-4bbe92eddfbc\">\n",
              "  <button class=\"colab-df-quickchart\" onclick=\"quickchart('df-3116610c-233c-4087-a7f7-4bbe92eddfbc')\"\n",
              "            title=\"Suggest charts.\"\n",
              "            style=\"display:none;\">\n",
              "\n",
              "<svg xmlns=\"http://www.w3.org/2000/svg\" height=\"24px\"viewBox=\"0 0 24 24\"\n",
              "     width=\"24px\">\n",
              "    <g>\n",
              "        <path d=\"M19 3H5c-1.1 0-2 .9-2 2v14c0 1.1.9 2 2 2h14c1.1 0 2-.9 2-2V5c0-1.1-.9-2-2-2zM9 17H7v-7h2v7zm4 0h-2V7h2v10zm4 0h-2v-4h2v4z\"/>\n",
              "    </g>\n",
              "</svg>\n",
              "  </button>\n",
              "\n",
              "<style>\n",
              "  .colab-df-quickchart {\n",
              "      --bg-color: #E8F0FE;\n",
              "      --fill-color: #1967D2;\n",
              "      --hover-bg-color: #E2EBFA;\n",
              "      --hover-fill-color: #174EA6;\n",
              "      --disabled-fill-color: #AAA;\n",
              "      --disabled-bg-color: #DDD;\n",
              "  }\n",
              "\n",
              "  [theme=dark] .colab-df-quickchart {\n",
              "      --bg-color: #3B4455;\n",
              "      --fill-color: #D2E3FC;\n",
              "      --hover-bg-color: #434B5C;\n",
              "      --hover-fill-color: #FFFFFF;\n",
              "      --disabled-bg-color: #3B4455;\n",
              "      --disabled-fill-color: #666;\n",
              "  }\n",
              "\n",
              "  .colab-df-quickchart {\n",
              "    background-color: var(--bg-color);\n",
              "    border: none;\n",
              "    border-radius: 50%;\n",
              "    cursor: pointer;\n",
              "    display: none;\n",
              "    fill: var(--fill-color);\n",
              "    height: 32px;\n",
              "    padding: 0;\n",
              "    width: 32px;\n",
              "  }\n",
              "\n",
              "  .colab-df-quickchart:hover {\n",
              "    background-color: var(--hover-bg-color);\n",
              "    box-shadow: 0 1px 2px rgba(60, 64, 67, 0.3), 0 1px 3px 1px rgba(60, 64, 67, 0.15);\n",
              "    fill: var(--button-hover-fill-color);\n",
              "  }\n",
              "\n",
              "  .colab-df-quickchart-complete:disabled,\n",
              "  .colab-df-quickchart-complete:disabled:hover {\n",
              "    background-color: var(--disabled-bg-color);\n",
              "    fill: var(--disabled-fill-color);\n",
              "    box-shadow: none;\n",
              "  }\n",
              "\n",
              "  .colab-df-spinner {\n",
              "    border: 2px solid var(--fill-color);\n",
              "    border-color: transparent;\n",
              "    border-bottom-color: var(--fill-color);\n",
              "    animation:\n",
              "      spin 1s steps(1) infinite;\n",
              "  }\n",
              "\n",
              "  @keyframes spin {\n",
              "    0% {\n",
              "      border-color: transparent;\n",
              "      border-bottom-color: var(--fill-color);\n",
              "      border-left-color: var(--fill-color);\n",
              "    }\n",
              "    20% {\n",
              "      border-color: transparent;\n",
              "      border-left-color: var(--fill-color);\n",
              "      border-top-color: var(--fill-color);\n",
              "    }\n",
              "    30% {\n",
              "      border-color: transparent;\n",
              "      border-left-color: var(--fill-color);\n",
              "      border-top-color: var(--fill-color);\n",
              "      border-right-color: var(--fill-color);\n",
              "    }\n",
              "    40% {\n",
              "      border-color: transparent;\n",
              "      border-right-color: var(--fill-color);\n",
              "      border-top-color: var(--fill-color);\n",
              "    }\n",
              "    60% {\n",
              "      border-color: transparent;\n",
              "      border-right-color: var(--fill-color);\n",
              "    }\n",
              "    80% {\n",
              "      border-color: transparent;\n",
              "      border-right-color: var(--fill-color);\n",
              "      border-bottom-color: var(--fill-color);\n",
              "    }\n",
              "    90% {\n",
              "      border-color: transparent;\n",
              "      border-bottom-color: var(--fill-color);\n",
              "    }\n",
              "  }\n",
              "</style>\n",
              "\n",
              "  <script>\n",
              "    async function quickchart(key) {\n",
              "      const quickchartButtonEl =\n",
              "        document.querySelector('#' + key + ' button');\n",
              "      quickchartButtonEl.disabled = true;  // To prevent multiple clicks.\n",
              "      quickchartButtonEl.classList.add('colab-df-spinner');\n",
              "      try {\n",
              "        const charts = await google.colab.kernel.invokeFunction(\n",
              "            'suggestCharts', [key], {});\n",
              "      } catch (error) {\n",
              "        console.error('Error during call to suggestCharts:', error);\n",
              "      }\n",
              "      quickchartButtonEl.classList.remove('colab-df-spinner');\n",
              "      quickchartButtonEl.classList.add('colab-df-quickchart-complete');\n",
              "    }\n",
              "    (() => {\n",
              "      let quickchartButtonEl =\n",
              "        document.querySelector('#df-3116610c-233c-4087-a7f7-4bbe92eddfbc button');\n",
              "      quickchartButtonEl.style.display =\n",
              "        google.colab.kernel.accessAllowed ? 'block' : 'none';\n",
              "    })();\n",
              "  </script>\n",
              "</div>\n",
              "    </div>\n",
              "  </div>\n"
            ]
          },
          "metadata": {},
          "execution_count": 109
        }
      ],
      "source": [
        "# loading the dataset\n",
        "hotels_df = pd.read_csv('hotel_reviews.csv')\n",
        "hotels_df.rename(columns={'Review_Total_Positive_Word_Counts':'reviews'}, inplace=True)\n",
        "hotels_df.head()"
      ]
    },
    {
      "cell_type": "markdown",
      "metadata": {
        "id": "Q548FKXpRxa1"
      },
      "source": [
        "###4.1 Tokenizing the text [2 points]\n",
        "\n",
        "We are going to split the contents of the `reviews` column from `hotels_df` into a list of words. We will use the **nltk** library, which contains an extensive set of tools for text processing. Now, this homework would be interminably long if we went into all the details of nltk. Thus, we are only going to use the following components of the library:\n",
        "- `nltk.word_tokenize()`: a function used to tokenize text\n",
        "- `nltk.corpus.stopwords`: a list of commonly used words such as \"a\", \"an\",\"in\" that are often ignored in text analysis\n",
        "\n",
        "Note that for this question, we didn't have to clean the text data first as our original dataset was well-formatted. However, in practice, we would typically clean the text first using regular expressions (regex). Keep this in mind as you work on the project later on in the semester.\n",
        "\n",
        "**TODO:** Perform the following tasks:\n",
        "- Use **nltk.corpus.stopwords** to create a set containing the most common English stopwords.\n",
        "- Implement the function **tokenized_content(content)**, which takes in a string and does the following:\n",
        "1. Tokenize the text\n",
        "2. Keep tokens that only contain alphabetic characters (i.e. tokens with no punctuation)\n",
        "3. Convert each token to lowercase\n",
        "4. Remove stopwords (commonly used words such as \"a\", \"an\", \"in\")\n"
      ]
    },
    {
      "cell_type": "code",
      "execution_count": null,
      "metadata": {
        "id": "l6Dj7lK6RwJo",
        "colab": {
          "base_uri": "https://localhost:8080/"
        },
        "outputId": "5183beeb-b0c4-4431-ff49-d7794acc42f3"
      },
      "outputs": [
        {
          "output_type": "stream",
          "name": "stderr",
          "text": [
            "[nltk_data] Downloading package stopwords to /root/nltk_data...\n",
            "[nltk_data]   Unzipping corpora/stopwords.zip.\n"
          ]
        }
      ],
      "source": [
        "import nltk\n",
        "from nltk.corpus import stopwords\n",
        "nltk.download('stopwords')\n",
        "stopwords = set(stopwords.words('english'))"
      ]
    },
    {
      "cell_type": "code",
      "execution_count": null,
      "metadata": {
        "id": "7i5GyzbTRze0"
      },
      "outputs": [],
      "source": [
        "# TODO: tokenize and flatten\n",
        "# (create a tokenized_content function that performs the steps listed above)\n",
        "from nltk.tokenize import word_tokenize\n",
        "def tokenized_content(content):\n",
        "    tokens = word_tokenize(content)\n",
        "    tokens = [token.lower() for token in tokens if token.isalpha()]\n",
        "    tokens = [token for token in tokens if token not in stopwords]\n",
        "    return tokens"
      ]
    },
    {
      "cell_type": "code",
      "source": [
        "hotels_df.info()"
      ],
      "metadata": {
        "id": "dNCVgMtMUK_v",
        "outputId": "8681d6b2-9ac3-45dd-f19d-17a64a59d754",
        "colab": {
          "base_uri": "https://localhost:8080/"
        }
      },
      "execution_count": null,
      "outputs": [
        {
          "output_type": "stream",
          "name": "stdout",
          "text": [
            "<class 'pandas.core.frame.DataFrame'>\n",
            "RangeIndex: 515738 entries, 0 to 515737\n",
            "Data columns (total 9 columns):\n",
            " #   Column                                      Non-Null Count   Dtype  \n",
            "---  ------                                      --------------   -----  \n",
            " 0   Average_Score                               515738 non-null  float64\n",
            " 1   Hotel_Name                                  515738 non-null  object \n",
            " 2   Negative_Review                             515738 non-null  object \n",
            " 3   Review_Total_Negative_Word_Counts           515738 non-null  int64  \n",
            " 4   Total_Number_of_Reviews                     515738 non-null  int64  \n",
            " 5   Positive_Review                             515738 non-null  object \n",
            " 6   reviews                                     515738 non-null  int64  \n",
            " 7   Total_Number_of_Reviews_Reviewer_Has_Given  515738 non-null  int64  \n",
            " 8   Reviewer_Score                              515738 non-null  float64\n",
            "dtypes: float64(2), int64(4), object(3)\n",
            "memory usage: 35.4+ MB\n"
          ]
        }
      ]
    },
    {
      "cell_type": "markdown",
      "metadata": {
        "id": "5l8v8TvpR2f0"
      },
      "source": [
        "**TODO**: Now perform the following tasks:\n",
        "- We are interested in reviews for the **most reviewed** hotel in `hotels_df`. Using Counter() to find this hotel is recommended. Store the name of the hotel in the `most_reviewed_hotel` variable, and use it to create `hotel_reviews_df`, a subset of `hotels_df` only containing instances from the hotel in question\n",
        "- From there, extract the `Positive_Review` column of `hotels_reviews_df` as a list called `reviews`.\n",
        "- Apply your `tokenize_content()` function to each item in the list `reviews`. Call the resultant list `top_tokens_list`.\n",
        "- Flatten the list `top_tokens_list`, and call the resultant list `top_tokens`. The autograder will be examining the contents of this list. (Flatten using list comprehension)\n",
        "\n",
        "For futher assistance, here is the documentation for Counter() objects:\n",
        "\n",
        "https://docs.python.org/2/library/collections.html#counter-objects"
      ]
    },
    {
      "cell_type": "code",
      "execution_count": null,
      "metadata": {
        "id": "8HEfBgrtR45L"
      },
      "outputs": [],
      "source": [
        "from collections import Counter\n",
        "# TODO: Find the most reviewed hotel, use that to make hotel_reviews_df,\n",
        "#       extract the reviews, use your function to make the token list, and flatten it\n",
        "\n",
        "hotel_counter = Counter(hotels_df['Hotel_Name'])\n",
        "most_reviewed_hotel = hotel_counter.most_common(1)[0][0]\n",
        "hotel_reviews_df = hotels_df[hotels_df['Hotel_Name'] == most_reviewed_hotel]\n",
        "hotel_reviews_df.head()\n",
        "\n",
        "reviews = hotel_reviews_df['Positive_Review'].tolist()\n",
        "top_tokens_list = [tokenized_content(review) for review in reviews]\n",
        "top_tokens = [token for tokens in top_tokens_list for token in tokens]"
      ]
    },
    {
      "cell_type": "code",
      "execution_count": null,
      "metadata": {
        "id": "CygSPqFpR7bs",
        "colab": {
          "base_uri": "https://localhost:8080/"
        },
        "outputId": "bc391dbd-7d98-4436-b18e-76a9abf5c868"
      },
      "outputs": [
        {
          "output_type": "stream",
          "name": "stdout",
          "text": [
            "Correct! You earned 2/2 points. You are a star!\n",
            "\n",
            "Your submission has been successfully recorded in the gradebook.\n"
          ]
        }
      ],
      "source": [
        "# 2 points\n",
        "grader.grade(test_case_id = 'test_top_tokens', answer = top_tokens)"
      ]
    },
    {
      "cell_type": "markdown",
      "metadata": {
        "id": "0kj3yR5lR8ol"
      },
      "source": [
        "\n",
        "### 4.2 Most Frequent Words [2 points]\n",
        "**TODO**: Now, find the 10 most common words amongst the content of `top_tokens`. Return this as a list of `(word, count)` tuples called `top_most_common`, in descending order of `count`.\n",
        "\n",
        "**Hint**: We again recommend using `Counter` in this question."
      ]
    },
    {
      "cell_type": "code",
      "execution_count": null,
      "metadata": {
        "id": "G0NA1buyR94q"
      },
      "outputs": [],
      "source": [
        "# TODO: Get top_most_common\n",
        "word_counts = Counter(top_tokens)\n",
        "\n",
        "# Find the 10 most common words in descending order of count\n",
        "top_most_common = word_counts.most_common(10)"
      ]
    },
    {
      "cell_type": "code",
      "execution_count": null,
      "metadata": {
        "id": "-2swTRq4R-3E",
        "colab": {
          "base_uri": "https://localhost:8080/"
        },
        "outputId": "7f99e3d6-b0be-435c-be3d-92f0fc1630ab"
      },
      "outputs": [
        {
          "output_type": "stream",
          "name": "stdout",
          "text": [
            "Correct! You earned 2/2 points. You are a star!\n",
            "\n",
            "Your submission has been successfully recorded in the gradebook.\n"
          ]
        }
      ],
      "source": [
        "# 2 points\n",
        "grader.grade(test_case_id = 'test_top_most_common', answer = top_most_common)"
      ]
    },
    {
      "cell_type": "markdown",
      "metadata": {
        "id": "jkr6CWbaR_yt"
      },
      "source": [
        "### 4.3 Word Clouds [4 points - manually graded]\n",
        "\n",
        "Before we move on from this dataset, let's visualize our results using a word cloud.\n",
        "\n",
        "**TODO**: Create a word cloud containing all the words in the list `top_tokens` (created in part 4.1). [The WordCloud documentation](https://amueller.github.io/word_cloud/generated/wordcloud.WordCloud.html) contains instructions on how to do this.\n",
        "\n",
        "*Please make sure your wordcloud has a **lavender** background.*\n",
        "\n",
        "We will be going through your notebooks and **manually grading** your word cloud. This is worth 4 points."
      ]
    },
    {
      "cell_type": "code",
      "execution_count": null,
      "metadata": {
        "id": "ljvc8MUFSBWB",
        "colab": {
          "base_uri": "https://localhost:8080/",
          "height": 250
        },
        "outputId": "e50ec8a0-8837-4ba1-d6ba-0726cdfe6de4"
      },
      "outputs": [
        {
          "output_type": "error",
          "ename": "NameError",
          "evalue": "ignored",
          "traceback": [
            "\u001b[0;31m---------------------------------------------------------------------------\u001b[0m",
            "\u001b[0;31mNameError\u001b[0m                                 Traceback (most recent call last)",
            "\u001b[0;32m<ipython-input-1-191c149b7481>\u001b[0m in \u001b[0;36m<cell line: 2>\u001b[0;34m()\u001b[0m\n\u001b[1;32m      1\u001b[0m \u001b[0;31m# TODO: Generate your Word Cloud, making sure it meets the requirements above\u001b[0m\u001b[0;34m\u001b[0m\u001b[0;34m\u001b[0m\u001b[0m\n\u001b[0;32m----> 2\u001b[0;31m \u001b[0mtext\u001b[0m \u001b[0;34m=\u001b[0m \u001b[0;34m' '\u001b[0m\u001b[0;34m.\u001b[0m\u001b[0mjoin\u001b[0m\u001b[0;34m(\u001b[0m\u001b[0mtop_tokens\u001b[0m\u001b[0;34m)\u001b[0m\u001b[0;34m\u001b[0m\u001b[0;34m\u001b[0m\u001b[0m\n\u001b[0m\u001b[1;32m      3\u001b[0m \u001b[0;34m\u001b[0m\u001b[0m\n\u001b[1;32m      4\u001b[0m \u001b[0;31m# Create a WordCloud object\u001b[0m\u001b[0;34m\u001b[0m\u001b[0;34m\u001b[0m\u001b[0m\n\u001b[1;32m      5\u001b[0m \u001b[0mwordcloud\u001b[0m \u001b[0;34m=\u001b[0m \u001b[0mWordCloud\u001b[0m\u001b[0;34m(\u001b[0m\u001b[0mbackground_color\u001b[0m\u001b[0;34m=\u001b[0m\u001b[0;34m'lavender'\u001b[0m\u001b[0;34m)\u001b[0m\u001b[0;34m.\u001b[0m\u001b[0mgenerate\u001b[0m\u001b[0;34m(\u001b[0m\u001b[0mtext\u001b[0m\u001b[0;34m)\u001b[0m\u001b[0;34m\u001b[0m\u001b[0;34m\u001b[0m\u001b[0m\n",
            "\u001b[0;31mNameError\u001b[0m: name 'top_tokens' is not defined"
          ]
        }
      ],
      "source": [
        "# TODO: Generate your Word Cloud, making sure it meets the requirements above\n",
        "text = ' '.join(top_tokens)\n",
        "\n",
        "# Create a WordCloud object\n",
        "wordcloud = WordCloud(background_color='lavender').generate(text)\n",
        "\n",
        "# Display the word cloud\n",
        "plt.figure(figsize=(8, 8))\n",
        "plt.imshow(wordcloud, interpolation='bilinear')\n",
        "plt.axis('off')\n",
        "plt.title('Word Cloud for Top Tokens')\n",
        "plt.show()"
      ]
    },
    {
      "cell_type": "markdown",
      "metadata": {
        "id": "W6qJd9XvSClI"
      },
      "source": [
        "# HW Submission\n",
        "\n",
        "<br>\n",
        "<center><img src = \"https://i.imgflip.com/79knab.jpg\" width= \"500\" align =\"center\"/></center>\n",
        "<br>\n",
        "\n",
        "Congratulations on finishing this homework! The good news is that similar to HW1, you basically know your score when you submit to Gradescope.\n",
        "However, this time, we will be manually grading your lineplots and wordclouds, so the autograder score is not final! Remember that we will also be checking for plagiarism, so please make sure to cite your sources (if any) by commenting the urls / links you looked at.\n",
        "\n",
        "Before you submit on Gradescope (you must submit your notebook to receive credit):\n",
        "\n",
        "1.   Please rerun your notebook on Colab by clicking \"Restart and Run-All\", and make sure there is nothing wrong with your notebook.\n",
        "2.   **Double check that you have the correct PennID (all numbers) saved in the autograder**.\n",
        "3. Make sure you've run all the PennGrader cells and have received a score.\n",
        "4. Go to the \"File\" tab at the top left, and click \"Download .ipynb\" + \"Download .py\". Please name the `.ipynb` and `.py` files **\"homework2.ipynb\"** and **\"homework2.py\"** respectively. Then, upload both the `.py` and `.ipynb` files to Gradescope.\n",
        "\n",
        "###Be sure to name your files correctly!!!\n",
        "\n",
        "**Please let the course staff know ASAP if you have any issues submitting.**"
      ]
    },
    {
      "cell_type": "code",
      "execution_count": null,
      "metadata": {
        "id": "j-Q0Tg58SDxh"
      },
      "outputs": [],
      "source": []
    }
  ],
  "metadata": {
    "colab": {
      "provenance": []
    },
    "kernelspec": {
      "display_name": "Python 3",
      "name": "python3"
    },
    "language_info": {
      "name": "python"
    }
  },
  "nbformat": 4,
  "nbformat_minor": 0
}